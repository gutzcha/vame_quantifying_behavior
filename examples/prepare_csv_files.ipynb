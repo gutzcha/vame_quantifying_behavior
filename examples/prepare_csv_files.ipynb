{
 "cells": [
  {
   "cell_type": "code",
   "execution_count": 3,
   "id": "initial_id",
   "metadata": {
    "collapsed": true,
    "ExecuteTime": {
     "end_time": "2024-06-27T09:47:18.450233500Z",
     "start_time": "2024-06-27T09:47:18.434234600Z"
    }
   },
   "outputs": [],
   "source": [
    "import pandas as pd\n",
    "from glob import glob\n",
    "import os\n",
    "import os.path as osp "
   ]
  },
  {
   "cell_type": "code",
   "execution_count": 4,
   "outputs": [],
   "source": [
    "path_to_csv = r'D:\\Project- Electro\\VAME\\materials\\working_dir\\Unsupervised Learning Tutorial with VAME-May28-2024\\videos\\pose_estimation_raw'\n",
    "save_path = r'D:\\Project- Electro\\VAME\\materials\\working_dir\\Unsupervised Learning Tutorial with VAME-May28-2024\\videos\\pose_estimation'\n",
    "csv_files = glob(osp.join(path_to_csv, '*csv'))"
   ],
   "metadata": {
    "collapsed": false,
    "ExecuteTime": {
     "end_time": "2024-06-27T09:47:18.830324700Z",
     "start_time": "2024-06-27T09:47:18.820324700Z"
    }
   },
   "id": "311a12531c556a07"
  },
  {
   "cell_type": "code",
   "execution_count": 49,
   "outputs": [],
   "source": [
    "def convert_to_multilevel_header(df):\n",
    "    # Extract existing column names\n",
    "    old_columns = df.columns\n",
    "    \n",
    "    # Initialize lists for new header levels\n",
    "    # scorer = []\n",
    "    individuals = []\n",
    "    bodyparts = []\n",
    "    coords = []\n",
    "    \n",
    "    # Loop through old columns to populate new header levels\n",
    "    for col in old_columns:\n",
    "        # Split the old column name by '_'\n",
    "        parts = col.split('_')\n",
    "        \n",
    "        # Handle the different possible formats\n",
    "        if len(parts) == 3:\n",
    "            bodypart = parts[0]\n",
    "            individual = parts[1]\n",
    "            coord = parts[2]\n",
    "        elif len(parts) > 3:\n",
    "            bodypart = '_'.join(parts[:-2])\n",
    "            individual = parts[-2]\n",
    "            coord = parts[-1]\n",
    "        \n",
    "        # Append fixed scorer value and extracted parts to corresponding lists\n",
    "        # scorer.append(\"DLC_resnet50_FreeRatJul12shuffle1_100000\")\n",
    "        individuals.append(individual)\n",
    "        bodyparts.append(bodypart)\n",
    "        if coord == 'p':\n",
    "            coord = 'likelihood'\n",
    "        coords.append(coord)\n",
    "    \n",
    "    # Create multi-level columns using the lists\n",
    "    # multi_level_columns = pd.MultiIndex.from_arrays(\n",
    "    #     [scorer, individuals, bodyparts, coords],\n",
    "    #     names=['scorer', 'individuals', 'bodyparts', 'coords']\n",
    "    # )\n",
    "    multi_level_columns = pd.MultiIndex.from_arrays(\n",
    "        [individuals, bodyparts, coords],\n",
    "        names=['individuals', 'bodyparts', 'coords']\n",
    "    )\n",
    "    \n",
    "    # Assign new multi-level columns to the dataframe\n",
    "    df.columns = multi_level_columns\n",
    "    \n",
    "    return df"
   ],
   "metadata": {
    "collapsed": false,
    "ExecuteTime": {
     "end_time": "2024-06-28T11:56:28.747611800Z",
     "start_time": "2024-06-28T11:56:28.734604700Z"
    }
   },
   "id": "bff8fcaa30248f32"
  },
  {
   "cell_type": "code",
   "execution_count": 50,
   "outputs": [],
   "source": [
    "\n",
    "list_of_df = []\n",
    "for csv in csv_files:\n",
    "    df_temp = pd.read_csv(csv)\n",
    "    df_temp.drop(['Unnamed: 0', 'Unnamed: 0.1'], axis=1, inplace=True)\n",
    "    # get list of pose columns\n",
    "    # split pose columns between subject and stim\n",
    "    all_columns = df_temp.columns\n",
    "    subject_pose_columns = [a for a in all_columns if a.endswith('1_x') or a.endswith('1_y') or a.endswith('1_p')]\n",
    "    stim_pose_columns = [a for a in all_columns if a.endswith('2_x') or a.endswith('2_y') or a.endswith('2_p')]\n",
    "    \n",
    "    # extract columns\n",
    "    df_temp_subject = df_temp[subject_pose_columns]\n",
    "    df_temp_stim = df_temp[stim_pose_columns]\n",
    "    \n",
    "    df_temp_subject = convert_to_multilevel_header(df_temp_subject)\n",
    "    df_temp_stim = convert_to_multilevel_header(df_temp_stim)\n",
    "    \n",
    "    \n",
    "    fname = osp.basename(csv).split('.csv')[0]\n",
    "    \n",
    "    \n",
    "    df_temp_subject.to_csv(osp.join(save_path, f'{fname}_subject.csv'), index=True, header=True)\n",
    "    # df_temp_stim.to_csv(osp.join(save_path, f'{fname}_stim.csv'), index=True, header=True)\n",
    "    \n",
    "     \n",
    "    "
   ],
   "metadata": {
    "collapsed": false,
    "ExecuteTime": {
     "end_time": "2024-06-28T11:56:34.416677600Z",
     "start_time": "2024-06-28T11:56:30.406893Z"
    }
   },
   "id": "81b1b2bd7e598f4d"
  },
  {
   "cell_type": "code",
   "execution_count": 53,
   "outputs": [],
   "source": [
    "path_to_csv = osp.join(save_path, f'{fname}_subject.csv')\n",
    "\n",
    "data = pd.read_csv(path_to_csv, skiprows = 2)\n",
    "data_mat = pd.DataFrame.to_numpy(data)\n",
    "data_mat = data_mat[:,1:]"
   ],
   "metadata": {
    "collapsed": false,
    "ExecuteTime": {
     "end_time": "2024-06-28T11:56:38.258140500Z",
     "start_time": "2024-06-28T11:56:38.212139800Z"
    }
   },
   "id": "8580795dc61bacd1"
  },
  {
   "cell_type": "code",
   "execution_count": 54,
   "outputs": [
    {
     "data": {
      "text/plain": "array([[332.02421679, 372.56170241,   0.99963746, ..., 229.95574964,\n        306.04500147,   0.99451139],\n       [337.70182881, 373.05082486,   0.97771844, ..., 237.92890977,\n        303.27374007,   0.9935206 ],\n       [340.8566019 , 373.17491224,   0.96959859, ..., 240.94740074,\n        302.45293562,   0.99340663],\n       ...,\n       [287.68687601, 688.61908133,   0.        , ..., 205.47126456,\n        416.15721809,   0.        ],\n       [287.68687601, 688.61908133,   0.        , ..., 205.47126456,\n        416.15721809,   0.        ],\n       [287.68687601, 688.61908133,   0.        , ..., 205.47126456,\n        416.15721809,   0.        ]])"
     },
     "execution_count": 54,
     "metadata": {},
     "output_type": "execute_result"
    }
   ],
   "source": [
    "data_mat"
   ],
   "metadata": {
    "collapsed": false,
    "ExecuteTime": {
     "end_time": "2024-06-28T11:56:38.829146800Z",
     "start_time": "2024-06-28T11:56:38.819140700Z"
    }
   },
   "id": "ea5f9d0b1924fd31"
  },
  {
   "cell_type": "code",
   "execution_count": null,
   "outputs": [],
   "source": [],
   "metadata": {
    "collapsed": false
   },
   "id": "8066dfde10d7bd3b"
  }
 ],
 "metadata": {
  "kernelspec": {
   "display_name": "Python 3",
   "language": "python",
   "name": "python3"
  },
  "language_info": {
   "codemirror_mode": {
    "name": "ipython",
    "version": 2
   },
   "file_extension": ".py",
   "mimetype": "text/x-python",
   "name": "python",
   "nbconvert_exporter": "python",
   "pygments_lexer": "ipython2",
   "version": "2.7.6"
  }
 },
 "nbformat": 4,
 "nbformat_minor": 5
}
