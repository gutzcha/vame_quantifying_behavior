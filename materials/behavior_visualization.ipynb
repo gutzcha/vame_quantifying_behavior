{
 "cells": [
  {
   "cell_type": "code",
   "execution_count": 65,
   "id": "initial_id",
   "metadata": {
    "collapsed": true,
    "ExecuteTime": {
     "end_time": "2024-07-19T17:45:25.978262600Z",
     "start_time": "2024-07-19T17:45:25.935260600Z"
    }
   },
   "outputs": [],
   "source": [
    "import matplotlib.pyplot as plt\n",
    "import seaborn as sns\n",
    "import pandas as pd\n",
    "import numpy as np\n",
    "import ast\n",
    "import plotly.express as px\n",
    "from sklearn.preprocessing import LabelEncoder, StandardScaler\n",
    "from umap import UMAP\n",
    "from sklearn.manifold import TSNE"
   ]
  },
  {
   "cell_type": "code",
   "execution_count": 87,
   "outputs": [],
   "source": [
    "df = pd.read_csv('full_embedded_data.csv')\n",
    "df.drop(columns=['Unnamed: 0', 'sample'], inplace=True)"
   ],
   "metadata": {
    "collapsed": false,
    "ExecuteTime": {
     "end_time": "2024-07-19T17:53:23.996634800Z",
     "start_time": "2024-07-19T17:53:23.689633600Z"
    }
   },
   "id": "72a0cdd56d2b80f6"
  },
  {
   "cell_type": "code",
   "execution_count": 88,
   "outputs": [],
   "source": [
    "df['vector'] = df['vector'].apply(lambda x: np.array(ast.literal_eval(x))) \n",
    "df['label_multi'] = df['label_multi'].apply(lambda x: ast.literal_eval(x.replace(' ',',')))\n",
    "df['single_label'] = df['label_multi'].apply(lambda x: sum(x)==1)"
   ],
   "metadata": {
    "collapsed": false,
    "ExecuteTime": {
     "end_time": "2024-07-19T17:53:30.685294500Z",
     "start_time": "2024-07-19T17:53:24.069631400Z"
    }
   },
   "id": "4fc25a159e6ef598"
  },
  {
   "cell_type": "markdown",
   "source": [],
   "metadata": {
    "collapsed": false
   },
   "id": "307dcc976d67016b"
  },
  {
   "cell_type": "code",
   "execution_count": 89,
   "outputs": [],
   "source": [
    "df = df.loc[~df['label'].apply(lambda x: 'akimbo' in x or 'Moving legs' in x)]"
   ],
   "metadata": {
    "collapsed": false,
    "ExecuteTime": {
     "end_time": "2024-07-19T17:53:30.702296900Z",
     "start_time": "2024-07-19T17:53:30.688295100Z"
    }
   },
   "id": "9327d6acbec92105"
  },
  {
   "cell_type": "code",
   "execution_count": 90,
   "outputs": [
    {
     "data": {
      "text/plain": "1059"
     },
     "execution_count": 90,
     "metadata": {},
     "output_type": "execute_result"
    }
   ],
   "source": [
    "len(df)"
   ],
   "metadata": {
    "collapsed": false,
    "ExecuteTime": {
     "end_time": "2024-07-19T17:53:30.720292300Z",
     "start_time": "2024-07-19T17:53:30.702296900Z"
    }
   },
   "id": "413bfe69fea5e042"
  },
  {
   "cell_type": "code",
   "execution_count": 91,
   "outputs": [],
   "source": [
    "X = np.stack(df['vector'].values)\n",
    "X = StandardScaler().fit_transform(X)\n",
    "# Encode the string labels to integers\n",
    "label_encoder = LabelEncoder()\n",
    "y = label_encoder.fit_transform(df['label'])"
   ],
   "metadata": {
    "collapsed": false,
    "ExecuteTime": {
     "end_time": "2024-07-19T17:53:32.017586500Z",
     "start_time": "2024-07-19T17:53:31.990595500Z"
    }
   },
   "id": "c18a48e35cf5f343"
  },
  {
   "cell_type": "code",
   "execution_count": 92,
   "outputs": [
    {
     "data": {
      "text/plain": "Index(['emb1', 'emb2', 'label', 'vector', 'label_multi', 'inds', 'file_paths',\n       'file_names', 'single_label'],\n      dtype='object')"
     },
     "execution_count": 92,
     "metadata": {},
     "output_type": "execute_result"
    }
   ],
   "source": [
    "df.columns"
   ],
   "metadata": {
    "collapsed": false,
    "ExecuteTime": {
     "end_time": "2024-07-19T17:53:32.828833Z",
     "start_time": "2024-07-19T17:53:32.817831200Z"
    }
   },
   "id": "bfbb1eb7d1fc993f"
  },
  {
   "cell_type": "code",
   "execution_count": 93,
   "outputs": [],
   "source": [
    "reducer_umap = UMAP(n_components=2, n_neighbors=5)\n",
    "df[['umap1', 'umap2']] = reducer_umap.fit_transform(X,y=y)"
   ],
   "metadata": {
    "collapsed": false,
    "ExecuteTime": {
     "end_time": "2024-07-19T17:53:35.978531Z",
     "start_time": "2024-07-19T17:53:33.318514800Z"
    }
   },
   "id": "f49e5969132a6f6f"
  },
  {
   "cell_type": "code",
   "execution_count": 94,
   "outputs": [
    {
     "name": "stderr",
     "output_type": "stream",
     "text": [
      "C:\\Users\\user\\anaconda3\\envs\\VAME\\lib\\site-packages\\sklearn\\manifold\\_t_sne.py:986: FutureWarning:\n",
      "\n",
      "The PCA initialization in TSNE will change to have the standard deviation of PC1 equal to 1e-4 in 1.2. This will ensure better convergence.\n",
      "\n"
     ]
    }
   ],
   "source": [
    "reducer_tsne = TSNE(n_components=2, perplexity=150, init='pca', learning_rate='auto')\n",
    "df[['tsne1', 'tsne2']] = reducer_tsne.fit_transform(X,y=y)\n"
   ],
   "metadata": {
    "collapsed": false,
    "ExecuteTime": {
     "end_time": "2024-07-19T17:53:43.153229Z",
     "start_time": "2024-07-19T17:53:35.981531Z"
    }
   },
   "id": "4e6faa8880113c39"
  },
  {
   "cell_type": "code",
   "execution_count": 97,
   "outputs": [],
   "source": [
    "def interactive_scatter_plot(df, var='umap'):\n",
    "    fig = px.scatter(df, x=f'{var}1', y=f'{var}2', color='label', hover_data=['label', 'file_paths'])\n",
    "\n",
    "    fig.update_layout(title='Interactive Scatter Plot', \n",
    "                      xaxis_title='emb1', \n",
    "                      yaxis_title='emb2')\n",
    "\n",
    "    # Define the on click event\n",
    "    fig.data[0].on_click(lambda trace, points, state: print(df.iloc[points.point_inds[0]]['file_paths']))\n",
    "\n",
    "    fig.show()\n",
    "\n",
    "\n"
   ],
   "metadata": {
    "collapsed": false,
    "ExecuteTime": {
     "end_time": "2024-07-19T17:54:51.643939900Z",
     "start_time": "2024-07-19T17:54:51.623932900Z"
    }
   },
   "id": "f9d170a00579d026"
  },
  {
   "cell_type": "markdown",
   "source": [],
   "metadata": {
    "collapsed": false
   },
   "id": "5d2cb01aac702f35"
  },
  {
   "cell_type": "markdown",
   "source": [],
   "metadata": {
    "collapsed": false
   },
   "id": "b76c7cf70fff75e9"
  },
  {
   "cell_type": "code",
   "execution_count": 98,
   "outputs": [
    {
     "data": {
      "application/vnd.plotly.v1+json": {
       "data": [
        {
         "customdata": [
          [
           "Pulling collar",
           "D:\\Project-mpg microgesture\\smg\\split_files_64\\0001_001_00831-00895_14.mp4"
          ],
          [
           "Pulling collar",
           "D:\\Project-mpg microgesture\\smg\\split_files_64\\0020_012_03296-03360_8.mp4"
          ],
          [
           "Pulling collar",
           "D:\\Project-mpg microgesture\\smg\\split_files_64\\0020_013_03364-03428_8.mp4"
          ],
          [
           "Pulling collar",
           "D:\\Project-mpg microgesture\\smg\\split_files_64\\0024_009_04907-04971_4.mp4"
          ],
          [
           "Pulling collar",
           "D:\\Project-mpg microgesture\\smg\\split_files_64\\0026_009_03142-03206_4.mp4"
          ],
          [
           "Pulling collar",
           "D:\\Project-mpg microgesture\\smg\\split_files_64\\0026_050_11680-11744_15.mp4"
          ],
          [
           "Pulling collar",
           "D:\\Project-mpg microgesture\\smg\\split_files_64\\0026_087_16914-16978_4.mp4"
          ],
          [
           "Pulling collar",
           "D:\\Project-mpg microgesture\\smg\\split_files_64\\0027_171_13488-13552_4.mp4"
          ]
         ],
         "hovertemplate": "label=%{customdata[0]}<br>umap1=%{x}<br>umap2=%{y}<br>file_paths=%{customdata[1]}<extra></extra>",
         "legendgroup": "Pulling collar",
         "marker": {
          "color": "#636efa",
          "symbol": "circle"
         },
         "mode": "markers",
         "name": "Pulling collar",
         "orientation": "v",
         "showlegend": true,
         "x": [
          4.677993297576904,
          6.341312885284424,
          6.329753398895264,
          4.60088586807251,
          5.08473014831543,
          -2.2981185913085938,
          5.086575984954834,
          4.605713844299316
         ],
         "xaxis": "x",
         "y": [
          7.8008503913879395,
          7.2828545570373535,
          7.319238662719727,
          7.732151508331299,
          8.20439338684082,
          9.67420482635498,
          8.21415901184082,
          7.743277072906494
         ],
         "yaxis": "y",
         "type": "scatter"
        },
        {
         "customdata": [
          [
           "Touching face",
           "D:\\Project-mpg microgesture\\smg\\split_files_64\\0001_002_01697-01761_11.mp4"
          ],
          [
           "Touching face",
           "D:\\Project-mpg microgesture\\smg\\split_files_64\\0001_031_14618-14682_11.mp4"
          ],
          [
           "Touching face",
           "D:\\Project-mpg microgesture\\smg\\split_files_64\\0003_030_21315-21379_13.mp4"
          ],
          [
           "Touching face",
           "D:\\Project-mpg microgesture\\smg\\split_files_64\\0004_062_12993-13057_11.mp4"
          ],
          [
           "Touching face",
           "D:\\Project-mpg microgesture\\smg\\split_files_64\\0004_078_18929-18993_13.mp4"
          ],
          [
           "Touching face",
           "D:\\Project-mpg microgesture\\smg\\split_files_64\\0004_082_19230-19294_8.mp4"
          ],
          [
           "Touching face",
           "D:\\Project-mpg microgesture\\smg\\split_files_64\\0004_088_19796-19860_1.mp4"
          ],
          [
           "Touching face",
           "D:\\Project-mpg microgesture\\smg\\split_files_64\\0004_090_19890-19954_11.mp4"
          ],
          [
           "Touching face",
           "D:\\Project-mpg microgesture\\smg\\split_files_64\\0004_092_20027-20091_11.mp4"
          ],
          [
           "Touching face",
           "D:\\Project-mpg microgesture\\smg\\split_files_64\\0004_093_20091-20155_1.mp4"
          ],
          [
           "Touching face",
           "D:\\Project-mpg microgesture\\smg\\split_files_64\\0004_115_22223-22287_15.mp4"
          ],
          [
           "Touching face",
           "D:\\Project-mpg microgesture\\smg\\split_files_64\\0004_120_22609-22673_8.mp4"
          ],
          [
           "Touching face",
           "D:\\Project-mpg microgesture\\smg\\split_files_64\\0004_142_24321-24385_8.mp4"
          ],
          [
           "Touching face",
           "D:\\Project-mpg microgesture\\smg\\split_files_64\\0005_006_02427-02491_16.mp4"
          ],
          [
           "Touching face",
           "D:\\Project-mpg microgesture\\smg\\split_files_64\\0005_027_05693-05757_8.mp4"
          ],
          [
           "Touching face",
           "D:\\Project-mpg microgesture\\smg\\split_files_64\\0005_032_07418-07482_4.mp4"
          ],
          [
           "Touching face",
           "D:\\Project-mpg microgesture\\smg\\split_files_64\\0005_041_10493-10557_8.mp4"
          ],
          [
           "Touching face",
           "D:\\Project-mpg microgesture\\smg\\split_files_64\\0005_043_10529-10593_8.mp4"
          ],
          [
           "Touching face",
           "D:\\Project-mpg microgesture\\smg\\split_files_64\\0005_045_10915-10979_8.mp4"
          ],
          [
           "Touching face",
           "D:\\Project-mpg microgesture\\smg\\split_files_64\\0005_117_21333-21397_11.mp4"
          ],
          [
           "Touching face",
           "D:\\Project-mpg microgesture\\smg\\split_files_64\\0005_118_21397-21461_8.mp4"
          ],
          [
           "Touching face",
           "D:\\Project-mpg microgesture\\smg\\split_files_64\\0005_120_21497-21561_16.mp4"
          ],
          [
           "Touching face",
           "D:\\Project-mpg microgesture\\smg\\split_files_64\\0006_051_13334-13398_7.mp4"
          ],
          [
           "Touching face",
           "D:\\Project-mpg microgesture\\smg\\split_files_64\\0006_055_14525-14589_12.mp4"
          ],
          [
           "Touching face",
           "D:\\Project-mpg microgesture\\smg\\split_files_64\\0006_072_18225-18289_15.mp4"
          ],
          [
           "Touching face",
           "D:\\Project-mpg microgesture\\smg\\split_files_64\\0006_073_18289-18353_15.mp4"
          ],
          [
           "Touching face",
           "D:\\Project-mpg microgesture\\smg\\split_files_64\\0006_083_20858-20922_4.mp4"
          ],
          [
           "Touching face",
           "D:\\Project-mpg microgesture\\smg\\split_files_64\\0007_007_18251-18315_4.mp4"
          ],
          [
           "Touching face",
           "D:\\Project-mpg microgesture\\smg\\split_files_64\\0008_040_06804-06868_8.mp4"
          ],
          [
           "Touching face",
           "D:\\Project-mpg microgesture\\smg\\split_files_64\\0008_054_09012-09076_8.mp4"
          ],
          [
           "Touching face",
           "D:\\Project-mpg microgesture\\smg\\split_files_64\\0008_061_11781-11845_8.mp4"
          ],
          [
           "Touching face",
           "D:\\Project-mpg microgesture\\smg\\split_files_64\\0008_085_13488-13552_8.mp4"
          ],
          [
           "Touching face",
           "D:\\Project-mpg microgesture\\smg\\split_files_64\\0008_086_13552-13616_8.mp4"
          ],
          [
           "Touching face",
           "D:\\Project-mpg microgesture\\smg\\split_files_64\\0009_062_18594-18658_7.mp4"
          ],
          [
           "Touching face",
           "D:\\Project-mpg microgesture\\smg\\split_files_64\\0009_063_18753-18817_7.mp4"
          ],
          [
           "Touching face",
           "D:\\Project-mpg microgesture\\smg\\split_files_64\\0009_069_23106-23170_7.mp4"
          ],
          [
           "Touching face",
           "D:\\Project-mpg microgesture\\smg\\split_files_64\\0010_000_00369-00433_8.mp4"
          ],
          [
           "Touching face",
           "D:\\Project-mpg microgesture\\smg\\split_files_64\\0010_127_18187-18251_2.mp4"
          ],
          [
           "Touching face",
           "D:\\Project-mpg microgesture\\smg\\split_files_64\\0010_184_25366-25430_11.mp4"
          ],
          [
           "Touching face",
           "D:\\Project-mpg microgesture\\smg\\split_files_64\\0010_186_25567-25631_7.mp4"
          ],
          [
           "Touching face",
           "D:\\Project-mpg microgesture\\smg\\split_files_64\\0010_187_25769-25833_0.mp4"
          ],
          [
           "Touching face",
           "D:\\Project-mpg microgesture\\smg\\split_files_64\\0011_008_06588-06652_2.mp4"
          ],
          [
           "Touching face",
           "D:\\Project-mpg microgesture\\smg\\split_files_64\\0013_003_02180-02244_13.mp4"
          ],
          [
           "Touching face",
           "D:\\Project-mpg microgesture\\smg\\split_files_64\\0013_019_04038-04102_7.mp4"
          ],
          [
           "Touching face",
           "D:\\Project-mpg microgesture\\smg\\split_files_64\\0013_057_08850-08914_8.mp4"
          ],
          [
           "Touching face",
           "D:\\Project-mpg microgesture\\smg\\split_files_64\\0013_065_09533-09597_12.mp4"
          ],
          [
           "Touching face",
           "D:\\Project-mpg microgesture\\smg\\split_files_64\\0013_113_14283-14347_8.mp4"
          ],
          [
           "Touching face",
           "D:\\Project-mpg microgesture\\smg\\split_files_64\\0013_120_14734-14798_8.mp4"
          ],
          [
           "Touching face",
           "D:\\Project-mpg microgesture\\smg\\split_files_64\\0013_172_19505-19569_0.mp4"
          ],
          [
           "Touching face",
           "D:\\Project-mpg microgesture\\smg\\split_files_64\\0015_037_04730-04794_4.mp4"
          ],
          [
           "Touching face",
           "D:\\Project-mpg microgesture\\smg\\split_files_64\\0015_104_11566-11630_4.mp4"
          ],
          [
           "Touching face",
           "D:\\Project-mpg microgesture\\smg\\split_files_64\\0016_002_00814-00878_2.mp4"
          ],
          [
           "Touching face",
           "D:\\Project-mpg microgesture\\smg\\split_files_64\\0016_003_00878-00942_11.mp4"
          ],
          [
           "Touching face",
           "D:\\Project-mpg microgesture\\smg\\split_files_64\\0016_007_01821-01885_4.mp4"
          ],
          [
           "Touching face",
           "D:\\Project-mpg microgesture\\smg\\split_files_64\\0016_008_01885-01949_4.mp4"
          ],
          [
           "Touching face",
           "D:\\Project-mpg microgesture\\smg\\split_files_64\\0016_009_01949-02013_4.mp4"
          ],
          [
           "Touching face",
           "D:\\Project-mpg microgesture\\smg\\split_files_64\\0016_010_02156-02220_4.mp4"
          ],
          [
           "Touching face",
           "D:\\Project-mpg microgesture\\smg\\split_files_64\\0019_021_05871-05935_4.mp4"
          ],
          [
           "Touching face",
           "D:\\Project-mpg microgesture\\smg\\split_files_64\\0019_022_07082-07146_4.mp4"
          ],
          [
           "Touching face",
           "D:\\Project-mpg microgesture\\smg\\split_files_64\\0019_024_07208-07272_4.mp4"
          ],
          [
           "Touching face",
           "D:\\Project-mpg microgesture\\smg\\split_files_64\\0019_049_16705-16769_2.mp4"
          ],
          [
           "Touching face",
           "D:\\Project-mpg microgesture\\smg\\split_files_64\\0019_052_16974-17038_8.mp4"
          ],
          [
           "Touching face",
           "D:\\Project-mpg microgesture\\smg\\split_files_64\\0019_053_17078-17142_2.mp4"
          ],
          [
           "Touching face",
           "D:\\Project-mpg microgesture\\smg\\split_files_64\\0019_067_21100-21164_4.mp4"
          ],
          [
           "Touching face",
           "D:\\Project-mpg microgesture\\smg\\split_files_64\\0019_077_22562-22626_8.mp4"
          ],
          [
           "Touching face",
           "D:\\Project-mpg microgesture\\smg\\split_files_64\\0019_078_22737-22801_2.mp4"
          ],
          [
           "Touching face",
           "D:\\Project-mpg microgesture\\smg\\split_files_64\\0020_028_06135-06199_8.mp4"
          ],
          [
           "Touching face",
           "D:\\Project-mpg microgesture\\smg\\split_files_64\\0020_029_06472-06536_8.mp4"
          ],
          [
           "Touching face",
           "D:\\Project-mpg microgesture\\smg\\split_files_64\\0020_061_14305-14369_4.mp4"
          ],
          [
           "Touching face",
           "D:\\Project-mpg microgesture\\smg\\split_files_64\\0020_077_15721-15785_4.mp4"
          ],
          [
           "Touching face",
           "D:\\Project-mpg microgesture\\smg\\split_files_64\\0022_037_06404-06468_4.mp4"
          ],
          [
           "Touching face",
           "D:\\Project-mpg microgesture\\smg\\split_files_64\\0022_099_20152-20216_13.mp4"
          ],
          [
           "Touching face",
           "D:\\Project-mpg microgesture\\smg\\split_files_64\\0022_123_22725-22789_7.mp4"
          ],
          [
           "Touching face",
           "D:\\Project-mpg microgesture\\smg\\split_files_64\\0024_044_15442-15506_4.mp4"
          ],
          [
           "Touching face",
           "D:\\Project-mpg microgesture\\smg\\split_files_64\\0024_045_15485-15549_4.mp4"
          ],
          [
           "Touching face",
           "D:\\Project-mpg microgesture\\smg\\split_files_64\\0025_024_15165-15229_4.mp4"
          ],
          [
           "Touching face",
           "D:\\Project-mpg microgesture\\smg\\split_files_64\\0026_008_03037-03101_4.mp4"
          ],
          [
           "Touching face",
           "D:\\Project-mpg microgesture\\smg\\split_files_64\\0026_091_17306-17370_6.mp4"
          ],
          [
           "Touching face",
           "D:\\Project-mpg microgesture\\smg\\split_files_64\\0026_093_17563-17627_6.mp4"
          ],
          [
           "Touching face",
           "D:\\Project-mpg microgesture\\smg\\split_files_64\\0027_027_03618-03682_4.mp4"
          ],
          [
           "Touching face",
           "D:\\Project-mpg microgesture\\smg\\split_files_64\\0027_034_03925-03989_4.mp4"
          ],
          [
           "Touching face",
           "D:\\Project-mpg microgesture\\smg\\split_files_64\\0027_035_03966-04030_4.mp4"
          ],
          [
           "Touching face",
           "D:\\Project-mpg microgesture\\smg\\split_files_64\\0027_068_06158-06222_4.mp4"
          ],
          [
           "Touching face",
           "D:\\Project-mpg microgesture\\smg\\split_files_64\\0027_074_06503-06567_12.mp4"
          ],
          [
           "Touching face",
           "D:\\Project-mpg microgesture\\smg\\split_files_64\\0027_075_06567-06631_12.mp4"
          ],
          [
           "Touching face",
           "D:\\Project-mpg microgesture\\smg\\split_files_64\\0027_118_09559-09623_4.mp4"
          ],
          [
           "Touching face",
           "D:\\Project-mpg microgesture\\smg\\split_files_64\\0027_166_13235-13299_2.mp4"
          ],
          [
           "Touching face",
           "D:\\Project-mpg microgesture\\smg\\split_files_64\\0027_167_13291-13355_4.mp4"
          ],
          [
           "Touching face",
           "D:\\Project-mpg microgesture\\smg\\split_files_64\\0027_168_13347-13411_4.mp4"
          ],
          [
           "Touching face",
           "D:\\Project-mpg microgesture\\smg\\split_files_64\\0027_198_15240-15304_8.mp4"
          ],
          [
           "Touching face",
           "D:\\Project-mpg microgesture\\smg\\split_files_64\\0027_204_16227-16291_4.mp4"
          ],
          [
           "Touching face",
           "D:\\Project-mpg microgesture\\smg\\split_files_64\\0027_260_22620-22684_7.mp4"
          ],
          [
           "Touching face",
           "D:\\Project-mpg microgesture\\smg\\split_files_64\\0027_262_22797-22861_11.mp4"
          ],
          [
           "Touching face",
           "D:\\Project-mpg microgesture\\smg\\split_files_64\\0027_263_22871-22935_11.mp4"
          ],
          [
           "Touching face",
           "D:\\Project-mpg microgesture\\smg\\split_files_64\\0029_014_05104-05168_8.mp4"
          ],
          [
           "Touching face",
           "D:\\Project-mpg microgesture\\smg\\split_files_64\\0029_046_16733-16797_8.mp4"
          ],
          [
           "Touching face",
           "D:\\Project-mpg microgesture\\smg\\split_files_64\\0029_052_17664-17728_11.mp4"
          ],
          [
           "Touching face",
           "D:\\Project-mpg microgesture\\smg\\split_files_64\\0029_053_17684-17748_11.mp4"
          ],
          [
           "Touching face",
           "D:\\Project-mpg microgesture\\smg\\split_files_64\\0029_054_17748-17812_11.mp4"
          ],
          [
           "Touching face",
           "D:\\Project-mpg microgesture\\smg\\split_files_64\\0029_056_17834-17898_8.mp4"
          ],
          [
           "Touching face",
           "D:\\Project-mpg microgesture\\smg\\split_files_64\\0030_029_07636-07700_8.mp4"
          ],
          [
           "Touching face",
           "D:\\Project-mpg microgesture\\smg\\split_files_64\\0030_030_07700-07764_8.mp4"
          ],
          [
           "Touching face",
           "D:\\Project-mpg microgesture\\smg\\split_files_64\\0030_033_08373-08437_8.mp4"
          ],
          [
           "Touching face",
           "D:\\Project-mpg microgesture\\smg\\split_files_64\\0030_062_12183-12247_11.mp4"
          ],
          [
           "Touching face",
           "D:\\Project-mpg microgesture\\smg\\split_files_64\\0030_063_12247-12311_8.mp4"
          ],
          [
           "Touching face",
           "D:\\Project-mpg microgesture\\smg\\split_files_64\\0030_065_12451-12515_8.mp4"
          ],
          [
           "Touching face",
           "D:\\Project-mpg microgesture\\smg\\split_files_64\\0030_066_18067-18131_8.mp4"
          ],
          [
           "Touching face",
           "D:\\Project-mpg microgesture\\smg\\split_files_64\\0030_067_18571-18635_4.mp4"
          ],
          [
           "Touching face",
           "D:\\Project-mpg microgesture\\smg\\split_files_64\\0030_068_18635-18699_4.mp4"
          ],
          [
           "Touching face",
           "D:\\Project-mpg microgesture\\smg\\split_files_64\\0031_106_16760-16824_4.mp4"
          ],
          [
           "Touching face",
           "D:\\Project-mpg microgesture\\smg\\split_files_64\\0031_107_16807-16871_4.mp4"
          ],
          [
           "Touching face",
           null
          ],
          [
           "Touching face",
           null
          ],
          [
           "Touching face",
           null
          ],
          [
           "Touching face",
           null
          ],
          [
           "Touching face",
           null
          ],
          [
           "Touching face",
           null
          ],
          [
           "Touching face",
           null
          ],
          [
           "Touching face",
           null
          ],
          [
           "Touching face",
           null
          ],
          [
           "Touching face",
           null
          ],
          [
           "Touching face",
           null
          ],
          [
           "Touching face",
           null
          ],
          [
           "Touching face",
           null
          ],
          [
           "Touching face",
           null
          ],
          [
           "Touching face",
           null
          ],
          [
           "Touching face",
           null
          ],
          [
           "Touching face",
           null
          ],
          [
           "Touching face",
           null
          ],
          [
           "Touching face",
           null
          ],
          [
           "Touching face",
           null
          ],
          [
           "Touching face",
           null
          ],
          [
           "Touching face",
           null
          ],
          [
           "Touching face",
           null
          ],
          [
           "Touching face",
           null
          ],
          [
           "Touching face",
           null
          ],
          [
           "Touching face",
           null
          ],
          [
           "Touching face",
           null
          ],
          [
           "Touching face",
           null
          ],
          [
           "Touching face",
           null
          ],
          [
           "Touching face",
           null
          ],
          [
           "Touching face",
           null
          ],
          [
           "Touching face",
           null
          ],
          [
           "Touching face",
           null
          ],
          [
           "Touching face",
           null
          ],
          [
           "Touching face",
           null
          ],
          [
           "Touching face",
           null
          ],
          [
           "Touching face",
           null
          ],
          [
           "Touching face",
           null
          ],
          [
           "Touching face",
           null
          ]
         ],
         "hovertemplate": "label=%{customdata[0]}<br>umap1=%{x}<br>umap2=%{y}<br>file_paths=%{customdata[1]}<extra></extra>",
         "legendgroup": "Touching face",
         "marker": {
          "color": "#EF553B",
          "symbol": "circle"
         },
         "mode": "markers",
         "name": "Touching face",
         "orientation": "v",
         "showlegend": true,
         "x": [
          2.7558839321136475,
          13.52974796295166,
          2.7496135234832764,
          1.421270489692688,
          1.8323490619659424,
          1.7853872776031494,
          1.4916661977767944,
          1.4909510612487793,
          1.491041898727417,
          2.886335849761963,
          1.4111113548278809,
          1.4872299432754517,
          1.8264254331588745,
          1.5867395401000977,
          1.810028076171875,
          2.1903483867645264,
          1.3084322214126587,
          1.802207112312317,
          1.8109216690063477,
          3.63189697265625,
          3.6777138710021973,
          3.6116228103637695,
          3.3824622631073,
          3.42757511138916,
          3.678448438644409,
          3.659564971923828,
          3.528557300567627,
          2.0016329288482666,
          3.7951653003692627,
          1.4932605028152466,
          3.2656567096710205,
          3.0655415058135986,
          9.328536033630371,
          3.0694286823272705,
          1.2657921314239502,
          13.517167091369629,
          1.2772231101989746,
          13.523655891418457,
          1.481451153755188,
          3.364100933074951,
          3.3876664638519287,
          3.7316107749938965,
          3.0888359546661377,
          3.696422576904297,
          3.2841124534606934,
          3.1347265243530273,
          3.4588406085968018,
          1.2694331407546997,
          3.827732563018799,
          3.0671427249908447,
          2.9618523120880127,
          1.2886852025985718,
          1.208817481994629,
          3.311143159866333,
          1.993876338005066,
          3.1436548233032227,
          2.837592363357544,
          2.190950870513916,
          1.3856918811798096,
          3.734797477722168,
          -4.703991889953613,
          1.9574716091156006,
          -5.579202175140381,
          2.199045419692993,
          1.799523949623108,
          1.154443621635437,
          3.5231664180755615,
          1.5329402685165405,
          2.266404867172241,
          3.112011671066284,
          3.8437366485595703,
          3.7902796268463135,
          3.7881314754486084,
          3.854287624359131,
          0.736569344997406,
          1.4089537858963013,
          13.529995918273926,
          1.356385350227356,
          11.157890319824219,
          3.332883834838867,
          1.924565315246582,
          1.9267661571502686,
          3.373178243637085,
          3.452373743057251,
          1.9792906045913696,
          14.330626487731934,
          3.7697231769561768,
          0.7082223296165466,
          0.6920865178108215,
          0.9917876720428467,
          -2.2414236068725586,
          -2.2150864601135254,
          0.916476845741272,
          1.019607424736023,
          1.2250187397003174,
          2.374805450439453,
          2.3723063468933105,
          2.3836090564727783,
          1.029697060585022,
          1.217573642730713,
          2.366873264312744,
          1.0288783311843872,
          1.902511477470398,
          2.381324529647827,
          2.382056474685669,
          2.028259754180908,
          14.463556289672852,
          1.292628526687622,
          1.2457472085952759,
          2.005779266357422,
          1.9832545518875122,
          3.330993413925171,
          2.8953278064727783,
          2.8272294998168945,
          2.7915055751800537,
          -5.849201202392578,
          2.838681936264038,
          3.4553873538970947,
          15.454035758972168,
          3.710367441177368,
          2.8491761684417725,
          3.573099374771118,
          2.3444039821624756,
          2.8104660511016846,
          1.798973798751831,
          3.817986011505127,
          1.8169955015182495,
          2.6538896560668945,
          3.671616554260254,
          2.873959541320801,
          2.802358627319336,
          2.9212446212768555,
          3.4124560356140137,
          3.345369338989258,
          1.771441102027893,
          1.6012306213378906,
          3.785581588745117,
          2.0711145401000977,
          2.4697418212890625,
          3.0148913860321045,
          2.0242111682891846,
          2.2727210521698,
          2.6256213188171387,
          2.7589023113250732,
          2.7690017223358154,
          2.8636584281921387,
          1.6142833232879639,
          1.6099743843078613,
          3.255582571029663,
          3.648139476776123
         ],
         "xaxis": "x",
         "y": [
          9.923699378967285,
          -2.2526164054870605,
          9.877928733825684,
          5.876915454864502,
          5.220395565032959,
          5.266063213348389,
          5.508552074432373,
          5.52794885635376,
          5.5279998779296875,
          10.851075172424316,
          5.773266792297363,
          5.561901092529297,
          5.234182357788086,
          5.521821022033691,
          6.651261806488037,
          7.531069755554199,
          7.152306079864502,
          5.260848045349121,
          5.245228290557861,
          11.311450004577637,
          11.384692192077637,
          11.29797077178955,
          10.917195320129395,
          11.033079147338867,
          11.383028984069824,
          11.393182754516602,
          11.154648780822754,
          9.999760627746582,
          9.366434097290039,
          7.3705973625183105,
          9.285331726074219,
          9.296952247619629,
          12.341676712036133,
          9.34061336517334,
          6.96789026260376,
          -2.157165050506592,
          7.074502944946289,
          -2.1663386821746826,
          7.326474189758301,
          9.318410873413086,
          9.253421783447266,
          9.9213228225708,
          9.480573654174805,
          9.895912170410156,
          9.629602432250977,
          9.597868919372559,
          9.818109512329102,
          7.0825324058532715,
          9.982317924499512,
          10.805252075195312,
          10.868624687194824,
          10.71238899230957,
          10.710484504699707,
          10.638368606567383,
          10.079046249389648,
          10.548430442810059,
          10.840507507324219,
          11.335770606994629,
          10.627874374389648,
          9.946844100952148,
          6.80588436126709,
          10.618163108825684,
          5.67780876159668,
          10.522223472595215,
          10.670801162719727,
          10.573301315307617,
          10.43088150024414,
          10.627090454101562,
          10.415482521057129,
          10.522384643554688,
          10.009440422058105,
          10.333283424377441,
          10.314884185791016,
          9.986418724060059,
          10.420378684997559,
          10.26758861541748,
          -2.233645439147949,
          10.356237411499023,
          15.14364242553711,
          10.48301887512207,
          10.370001792907715,
          10.034156799316406,
          10.507204055786133,
          10.460822105407715,
          10.033169746398926,
          -2.0534377098083496,
          10.000062942504883,
          10.429600715637207,
          10.429105758666992,
          10.512709617614746,
          9.949548721313477,
          9.929411888122559,
          10.485507011413574,
          10.43304443359375,
          10.700592994689941,
          11.656645774841309,
          11.613241195678711,
          11.683594703674316,
          10.388535499572754,
          10.537810325622559,
          11.654659271240234,
          10.455597877502441,
          10.448627471923828,
          11.426900863647461,
          11.674543380737305,
          10.01279067993164,
          -2.1918203830718994,
          10.393553733825684,
          10.339919090270996,
          9.985158920288086,
          10.463260650634766,
          10.390742301940918,
          9.514034271240234,
          9.650750160217285,
          9.622857093811035,
          1.5280051231384277,
          10.030587196350098,
          10.013452529907227,
          -5.27037239074707,
          9.985673904418945,
          9.946867942810059,
          10.402040481567383,
          10.423148155212402,
          9.922916412353516,
          10.488649368286133,
          9.969097137451172,
          10.232226371765137,
          10.11508846282959,
          10.440240859985352,
          9.702539443969727,
          9.969592094421387,
          10.19888973236084,
          10.308648109436035,
          10.477520942687988,
          10.555487632751465,
          10.551612854003906,
          10.062956809997559,
          10.05825424194336,
          10.01753044128418,
          10.015410423278809,
          10.175945281982422,
          10.030060768127441,
          10.04848861694336,
          9.887052536010742,
          10.128334045410156,
          9.53447151184082,
          10.545890808105469,
          10.37672233581543,
          10.483295440673828,
          10.432412147521973
         ],
         "yaxis": "y",
         "type": "scatter"
        },
        {
         "customdata": [
          [
           "Rubbing hands",
           "D:\\Project-mpg microgesture\\smg\\split_files_64\\0001_004_06317-06381_7.mp4"
          ],
          [
           "Rubbing hands",
           "D:\\Project-mpg microgesture\\smg\\split_files_64\\0001_041_15519-15583_7.mp4"
          ],
          [
           "Rubbing hands",
           "D:\\Project-mpg microgesture\\smg\\split_files_64\\0001_046_16154-16218_7.mp4"
          ],
          [
           "Rubbing hands",
           "D:\\Project-mpg microgesture\\smg\\split_files_64\\0001_048_18654-18718_7.mp4"
          ],
          [
           "Rubbing hands",
           "D:\\Project-mpg microgesture\\smg\\split_files_64\\0002_012_01402-01466_7.mp4"
          ],
          [
           "Rubbing hands",
           "D:\\Project-mpg microgesture\\smg\\split_files_64\\0002_017_02545-02609_0.mp4"
          ],
          [
           "Rubbing hands",
           "D:\\Project-mpg microgesture\\smg\\split_files_64\\0002_021_05810-05874_0.mp4"
          ],
          [
           "Rubbing hands",
           "D:\\Project-mpg microgesture\\smg\\split_files_64\\0002_022_05874-05938_2.mp4"
          ],
          [
           "Rubbing hands",
           "D:\\Project-mpg microgesture\\smg\\split_files_64\\0002_034_21527-21591_0.mp4"
          ],
          [
           "Rubbing hands",
           "D:\\Project-mpg microgesture\\smg\\split_files_64\\0003_012_08891-08955_8.mp4"
          ],
          [
           "Rubbing hands",
           "D:\\Project-mpg microgesture\\smg\\split_files_64\\0003_015_09097-09161_11.mp4"
          ],
          [
           "Rubbing hands",
           "D:\\Project-mpg microgesture\\smg\\split_files_64\\0003_016_18239-18303_6.mp4"
          ],
          [
           "Rubbing hands",
           "D:\\Project-mpg microgesture\\smg\\split_files_64\\0004_014_07024-07088_8.mp4"
          ],
          [
           "Rubbing hands",
           "D:\\Project-mpg microgesture\\smg\\split_files_64\\0005_023_05510-05574_8.mp4"
          ],
          [
           "Rubbing hands",
           "D:\\Project-mpg microgesture\\smg\\split_files_64\\0008_043_07009-07073_8.mp4"
          ],
          [
           "Rubbing hands",
           "D:\\Project-mpg microgesture\\smg\\split_files_64\\0008_045_07560-07624_7.mp4"
          ],
          [
           "Rubbing hands",
           "D:\\Project-mpg microgesture\\smg\\split_files_64\\0008_046_07624-07688_8.mp4"
          ],
          [
           "Rubbing hands",
           "D:\\Project-mpg microgesture\\smg\\split_files_64\\0008_053_08948-09012_8.mp4"
          ],
          [
           "Rubbing hands",
           "D:\\Project-mpg microgesture\\smg\\split_files_64\\0008_059_11720-11784_8.mp4"
          ],
          [
           "Rubbing hands",
           "D:\\Project-mpg microgesture\\smg\\split_files_64\\0008_065_12032-12096_8.mp4"
          ],
          [
           "Rubbing hands",
           "D:\\Project-mpg microgesture\\smg\\split_files_64\\0008_075_12815-12879_8.mp4"
          ],
          [
           "Rubbing hands",
           "D:\\Project-mpg microgesture\\smg\\split_files_64\\0008_080_13131-13195_8.mp4"
          ],
          [
           "Rubbing hands",
           "D:\\Project-mpg microgesture\\smg\\split_files_64\\0008_092_13857-13921_8.mp4"
          ],
          [
           "Rubbing hands",
           "D:\\Project-mpg microgesture\\smg\\split_files_64\\0008_095_14049-14113_8.mp4"
          ],
          [
           "Rubbing hands",
           "D:\\Project-mpg microgesture\\smg\\split_files_64\\0008_104_14748-14812_8.mp4"
          ],
          [
           "Rubbing hands",
           "D:\\Project-mpg microgesture\\smg\\split_files_64\\0008_118_20527-20591_8.mp4"
          ],
          [
           "Rubbing hands",
           "D:\\Project-mpg microgesture\\smg\\split_files_64\\0008_120_20714-20778_8.mp4"
          ],
          [
           "Rubbing hands",
           "D:\\Project-mpg microgesture\\smg\\split_files_64\\0008_126_21315-21379_8.mp4"
          ],
          [
           "Rubbing hands",
           "D:\\Project-mpg microgesture\\smg\\split_files_64\\0008_131_21916-21980_8.mp4"
          ],
          [
           "Rubbing hands",
           "D:\\Project-mpg microgesture\\smg\\split_files_64\\0008_146_23119-23183_7.mp4"
          ],
          [
           "Rubbing hands",
           "D:\\Project-mpg microgesture\\smg\\split_files_64\\0008_149_23311-23375_7.mp4"
          ],
          [
           "Rubbing hands",
           "D:\\Project-mpg microgesture\\smg\\split_files_64\\0008_150_23375-23439_7.mp4"
          ],
          [
           "Rubbing hands",
           "D:\\Project-mpg microgesture\\smg\\split_files_64\\0008_157_25424-25488_1.mp4"
          ],
          [
           "Rubbing hands",
           "D:\\Project-mpg microgesture\\smg\\split_files_64\\0009_076_23925-23989_7.mp4"
          ],
          [
           "Rubbing hands",
           "D:\\Project-mpg microgesture\\smg\\split_files_64\\0009_079_24305-24369_7.mp4"
          ],
          [
           "Rubbing hands",
           "D:\\Project-mpg microgesture\\smg\\split_files_64\\0009_080_24699-24763_7.mp4"
          ],
          [
           "Rubbing hands",
           "D:\\Project-mpg microgesture\\smg\\split_files_64\\0009_081_24763-24827_4.mp4"
          ],
          [
           "Rubbing hands",
           "D:\\Project-mpg microgesture\\smg\\split_files_64\\0010_002_00857-00921_11.mp4"
          ],
          [
           "Rubbing hands",
           "D:\\Project-mpg microgesture\\smg\\split_files_64\\0010_006_02138-02202_8.mp4"
          ],
          [
           "Rubbing hands",
           "D:\\Project-mpg microgesture\\smg\\split_files_64\\0010_043_09211-09275_8.mp4"
          ],
          [
           "Rubbing hands",
           "D:\\Project-mpg microgesture\\smg\\split_files_64\\0010_044_09294-09358_8.mp4"
          ],
          [
           "Rubbing hands",
           "D:\\Project-mpg microgesture\\smg\\split_files_64\\0010_045_09328-09392_8.mp4"
          ],
          [
           "Rubbing hands",
           "D:\\Project-mpg microgesture\\smg\\split_files_64\\0010_046_09402-09466_8.mp4"
          ],
          [
           "Rubbing hands",
           "D:\\Project-mpg microgesture\\smg\\split_files_64\\0010_050_09756-09820_8.mp4"
          ],
          [
           "Rubbing hands",
           "D:\\Project-mpg microgesture\\smg\\split_files_64\\0010_051_09820-09884_8.mp4"
          ],
          [
           "Rubbing hands",
           "D:\\Project-mpg microgesture\\smg\\split_files_64\\0010_052_09859-09923_8.mp4"
          ],
          [
           "Rubbing hands",
           "D:\\Project-mpg microgesture\\smg\\split_files_64\\0010_056_10095-10159_8.mp4"
          ],
          [
           "Rubbing hands",
           "D:\\Project-mpg microgesture\\smg\\split_files_64\\0010_057_10115-10179_8.mp4"
          ],
          [
           "Rubbing hands",
           "D:\\Project-mpg microgesture\\smg\\split_files_64\\0010_058_10179-10243_8.mp4"
          ],
          [
           "Rubbing hands",
           "D:\\Project-mpg microgesture\\smg\\split_files_64\\0010_059_10243-10307_8.mp4"
          ],
          [
           "Rubbing hands",
           "D:\\Project-mpg microgesture\\smg\\split_files_64\\0010_060_10307-10371_8.mp4"
          ],
          [
           "Rubbing hands",
           "D:\\Project-mpg microgesture\\smg\\split_files_64\\0010_061_10371-10435_8.mp4"
          ],
          [
           "Rubbing hands",
           "D:\\Project-mpg microgesture\\smg\\split_files_64\\0010_062_10417-10481_8.mp4"
          ],
          [
           "Rubbing hands",
           "D:\\Project-mpg microgesture\\smg\\split_files_64\\0010_095_12880-12944_6.mp4"
          ],
          [
           "Rubbing hands",
           "D:\\Project-mpg microgesture\\smg\\split_files_64\\0010_104_16346-16410_6.mp4"
          ],
          [
           "Rubbing hands",
           "D:\\Project-mpg microgesture\\smg\\split_files_64\\0010_147_20367-20431_6.mp4"
          ],
          [
           "Rubbing hands",
           "D:\\Project-mpg microgesture\\smg\\split_files_64\\0010_152_20551-20615_8.mp4"
          ],
          [
           "Rubbing hands",
           "D:\\Project-mpg microgesture\\smg\\split_files_64\\0010_155_20820-20884_8.mp4"
          ],
          [
           "Rubbing hands",
           "D:\\Project-mpg microgesture\\smg\\split_files_64\\0010_156_20876-20940_8.mp4"
          ],
          [
           "Rubbing hands",
           "D:\\Project-mpg microgesture\\smg\\split_files_64\\0010_159_21105-21169_8.mp4"
          ],
          [
           "Rubbing hands",
           "D:\\Project-mpg microgesture\\smg\\split_files_64\\0010_160_21147-21211_8.mp4"
          ],
          [
           "Rubbing hands",
           "D:\\Project-mpg microgesture\\smg\\split_files_64\\0010_162_21429-21493_6.mp4"
          ],
          [
           "Rubbing hands",
           "D:\\Project-mpg microgesture\\smg\\split_files_64\\0010_165_21764-21828_6.mp4"
          ],
          [
           "Rubbing hands",
           "D:\\Project-mpg microgesture\\smg\\split_files_64\\0010_166_21828-21892_8.mp4"
          ],
          [
           "Rubbing hands",
           "D:\\Project-mpg microgesture\\smg\\split_files_64\\0010_172_23022-23086_6.mp4"
          ],
          [
           "Rubbing hands",
           "D:\\Project-mpg microgesture\\smg\\split_files_64\\0010_173_23932-23996_2.mp4"
          ],
          [
           "Rubbing hands",
           "D:\\Project-mpg microgesture\\smg\\split_files_64\\0010_180_24250-24314_6.mp4"
          ],
          [
           "Rubbing hands",
           "D:\\Project-mpg microgesture\\smg\\split_files_64\\0010_189_26057-26121_2.mp4"
          ],
          [
           "Rubbing hands",
           "D:\\Project-mpg microgesture\\smg\\split_files_64\\0010_190_26121-26185_11.mp4"
          ],
          [
           "Rubbing hands",
           "D:\\Project-mpg microgesture\\smg\\split_files_64\\0010_193_26487-26532_2.mp4"
          ],
          [
           "Rubbing hands",
           "D:\\Project-mpg microgesture\\smg\\split_files_64\\0011_003_04061-04125_2.mp4"
          ],
          [
           "Rubbing hands",
           "D:\\Project-mpg microgesture\\smg\\split_files_64\\0011_022_13104-13168_2.mp4"
          ],
          [
           "Rubbing hands",
           "D:\\Project-mpg microgesture\\smg\\split_files_64\\0011_031_18620-18684_2.mp4"
          ],
          [
           "Rubbing hands",
           "D:\\Project-mpg microgesture\\smg\\split_files_64\\0011_038_21911-21975_2.mp4"
          ],
          [
           "Rubbing hands",
           "D:\\Project-mpg microgesture\\smg\\split_files_64\\0012_002_05671-05735_2.mp4"
          ],
          [
           "Rubbing hands",
           "D:\\Project-mpg microgesture\\smg\\split_files_64\\0012_008_09531-09595_4.mp4"
          ],
          [
           "Rubbing hands",
           "D:\\Project-mpg microgesture\\smg\\split_files_64\\0012_009_09595-09659_2.mp4"
          ],
          [
           "Rubbing hands",
           "D:\\Project-mpg microgesture\\smg\\split_files_64\\0013_048_06336-06400_8.mp4"
          ],
          [
           "Rubbing hands",
           "D:\\Project-mpg microgesture\\smg\\split_files_64\\0013_098_13129-13193_13.mp4"
          ],
          [
           "Rubbing hands",
           "D:\\Project-mpg microgesture\\smg\\split_files_64\\0013_116_14555-14619_8.mp4"
          ],
          [
           "Rubbing hands",
           "D:\\Project-mpg microgesture\\smg\\split_files_64\\0013_176_19722-19786_8.mp4"
          ],
          [
           "Rubbing hands",
           "D:\\Project-mpg microgesture\\smg\\split_files_64\\0013_186_20662-20726_8.mp4"
          ],
          [
           "Rubbing hands",
           "D:\\Project-mpg microgesture\\smg\\split_files_64\\0013_188_20744-20808_8.mp4"
          ],
          [
           "Rubbing hands",
           "D:\\Project-mpg microgesture\\smg\\split_files_64\\0013_192_20905-20969_7.mp4"
          ],
          [
           "Rubbing hands",
           "D:\\Project-mpg microgesture\\smg\\split_files_64\\0014_006_03568-03632_8.mp4"
          ],
          [
           "Rubbing hands",
           "D:\\Project-mpg microgesture\\smg\\split_files_64\\0014_018_15253-15317_8.mp4"
          ],
          [
           "Rubbing hands",
           "D:\\Project-mpg microgesture\\smg\\split_files_64\\0014_020_15662-15726_8.mp4"
          ],
          [
           "Rubbing hands",
           "D:\\Project-mpg microgesture\\smg\\split_files_64\\0014_029_22203-22267_8.mp4"
          ],
          [
           "Rubbing hands",
           "D:\\Project-mpg microgesture\\smg\\split_files_64\\0014_031_22267-22331_8.mp4"
          ],
          [
           "Rubbing hands",
           "D:\\Project-mpg microgesture\\smg\\split_files_64\\0014_037_22555-22619_8.mp4"
          ],
          [
           "Rubbing hands",
           "D:\\Project-mpg microgesture\\smg\\split_files_64\\0014_039_22629-22693_8.mp4"
          ],
          [
           "Rubbing hands",
           "D:\\Project-mpg microgesture\\smg\\split_files_64\\0014_042_22802-22866_8.mp4"
          ],
          [
           "Rubbing hands",
           "D:\\Project-mpg microgesture\\smg\\split_files_64\\0014_046_23455-23519_7.mp4"
          ],
          [
           "Rubbing hands",
           "D:\\Project-mpg microgesture\\smg\\split_files_64\\0014_049_25437-25501_7.mp4"
          ],
          [
           "Rubbing hands",
           "D:\\Project-mpg microgesture\\smg\\split_files_64\\0015_033_04441-04505_4.mp4"
          ],
          [
           "Rubbing hands",
           "D:\\Project-mpg microgesture\\smg\\split_files_64\\0015_035_04559-04623_4.mp4"
          ],
          [
           "Rubbing hands",
           "D:\\Project-mpg microgesture\\smg\\split_files_64\\0015_086_08892-08956_8.mp4"
          ],
          [
           "Rubbing hands",
           "D:\\Project-mpg microgesture\\smg\\split_files_64\\0015_088_09011-09075_8.mp4"
          ],
          [
           "Rubbing hands",
           "D:\\Project-mpg microgesture\\smg\\split_files_64\\0015_089_09051-09115_8.mp4"
          ],
          [
           "Rubbing hands",
           "D:\\Project-mpg microgesture\\smg\\split_files_64\\0015_090_09508-09572_8.mp4"
          ],
          [
           "Rubbing hands",
           "D:\\Project-mpg microgesture\\smg\\split_files_64\\0015_134_14436-14500_4.mp4"
          ],
          [
           "Rubbing hands",
           "D:\\Project-mpg microgesture\\smg\\split_files_64\\0015_138_14888-14952_6.mp4"
          ],
          [
           "Rubbing hands",
           "D:\\Project-mpg microgesture\\smg\\split_files_64\\0015_182_18976-19040_8.mp4"
          ],
          [
           "Rubbing hands",
           "D:\\Project-mpg microgesture\\smg\\split_files_64\\0015_205_20022-20086_8.mp4"
          ],
          [
           "Rubbing hands",
           "D:\\Project-mpg microgesture\\smg\\split_files_64\\0015_206_20086-20150_4.mp4"
          ],
          [
           "Rubbing hands",
           "D:\\Project-mpg microgesture\\smg\\split_files_64\\0015_246_24309-24373_4.mp4"
          ],
          [
           "Rubbing hands",
           "D:\\Project-mpg microgesture\\smg\\split_files_64\\0015_247_24461-24525_4.mp4"
          ],
          [
           "Rubbing hands",
           "D:\\Project-mpg microgesture\\smg\\split_files_64\\0015_262_25843-25907_4.mp4"
          ],
          [
           "Rubbing hands",
           "D:\\Project-mpg microgesture\\smg\\split_files_64\\0015_269_26508-26572_4.mp4"
          ],
          [
           "Rubbing hands",
           "D:\\Project-mpg microgesture\\smg\\split_files_64\\0015_270_26594-26658_4.mp4"
          ],
          [
           "Rubbing hands",
           "D:\\Project-mpg microgesture\\smg\\split_files_64\\0015_275_27177-27241_4.mp4"
          ],
          [
           "Rubbing hands",
           "D:\\Project-mpg microgesture\\smg\\split_files_64\\0016_000_00340-00404_7.mp4"
          ],
          [
           "Rubbing hands",
           "D:\\Project-mpg microgesture\\smg\\split_files_64\\0016_001_00734-00798_7.mp4"
          ],
          [
           "Rubbing hands",
           "D:\\Project-mpg microgesture\\smg\\split_files_64\\0016_013_02603-02667_4.mp4"
          ],
          [
           "Rubbing hands",
           "D:\\Project-mpg microgesture\\smg\\split_files_64\\0016_014_02758-02822_4.mp4"
          ],
          [
           "Rubbing hands",
           "D:\\Project-mpg microgesture\\smg\\split_files_64\\0016_016_02961-03025_2.mp4"
          ],
          [
           "Rubbing hands",
           "D:\\Project-mpg microgesture\\smg\\split_files_64\\0016_023_03858-03922_1.mp4"
          ],
          [
           "Rubbing hands",
           "D:\\Project-mpg microgesture\\smg\\split_files_64\\0016_026_04028-04092_11.mp4"
          ],
          [
           "Rubbing hands",
           "D:\\Project-mpg microgesture\\smg\\split_files_64\\0016_030_05524-05588_11.mp4"
          ],
          [
           "Rubbing hands",
           "D:\\Project-mpg microgesture\\smg\\split_files_64\\0016_031_06153-06217_4.mp4"
          ],
          [
           "Rubbing hands",
           "D:\\Project-mpg microgesture\\smg\\split_files_64\\0016_032_07234-07298_4.mp4"
          ],
          [
           "Rubbing hands",
           "D:\\Project-mpg microgesture\\smg\\split_files_64\\0016_036_08090-08154_4.mp4"
          ],
          [
           "Rubbing hands",
           "D:\\Project-mpg microgesture\\smg\\split_files_64\\0016_037_09079-09143_4.mp4"
          ],
          [
           "Rubbing hands",
           "D:\\Project-mpg microgesture\\smg\\split_files_64\\0016_066_13676-13740_7.mp4"
          ],
          [
           "Rubbing hands",
           "D:\\Project-mpg microgesture\\smg\\split_files_64\\0016_067_13992-14056_4.mp4"
          ],
          [
           "Rubbing hands",
           "D:\\Project-mpg microgesture\\smg\\split_files_64\\0016_068_14056-14120_7.mp4"
          ],
          [
           "Rubbing hands",
           "D:\\Project-mpg microgesture\\smg\\split_files_64\\0016_069_14131-14195_7.mp4"
          ],
          [
           "Rubbing hands",
           "D:\\Project-mpg microgesture\\smg\\split_files_64\\0016_070_14195-14259_14.mp4"
          ],
          [
           "Rubbing hands",
           "D:\\Project-mpg microgesture\\smg\\split_files_64\\0016_073_14734-14798_7.mp4"
          ],
          [
           "Rubbing hands",
           "D:\\Project-mpg microgesture\\smg\\split_files_64\\0016_088_18096-18160_2.mp4"
          ],
          [
           "Rubbing hands",
           "D:\\Project-mpg microgesture\\smg\\split_files_64\\0016_090_18540-18604_4.mp4"
          ],
          [
           "Rubbing hands",
           "D:\\Project-mpg microgesture\\smg\\split_files_64\\0017_021_04194-04258_15.mp4"
          ],
          [
           "Rubbing hands",
           "D:\\Project-mpg microgesture\\smg\\split_files_64\\0017_022_04735-04799_15.mp4"
          ],
          [
           "Rubbing hands",
           "D:\\Project-mpg microgesture\\smg\\split_files_64\\0017_077_09320-09384_8.mp4"
          ],
          [
           "Rubbing hands",
           "D:\\Project-mpg microgesture\\smg\\split_files_64\\0019_018_05309-05373_13.mp4"
          ],
          [
           "Rubbing hands",
           "D:\\Project-mpg microgesture\\smg\\split_files_64\\0019_019_05541-05605_8.mp4"
          ],
          [
           "Rubbing hands",
           "D:\\Project-mpg microgesture\\smg\\split_files_64\\0019_042_15485-15549_2.mp4"
          ],
          [
           "Rubbing hands",
           "D:\\Project-mpg microgesture\\smg\\split_files_64\\0019_047_16500-16564_2.mp4"
          ],
          [
           "Rubbing hands",
           "D:\\Project-mpg microgesture\\smg\\split_files_64\\0020_008_03069-03133_8.mp4"
          ],
          [
           "Rubbing hands",
           "D:\\Project-mpg microgesture\\smg\\split_files_64\\0020_010_03141-03205_8.mp4"
          ],
          [
           "Rubbing hands",
           "D:\\Project-mpg microgesture\\smg\\split_files_64\\0020_011_03198-03262_8.mp4"
          ],
          [
           "Rubbing hands",
           "D:\\Project-mpg microgesture\\smg\\split_files_64\\0020_015_03696-03760_7.mp4"
          ],
          [
           "Rubbing hands",
           "D:\\Project-mpg microgesture\\smg\\split_files_64\\0020_021_04622-04686_4.mp4"
          ],
          [
           "Rubbing hands",
           "D:\\Project-mpg microgesture\\smg\\split_files_64\\0020_026_05992-06056_8.mp4"
          ],
          [
           "Rubbing hands",
           "D:\\Project-mpg microgesture\\smg\\split_files_64\\0020_046_11131-11195_4.mp4"
          ],
          [
           "Rubbing hands",
           "D:\\Project-mpg microgesture\\smg\\split_files_64\\0020_051_11761-11825_4.mp4"
          ],
          [
           "Rubbing hands",
           "D:\\Project-mpg microgesture\\smg\\split_files_64\\0020_054_13528-13592_4.mp4"
          ],
          [
           "Rubbing hands",
           "D:\\Project-mpg microgesture\\smg\\split_files_64\\0020_060_14241-14305_4.mp4"
          ],
          [
           "Rubbing hands",
           "D:\\Project-mpg microgesture\\smg\\split_files_64\\0020_095_18212-18276_6.mp4"
          ],
          [
           "Rubbing hands",
           "D:\\Project-mpg microgesture\\smg\\split_files_64\\0021_020_03675-03739_4.mp4"
          ],
          [
           "Rubbing hands",
           "D:\\Project-mpg microgesture\\smg\\split_files_64\\0021_021_05912-05976_8.mp4"
          ],
          [
           "Rubbing hands",
           "D:\\Project-mpg microgesture\\smg\\split_files_64\\0021_035_10735-10799_4.mp4"
          ],
          [
           "Rubbing hands",
           "D:\\Project-mpg microgesture\\smg\\split_files_64\\0021_036_10842-10906_4.mp4"
          ],
          [
           "Rubbing hands",
           "D:\\Project-mpg microgesture\\smg\\split_files_64\\0021_037_11859-11923_2.mp4"
          ],
          [
           "Rubbing hands",
           "D:\\Project-mpg microgesture\\smg\\split_files_64\\0022_047_07890-07954_8.mp4"
          ],
          [
           "Rubbing hands",
           "D:\\Project-mpg microgesture\\smg\\split_files_64\\0022_050_08378-08442_8.mp4"
          ],
          [
           "Rubbing hands",
           "D:\\Project-mpg microgesture\\smg\\split_files_64\\0022_053_08556-08620_4.mp4"
          ],
          [
           "Rubbing hands",
           "D:\\Project-mpg microgesture\\smg\\split_files_64\\0022_059_09252-09316_11.mp4"
          ],
          [
           "Rubbing hands",
           "D:\\Project-mpg microgesture\\smg\\split_files_64\\0022_061_09387-09451_4.mp4"
          ],
          [
           "Rubbing hands",
           "D:\\Project-mpg microgesture\\smg\\split_files_64\\0022_067_11832-11896_4.mp4"
          ],
          [
           "Rubbing hands",
           "D:\\Project-mpg microgesture\\smg\\split_files_64\\0022_070_13043-13107_4.mp4"
          ],
          [
           "Rubbing hands",
           "D:\\Project-mpg microgesture\\smg\\split_files_64\\0022_079_17405-17469_4.mp4"
          ],
          [
           "Rubbing hands",
           "D:\\Project-mpg microgesture\\smg\\split_files_64\\0022_114_21929-21993_8.mp4"
          ],
          [
           "Rubbing hands",
           "D:\\Project-mpg microgesture\\smg\\split_files_64\\0022_115_22028-22092_8.mp4"
          ],
          [
           "Rubbing hands",
           "D:\\Project-mpg microgesture\\smg\\split_files_64\\0022_135_24895-24959_4.mp4"
          ],
          [
           "Rubbing hands",
           "D:\\Project-mpg microgesture\\smg\\split_files_64\\0022_137_25605-25669_4.mp4"
          ],
          [
           "Rubbing hands",
           "D:\\Project-mpg microgesture\\smg\\split_files_64\\0024_031_10982-11046_4.mp4"
          ],
          [
           "Rubbing hands",
           "D:\\Project-mpg microgesture\\smg\\split_files_64\\0025_028_21051-21115_4.mp4"
          ],
          [
           "Rubbing hands",
           "D:\\Project-mpg microgesture\\smg\\split_files_64\\0025_038_26259-26323_4.mp4"
          ],
          [
           "Rubbing hands",
           "D:\\Project-mpg microgesture\\smg\\split_files_64\\0026_003_02178-02242_12.mp4"
          ],
          [
           "Rubbing hands",
           "D:\\Project-mpg microgesture\\smg\\split_files_64\\0026_109_20313-20377_6.mp4"
          ],
          [
           "Rubbing hands",
           "D:\\Project-mpg microgesture\\smg\\split_files_64\\0027_022_03374-03438_4.mp4"
          ],
          [
           "Rubbing hands",
           "D:\\Project-mpg microgesture\\smg\\split_files_64\\0027_026_03571-03635_4.mp4"
          ],
          [
           "Rubbing hands",
           "D:\\Project-mpg microgesture\\smg\\split_files_64\\0027_054_05040-05104_4.mp4"
          ],
          [
           "Rubbing hands",
           "D:\\Project-mpg microgesture\\smg\\split_files_64\\0027_081_07759-07823_4.mp4"
          ],
          [
           "Rubbing hands",
           "D:\\Project-mpg microgesture\\smg\\split_files_64\\0027_120_09659-09723_4.mp4"
          ],
          [
           "Rubbing hands",
           "D:\\Project-mpg microgesture\\smg\\split_files_64\\0027_129_10769-10833_4.mp4"
          ],
          [
           "Rubbing hands",
           "D:\\Project-mpg microgesture\\smg\\split_files_64\\0027_141_11599-11663_4.mp4"
          ],
          [
           "Rubbing hands",
           "D:\\Project-mpg microgesture\\smg\\split_files_64\\0027_156_12675-12739_4.mp4"
          ],
          [
           "Rubbing hands",
           "D:\\Project-mpg microgesture\\smg\\split_files_64\\0027_292_25130-25194_7.mp4"
          ],
          [
           "Rubbing hands",
           "D:\\Project-mpg microgesture\\smg\\split_files_64\\0027_312_26713-26777_4.mp4"
          ],
          [
           "Rubbing hands",
           "D:\\Project-mpg microgesture\\smg\\split_files_64\\0027_320_27676-27740_4.mp4"
          ],
          [
           "Rubbing hands",
           "D:\\Project-mpg microgesture\\smg\\split_files_64\\0028_000_00532-00596_7.mp4"
          ],
          [
           "Rubbing hands",
           "D:\\Project-mpg microgesture\\smg\\split_files_64\\0028_021_06278-06342_12.mp4"
          ],
          [
           "Rubbing hands",
           "D:\\Project-mpg microgesture\\smg\\split_files_64\\0028_022_06342-06406_12.mp4"
          ],
          [
           "Rubbing hands",
           "D:\\Project-mpg microgesture\\smg\\split_files_64\\0028_023_06406-06470_12.mp4"
          ],
          [
           "Rubbing hands",
           "D:\\Project-mpg microgesture\\smg\\split_files_64\\0028_046_16397-16461_2.mp4"
          ],
          [
           "Rubbing hands",
           "D:\\Project-mpg microgesture\\smg\\split_files_64\\0028_051_18850-18914_2.mp4"
          ],
          [
           "Rubbing hands",
           "D:\\Project-mpg microgesture\\smg\\split_files_64\\0028_058_19373-19437_11.mp4"
          ],
          [
           "Rubbing hands",
           "D:\\Project-mpg microgesture\\smg\\split_files_64\\0029_026_13458-13522_8.mp4"
          ],
          [
           "Rubbing hands",
           "D:\\Project-mpg microgesture\\smg\\split_files_64\\0029_027_14035-14099_8.mp4"
          ],
          [
           "Rubbing hands",
           "D:\\Project-mpg microgesture\\smg\\split_files_64\\0031_013_02801-02865_4.mp4"
          ],
          [
           "Rubbing hands",
           "D:\\Project-mpg microgesture\\smg\\split_files_64\\0031_014_02891-02955_4.mp4"
          ],
          [
           "Rubbing hands",
           "D:\\Project-mpg microgesture\\smg\\split_files_64\\0031_017_04177-04241_4.mp4"
          ],
          [
           "Rubbing hands",
           "D:\\Project-mpg microgesture\\smg\\split_files_64\\0031_018_04241-04305_4.mp4"
          ],
          [
           "Rubbing hands",
           "D:\\Project-mpg microgesture\\smg\\split_files_64\\0031_019_04826-04890_4.mp4"
          ],
          [
           "Rubbing hands",
           null
          ],
          [
           "Rubbing hands",
           null
          ],
          [
           "Rubbing hands",
           null
          ],
          [
           "Rubbing hands",
           null
          ],
          [
           "Rubbing hands",
           null
          ],
          [
           "Rubbing hands",
           null
          ],
          [
           "Rubbing hands",
           null
          ],
          [
           "Rubbing hands",
           null
          ],
          [
           "Rubbing hands",
           null
          ],
          [
           "Rubbing hands",
           null
          ],
          [
           "Rubbing hands",
           null
          ],
          [
           "Rubbing hands",
           null
          ],
          [
           "Rubbing hands",
           null
          ],
          [
           "Rubbing hands",
           null
          ],
          [
           "Rubbing hands",
           null
          ],
          [
           "Rubbing hands",
           null
          ],
          [
           "Rubbing hands",
           null
          ],
          [
           "Rubbing hands",
           null
          ],
          [
           "Rubbing hands",
           null
          ],
          [
           "Rubbing hands",
           null
          ],
          [
           "Rubbing hands",
           null
          ],
          [
           "Rubbing hands",
           null
          ],
          [
           "Rubbing hands",
           null
          ],
          [
           "Rubbing hands",
           null
          ],
          [
           "Rubbing hands",
           null
          ],
          [
           "Rubbing hands",
           null
          ],
          [
           "Rubbing hands",
           null
          ],
          [
           "Rubbing hands",
           null
          ],
          [
           "Rubbing hands",
           null
          ],
          [
           "Rubbing hands",
           null
          ],
          [
           "Rubbing hands",
           null
          ],
          [
           "Rubbing hands",
           null
          ],
          [
           "Rubbing hands",
           null
          ],
          [
           "Rubbing hands",
           null
          ]
         ],
         "hovertemplate": "label=%{customdata[0]}<br>umap1=%{x}<br>umap2=%{y}<br>file_paths=%{customdata[1]}<extra></extra>",
         "legendgroup": "Rubbing hands",
         "marker": {
          "color": "#00cc96",
          "symbol": "circle"
         },
         "mode": "markers",
         "name": "Rubbing hands",
         "orientation": "v",
         "showlegend": true,
         "x": [
          16.91151237487793,
          16.1075439453125,
          15.918619155883789,
          15.691747665405273,
          14.496452331542969,
          16.241010665893555,
          16.949670791625977,
          17.14995002746582,
          17.079788208007812,
          15.67208480834961,
          15.936208724975586,
          15.924141883850098,
          15.769796371459961,
          17.663476943969727,
          15.92708683013916,
          15.776592254638672,
          15.781801223754883,
          15.152831077575684,
          14.591070175170898,
          16.01470184326172,
          15.7380952835083,
          15.889176368713379,
          14.91773796081543,
          14.620393753051758,
          14.540390014648438,
          14.359415054321289,
          14.310929298400879,
          15.95510196685791,
          17.2799129486084,
          16.882129669189453,
          15.916360855102539,
          17.150529861450195,
          17.3833065032959,
          17.20513343811035,
          15.529953956604004,
          15.70930004119873,
          15.571161270141602,
          14.507049560546875,
          15.78054428100586,
          16.091922760009766,
          16.937772750854492,
          17.280378341674805,
          16.934274673461914,
          16.872421264648438,
          16.74596405029297,
          16.09001350402832,
          16.896711349487305,
          17.379215240478516,
          17.15487289428711,
          17.361801147460938,
          17.24967384338379,
          16.055322647094727,
          17.201536178588867,
          15.17880916595459,
          15.522711753845215,
          15.298532485961914,
          15.739179611206055,
          15.574252128601074,
          15.129386901855469,
          16.591018676757812,
          16.079017639160156,
          15.831352233886719,
          15.509720802307129,
          15.189003944396973,
          16.9411563873291,
          15.58346939086914,
          13.896275520324707,
          14.521537780761719,
          15.27785587310791,
          15.162610054016113,
          15.157567024230957,
          16.800037384033203,
          16.564592361450195,
          16.209739685058594,
          16.371166229248047,
          16.900983810424805,
          16.958282470703125,
          15.523100852966309,
          15.560578346252441,
          15.551060676574707,
          16.303586959838867,
          17.948469161987305,
          17.342784881591797,
          17.360538482666016,
          17.988840103149414,
          -6.291917324066162,
          17.40801239013672,
          17.93012237548828,
          17.313819885253906,
          17.929521560668945,
          17.12274169921875,
          18.007293701171875,
          17.407230377197266,
          18.054224014282227,
          17.050460815429688,
          16.902143478393555,
          17.00133514404297,
          16.898910522460938,
          16.85845375061035,
          17.019699096679688,
          16.90060806274414,
          17.076705932617188,
          17.019794464111328,
          16.296297073364258,
          16.239974975585938,
          14.680193901062012,
          16.016944885253906,
          17.298330307006836,
          17.126001358032227,
          17.186365127563477,
          16.005229949951172,
          15.035175323486328,
          16.938365936279297,
          15.744584083557129,
          -5.83411979675293,
          14.475275993347168,
          15.6524076461792,
          14.706145286560059,
          15.67465591430664,
          14.321834564208984,
          16.00189971923828,
          15.975152015686035,
          16.35807228088379,
          16.71487808227539,
          17.01491355895996,
          18.27511978149414,
          14.860450744628906,
          16.849769592285156,
          16.78213119506836,
          17.323528289794922,
          14.61546802520752,
          17.338085174560547,
          14.639833450317383,
          17.3293399810791,
          16.70346450805664,
          18.054851531982422,
          17.062088012695312,
          17.397804260253906,
          17.1319522857666,
          17.115541458129883,
          18.17160415649414,
          14.439440727233887,
          18.07149887084961,
          14.974105834960938,
          16.358705520629883,
          -5.768353462219238,
          14.569685935974121,
          2.008800745010376,
          16.325145721435547,
          14.561767578125,
          14.574727058410645,
          17.921566009521484,
          17.505903244018555,
          14.565972328186035,
          15.79167366027832,
          16.432592391967773,
          14.687871932983398,
          16.305362701416016,
          16.40412139892578,
          17.788068771362305,
          16.048938751220703,
          17.08623504638672,
          14.60009765625,
          18.167314529418945,
          15.857810974121094,
          16.47559928894043,
          16.011837005615234,
          11.229790687561035,
          14.34557056427002,
          15.647871971130371,
          17.12042999267578,
          16.31955909729004,
          16.01688003540039,
          15.347834587097168,
          15.95008659362793,
          15.393064498901367,
          15.457579612731934,
          15.877933502197266,
          16.298309326171875,
          14.791216850280762,
          16.675458908081055,
          16.76068115234375,
          14.587657928466797,
          16.47547721862793,
          16.210586547851562,
          16.148067474365234,
          16.10106658935547,
          16.15627098083496,
          15.650924682617188,
          14.397627830505371,
          15.995697021484375,
          17.072193145751953,
          17.773548126220703,
          16.2708797454834,
          16.41123390197754,
          16.810401916503906,
          17.02739715576172,
          17.033037185668945,
          17.545747756958008,
          17.39516830444336,
          15.941922187805176,
          17.404094696044922,
          16.661415100097656,
          15.363323211669922,
          17.0368709564209,
          17.253721237182617,
          17.50177574157715,
          17.2515811920166,
          17.637664794921875,
          18.085906982421875,
          14.827919006347656,
          17.37476348876953,
          14.943443298339844,
          17.68525505065918,
          17.780921936035156,
          16.26557731628418,
          15.900652885437012,
          16.98438835144043,
          15.536397933959961,
          14.781123161315918,
          15.823455810546875,
          16.154373168945312,
          16.425344467163086,
          14.734663963317871,
          14.743125915527344,
          17.28569221496582,
          14.763038635253906,
          15.486529350280762,
          16.176677703857422,
          15.366570472717285
         ],
         "xaxis": "x",
         "y": [
          -2.9526422023773193,
          -2.310325860977173,
          -1.347676396369934,
          -3.4935100078582764,
          -5.048759460449219,
          -2.289909601211548,
          -2.519308090209961,
          -2.359612464904785,
          -2.3615224361419678,
          -4.569509983062744,
          -1.4758830070495605,
          -1.4770326614379883,
          -4.611420631408691,
          -4.308055400848389,
          -3.843621015548706,
          -4.02825403213501,
          -3.9495983123779297,
          -4.11992073059082,
          -5.005636215209961,
          -4.1613874435424805,
          -4.600229740142822,
          -3.8922152519226074,
          -4.28444766998291,
          -4.438795566558838,
          -4.942525386810303,
          -5.102659225463867,
          -5.1203765869140625,
          -2.3613603115081787,
          -2.6750125885009766,
          -2.502908229827881,
          -1.3046327829360962,
          -2.419545888900757,
          -2.783048629760742,
          -2.389044761657715,
          -2.851705312728882,
          -4.153472423553467,
          -2.664968490600586,
          -4.785068988800049,
          -2.562190055847168,
          -2.3250224590301514,
          -2.548182249069214,
          -2.7369630336761475,
          -2.4958295822143555,
          -2.570180654525757,
          -2.5251803398132324,
          -2.2619259357452393,
          -2.4800868034362793,
          -2.7892727851867676,
          -2.4163317680358887,
          -2.7495920658111572,
          -2.6775314807891846,
          -2.3871870040893555,
          -2.5953457355499268,
          -4.27287483215332,
          -3.7241485118865967,
          -4.211977005004883,
          -3.819701671600342,
          -3.8130276203155518,
          -4.248258113861084,
          -3.9961659908294678,
          -4.0038371086120605,
          -4.3096466064453125,
          -2.8158843517303467,
          -4.234543323516846,
          -2.9302072525024414,
          -4.091749668121338,
          -1.8987088203430176,
          -4.984140396118164,
          -4.202172756195068,
          5.786473274230957,
          -4.2742533683776855,
          -2.5013587474823,
          -2.3912453651428223,
          -2.339303493499756,
          -2.3576250076293945,
          -2.63321590423584,
          -2.569732189178467,
          -4.201972007751465,
          -4.174407958984375,
          -3.1489429473876953,
          -4.064285755157471,
          -4.607656002044678,
          -4.780823707580566,
          -4.506700038909912,
          -4.6755051612854,
          2.4483370780944824,
          -4.631211280822754,
          -4.722345352172852,
          -5.16119909286499,
          -4.720644950866699,
          -4.2637457847595215,
          -4.710851192474365,
          -4.917186737060547,
          -4.652913570404053,
          -4.489934921264648,
          -4.532321453094482,
          -4.140185356140137,
          -4.384574890136719,
          -4.1664533615112305,
          -4.20659065246582,
          -4.209700584411621,
          -4.2000651359558105,
          -4.232784271240234,
          -4.561445236206055,
          -4.295176982879639,
          -3.8623862266540527,
          -3.947420120239258,
          -4.816546440124512,
          -4.234699726104736,
          -4.502142429351807,
          -4.15751838684082,
          -2.6072592735290527,
          -4.164308071136475,
          -3.3478517532348633,
          1.5028334856033325,
          -2.1520421504974365,
          -4.792600631713867,
          -2.287653684616089,
          -5.453848838806152,
          -2.0393526554107666,
          -3.6995737552642822,
          -4.488222599029541,
          -4.5304436683654785,
          -4.0648064613342285,
          -4.461662292480469,
          -4.518920421600342,
          -2.5196616649627686,
          -4.845942497253418,
          -5.173981666564941,
          -4.952348709106445,
          -2.3028764724731445,
          -4.974621772766113,
          -2.3317337036132812,
          -4.624817848205566,
          -4.347949981689453,
          -4.551948547363281,
          -4.913164138793945,
          -5.123344421386719,
          -5.0530242919921875,
          -4.179270267486572,
          -4.621064186096191,
          -2.664562702178955,
          -4.69387149810791,
          -2.3539953231811523,
          -4.54507303237915,
          1.4198001623153687,
          -5.0056304931640625,
          10.330550193786621,
          -5.084483623504639,
          -2.362945318222046,
          -2.441007137298584,
          -4.432222843170166,
          -4.433979034423828,
          -3.846724271774292,
          -4.430476665496826,
          -5.145686626434326,
          -2.304264545440674,
          -4.941851615905762,
          -4.99406623840332,
          -4.39954948425293,
          -4.887540817260742,
          -4.59224796295166,
          -3.866899251937866,
          -4.648130893707275,
          -4.410792350769043,
          -5.291438579559326,
          -5.538334846496582,
          15.28672981262207,
          -2.072244644165039,
          -5.459687232971191,
          -4.7523369789123535,
          -4.598342418670654,
          -4.28237247467041,
          -5.302903175354004,
          -4.541032791137695,
          -5.432559013366699,
          -5.317389488220215,
          -4.472878456115723,
          -4.585314750671387,
          -2.2643089294433594,
          -4.371983051300049,
          -4.2556352615356445,
          -2.2663276195526123,
          -4.477911949157715,
          -4.410154819488525,
          -4.028688430786133,
          -3.993243455886841,
          -3.956730842590332,
          -4.765453815460205,
          -2.0773839950561523,
          -3.8922717571258545,
          -4.818725109100342,
          -4.89477014541626,
          -4.630950927734375,
          -5.279042720794678,
          -2.471184730529785,
          -4.637196063995361,
          -3.0452721118927,
          -5.035667419433594,
          -5.029944896697998,
          -5.411612510681152,
          -5.177971363067627,
          -4.623797416687012,
          -5.367527961730957,
          -4.889873027801514,
          -5.208890438079834,
          -5.122287273406982,
          -4.8476433753967285,
          -4.962190628051758,
          -4.808687686920166,
          -2.5142340660095215,
          -5.008848190307617,
          -2.5944957733154297,
          -4.969078540802002,
          -4.8549323081970215,
          -5.423344612121582,
          -4.4611711502075195,
          -4.1875481605529785,
          -5.190084457397461,
          -2.401569128036499,
          -5.3546061515808105,
          -5.0669331550598145,
          -4.522181987762451,
          -2.3366525173187256,
          -2.3416872024536133,
          -5.083248615264893,
          -2.3588788509368896,
          -5.205148696899414,
          -4.763669013977051,
          -5.432490825653076
         ],
         "yaxis": "y",
         "type": "scatter"
        },
        {
         "customdata": [
          [
           "Rubbing face",
           "D:\\Project-mpg microgesture\\smg\\split_files_64\\0001_021_08424-08488_1.mp4"
          ],
          [
           "Rubbing face",
           "D:\\Project-mpg microgesture\\smg\\split_files_64\\0004_070_14383-14447_8.mp4"
          ],
          [
           "Rubbing face",
           "D:\\Project-mpg microgesture\\smg\\split_files_64\\0004_072_15764-15828_8.mp4"
          ],
          [
           "Rubbing face",
           "D:\\Project-mpg microgesture\\smg\\split_files_64\\0004_074_17134-17198_8.mp4"
          ],
          [
           "Rubbing face",
           "D:\\Project-mpg microgesture\\smg\\split_files_64\\0004_080_19102-19166_13.mp4"
          ],
          [
           "Rubbing face",
           "D:\\Project-mpg microgesture\\smg\\split_files_64\\0004_110_21799-21863_8.mp4"
          ],
          [
           "Rubbing face",
           "D:\\Project-mpg microgesture\\smg\\split_files_64\\0004_122_22700-22764_11.mp4"
          ],
          [
           "Rubbing face",
           "D:\\Project-mpg microgesture\\smg\\split_files_64\\0004_124_22828-22892_8.mp4"
          ],
          [
           "Rubbing face",
           "D:\\Project-mpg microgesture\\smg\\split_files_64\\0004_130_23167-23231_4.mp4"
          ],
          [
           "Rubbing face",
           "D:\\Project-mpg microgesture\\smg\\split_files_64\\0004_133_23499-23563_13.mp4"
          ],
          [
           "Rubbing face",
           "D:\\Project-mpg microgesture\\smg\\split_files_64\\0004_134_23662-23726_2.mp4"
          ],
          [
           "Rubbing face",
           "D:\\Project-mpg microgesture\\smg\\split_files_64\\0004_135_23704-23768_1.mp4"
          ],
          [
           "Rubbing face",
           "D:\\Project-mpg microgesture\\smg\\split_files_64\\0004_137_23839-23903_7.mp4"
          ],
          [
           "Rubbing face",
           "D:\\Project-mpg microgesture\\smg\\split_files_64\\0004_140_24012-24076_11.mp4"
          ],
          [
           "Rubbing face",
           "D:\\Project-mpg microgesture\\smg\\split_files_64\\0005_018_05239-05303_4.mp4"
          ],
          [
           "Rubbing face",
           "D:\\Project-mpg microgesture\\smg\\split_files_64\\0008_055_09115-09179_8.mp4"
          ],
          [
           "Rubbing face",
           "D:\\Project-mpg microgesture\\smg\\split_files_64\\0010_065_10589-10653_8.mp4"
          ],
          [
           "Rubbing face",
           "D:\\Project-mpg microgesture\\smg\\split_files_64\\0010_068_10731-10795_8.mp4"
          ],
          [
           "Rubbing face",
           "D:\\Project-mpg microgesture\\smg\\split_files_64\\0010_069_10739-10803_8.mp4"
          ],
          [
           "Rubbing face",
           "D:\\Project-mpg microgesture\\smg\\split_files_64\\0010_122_17240-17304_6.mp4"
          ],
          [
           "Rubbing face",
           "D:\\Project-mpg microgesture\\smg\\split_files_64\\0010_181_24641-24705_6.mp4"
          ],
          [
           "Rubbing face",
           "D:\\Project-mpg microgesture\\smg\\split_files_64\\0013_131_15505-15569_2.mp4"
          ],
          [
           "Rubbing face",
           "D:\\Project-mpg microgesture\\smg\\split_files_64\\0013_141_16906-16970_8.mp4"
          ],
          [
           "Rubbing face",
           "D:\\Project-mpg microgesture\\smg\\split_files_64\\0013_144_17248-17312_8.mp4"
          ],
          [
           "Rubbing face",
           "D:\\Project-mpg microgesture\\smg\\split_files_64\\0013_160_18016-18080_13.mp4"
          ],
          [
           "Rubbing face",
           "D:\\Project-mpg microgesture\\smg\\split_files_64\\0019_044_15673-15737_8.mp4"
          ],
          [
           "Rubbing face",
           "D:\\Project-mpg microgesture\\smg\\split_files_64\\0020_019_04401-04465_6.mp4"
          ],
          [
           "Rubbing face",
           "D:\\Project-mpg microgesture\\smg\\split_files_64\\0020_022_04963-05027_4.mp4"
          ],
          [
           "Rubbing face",
           "D:\\Project-mpg microgesture\\smg\\split_files_64\\0021_062_19767-19831_4.mp4"
          ],
          [
           "Rubbing face",
           "D:\\Project-mpg microgesture\\smg\\split_files_64\\0022_000_00761-00825_8.mp4"
          ],
          [
           "Rubbing face",
           "D:\\Project-mpg microgesture\\smg\\split_files_64\\0022_001_00805-00869_12.mp4"
          ],
          [
           "Rubbing face",
           "D:\\Project-mpg microgesture\\smg\\split_files_64\\0026_051_11744-11808_15.mp4"
          ],
          [
           "Rubbing face",
           "D:\\Project-mpg microgesture\\smg\\split_files_64\\0027_247_21323-21387_11.mp4"
          ],
          [
           "Rubbing face",
           "D:\\Project-mpg microgesture\\smg\\split_files_64\\0031_086_14457-14521_4.mp4"
          ],
          [
           "Rubbing face",
           null
          ],
          [
           "Rubbing face",
           null
          ]
         ],
         "hovertemplate": "label=%{customdata[0]}<br>umap1=%{x}<br>umap2=%{y}<br>file_paths=%{customdata[1]}<extra></extra>",
         "legendgroup": "Rubbing face",
         "marker": {
          "color": "#ab63fa",
          "symbol": "circle"
         },
         "mode": "markers",
         "name": "Rubbing face",
         "orientation": "v",
         "showlegend": true,
         "x": [
          13.48653793334961,
          1.8179399967193604,
          15.972960472106934,
          15.961729049682617,
          1.7089385986328125,
          1.4254906177520752,
          2.957400321960449,
          1.41656494140625,
          1.4855976104736328,
          1.8287878036499023,
          1.4742392301559448,
          1.4382387399673462,
          1.5189441442489624,
          1.529052495956421,
          1.858070731163025,
          2.6469593048095703,
          2.4036052227020264,
          2.9579052925109863,
          17.31260871887207,
          2.7406396865844727,
          2.7747583389282227,
          2.1674301624298096,
          2.193556547164917,
          2.0269672870635986,
          2.175443649291992,
          2.2492425441741943,
          2.7064008712768555,
          2.537832021713257,
          5.212595462799072,
          3.6841745376586914,
          7.539878845214844,
          5.353873252868652,
          3.8768107891082764,
          2.2645263671875,
          2.4976022243499756,
          -5.523679256439209
         ],
         "xaxis": "x",
         "y": [
          -2.2938003540039062,
          7.384671211242676,
          -1.0423213243484497,
          -1.0561684370040894,
          6.5059123039245605,
          6.037338733673096,
          6.092557430267334,
          6.042557716369629,
          6.124312400817871,
          6.716187000274658,
          6.132323741912842,
          6.01950740814209,
          6.18773889541626,
          6.182973861694336,
          6.7825236320495605,
          8.296707153320312,
          7.89014196395874,
          6.092608451843262,
          -2.7037055492401123,
          8.48638916015625,
          8.73186206817627,
          7.564820766448975,
          7.585053443908691,
          7.470570087432861,
          7.553216934204102,
          9.072386741638184,
          8.791664123535156,
          8.877734184265137,
          8.261858940124512,
          8.872954368591309,
          8.084983825683594,
          8.203043937683105,
          10.099019050598145,
          9.068391799926758,
          8.902506828308105,
          3.3874871730804443
         ],
         "yaxis": "y",
         "type": "scatter"
        },
        {
         "customdata": [
          [
           "Holding arms",
           "D:\\Project-mpg microgesture\\smg\\split_files_64\\0002_024_09691-09755_7.mp4"
          ],
          [
           "Holding arms",
           "D:\\Project-mpg microgesture\\smg\\split_files_64\\0003_010_08788-08852_8.mp4"
          ],
          [
           "Holding arms",
           "D:\\Project-mpg microgesture\\smg\\split_files_64\\0003_034_26184-26248_13.mp4"
          ],
          [
           "Holding arms",
           "D:\\Project-mpg microgesture\\smg\\split_files_64\\0003_035_26567-26631_13.mp4"
          ],
          [
           "Holding arms",
           "D:\\Project-mpg microgesture\\smg\\split_files_64\\0004_000_01948-02012_7.mp4"
          ],
          [
           "Holding arms",
           "D:\\Project-mpg microgesture\\smg\\split_files_64\\0004_002_02716-02780_8.mp4"
          ],
          [
           "Holding arms",
           "D:\\Project-mpg microgesture\\smg\\split_files_64\\0004_004_04225-04289_8.mp4"
          ],
          [
           "Holding arms",
           "D:\\Project-mpg microgesture\\smg\\split_files_64\\0004_006_04372-04436_8.mp4"
          ],
          [
           "Holding arms",
           "D:\\Project-mpg microgesture\\smg\\split_files_64\\0004_008_04953-05017_4.mp4"
          ],
          [
           "Holding arms",
           "D:\\Project-mpg microgesture\\smg\\split_files_64\\0004_009_05601-05665_13.mp4"
          ],
          [
           "Holding arms",
           "D:\\Project-mpg microgesture\\smg\\split_files_64\\0004_010_05674-05738_8.mp4"
          ],
          [
           "Holding arms",
           "D:\\Project-mpg microgesture\\smg\\split_files_64\\0004_012_05784-05848_8.mp4"
          ],
          [
           "Holding arms",
           "D:\\Project-mpg microgesture\\smg\\split_files_64\\0004_023_08446-08510_8.mp4"
          ],
          [
           "Holding arms",
           "D:\\Project-mpg microgesture\\smg\\split_files_64\\0004_033_09054-09118_8.mp4"
          ],
          [
           "Holding arms",
           "D:\\Project-mpg microgesture\\smg\\split_files_64\\0004_099_20870-20934_1.mp4"
          ],
          [
           "Holding arms",
           "D:\\Project-mpg microgesture\\smg\\split_files_64\\0004_102_21250-21314_11.mp4"
          ],
          [
           "Holding arms",
           "D:\\Project-mpg microgesture\\smg\\split_files_64\\0004_108_21686-21750_8.mp4"
          ],
          [
           "Holding arms",
           "D:\\Project-mpg microgesture\\smg\\split_files_64\\0005_012_04827-04891_13.mp4"
          ],
          [
           "Holding arms",
           "D:\\Project-mpg microgesture\\smg\\split_files_64\\0005_057_13500-13564_4.mp4"
          ],
          [
           "Holding arms",
           "D:\\Project-mpg microgesture\\smg\\split_files_64\\0005_058_13564-13628_8.mp4"
          ],
          [
           "Holding arms",
           "D:\\Project-mpg microgesture\\smg\\split_files_64\\0005_061_13717-13781_16.mp4"
          ],
          [
           "Holding arms",
           "D:\\Project-mpg microgesture\\smg\\split_files_64\\0008_070_12306-12370_8.mp4"
          ],
          [
           "Holding arms",
           "D:\\Project-mpg microgesture\\smg\\split_files_64\\0008_071_12572-12636_0.mp4"
          ],
          [
           "Holding arms",
           "D:\\Project-mpg microgesture\\smg\\split_files_64\\0008_072_12641-12705_8.mp4"
          ],
          [
           "Holding arms",
           "D:\\Project-mpg microgesture\\smg\\split_files_64\\0008_087_13622-13686_8.mp4"
          ],
          [
           "Holding arms",
           "D:\\Project-mpg microgesture\\smg\\split_files_64\\0008_108_17836-17900_7.mp4"
          ],
          [
           "Holding arms",
           "D:\\Project-mpg microgesture\\smg\\split_files_64\\0010_136_18866-18930_11.mp4"
          ],
          [
           "Holding arms",
           "D:\\Project-mpg microgesture\\smg\\split_files_64\\0010_145_20177-20241_6.mp4"
          ],
          [
           "Holding arms",
           "D:\\Project-mpg microgesture\\smg\\split_files_64\\0015_009_01633-01697_4.mp4"
          ],
          [
           "Holding arms",
           "D:\\Project-mpg microgesture\\smg\\split_files_64\\0015_011_01844-01908_8.mp4"
          ],
          [
           "Holding arms",
           "D:\\Project-mpg microgesture\\smg\\split_files_64\\0015_098_10581-10645_4.mp4"
          ],
          [
           "Holding arms",
           "D:\\Project-mpg microgesture\\smg\\split_files_64\\0015_158_16442-16506_7.mp4"
          ],
          [
           "Holding arms",
           "D:\\Project-mpg microgesture\\smg\\split_files_64\\0015_159_16592-16656_8.mp4"
          ],
          [
           "Holding arms",
           "D:\\Project-mpg microgesture\\smg\\split_files_64\\0015_235_23132-23196_4.mp4"
          ],
          [
           "Holding arms",
           "D:\\Project-mpg microgesture\\smg\\split_files_64\\0015_236_23475-23539_4.mp4"
          ],
          [
           "Holding arms",
           "D:\\Project-mpg microgesture\\smg\\split_files_64\\0015_267_26223-26287_4.mp4"
          ],
          [
           "Holding arms",
           "D:\\Project-mpg microgesture\\smg\\split_files_64\\0016_022_03794-03858_16.mp4"
          ],
          [
           "Holding arms",
           "D:\\Project-mpg microgesture\\smg\\split_files_64\\0020_005_02971-03035_7.mp4"
          ],
          [
           "Holding arms",
           "D:\\Project-mpg microgesture\\smg\\split_files_64\\0022_046_07826-07890_4.mp4"
          ],
          [
           "Holding arms",
           "D:\\Project-mpg microgesture\\smg\\split_files_64\\0022_075_16231-16295_4.mp4"
          ],
          [
           "Holding arms",
           "D:\\Project-mpg microgesture\\smg\\split_files_64\\0024_033_11057-11121_4.mp4"
          ],
          [
           "Holding arms",
           "D:\\Project-mpg microgesture\\smg\\split_files_64\\0024_035_13149-13213_5.mp4"
          ],
          [
           "Holding arms",
           "D:\\Project-mpg microgesture\\smg\\split_files_64\\0025_037_25872-25936_4.mp4"
          ],
          [
           "Holding arms",
           "D:\\Project-mpg microgesture\\smg\\split_files_64\\0026_053_12191-12255_2.mp4"
          ],
          [
           "Holding arms",
           "D:\\Project-mpg microgesture\\smg\\split_files_64\\0027_015_02793-02857_4.mp4"
          ],
          [
           "Holding arms",
           "D:\\Project-mpg microgesture\\smg\\split_files_64\\0027_016_02833-02897_4.mp4"
          ],
          [
           "Holding arms",
           "D:\\Project-mpg microgesture\\smg\\split_files_64\\0027_020_03285-03349_4.mp4"
          ],
          [
           "Holding arms",
           "D:\\Project-mpg microgesture\\smg\\split_files_64\\0027_049_04827-04891_4.mp4"
          ],
          [
           "Holding arms",
           "D:\\Project-mpg microgesture\\smg\\split_files_64\\0027_050_04869-04933_4.mp4"
          ],
          [
           "Holding arms",
           "D:\\Project-mpg microgesture\\smg\\split_files_64\\0027_107_09015-09079_4.mp4"
          ],
          [
           "Holding arms",
           "D:\\Project-mpg microgesture\\smg\\split_files_64\\0027_108_09052-09116_4.mp4"
          ],
          [
           "Holding arms",
           "D:\\Project-mpg microgesture\\smg\\split_files_64\\0027_110_09132-09196_4.mp4"
          ],
          [
           "Holding arms",
           "D:\\Project-mpg microgesture\\smg\\split_files_64\\0027_115_09429-09493_4.mp4"
          ],
          [
           "Holding arms",
           "D:\\Project-mpg microgesture\\smg\\split_files_64\\0027_116_09466-09530_4.mp4"
          ],
          [
           "Holding arms",
           "D:\\Project-mpg microgesture\\smg\\split_files_64\\0027_117_09509-09573_4.mp4"
          ],
          [
           "Holding arms",
           "D:\\Project-mpg microgesture\\smg\\split_files_64\\0027_125_09905-09969_4.mp4"
          ],
          [
           "Holding arms",
           "D:\\Project-mpg microgesture\\smg\\split_files_64\\0027_163_13068-13132_4.mp4"
          ],
          [
           "Holding arms",
           "D:\\Project-mpg microgesture\\smg\\split_files_64\\0027_164_13112-13176_4.mp4"
          ],
          [
           "Holding arms",
           "D:\\Project-mpg microgesture\\smg\\split_files_64\\0028_048_17468-17532_2.mp4"
          ],
          [
           "Holding arms",
           "D:\\Project-mpg microgesture\\smg\\split_files_64\\0029_018_07816-07880_8.mp4"
          ],
          [
           "Holding arms",
           "D:\\Project-mpg microgesture\\smg\\split_files_64\\0029_019_07880-07944_8.mp4"
          ],
          [
           "Holding arms",
           "D:\\Project-mpg microgesture\\smg\\split_files_64\\0029_020_08195-08259_8.mp4"
          ],
          [
           "Holding arms",
           "D:\\Project-mpg microgesture\\smg\\split_files_64\\0029_021_09127-09191_8.mp4"
          ],
          [
           "Holding arms",
           "D:\\Project-mpg microgesture\\smg\\split_files_64\\0029_022_09540-09604_8.mp4"
          ],
          [
           "Holding arms",
           "D:\\Project-mpg microgesture\\smg\\split_files_64\\0029_023_12799-12863_4.mp4"
          ],
          [
           "Holding arms",
           "D:\\Project-mpg microgesture\\smg\\split_files_64\\0029_024_12863-12927_4.mp4"
          ],
          [
           "Holding arms",
           "D:\\Project-mpg microgesture\\smg\\split_files_64\\0029_025_13394-13458_4.mp4"
          ]
         ],
         "hovertemplate": "label=%{customdata[0]}<br>umap1=%{x}<br>umap2=%{y}<br>file_paths=%{customdata[1]}<extra></extra>",
         "legendgroup": "Holding arms",
         "marker": {
          "color": "#FFA15A",
          "symbol": "circle"
         },
         "mode": "markers",
         "name": "Holding arms",
         "orientation": "v",
         "showlegend": true,
         "x": [
          15.281172752380371,
          15.27599048614502,
          14.579916954040527,
          14.614265441894531,
          14.559247970581055,
          14.573071479797363,
          14.848672866821289,
          14.752650260925293,
          14.71218204498291,
          15.204741477966309,
          15.210162162780762,
          14.793010711669922,
          14.218920707702637,
          14.233285903930664,
          14.256814002990723,
          13.230691909790039,
          15.26738452911377,
          14.501936912536621,
          14.98775863647461,
          14.936195373535156,
          14.747448921203613,
          14.765349388122559,
          15.89240550994873,
          14.735566139221191,
          13.350362777709961,
          14.686257362365723,
          14.696040153503418,
          13.326788902282715,
          13.14614200592041,
          13.691926956176758,
          14.291356086730957,
          14.177254676818848,
          14.200291633605957,
          14.261974334716797,
          13.31086254119873,
          14.178516387939453,
          14.06827449798584,
          14.506165504455566,
          14.671952247619629,
          14.036238670349121,
          13.953266143798828,
          13.929101943969727,
          14.056282997131348,
          13.150278091430664,
          14.317742347717285,
          13.694169998168945,
          14.269571304321289,
          14.32453441619873,
          11.943713188171387,
          12.90077018737793,
          14.208536148071289,
          14.07898998260498,
          14.03489875793457,
          14.397151947021484,
          14.615242958068848,
          14.449262619018555,
          14.686562538146973,
          14.070984840393066,
          13.886393547058105,
          14.035776138305664,
          13.871451377868652,
          13.844696044921875,
          11.947603225708008,
          13.970074653625488,
          13.683378219604492,
          13.677594184875488,
          11.957412719726562
         ],
         "xaxis": "x",
         "y": [
          5.681783676147461,
          5.684864521026611,
          6.055409908294678,
          6.259731769561768,
          6.082786560058594,
          6.075118541717529,
          6.179256916046143,
          6.187711238861084,
          6.3118109703063965,
          5.754849433898926,
          5.752674102783203,
          6.3556976318359375,
          5.982038974761963,
          5.973975658416748,
          6.018513202667236,
          -2.448345899581909,
          5.685991287231445,
          6.432851314544678,
          5.971418380737305,
          6.125312328338623,
          6.314084053039551,
          6.293615341186523,
          -1.2757073640823364,
          6.472960472106934,
          -1.5755391120910645,
          -4.383952617645264,
          6.429234027862549,
          -1.559251070022583,
          -2.5041489601135254,
          6.6711649894714355,
          6.838242530822754,
          6.837863445281982,
          6.939787864685059,
          6.829187870025635,
          -1.5273184776306152,
          6.912601947784424,
          2.7321488857269287,
          6.066788673400879,
          6.642164707183838,
          6.6630940437316895,
          -1.865561604499817,
          -1.8500864505767822,
          2.7375831604003906,
          -2.4927027225494385,
          6.745412349700928,
          6.680294513702393,
          6.943099021911621,
          6.810413360595703,
          -0.66732257604599,
          -1.286064624786377,
          6.975260257720947,
          7.002143383026123,
          2.7560079097747803,
          6.647475719451904,
          6.260405540466309,
          6.516748428344727,
          6.385622501373291,
          2.7210283279418945,
          6.6693620681762695,
          6.676789283752441,
          6.681626796722412,
          6.6403326988220215,
          -0.6435061693191528,
          6.613981246948242,
          6.667922019958496,
          6.666633129119873,
          -0.6725276112556458
         ],
         "yaxis": "y",
         "type": "scatter"
        },
        {
         "customdata": [
          [
           "Turtling neck",
           "D:\\Project-mpg microgesture\\smg\\split_files_64\\0002_029_13657-13721_0.mp4"
          ],
          [
           "Turtling neck",
           "D:\\Project-mpg microgesture\\smg\\split_files_64\\0002_030_13721-13785_0.mp4"
          ],
          [
           "Turtling neck",
           "D:\\Project-mpg microgesture\\smg\\split_files_64\\0002_031_14891-14955_0.mp4"
          ],
          [
           "Turtling neck",
           "D:\\Project-mpg microgesture\\smg\\split_files_64\\0002_035_23740-23804_0.mp4"
          ],
          [
           "Turtling neck",
           "D:\\Project-mpg microgesture\\smg\\split_files_64\\0002_036_24317-24381_13.mp4"
          ],
          [
           "Turtling neck",
           "D:\\Project-mpg microgesture\\smg\\split_files_64\\0002_038_25765-25829_7.mp4"
          ],
          [
           "Turtling neck",
           "D:\\Project-mpg microgesture\\smg\\split_files_64\\0003_003_01830-01894_7.mp4"
          ],
          [
           "Turtling neck",
           "D:\\Project-mpg microgesture\\smg\\split_files_64\\0003_006_05287-05351_8.mp4"
          ],
          [
           "Turtling neck",
           "D:\\Project-mpg microgesture\\smg\\split_files_64\\0003_008_05367-05431_8.mp4"
          ],
          [
           "Turtling neck",
           "D:\\Project-mpg microgesture\\smg\\split_files_64\\0008_124_21215-21279_8.mp4"
          ],
          [
           "Turtling neck",
           "D:\\Project-mpg microgesture\\smg\\split_files_64\\0008_132_22263-22327_8.mp4"
          ],
          [
           "Turtling neck",
           "D:\\Project-mpg microgesture\\smg\\split_files_64\\0008_151_23439-23503_7.mp4"
          ],
          [
           "Turtling neck",
           "D:\\Project-mpg microgesture\\smg\\split_files_64\\0008_152_23493-23557_7.mp4"
          ],
          [
           "Turtling neck",
           "D:\\Project-mpg microgesture\\smg\\split_files_64\\0009_023_09494-09558_1.mp4"
          ],
          [
           "Turtling neck",
           "D:\\Project-mpg microgesture\\smg\\split_files_64\\0010_012_02377-02441_8.mp4"
          ],
          [
           "Turtling neck",
           "D:\\Project-mpg microgesture\\smg\\split_files_64\\0010_028_03438-03502_8.mp4"
          ],
          [
           "Turtling neck",
           "D:\\Project-mpg microgesture\\smg\\split_files_64\\0011_024_14261-14325_2.mp4"
          ],
          [
           "Turtling neck",
           "D:\\Project-mpg microgesture\\smg\\split_files_64\\0011_036_20254-20318_2.mp4"
          ],
          [
           "Turtling neck",
           "D:\\Project-mpg microgesture\\smg\\split_files_64\\0012_017_11185-11249_7.mp4"
          ],
          [
           "Turtling neck",
           "D:\\Project-mpg microgesture\\smg\\split_files_64\\0012_025_13367-13431_4.mp4"
          ],
          [
           "Turtling neck",
           "D:\\Project-mpg microgesture\\smg\\split_files_64\\0012_027_15413-15477_9.mp4"
          ],
          [
           "Turtling neck",
           "D:\\Project-mpg microgesture\\smg\\split_files_64\\0013_117_14619-14683_8.mp4"
          ],
          [
           "Turtling neck",
           "D:\\Project-mpg microgesture\\smg\\split_files_64\\0014_011_09399-09463_7.mp4"
          ],
          [
           "Turtling neck",
           "D:\\Project-mpg microgesture\\smg\\split_files_64\\0015_172_18094-18158_16.mp4"
          ],
          [
           "Turtling neck",
           "D:\\Project-mpg microgesture\\smg\\split_files_64\\0015_248_24498-24562_8.mp4"
          ],
          [
           "Turtling neck",
           "D:\\Project-mpg microgesture\\smg\\split_files_64\\0016_021_03729-03793_7.mp4"
          ],
          [
           "Turtling neck",
           "D:\\Project-mpg microgesture\\smg\\split_files_64\\0019_088_24131-24195_2.mp4"
          ],
          [
           "Turtling neck",
           "D:\\Project-mpg microgesture\\smg\\split_files_64\\0021_025_06494-06558_4.mp4"
          ],
          [
           "Turtling neck",
           "D:\\Project-mpg microgesture\\smg\\split_files_64\\0021_044_13409-13473_4.mp4"
          ],
          [
           "Turtling neck",
           "D:\\Project-mpg microgesture\\smg\\split_files_64\\0021_068_21264-21328_4.mp4"
          ],
          [
           "Turtling neck",
           "D:\\Project-mpg microgesture\\smg\\split_files_64\\0026_132_23840-23904_8.mp4"
          ],
          [
           "Turtling neck",
           "D:\\Project-mpg microgesture\\smg\\split_files_64\\0026_134_23956-24020_6.mp4"
          ],
          [
           "Turtling neck",
           "D:\\Project-mpg microgesture\\smg\\split_files_64\\0026_148_26548-26612_11.mp4"
          ]
         ],
         "hovertemplate": "label=%{customdata[0]}<br>umap1=%{x}<br>umap2=%{y}<br>file_paths=%{customdata[1]}<extra></extra>",
         "legendgroup": "Turtling neck",
         "marker": {
          "color": "#19d3f3",
          "symbol": "circle"
         },
         "mode": "markers",
         "name": "Turtling neck",
         "orientation": "v",
         "showlegend": true,
         "x": [
          2.067429304122925,
          2.024341583251953,
          2.026838779449463,
          2.052708148956299,
          2.0263466835021973,
          2.0421946048736572,
          15.627192497253418,
          2.0557782649993896,
          2.0474724769592285,
          15.698834419250488,
          1.96729576587677,
          1.8393189907073975,
          1.8844813108444214,
          1.967610478401184,
          -2.9284379482269287,
          16.08710479736328,
          15.677267074584961,
          15.71786880493164,
          1.9610402584075928,
          1.8228931427001953,
          1.8264241218566895,
          2.0200753211975098,
          -1.103165626525879,
          2.1397716999053955,
          2.1336658000946045,
          -5.929527759552002,
          1.814082384109497,
          1.8951798677444458,
          11.729379653930664,
          2.109557867050171,
          2.1212241649627686,
          -7.898120880126953,
          1.8579039573669434
         ],
         "xaxis": "x",
         "y": [
          -6.002089023590088,
          -6.02352237701416,
          -5.960109233856201,
          -5.94003438949585,
          -6.060220241546631,
          -6.0352373123168945,
          5.356410026550293,
          -5.965084075927734,
          -5.969838619232178,
          5.299672603607178,
          -6.1434149742126465,
          -6.27995491027832,
          -6.224215507507324,
          -6.142663478851318,
          5.283504962921143,
          -2.2749316692352295,
          5.317818641662598,
          5.2798309326171875,
          -6.13007116317749,
          -6.300044059753418,
          -6.290857315063477,
          -6.05244255065918,
          9.246166229248047,
          -5.745900630950928,
          -5.767932415008545,
          1.6725832223892212,
          -6.235703945159912,
          -6.218404293060303,
          5.126086235046387,
          -5.830443859100342,
          -5.796715259552002,
          2.272899627685547,
          -6.211431980133057
         ],
         "yaxis": "y",
         "type": "scatter"
        },
        {
         "customdata": [
          [
           "Folding arms",
           "D:\\Project-mpg microgesture\\smg\\split_files_64\\0002_032_20126-20190_2.mp4"
          ],
          [
           "Folding arms",
           "D:\\Project-mpg microgesture\\smg\\split_files_64\\0003_005_05223-05287_7.mp4"
          ],
          [
           "Folding arms",
           "D:\\Project-mpg microgesture\\smg\\split_files_64\\0004_084_19358-19422_8.mp4"
          ],
          [
           "Folding arms",
           "D:\\Project-mpg microgesture\\smg\\split_files_64\\0004_143_24385-24449_11.mp4"
          ],
          [
           "Folding arms",
           "D:\\Project-mpg microgesture\\smg\\split_files_64\\0005_015_04941-05005_16.mp4"
          ],
          [
           "Folding arms",
           "D:\\Project-mpg microgesture\\smg\\split_files_64\\0008_110_17947-18011_11.mp4"
          ],
          [
           "Folding arms",
           "D:\\Project-mpg microgesture\\smg\\split_files_64\\0008_112_17977-18041_7.mp4"
          ],
          [
           "Folding arms",
           "D:\\Project-mpg microgesture\\smg\\split_files_64\\0010_083_12072-12136_11.mp4"
          ],
          [
           "Folding arms",
           "D:\\Project-mpg microgesture\\smg\\split_files_64\\0010_132_18663-18727_6.mp4"
          ],
          [
           "Folding arms",
           "D:\\Project-mpg microgesture\\smg\\split_files_64\\0010_142_19842-19906_11.mp4"
          ],
          [
           "Folding arms",
           "D:\\Project-mpg microgesture\\smg\\split_files_64\\0011_006_04727-04791_1.mp4"
          ],
          [
           "Folding arms",
           "D:\\Project-mpg microgesture\\smg\\split_files_64\\0012_023_12292-12356_2.mp4"
          ],
          [
           "Folding arms",
           "D:\\Project-mpg microgesture\\smg\\split_files_64\\0012_051_18870-18934_8.mp4"
          ],
          [
           "Folding arms",
           "D:\\Project-mpg microgesture\\smg\\split_files_64\\0013_000_00514-00578_8.mp4"
          ],
          [
           "Folding arms",
           "D:\\Project-mpg microgesture\\smg\\split_files_64\\0013_020_04101-04165_11.mp4"
          ],
          [
           "Folding arms",
           "D:\\Project-mpg microgesture\\smg\\split_files_64\\0013_043_05965-06029_8.mp4"
          ],
          [
           "Folding arms",
           "D:\\Project-mpg microgesture\\smg\\split_files_64\\0013_047_06242-06306_7.mp4"
          ],
          [
           "Folding arms",
           "D:\\Project-mpg microgesture\\smg\\split_files_64\\0013_100_13396-13460_12.mp4"
          ],
          [
           "Folding arms",
           "D:\\Project-mpg microgesture\\smg\\split_files_64\\0013_119_14670-14734_8.mp4"
          ],
          [
           "Folding arms",
           "D:\\Project-mpg microgesture\\smg\\split_files_64\\0013_125_14928-14992_8.mp4"
          ],
          [
           "Folding arms",
           "D:\\Project-mpg microgesture\\smg\\split_files_64\\0013_126_14987-15051_8.mp4"
          ],
          [
           "Folding arms",
           "D:\\Project-mpg microgesture\\smg\\split_files_64\\0013_128_15243-15307_7.mp4"
          ],
          [
           "Folding arms",
           "D:\\Project-mpg microgesture\\smg\\split_files_64\\0013_130_15441-15505_15.mp4"
          ],
          [
           "Folding arms",
           "D:\\Project-mpg microgesture\\smg\\split_files_64\\0013_133_15962-16026_4.mp4"
          ],
          [
           "Folding arms",
           "D:\\Project-mpg microgesture\\smg\\split_files_64\\0013_136_16420-16484_15.mp4"
          ],
          [
           "Folding arms",
           "D:\\Project-mpg microgesture\\smg\\split_files_64\\0013_140_16743-16807_8.mp4"
          ],
          [
           "Folding arms",
           "D:\\Project-mpg microgesture\\smg\\split_files_64\\0013_143_17184-17248_12.mp4"
          ],
          [
           "Folding arms",
           "D:\\Project-mpg microgesture\\smg\\split_files_64\\0013_146_17369-17433_8.mp4"
          ],
          [
           "Folding arms",
           "D:\\Project-mpg microgesture\\smg\\split_files_64\\0013_149_17549-17613_8.mp4"
          ],
          [
           "Folding arms",
           "D:\\Project-mpg microgesture\\smg\\split_files_64\\0013_151_17606-17670_8.mp4"
          ],
          [
           "Folding arms",
           "D:\\Project-mpg microgesture\\smg\\split_files_64\\0013_153_17687-17751_8.mp4"
          ],
          [
           "Folding arms",
           "D:\\Project-mpg microgesture\\smg\\split_files_64\\0013_156_17801-17865_8.mp4"
          ],
          [
           "Folding arms",
           "D:\\Project-mpg microgesture\\smg\\split_files_64\\0013_159_17941-18005_13.mp4"
          ],
          [
           "Folding arms",
           "D:\\Project-mpg microgesture\\smg\\split_files_64\\0013_162_18257-18321_2.mp4"
          ],
          [
           "Folding arms",
           "D:\\Project-mpg microgesture\\smg\\split_files_64\\0013_165_18830-18894_4.mp4"
          ],
          [
           "Folding arms",
           "D:\\Project-mpg microgesture\\smg\\split_files_64\\0013_167_18893-18957_8.mp4"
          ],
          [
           "Folding arms",
           "D:\\Project-mpg microgesture\\smg\\split_files_64\\0013_171_19200-19264_7.mp4"
          ],
          [
           "Folding arms",
           "D:\\Project-mpg microgesture\\smg\\split_files_64\\0013_174_19602-19666_8.mp4"
          ],
          [
           "Folding arms",
           "D:\\Project-mpg microgesture\\smg\\split_files_64\\0013_178_19943-20007_8.mp4"
          ],
          [
           "Folding arms",
           "D:\\Project-mpg microgesture\\smg\\split_files_64\\0013_193_21023-21087_7.mp4"
          ],
          [
           "Folding arms",
           "D:\\Project-mpg microgesture\\smg\\split_files_64\\0013_194_21087-21151_8.mp4"
          ],
          [
           "Folding arms",
           "D:\\Project-mpg microgesture\\smg\\split_files_64\\0013_203_22078-22142_12.mp4"
          ],
          [
           "Folding arms",
           "D:\\Project-mpg microgesture\\smg\\split_files_64\\0014_009_06789-06853_7.mp4"
          ],
          [
           "Folding arms",
           "D:\\Project-mpg microgesture\\smg\\split_files_64\\0014_022_21040-21104_7.mp4"
          ],
          [
           "Folding arms",
           "D:\\Project-mpg microgesture\\smg\\split_files_64\\0014_025_21995-22059_8.mp4"
          ],
          [
           "Folding arms",
           "D:\\Project-mpg microgesture\\smg\\split_files_64\\0015_091_09692-09756_8.mp4"
          ],
          [
           "Folding arms",
           "D:\\Project-mpg microgesture\\smg\\split_files_64\\0015_092_09756-09820_7.mp4"
          ],
          [
           "Folding arms",
           "D:\\Project-mpg microgesture\\smg\\split_files_64\\0015_114_13193-13257_8.mp4"
          ],
          [
           "Folding arms",
           "D:\\Project-mpg microgesture\\smg\\split_files_64\\0015_115_13257-13321_4.mp4"
          ],
          [
           "Folding arms",
           "D:\\Project-mpg microgesture\\smg\\split_files_64\\0015_208_20215-20279_4.mp4"
          ],
          [
           "Folding arms",
           "D:\\Project-mpg microgesture\\smg\\split_files_64\\0015_209_20437-20501_4.mp4"
          ],
          [
           "Folding arms",
           "D:\\Project-mpg microgesture\\smg\\split_files_64\\0015_237_23574-23638_8.mp4"
          ],
          [
           "Folding arms",
           "D:\\Project-mpg microgesture\\smg\\split_files_64\\0015_238_23638-23702_4.mp4"
          ],
          [
           "Folding arms",
           "D:\\Project-mpg microgesture\\smg\\split_files_64\\0019_020_05695-05759_13.mp4"
          ],
          [
           "Folding arms",
           "D:\\Project-mpg microgesture\\smg\\split_files_64\\0019_025_09300-09364_4.mp4"
          ],
          [
           "Folding arms",
           "D:\\Project-mpg microgesture\\smg\\split_files_64\\0019_037_12685-12749_2.mp4"
          ],
          [
           "Folding arms",
           "D:\\Project-mpg microgesture\\smg\\split_files_64\\0019_051_16928-16992_2.mp4"
          ],
          [
           "Folding arms",
           "D:\\Project-mpg microgesture\\smg\\split_files_64\\0019_068_21156-21220_4.mp4"
          ],
          [
           "Folding arms",
           "D:\\Project-mpg microgesture\\smg\\split_files_64\\0020_027_06056-06120_8.mp4"
          ],
          [
           "Folding arms",
           "D:\\Project-mpg microgesture\\smg\\split_files_64\\0020_030_06542-06606_11.mp4"
          ],
          [
           "Folding arms",
           "D:\\Project-mpg microgesture\\smg\\split_files_64\\0020_033_07035-07099_6.mp4"
          ],
          [
           "Folding arms",
           "D:\\Project-mpg microgesture\\smg\\split_files_64\\0020_037_10232-10296_4.mp4"
          ],
          [
           "Folding arms",
           "D:\\Project-mpg microgesture\\smg\\split_files_64\\0020_067_14904-14968_4.mp4"
          ],
          [
           "Folding arms",
           "D:\\Project-mpg microgesture\\smg\\split_files_64\\0020_079_15813-15877_4.mp4"
          ],
          [
           "Folding arms",
           "D:\\Project-mpg microgesture\\smg\\split_files_64\\0020_101_19544-19608_12.mp4"
          ],
          [
           "Folding arms",
           "D:\\Project-mpg microgesture\\smg\\split_files_64\\0022_002_01048-01112_4.mp4"
          ],
          [
           "Folding arms",
           "D:\\Project-mpg microgesture\\smg\\split_files_64\\0022_024_04158-04222_4.mp4"
          ],
          [
           "Folding arms",
           "D:\\Project-mpg microgesture\\smg\\split_files_64\\0022_027_04677-04741_4.mp4"
          ],
          [
           "Folding arms",
           "D:\\Project-mpg microgesture\\smg\\split_files_64\\0022_028_04916-04980_4.mp4"
          ],
          [
           "Folding arms",
           "D:\\Project-mpg microgesture\\smg\\split_files_64\\0022_044_07047-07111_4.mp4"
          ],
          [
           "Folding arms",
           "D:\\Project-mpg microgesture\\smg\\split_files_64\\0022_107_21378-21442_13.mp4"
          ],
          [
           "Folding arms",
           "D:\\Project-mpg microgesture\\smg\\split_files_64\\0022_133_24235-24299_12.mp4"
          ],
          [
           "Folding arms",
           "D:\\Project-mpg microgesture\\smg\\split_files_64\\0023_005_06628-06692_13.mp4"
          ],
          [
           "Folding arms",
           "D:\\Project-mpg microgesture\\smg\\split_files_64\\0024_001_01541-01605_4.mp4"
          ],
          [
           "Folding arms",
           "D:\\Project-mpg microgesture\\smg\\split_files_64\\0024_008_04476-04540_4.mp4"
          ],
          [
           "Folding arms",
           "D:\\Project-mpg microgesture\\smg\\split_files_64\\0024_011_05594-05658_4.mp4"
          ],
          [
           "Folding arms",
           "D:\\Project-mpg microgesture\\smg\\split_files_64\\0024_014_07142-07206_2.mp4"
          ],
          [
           "Folding arms",
           "D:\\Project-mpg microgesture\\smg\\split_files_64\\0024_017_07307-07371_8.mp4"
          ],
          [
           "Folding arms",
           "D:\\Project-mpg microgesture\\smg\\split_files_64\\0024_026_09600-09664_4.mp4"
          ],
          [
           "Folding arms",
           "D:\\Project-mpg microgesture\\smg\\split_files_64\\0024_042_15048-15112_4.mp4"
          ],
          [
           "Folding arms",
           "D:\\Project-mpg microgesture\\smg\\split_files_64\\0024_043_15058-15122_4.mp4"
          ],
          [
           "Folding arms",
           "D:\\Project-mpg microgesture\\smg\\split_files_64\\0024_046_15585-15649_4.mp4"
          ],
          [
           "Folding arms",
           "D:\\Project-mpg microgesture\\smg\\split_files_64\\0024_048_15724-15788_4.mp4"
          ],
          [
           "Folding arms",
           "D:\\Project-mpg microgesture\\smg\\split_files_64\\0024_052_16108-16172_4.mp4"
          ],
          [
           "Folding arms",
           "D:\\Project-mpg microgesture\\smg\\split_files_64\\0024_055_17334-17398_4.mp4"
          ],
          [
           "Folding arms",
           "D:\\Project-mpg microgesture\\smg\\split_files_64\\0024_057_17462-17526_5.mp4"
          ],
          [
           "Folding arms",
           "D:\\Project-mpg microgesture\\smg\\split_files_64\\0024_062_19022-19086_2.mp4"
          ],
          [
           "Folding arms",
           "D:\\Project-mpg microgesture\\smg\\split_files_64\\0024_065_19264-19328_5.mp4"
          ],
          [
           "Folding arms",
           "D:\\Project-mpg microgesture\\smg\\split_files_64\\0024_067_19450-19514_5.mp4"
          ],
          [
           "Folding arms",
           "D:\\Project-mpg microgesture\\smg\\split_files_64\\0024_069_19642-19706_5.mp4"
          ],
          [
           "Folding arms",
           "D:\\Project-mpg microgesture\\smg\\split_files_64\\0024_071_19770-19834_5.mp4"
          ],
          [
           "Folding arms",
           "D:\\Project-mpg microgesture\\smg\\split_files_64\\0024_076_20199-20263_5.mp4"
          ],
          [
           "Folding arms",
           "D:\\Project-mpg microgesture\\smg\\split_files_64\\0024_078_20710-20774_11.mp4"
          ],
          [
           "Folding arms",
           "D:\\Project-mpg microgesture\\smg\\split_files_64\\0025_007_07535-07599_4.mp4"
          ],
          [
           "Folding arms",
           "D:\\Project-mpg microgesture\\smg\\split_files_64\\0025_009_08354-08418_4.mp4"
          ],
          [
           "Folding arms",
           "D:\\Project-mpg microgesture\\smg\\split_files_64\\0025_011_10311-10375_4.mp4"
          ],
          [
           "Folding arms",
           "D:\\Project-mpg microgesture\\smg\\split_files_64\\0025_013_11627-11691_4.mp4"
          ],
          [
           "Folding arms",
           "D:\\Project-mpg microgesture\\smg\\split_files_64\\0025_019_13764-13828_4.mp4"
          ],
          [
           "Folding arms",
           "D:\\Project-mpg microgesture\\smg\\split_files_64\\0025_022_14520-14584_4.mp4"
          ],
          [
           "Folding arms",
           "D:\\Project-mpg microgesture\\smg\\split_files_64\\0026_138_25370-25434_4.mp4"
          ],
          [
           "Folding arms",
           "D:\\Project-mpg microgesture\\smg\\split_files_64\\0026_141_25933-25997_2.mp4"
          ],
          [
           "Folding arms",
           "D:\\Project-mpg microgesture\\smg\\split_files_64\\0026_155_27048-27112_5.mp4"
          ],
          [
           "Folding arms",
           "D:\\Project-mpg microgesture\\smg\\split_files_64\\0027_170_13441-13505_4.mp4"
          ],
          [
           "Folding arms",
           "D:\\Project-mpg microgesture\\smg\\split_files_64\\0027_197_15216-15280_8.mp4"
          ],
          [
           "Folding arms",
           "D:\\Project-mpg microgesture\\smg\\split_files_64\\0027_203_16170-16234_4.mp4"
          ],
          [
           "Folding arms",
           "D:\\Project-mpg microgesture\\smg\\split_files_64\\0027_208_16368-16432_4.mp4"
          ],
          [
           "Folding arms",
           "D:\\Project-mpg microgesture\\smg\\split_files_64\\0027_224_19663-19727_8.mp4"
          ],
          [
           "Folding arms",
           "D:\\Project-mpg microgesture\\smg\\split_files_64\\0027_225_19732-19796_8.mp4"
          ],
          [
           "Folding arms",
           "D:\\Project-mpg microgesture\\smg\\split_files_64\\0027_246_21259-21323_11.mp4"
          ],
          [
           "Folding arms",
           "D:\\Project-mpg microgesture\\smg\\split_files_64\\0027_277_23897-23961_1.mp4"
          ],
          [
           "Folding arms",
           "D:\\Project-mpg microgesture\\smg\\split_files_64\\0029_031_14495-14559_8.mp4"
          ],
          [
           "Folding arms",
           "D:\\Project-mpg microgesture\\smg\\split_files_64\\0029_033_14692-14756_8.mp4"
          ],
          [
           "Folding arms",
           "D:\\Project-mpg microgesture\\smg\\split_files_64\\0029_037_15066-15130_8.mp4"
          ],
          [
           "Folding arms",
           "D:\\Project-mpg microgesture\\smg\\split_files_64\\0029_048_16861-16925_8.mp4"
          ],
          [
           "Folding arms",
           "D:\\Project-mpg microgesture\\smg\\split_files_64\\0029_058_18849-18913_8.mp4"
          ],
          [
           "Folding arms",
           "D:\\Project-mpg microgesture\\smg\\split_files_64\\0030_021_05603-05667_11.mp4"
          ],
          [
           "Folding arms",
           "D:\\Project-mpg microgesture\\smg\\split_files_64\\0030_056_11577-11641_4.mp4"
          ],
          [
           "Folding arms",
           "D:\\Project-mpg microgesture\\smg\\split_files_64\\0030_075_19619-19683_8.mp4"
          ],
          [
           "Folding arms",
           "D:\\Project-mpg microgesture\\smg\\split_files_64\\0031_020_04890-04954_4.mp4"
          ],
          [
           "Folding arms",
           "D:\\Project-mpg microgesture\\smg\\split_files_64\\0031_057_11224-11288_4.mp4"
          ],
          [
           "Folding arms",
           "D:\\Project-mpg microgesture\\smg\\split_files_64\\0031_114_17330-17394_4.mp4"
          ],
          [
           "Folding arms",
           null
          ],
          [
           "Folding arms",
           null
          ],
          [
           "Folding arms",
           null
          ],
          [
           "Folding arms",
           null
          ],
          [
           "Folding arms",
           null
          ],
          [
           "Folding arms",
           null
          ],
          [
           "Folding arms",
           null
          ],
          [
           "Folding arms",
           null
          ],
          [
           "Folding arms",
           null
          ],
          [
           "Folding arms",
           null
          ],
          [
           "Folding arms",
           null
          ],
          [
           "Folding arms",
           null
          ],
          [
           "Folding arms",
           null
          ],
          [
           "Folding arms",
           null
          ],
          [
           "Folding arms",
           null
          ],
          [
           "Folding arms",
           null
          ],
          [
           "Folding arms",
           null
          ]
         ],
         "hovertemplate": "label=%{customdata[0]}<br>umap1=%{x}<br>umap2=%{y}<br>file_paths=%{customdata[1]}<extra></extra>",
         "legendgroup": "Folding arms",
         "marker": {
          "color": "#FF6692",
          "symbol": "circle"
         },
         "mode": "markers",
         "name": "Folding arms",
         "orientation": "v",
         "showlegend": true,
         "x": [
          -3.795693874359131,
          -3.078814744949341,
          -4.326303005218506,
          -4.394166946411133,
          -4.3437886238098145,
          -5.028337478637695,
          -3.9649274349212646,
          1.4297899007797241,
          -3.953450918197632,
          -2.9996278285980225,
          -4.112332820892334,
          -4.262847423553467,
          -2.9537391662597656,
          -4.108333587646484,
          -3.8712306022644043,
          -4.29203462600708,
          -4.017427444458008,
          -4.162524223327637,
          -4.526214122772217,
          -5.55372428894043,
          -6.139281749725342,
          -6.156857490539551,
          -6.16286039352417,
          -3.027191400527954,
          -6.1255106925964355,
          -4.114442825317383,
          -3.00919246673584,
          -6.176699638366699,
          -2.97800612449646,
          -5.872804164886475,
          -6.125634670257568,
          -4.123537063598633,
          -6.169731140136719,
          -6.02309513092041,
          -6.088807106018066,
          -4.086904048919678,
          -4.59733247756958,
          -5.684962749481201,
          -6.344207286834717,
          -6.527373790740967,
          -1.1846330165863037,
          -5.762275695800781,
          -5.157046318054199,
          -5.253785133361816,
          -5.596297264099121,
          -4.592446327209473,
          -1.2169426679611206,
          -4.652169704437256,
          -4.9858622550964355,
          -6.466441631317139,
          -1.2143185138702393,
          -6.471564292907715,
          -4.663720607757568,
          -5.385319232940674,
          -5.608802795410156,
          -5.673795223236084,
          -5.621744155883789,
          -6.554781436920166,
          -6.554832458496094,
          -6.518885135650635,
          -5.610907554626465,
          -5.661270618438721,
          -5.245723724365234,
          -6.438930034637451,
          -6.422360897064209,
          -6.171179294586182,
          -5.339858055114746,
          -6.1275529861450195,
          -1.2155344486236572,
          -5.5680460929870605,
          -6.469503879547119,
          -4.891895294189453,
          -5.188666820526123,
          -5.601613521575928,
          -5.148096561431885,
          -5.640157699584961,
          -5.903076648712158,
          -6.2408952713012695,
          -6.20005989074707,
          -6.306955814361572,
          -5.3789567947387695,
          -6.360775470733643,
          -6.387263774871826,
          -5.8589091300964355,
          -6.235620021820068,
          -6.4526286125183105,
          -6.286072254180908,
          -6.323517799377441,
          -6.3511481285095215,
          -6.209549903869629,
          -6.192894458770752,
          -6.2852678298950195,
          -6.112801551818848,
          -6.267675399780273,
          -6.423828125,
          -6.373953819274902,
          -5.857669353485107,
          -6.3590006828308105,
          -6.32171630859375,
          -6.531654357910156,
          -5.569421291351318,
          -5.143651008605957,
          -5.396013259887695,
          -5.527782917022705,
          -5.899853229522705,
          -5.417879581451416,
          -4.939157962799072,
          -5.539272785186768,
          -5.455134391784668,
          -5.611240863800049,
          -5.939534664154053,
          -5.939600944519043,
          -6.163040637969971,
          -5.865155220031738,
          -5.852056503295898,
          -5.291325092315674,
          -4.528832912445068,
          -6.032342433929443,
          -5.466313362121582,
          -5.272643089294434,
          -5.239558696746826,
          -5.436518669128418,
          -5.806234359741211,
          -6.369651794433594,
          -5.985186576843262,
          -5.116962432861328,
          -4.6702799797058105,
          -5.283801555633545,
          -5.054778575897217,
          -5.825146675109863,
          -4.935501575469971,
          -5.832472801208496,
          -6.118278503417969,
          -5.062882423400879,
          -4.963900566101074,
          -5.113520622253418,
          -6.341659069061279,
          -4.895832061767578
         ],
         "xaxis": "x",
         "y": [
          4.411928653717041,
          5.053777694702148,
          4.769528865814209,
          4.884606838226318,
          4.613301753997803,
          3.7584004402160645,
          4.255881309509277,
          5.931431293487549,
          4.2669148445129395,
          5.183104038238525,
          4.20057487487793,
          4.137511730194092,
          4.968817710876465,
          4.226468563079834,
          4.338315963745117,
          4.196421146392822,
          4.241537094116211,
          4.190893173217773,
          4.151814937591553,
          4.866021156311035,
          5.972489833831787,
          5.981781482696533,
          6.00244665145874,
          5.1295671463012695,
          5.958897590637207,
          4.177433490753174,
          5.147951602935791,
          5.892287731170654,
          4.9846510887146,
          5.560108661651611,
          5.99044132232666,
          4.192652225494385,
          5.9814605712890625,
          5.924461841583252,
          5.916958808898926,
          4.2040324211120605,
          4.16090202331543,
          4.578789710998535,
          2.6369259357452393,
          2.7776501178741455,
          9.116207122802734,
          4.643935680389404,
          4.380472183227539,
          3.9736762046813965,
          4.482851982116699,
          4.24141788482666,
          9.048803329467773,
          4.239381790161133,
          4.291467189788818,
          2.769859552383423,
          9.055387496948242,
          2.80629563331604,
          4.2896270751953125,
          3.8233907222747803,
          5.665613651275635,
          5.577962398529053,
          5.62774658203125,
          2.8086440563201904,
          2.764498233795166,
          2.8273181915283203,
          5.653849124908447,
          5.693747043609619,
          3.917501926422119,
          3.792201042175293,
          2.7875587940216064,
          2.95727801322937,
          4.53887939453125,
          2.930795431137085,
          9.047836303710938,
          3.944425344467163,
          2.813861608505249,
          3.859647274017334,
          3.7659122943878174,
          3.5094285011291504,
          3.768153667449951,
          5.6224517822265625,
          4.4451398849487305,
          4.207396984100342,
          4.088467597961426,
          3.242157220840454,
          4.25120735168457,
          3.9677271842956543,
          2.888557195663452,
          4.448986053466797,
          4.202764987945557,
          2.7953035831451416,
          4.156289100646973,
          4.124307155609131,
          4.07700777053833,
          4.182610034942627,
          4.174670219421387,
          4.185682773590088,
          4.2410149574279785,
          4.080783843994141,
          2.708336353302002,
          2.999850273132324,
          4.49617338180542,
          2.662189245223999,
          3.9455995559692383,
          2.795536756515503,
          4.3144001960754395,
          4.28655481338501,
          4.659860610961914,
          4.7023539543151855,
          3.626746654510498,
          4.51482629776001,
          4.320611000061035,
          4.129634857177734,
          4.648651123046875,
          4.529947757720947,
          4.945613861083984,
          4.828852653503418,
          4.606804847717285,
          5.113323211669922,
          5.207111835479736,
          3.448394775390625,
          4.319516658782959,
          4.840265274047852,
          3.9063708782196045,
          3.8391664028167725,
          3.5835323333740234,
          3.900449275970459,
          3.999673366546631,
          4.005326271057129,
          4.028276443481445,
          4.134586811065674,
          4.206425189971924,
          4.346933841705322,
          4.153576850891113,
          3.1377599239349365,
          3.920403003692627,
          4.050467014312744,
          2.955085515975952,
          3.696627140045166,
          3.9122679233551025,
          4.149476051330566,
          4.008917808532715,
          3.9357221126556396
         ],
         "yaxis": "y",
         "type": "scatter"
        },
        {
         "customdata": [
          [
           "Arms behind",
           "D:\\Project-mpg microgesture\\smg\\split_files_64\\0003_032_24017-24081_13.mp4"
          ],
          [
           "Arms behind",
           "D:\\Project-mpg microgesture\\smg\\split_files_64\\0008_034_06500-06564_8.mp4"
          ],
          [
           "Arms behind",
           "D:\\Project-mpg microgesture\\smg\\split_files_64\\0008_042_06932-06996_8.mp4"
          ],
          [
           "Arms behind",
           "D:\\Project-mpg microgesture\\smg\\split_files_64\\0008_051_08177-08241_0.mp4"
          ],
          [
           "Arms behind",
           "D:\\Project-mpg microgesture\\smg\\split_files_64\\0008_064_11997-12061_8.mp4"
          ],
          [
           "Arms behind",
           "D:\\Project-mpg microgesture\\smg\\split_files_64\\0008_093_13921-13985_8.mp4"
          ],
          [
           "Arms behind",
           "D:\\Project-mpg microgesture\\smg\\split_files_64\\0010_070_10833-10897_8.mp4"
          ],
          [
           "Arms behind",
           "D:\\Project-mpg microgesture\\smg\\split_files_64\\0010_088_12385-12449_8.mp4"
          ],
          [
           "Arms behind",
           "D:\\Project-mpg microgesture\\smg\\split_files_64\\0010_138_19190-19254_6.mp4"
          ],
          [
           "Arms behind",
           "D:\\Project-mpg microgesture\\smg\\split_files_64\\0012_021_11541-11605_7.mp4"
          ],
          [
           "Arms behind",
           "D:\\Project-mpg microgesture\\smg\\split_files_64\\0012_022_11605-11669_2.mp4"
          ],
          [
           "Arms behind",
           "D:\\Project-mpg microgesture\\smg\\split_files_64\\0013_001_01821-01885_8.mp4"
          ],
          [
           "Arms behind",
           "D:\\Project-mpg microgesture\\smg\\split_files_64\\0013_005_02614-02678_8.mp4"
          ],
          [
           "Arms behind",
           "D:\\Project-mpg microgesture\\smg\\split_files_64\\0013_007_02721-02785_8.mp4"
          ],
          [
           "Arms behind",
           "D:\\Project-mpg microgesture\\smg\\split_files_64\\0013_011_03199-03263_8.mp4"
          ],
          [
           "Arms behind",
           "D:\\Project-mpg microgesture\\smg\\split_files_64\\0013_013_03350-03414_8.mp4"
          ],
          [
           "Arms behind",
           "D:\\Project-mpg microgesture\\smg\\split_files_64\\0013_014_03414-03478_8.mp4"
          ],
          [
           "Arms behind",
           "D:\\Project-mpg microgesture\\smg\\split_files_64\\0013_016_03508-03572_8.mp4"
          ],
          [
           "Arms behind",
           "D:\\Project-mpg microgesture\\smg\\split_files_64\\0013_025_04650-04714_10.mp4"
          ],
          [
           "Arms behind",
           "D:\\Project-mpg microgesture\\smg\\split_files_64\\0013_027_04778-04842_8.mp4"
          ],
          [
           "Arms behind",
           "D:\\Project-mpg microgesture\\smg\\split_files_64\\0013_042_05917-05981_8.mp4"
          ],
          [
           "Arms behind",
           "D:\\Project-mpg microgesture\\smg\\split_files_64\\0013_052_07051-07115_2.mp4"
          ],
          [
           "Arms behind",
           "D:\\Project-mpg microgesture\\smg\\split_files_64\\0013_061_09065-09129_11.mp4"
          ],
          [
           "Arms behind",
           "D:\\Project-mpg microgesture\\smg\\split_files_64\\0013_064_09311-09375_12.mp4"
          ],
          [
           "Arms behind",
           "D:\\Project-mpg microgesture\\smg\\split_files_64\\0013_067_10046-10110_2.mp4"
          ],
          [
           "Arms behind",
           "D:\\Project-mpg microgesture\\smg\\split_files_64\\0013_068_10110-10174_4.mp4"
          ],
          [
           "Arms behind",
           "D:\\Project-mpg microgesture\\smg\\split_files_64\\0013_073_11184-11248_8.mp4"
          ],
          [
           "Arms behind",
           "D:\\Project-mpg microgesture\\smg\\split_files_64\\0013_079_11570-11634_8.mp4"
          ],
          [
           "Arms behind",
           "D:\\Project-mpg microgesture\\smg\\split_files_64\\0013_089_12274-12338_8.mp4"
          ],
          [
           "Arms behind",
           "D:\\Project-mpg microgesture\\smg\\split_files_64\\0013_092_12418-12482_8.mp4"
          ],
          [
           "Arms behind",
           "D:\\Project-mpg microgesture\\smg\\split_files_64\\0013_099_13241-13305_8.mp4"
          ],
          [
           "Arms behind",
           "D:\\Project-mpg microgesture\\smg\\split_files_64\\0013_109_14055-14119_8.mp4"
          ],
          [
           "Arms behind",
           "D:\\Project-mpg microgesture\\smg\\split_files_64\\0013_110_14119-14183_8.mp4"
          ],
          [
           "Arms behind",
           "D:\\Project-mpg microgesture\\smg\\split_files_64\\0013_112_14219-14283_8.mp4"
          ],
          [
           "Arms behind",
           "D:\\Project-mpg microgesture\\smg\\split_files_64\\0013_118_14613-14677_8.mp4"
          ],
          [
           "Arms behind",
           "D:\\Project-mpg microgesture\\smg\\split_files_64\\0016_028_04549-04613_2.mp4"
          ],
          [
           "Arms behind",
           "D:\\Project-mpg microgesture\\smg\\split_files_64\\0017_008_03314-03378_15.mp4"
          ],
          [
           "Arms behind",
           "D:\\Project-mpg microgesture\\smg\\split_files_64\\0017_060_07434-07498_4.mp4"
          ],
          [
           "Arms behind",
           "D:\\Project-mpg microgesture\\smg\\split_files_64\\0022_071_13898-13962_4.mp4"
          ],
          [
           "Arms behind",
           "D:\\Project-mpg microgesture\\smg\\split_files_64\\0022_073_14926-14990_4.mp4"
          ],
          [
           "Arms behind",
           "D:\\Project-mpg microgesture\\smg\\split_files_64\\0022_083_18321-18385_4.mp4"
          ],
          [
           "Arms behind",
           "D:\\Project-mpg microgesture\\smg\\split_files_64\\0022_087_18934-18998_6.mp4"
          ],
          [
           "Arms behind",
           "D:\\Project-mpg microgesture\\smg\\split_files_64\\0022_091_19375-19439_12.mp4"
          ],
          [
           "Arms behind",
           "D:\\Project-mpg microgesture\\smg\\split_files_64\\0022_098_20060-20124_13.mp4"
          ],
          [
           "Arms behind",
           "D:\\Project-mpg microgesture\\smg\\split_files_64\\0022_102_20590-20654_7.mp4"
          ],
          [
           "Arms behind",
           "D:\\Project-mpg microgesture\\smg\\split_files_64\\0022_113_21865-21929_8.mp4"
          ],
          [
           "Arms behind",
           "D:\\Project-mpg microgesture\\smg\\split_files_64\\0022_125_23132-23196_4.mp4"
          ],
          [
           "Arms behind",
           "D:\\Project-mpg microgesture\\smg\\split_files_64\\0022_127_23511-23575_4.mp4"
          ],
          [
           "Arms behind",
           "D:\\Project-mpg microgesture\\smg\\split_files_64\\0022_134_24573-24637_4.mp4"
          ],
          [
           "Arms behind",
           "D:\\Project-mpg microgesture\\smg\\split_files_64\\0023_009_07425-07489_11.mp4"
          ],
          [
           "Arms behind",
           "D:\\Project-mpg microgesture\\smg\\split_files_64\\0023_015_10828-10892_4.mp4"
          ],
          [
           "Arms behind",
           "D:\\Project-mpg microgesture\\smg\\split_files_64\\0023_020_16762-16826_6.mp4"
          ],
          [
           "Arms behind",
           "D:\\Project-mpg microgesture\\smg\\split_files_64\\0024_003_01647-01711_4.mp4"
          ],
          [
           "Arms behind",
           "D:\\Project-mpg microgesture\\smg\\split_files_64\\0024_007_04412-04476_4.mp4"
          ],
          [
           "Arms behind",
           "D:\\Project-mpg microgesture\\smg\\split_files_64\\0025_042_28292-28356_4.mp4"
          ],
          [
           "Arms behind",
           "D:\\Project-mpg microgesture\\smg\\split_files_64\\0026_010_03227-03291_4.mp4"
          ],
          [
           "Arms behind",
           "D:\\Project-mpg microgesture\\smg\\split_files_64\\0026_029_09488-09552_4.mp4"
          ],
          [
           "Arms behind",
           "D:\\Project-mpg microgesture\\smg\\split_files_64\\0026_078_15415-15479_6.mp4"
          ],
          [
           "Arms behind",
           "D:\\Project-mpg microgesture\\smg\\split_files_64\\0027_088_08035-08099_11.mp4"
          ],
          [
           "Arms behind",
           "D:\\Project-mpg microgesture\\smg\\split_files_64\\0027_105_08935-08999_4.mp4"
          ],
          [
           "Arms behind",
           "D:\\Project-mpg microgesture\\smg\\split_files_64\\0027_159_12866-12930_4.mp4"
          ],
          [
           "Arms behind",
           "D:\\Project-mpg microgesture\\smg\\split_files_64\\0027_161_12967-13031_4.mp4"
          ],
          [
           "Arms behind",
           "D:\\Project-mpg microgesture\\smg\\split_files_64\\0027_172_13535-13599_4.mp4"
          ],
          [
           "Arms behind",
           "D:\\Project-mpg microgesture\\smg\\split_files_64\\0027_179_13847-13911_4.mp4"
          ],
          [
           "Arms behind",
           "D:\\Project-mpg microgesture\\smg\\split_files_64\\0027_181_13969-14033_8.mp4"
          ],
          [
           "Arms behind",
           "D:\\Project-mpg microgesture\\smg\\split_files_64\\0027_221_19248-19312_8.mp4"
          ],
          [
           "Arms behind",
           "D:\\Project-mpg microgesture\\smg\\split_files_64\\0027_222_19481-19545_8.mp4"
          ],
          [
           "Arms behind",
           "D:\\Project-mpg microgesture\\smg\\split_files_64\\0027_223_19545-19609_8.mp4"
          ],
          [
           "Arms behind",
           "D:\\Project-mpg microgesture\\smg\\split_files_64\\0028_024_06470-06534_12.mp4"
          ],
          [
           "Arms behind",
           "D:\\Project-mpg microgesture\\smg\\split_files_64\\0029_000_00990-01054_8.mp4"
          ],
          [
           "Arms behind",
           "D:\\Project-mpg microgesture\\smg\\split_files_64\\0029_016_07112-07176_8.mp4"
          ],
          [
           "Arms behind",
           "D:\\Project-mpg microgesture\\smg\\split_files_64\\0029_059_18992-19056_8.mp4"
          ],
          [
           "Arms behind",
           "D:\\Project-mpg microgesture\\smg\\split_files_64\\0029_072_21970-22034_8.mp4"
          ],
          [
           "Arms behind",
           "D:\\Project-mpg microgesture\\smg\\split_files_64\\0029_075_22108-22172_11.mp4"
          ],
          [
           "Arms behind",
           "D:\\Project-mpg microgesture\\smg\\split_files_64\\0029_078_22928-22992_11.mp4"
          ],
          [
           "Arms behind",
           "D:\\Project-mpg microgesture\\smg\\split_files_64\\0030_001_02110-02174_4.mp4"
          ],
          [
           "Arms behind",
           "D:\\Project-mpg microgesture\\smg\\split_files_64\\0030_019_05538-05602_8.mp4"
          ],
          [
           "Arms behind",
           "D:\\Project-mpg microgesture\\smg\\split_files_64\\0030_034_08437-08501_8.mp4"
          ],
          [
           "Arms behind",
           "D:\\Project-mpg microgesture\\smg\\split_files_64\\0030_037_08994-09058_8.mp4"
          ],
          [
           "Arms behind",
           "D:\\Project-mpg microgesture\\smg\\split_files_64\\0030_048_09523-09587_8.mp4"
          ],
          [
           "Arms behind",
           "D:\\Project-mpg microgesture\\smg\\split_files_64\\0030_076_19686-19750_8.mp4"
          ],
          [
           "Arms behind",
           "D:\\Project-mpg microgesture\\smg\\split_files_64\\0031_001_01245-01309_4.mp4"
          ]
         ],
         "hovertemplate": "label=%{customdata[0]}<br>umap1=%{x}<br>umap2=%{y}<br>file_paths=%{customdata[1]}<extra></extra>",
         "legendgroup": "Arms behind",
         "marker": {
          "color": "#B6E880",
          "symbol": "circle"
         },
         "mode": "markers",
         "name": "Arms behind",
         "orientation": "v",
         "showlegend": true,
         "x": [
          9.325285911560059,
          15.882367134094238,
          10.377361297607422,
          15.545989036560059,
          10.358084678649902,
          10.725883483886719,
          10.58375072479248,
          11.128418922424316,
          11.264992713928223,
          10.392333030700684,
          10.158726692199707,
          10.524694442749023,
          10.29741382598877,
          10.281688690185547,
          10.262391090393066,
          10.222886085510254,
          10.217613220214844,
          10.450655937194824,
          10.18786334991455,
          10.409493446350098,
          10.786197662353516,
          10.454208374023438,
          10.726693153381348,
          10.299445152282715,
          10.277859687805176,
          10.351204872131348,
          10.211130142211914,
          10.394639015197754,
          10.353400230407715,
          10.27433967590332,
          10.314728736877441,
          10.339040756225586,
          10.370591163635254,
          10.476398468017578,
          10.302716255187988,
          11.351140022277832,
          11.213969230651855,
          10.848694801330566,
          11.047933578491211,
          11.138306617736816,
          11.102316856384277,
          10.942924499511719,
          11.022941589355469,
          11.239749908447266,
          10.732243537902832,
          10.718897819519043,
          10.50223159790039,
          11.140405654907227,
          11.157882690429688,
          11.045645713806152,
          11.196735382080078,
          11.103789329528809,
          11.024669647216797,
          11.183459281921387,
          11.281499862670898,
          10.817696571350098,
          10.27314567565918,
          11.168416023254395,
          11.126740455627441,
          10.367284774780273,
          10.38142204284668,
          11.196395874023438,
          10.745630264282227,
          10.62431812286377,
          10.48230266571045,
          11.008594512939453,
          10.90749740600586,
          10.809845924377441,
          11.413143157958984,
          11.545748710632324,
          13.609994888305664,
          11.429047584533691,
          11.545245170593262,
          11.558433532714844,
          11.521979331970215,
          11.499320983886719,
          11.470178604125977,
          11.23086929321289,
          11.306352615356445,
          10.817994117736816,
          11.226292610168457,
          10.965605735778809
         ],
         "xaxis": "x",
         "y": [
          12.35744857788086,
          -1.2952038049697876,
          14.51348876953125,
          -2.761021137237549,
          13.946881294250488,
          14.796045303344727,
          14.433820724487305,
          14.465900421142578,
          14.577910423278809,
          15.080556869506836,
          14.815629959106445,
          14.672463417053223,
          14.21579360961914,
          15.282085418701172,
          15.026111602783203,
          14.93529987335205,
          14.943180084228516,
          15.093377113342285,
          14.987553596496582,
          15.058273315429688,
          14.436924934387207,
          14.782615661621094,
          15.135948181152344,
          13.963637351989746,
          14.570459365844727,
          15.36301040649414,
          15.047240257263184,
          15.04401969909668,
          15.190223693847656,
          14.57241153717041,
          15.137662887573242,
          14.760489463806152,
          15.129463195800781,
          15.118412971496582,
          15.274754524230957,
          15.037154197692871,
          15.085381507873535,
          15.273252487182617,
          14.546244621276855,
          14.423505783081055,
          14.524981498718262,
          15.039778709411621,
          14.505779266357422,
          14.57176399230957,
          14.089229583740234,
          14.15239143371582,
          14.120952606201172,
          14.419412612915039,
          14.254873275756836,
          14.727778434753418,
          14.41368293762207,
          14.373464584350586,
          14.390429496765137,
          14.403079986572266,
          14.399331092834473,
          14.232837677001953,
          13.881857872009277,
          14.260018348693848,
          14.615577697753906,
          13.959661483764648,
          14.26822566986084,
          14.268633842468262,
          14.13917064666748,
          14.102997779846191,
          14.18794059753418,
          15.197331428527832,
          15.294355392456055,
          14.982796669006348,
          14.603487968444824,
          14.732633590698242,
          6.534336090087891,
          14.565515518188477,
          14.702046394348145,
          14.70567512512207,
          14.6526517868042,
          14.70118522644043,
          14.661998748779297,
          14.438436508178711,
          14.445117950439453,
          15.249398231506348,
          14.377912521362305,
          14.200366020202637
         ],
         "yaxis": "y",
         "type": "scatter"
        },
        {
         "customdata": [
          [
           "Playing wobjects",
           "D:\\Project-mpg microgesture\\smg\\split_files_64\\0004_066_13618-13682_11.mp4"
          ],
          [
           "Playing wobjects",
           "D:\\Project-mpg microgesture\\smg\\split_files_64\\0004_153_25114-25178_11.mp4"
          ],
          [
           "Playing wobjects",
           "D:\\Project-mpg microgesture\\smg\\split_files_64\\0008_089_13665-13729_8.mp4"
          ],
          [
           "Playing wobjects",
           "D:\\Project-mpg microgesture\\smg\\split_files_64\\0008_090_13729-13793_8.mp4"
          ],
          [
           "Playing wobjects",
           "D:\\Project-mpg microgesture\\smg\\split_files_64\\0015_207_20151-20215_4.mp4"
          ],
          [
           "Playing wobjects",
           "D:\\Project-mpg microgesture\\smg\\split_files_64\\0015_211_20564-20628_4.mp4"
          ],
          [
           "Playing wobjects",
           "D:\\Project-mpg microgesture\\smg\\split_files_64\\0015_212_20600-20664_4.mp4"
          ],
          [
           "Playing wobjects",
           "D:\\Project-mpg microgesture\\smg\\split_files_64\\0020_083_15984-16048_4.mp4"
          ],
          [
           "Playing wobjects",
           "D:\\Project-mpg microgesture\\smg\\split_files_64\\0020_084_16034-16098_4.mp4"
          ],
          [
           "Playing wobjects",
           "D:\\Project-mpg microgesture\\smg\\split_files_64\\0020_085_16071-16135_4.mp4"
          ],
          [
           "Playing wobjects",
           "D:\\Project-mpg microgesture\\smg\\split_files_64\\0020_086_16103-16167_4.mp4"
          ],
          [
           "Playing wobjects",
           "D:\\Project-mpg microgesture\\smg\\split_files_64\\0020_087_16132-16196_4.mp4"
          ],
          [
           "Playing wobjects",
           "D:\\Project-mpg microgesture\\smg\\split_files_64\\0020_096_18264-18328_4.mp4"
          ],
          [
           "Playing wobjects",
           "D:\\Project-mpg microgesture\\smg\\split_files_64\\0020_097_18300-18364_4.mp4"
          ],
          [
           "Playing wobjects",
           "D:\\Project-mpg microgesture\\smg\\split_files_64\\0020_098_18341-18405_4.mp4"
          ],
          [
           "Playing wobjects",
           "D:\\Project-mpg microgesture\\smg\\split_files_64\\0021_063_19806-19870_4.mp4"
          ],
          [
           "Playing wobjects",
           "D:\\Project-mpg microgesture\\smg\\split_files_64\\0021_072_23683-23747_9.mp4"
          ],
          [
           "Playing wobjects",
           "D:\\Project-mpg microgesture\\smg\\split_files_64\\0021_073_23747-23811_4.mp4"
          ],
          [
           "Playing wobjects",
           "D:\\Project-mpg microgesture\\smg\\split_files_64\\0029_011_04155-04219_8.mp4"
          ],
          [
           "Playing wobjects",
           "D:\\Project-mpg microgesture\\smg\\split_files_64\\0029_012_04976-05040_8.mp4"
          ],
          [
           "Playing wobjects",
           "D:\\Project-mpg microgesture\\smg\\split_files_64\\0029_028_14274-14338_8.mp4"
          ],
          [
           "Playing wobjects",
           "D:\\Project-mpg microgesture\\smg\\split_files_64\\0029_029_14338-14402_11.mp4"
          ],
          [
           "Playing wobjects",
           "D:\\Project-mpg microgesture\\smg\\split_files_64\\0029_030_14391-14455_11.mp4"
          ],
          [
           "Playing wobjects",
           null
          ]
         ],
         "hovertemplate": "label=%{customdata[0]}<br>umap1=%{x}<br>umap2=%{y}<br>file_paths=%{customdata[1]}<extra></extra>",
         "legendgroup": "Playing wobjects",
         "marker": {
          "color": "#FF97FF",
          "symbol": "circle"
         },
         "mode": "markers",
         "name": "Playing wobjects",
         "orientation": "v",
         "showlegend": true,
         "x": [
          14.194534301757812,
          1.2844696044921875,
          12.075873374938965,
          12.04137897491455,
          13.337369918823242,
          -4.711202621459961,
          -5.055858135223389,
          11.903138160705566,
          11.995339393615723,
          12.064974784851074,
          11.955766677856445,
          11.798282623291016,
          12.147046089172363,
          11.897695541381836,
          11.855291366577148,
          12.087538719177246,
          12.099785804748535,
          12.058062553405762,
          11.856755256652832,
          12.201327323913574,
          -5.759093761444092,
          11.870586395263672,
          12.125964164733887,
          12.130367279052734
         ],
         "xaxis": "x",
         "y": [
          5.940454959869385,
          7.116443634033203,
          5.636350631713867,
          5.642486095428467,
          6.009490013122559,
          4.247615814208984,
          4.2009735107421875,
          5.428955078125,
          5.587825775146484,
          5.622439861297607,
          5.570775508880615,
          5.332173824310303,
          5.64175271987915,
          5.495744228363037,
          5.433794021606445,
          5.6287126541137695,
          5.739524841308594,
          5.643279075622559,
          5.451580047607422,
          5.752400875091553,
          1.4043141603469849,
          5.469854831695557,
          5.674957275390625,
          5.780763149261475
         ],
         "yaxis": "y",
         "type": "scatter"
        },
        {
         "customdata": [
          [
           "Hand gestures",
           "D:\\Project-mpg microgesture\\smg\\split_files_64\\0005_050_11021-11085_16.mp4"
          ],
          [
           "Hand gestures",
           "D:\\Project-mpg microgesture\\smg\\split_files_64\\0005_054_11691-11755_11.mp4"
          ],
          [
           "Hand gestures",
           "D:\\Project-mpg microgesture\\smg\\split_files_64\\0005_068_14225-14289_16.mp4"
          ],
          [
           "Hand gestures",
           "D:\\Project-mpg microgesture\\smg\\split_files_64\\0005_092_18476-18540_4.mp4"
          ],
          [
           "Hand gestures",
           "D:\\Project-mpg microgesture\\smg\\split_files_64\\0005_114_21218-21282_16.mp4"
          ],
          [
           "Hand gestures",
           "D:\\Project-mpg microgesture\\smg\\split_files_64\\0005_129_23431-23495_16.mp4"
          ],
          [
           "Hand gestures",
           "D:\\Project-mpg microgesture\\smg\\split_files_64\\0005_138_24670-24734_16.mp4"
          ],
          [
           "Hand gestures",
           "D:\\Project-mpg microgesture\\smg\\split_files_64\\0006_006_01056-01120_11.mp4"
          ],
          [
           "Hand gestures",
           "D:\\Project-mpg microgesture\\smg\\split_files_64\\0006_021_08649-08713_7.mp4"
          ],
          [
           "Hand gestures",
           "D:\\Project-mpg microgesture\\smg\\split_files_64\\0006_025_08859-08923_1.mp4"
          ],
          [
           "Hand gestures",
           "D:\\Project-mpg microgesture\\smg\\split_files_64\\0006_042_12150-12214_4.mp4"
          ],
          [
           "Hand gestures",
           "D:\\Project-mpg microgesture\\smg\\split_files_64\\0006_053_14179-14243_16.mp4"
          ],
          [
           "Hand gestures",
           "D:\\Project-mpg microgesture\\smg\\split_files_64\\0006_058_16705-16769_7.mp4"
          ],
          [
           "Hand gestures",
           "D:\\Project-mpg microgesture\\smg\\split_files_64\\0006_064_17464-17528_8.mp4"
          ],
          [
           "Hand gestures",
           "D:\\Project-mpg microgesture\\smg\\split_files_64\\0006_070_18037-18101_13.mp4"
          ],
          [
           "Hand gestures",
           "D:\\Project-mpg microgesture\\smg\\split_files_64\\0006_082_20330-20394_7.mp4"
          ],
          [
           "Hand gestures",
           "D:\\Project-mpg microgesture\\smg\\split_files_64\\0006_086_21049-21113_8.mp4"
          ],
          [
           "Hand gestures",
           "D:\\Project-mpg microgesture\\smg\\split_files_64\\0007_003_15233-15297_2.mp4"
          ],
          [
           "Hand gestures",
           "D:\\Project-mpg microgesture\\smg\\split_files_64\\0008_002_01007-01071_7.mp4"
          ],
          [
           "Hand gestures",
           "D:\\Project-mpg microgesture\\smg\\split_files_64\\0008_013_04554-04618_0.mp4"
          ],
          [
           "Hand gestures",
           "D:\\Project-mpg microgesture\\smg\\split_files_64\\0008_028_06144-06208_8.mp4"
          ],
          [
           "Hand gestures",
           "D:\\Project-mpg microgesture\\smg\\split_files_64\\0008_076_12879-12943_8.mp4"
          ],
          [
           "Hand gestures",
           "D:\\Project-mpg microgesture\\smg\\split_files_64\\0008_077_12947-13011_8.mp4"
          ],
          [
           "Hand gestures",
           "D:\\Project-mpg microgesture\\smg\\split_files_64\\0017_089_11876-11940_15.mp4"
          ],
          [
           "Hand gestures",
           "D:\\Project-mpg microgesture\\smg\\split_files_64\\0019_043_15549-15613_8.mp4"
          ]
         ],
         "hovertemplate": "label=%{customdata[0]}<br>umap1=%{x}<br>umap2=%{y}<br>file_paths=%{customdata[1]}<extra></extra>",
         "legendgroup": "Hand gestures",
         "marker": {
          "color": "#FECB52",
          "symbol": "circle"
         },
         "mode": "markers",
         "name": "Hand gestures",
         "orientation": "v",
         "showlegend": true,
         "x": [
          7.486783504486084,
          7.430944442749023,
          7.673274517059326,
          7.510802268981934,
          7.680898189544678,
          7.494064807891846,
          7.479823112487793,
          7.505478858947754,
          7.999853610992432,
          7.459339141845703,
          7.8517165184021,
          8.013298034667969,
          7.9759345054626465,
          7.503899574279785,
          7.661615371704102,
          7.621824741363525,
          7.7257280349731445,
          7.537722587585449,
          8.01756477355957,
          7.481662750244141,
          7.545085906982422,
          7.469296455383301,
          7.479454517364502,
          7.50749397277832,
          7.457711696624756
         ],
         "xaxis": "x",
         "y": [
          4.095859050750732,
          4.2714457511901855,
          3.8556599617004395,
          4.384659290313721,
          3.8645529747009277,
          4.202957630157471,
          4.1784234046936035,
          4.305606842041016,
          4.1687445640563965,
          4.208779335021973,
          4.044407844543457,
          4.1826934814453125,
          4.119855880737305,
          4.141005992889404,
          3.8944458961486816,
          3.797377347946167,
          3.9009761810302734,
          4.1400017738342285,
          4.177658557891846,
          4.134603500366211,
          4.186070442199707,
          4.275796890258789,
          4.207603454589844,
          8.0152587890625,
          4.762603759765625
         ],
         "yaxis": "y",
         "type": "scatter"
        },
        {
         "customdata": [
          [
           "Adjusting hair",
           "D:\\Project-mpg microgesture\\smg\\split_files_64\\0008_038_06754-06818_8.mp4"
          ],
          [
           "Adjusting hair",
           "D:\\Project-mpg microgesture\\smg\\split_files_64\\0008_078_13007-13071_8.mp4"
          ],
          [
           "Adjusting hair",
           "D:\\Project-mpg microgesture\\smg\\split_files_64\\0008_079_13071-13135_8.mp4"
          ],
          [
           "Adjusting hair",
           "D:\\Project-mpg microgesture\\smg\\split_files_64\\0008_102_14603-14667_8.mp4"
          ],
          [
           "Adjusting hair",
           "D:\\Project-mpg microgesture\\smg\\split_files_64\\0008_116_20399-20463_8.mp4"
          ],
          [
           "Adjusting hair",
           "D:\\Project-mpg microgesture\\smg\\split_files_64\\0010_097_13670-13734_6.mp4"
          ],
          [
           "Adjusting hair",
           "D:\\Project-mpg microgesture\\smg\\split_files_64\\0015_110_12634-12698_4.mp4"
          ],
          [
           "Adjusting hair",
           "D:\\Project-mpg microgesture\\smg\\split_files_64\\0015_112_12910-12974_4.mp4"
          ],
          [
           "Adjusting hair",
           "D:\\Project-mpg microgesture\\smg\\split_files_64\\0015_162_17196-17260_4.mp4"
          ],
          [
           "Adjusting hair",
           "D:\\Project-mpg microgesture\\smg\\split_files_64\\0015_217_20862-20926_4.mp4"
          ],
          [
           "Adjusting hair",
           "D:\\Project-mpg microgesture\\smg\\split_files_64\\0015_218_20926-20990_4.mp4"
          ],
          [
           "Adjusting hair",
           "D:\\Project-mpg microgesture\\smg\\split_files_64\\0016_004_00942-01006_11.mp4"
          ],
          [
           "Adjusting hair",
           "D:\\Project-mpg microgesture\\smg\\split_files_64\\0016_005_01312-01376_11.mp4"
          ],
          [
           "Adjusting hair",
           "D:\\Project-mpg microgesture\\smg\\split_files_64\\0016_093_18693-18757_4.mp4"
          ],
          [
           "Adjusting hair",
           "D:\\Project-mpg microgesture\\smg\\split_files_64\\0018_036_08620-08684_6.mp4"
          ],
          [
           "Adjusting hair",
           "D:\\Project-mpg microgesture\\smg\\split_files_64\\0022_108_21589-21653_4.mp4"
          ],
          [
           "Adjusting hair",
           "D:\\Project-mpg microgesture\\smg\\split_files_64\\0022_111_21766-21830_7.mp4"
          ],
          [
           "Adjusting hair",
           "D:\\Project-mpg microgesture\\smg\\split_files_64\\0022_112_21830-21894_8.mp4"
          ],
          [
           "Adjusting hair",
           "D:\\Project-mpg microgesture\\smg\\split_files_64\\0024_027_09852-09916_4.mp4"
          ],
          [
           "Adjusting hair",
           "D:\\Project-mpg microgesture\\smg\\split_files_64\\0026_084_16428-16492_4.mp4"
          ],
          [
           "Adjusting hair",
           "D:\\Project-mpg microgesture\\smg\\split_files_64\\0026_139_25528-25592_4.mp4"
          ],
          [
           "Adjusting hair",
           "D:\\Project-mpg microgesture\\smg\\split_files_64\\0027_010_02474-02538_7.mp4"
          ],
          [
           "Adjusting hair",
           "D:\\Project-mpg microgesture\\smg\\split_files_64\\0027_019_03241-03305_4.mp4"
          ],
          [
           "Adjusting hair",
           "D:\\Project-mpg microgesture\\smg\\split_files_64\\0027_103_08854-08918_4.mp4"
          ],
          [
           "Adjusting hair",
           "D:\\Project-mpg microgesture\\smg\\split_files_64\\0027_109_09095-09159_4.mp4"
          ],
          [
           "Adjusting hair",
           "D:\\Project-mpg microgesture\\smg\\split_files_64\\0027_151_12299-12363_4.mp4"
          ],
          [
           "Adjusting hair",
           "D:\\Project-mpg microgesture\\smg\\split_files_64\\0028_025_06534-06598_12.mp4"
          ],
          [
           "Adjusting hair",
           "D:\\Project-mpg microgesture\\smg\\split_files_64\\0028_026_06596-06660_12.mp4"
          ],
          [
           "Adjusting hair",
           "D:\\Project-mpg microgesture\\smg\\split_files_64\\0031_090_14654-14718_4.mp4"
          ],
          [
           "Adjusting hair",
           "D:\\Project-mpg microgesture\\smg\\split_files_64\\0031_091_14744-14808_4.mp4"
          ],
          [
           "Adjusting hair",
           "D:\\Project-mpg microgesture\\smg\\split_files_64\\0031_092_14808-14872_8.mp4"
          ],
          [
           "Adjusting hair",
           "D:\\Project-mpg microgesture\\smg\\split_files_64\\0031_093_14856-14920_8.mp4"
          ],
          [
           "Adjusting hair",
           null
          ],
          [
           "Adjusting hair",
           null
          ],
          [
           "Adjusting hair",
           null
          ],
          [
           "Adjusting hair",
           null
          ],
          [
           "Adjusting hair",
           null
          ],
          [
           "Adjusting hair",
           null
          ],
          [
           "Adjusting hair",
           null
          ],
          [
           "Adjusting hair",
           null
          ],
          [
           "Adjusting hair",
           null
          ],
          [
           "Adjusting hair",
           null
          ]
         ],
         "hovertemplate": "label=%{customdata[0]}<br>umap1=%{x}<br>umap2=%{y}<br>file_paths=%{customdata[1]}<extra></extra>",
         "legendgroup": "Adjusting hair",
         "marker": {
          "color": "#636efa",
          "symbol": "circle"
         },
         "mode": "markers",
         "name": "Adjusting hair",
         "orientation": "v",
         "showlegend": true,
         "x": [
          6.2831292152404785,
          6.443652629852295,
          7.263416767120361,
          6.5178751945495605,
          6.354279518127441,
          6.224385738372803,
          7.53095817565918,
          6.154688835144043,
          6.373161315917969,
          6.158580303192139,
          6.166905403137207,
          6.371200084686279,
          6.0714616775512695,
          5.841186046600342,
          5.455984592437744,
          -4.396887302398682,
          2.9077510833740234,
          14.403285026550293,
          -5.767525672912598,
          5.707103252410889,
          5.599804401397705,
          11.721940040588379,
          6.496307373046875,
          6.324813365936279,
          6.4076032638549805,
          10.875726699829102,
          6.286824703216553,
          10.226751327514648,
          6.181182384490967,
          7.431093692779541,
          6.3247833251953125,
          6.34261417388916,
          6.064037322998047,
          7.51900577545166,
          7.437554359436035,
          7.4934186935424805,
          7.311523914337158,
          6.33726692199707,
          7.439541816711426,
          6.025729656219482,
          6.378933429718018,
          6.096920013427734
         ],
         "xaxis": "x",
         "y": [
          7.790095806121826,
          7.698035717010498,
          5.689086437225342,
          7.491278171539307,
          7.763516426086426,
          8.207348823547363,
          8.052762031555176,
          8.155479431152344,
          7.616713523864746,
          7.953098297119141,
          8.081206321716309,
          7.690916061401367,
          7.965407848358154,
          7.866989612579346,
          8.158337593078613,
          6.396546363830566,
          9.242165565490723,
          -3.4825642108917236,
          1.4200718402862549,
          8.038881301879883,
          8.084691047668457,
          -0.4984040856361389,
          7.482063293457031,
          7.736083030700684,
          7.521660804748535,
          0.15436333417892456,
          7.7523393630981445,
          13.856528282165527,
          7.868322372436523,
          7.961481094360352,
          7.687313556671143,
          7.620133876800537,
          7.9759087562561035,
          8.04301929473877,
          7.969241142272949,
          8.012160301208496,
          7.8970513343811035,
          7.6550140380859375,
          7.969326019287109,
          7.9714531898498535,
          7.618946552276611,
          7.93493127822876
         ],
         "yaxis": "y",
         "type": "scatter"
        },
        {
         "customdata": [
          [
           "Scratching neck",
           "D:\\Project-mpg microgesture\\smg\\split_files_64\\0013_062_09123-09187_8.mp4"
          ],
          [
           "Scratching neck",
           "D:\\Project-mpg microgesture\\smg\\split_files_64\\0025_026_17709-17773_7.mp4"
          ],
          [
           "Scratching neck",
           "D:\\Project-mpg microgesture\\smg\\split_files_64\\0026_026_08343-08407_4.mp4"
          ],
          [
           "Scratching neck",
           "D:\\Project-mpg microgesture\\smg\\split_files_64\\0027_206_16321-16385_4.mp4"
          ],
          [
           "Scratching neck",
           "D:\\Project-mpg microgesture\\smg\\split_files_64\\0027_207_16385-16449_4.mp4"
          ],
          [
           "Scratching neck",
           "D:\\Project-mpg microgesture\\smg\\split_files_64\\0027_219_19120-19184_9.mp4"
          ],
          [
           "Scratching neck",
           "D:\\Project-mpg microgesture\\smg\\split_files_64\\0027_220_19184-19248_8.mp4"
          ],
          [
           "Scratching neck",
           "D:\\Project-mpg microgesture\\smg\\split_files_64\\0027_240_20731-20795_4.mp4"
          ],
          [
           "Scratching neck",
           "D:\\Project-mpg microgesture\\smg\\split_files_64\\0027_241_20794-20858_4.mp4"
          ],
          [
           "Scratching neck",
           "D:\\Project-mpg microgesture\\smg\\split_files_64\\0027_249_21451-21515_11.mp4"
          ],
          [
           "Scratching neck",
           "D:\\Project-mpg microgesture\\smg\\split_files_64\\0027_250_21601-21665_11.mp4"
          ],
          [
           "Scratching neck",
           "D:\\Project-mpg microgesture\\smg\\split_files_64\\0027_251_21665-21729_4.mp4"
          ],
          [
           "Scratching neck",
           "D:\\Project-mpg microgesture\\smg\\split_files_64\\0027_252_21686-21750_4.mp4"
          ],
          [
           "Scratching neck",
           "D:\\Project-mpg microgesture\\smg\\split_files_64\\0027_253_21750-21814_4.mp4"
          ],
          [
           "Scratching neck",
           "D:\\Project-mpg microgesture\\smg\\split_files_64\\0027_254_21872-21936_4.mp4"
          ],
          [
           "Scratching neck",
           "D:\\Project-mpg microgesture\\smg\\split_files_64\\0027_255_22312-22376_4.mp4"
          ],
          [
           "Scratching neck",
           "D:\\Project-mpg microgesture\\smg\\split_files_64\\0027_256_22376-22440_4.mp4"
          ],
          [
           "Scratching neck",
           "D:\\Project-mpg microgesture\\smg\\split_files_64\\0027_258_22492-22556_7.mp4"
          ],
          [
           "Scratching neck",
           "D:\\Project-mpg microgesture\\smg\\split_files_64\\0027_259_22556-22620_7.mp4"
          ],
          [
           "Scratching neck",
           "D:\\Project-mpg microgesture\\smg\\split_files_64\\0027_261_22733-22797_7.mp4"
          ],
          [
           "Scratching neck",
           "D:\\Project-mpg microgesture\\smg\\split_files_64\\0030_026_05937-06001_11.mp4"
          ],
          [
           "Scratching neck",
           "D:\\Project-mpg microgesture\\smg\\split_files_64\\0030_070_19190-19254_8.mp4"
          ],
          [
           "Scratching neck",
           "D:\\Project-mpg microgesture\\smg\\split_files_64\\0030_071_19254-19318_8.mp4"
          ],
          [
           "Scratching neck",
           null
          ],
          [
           "Scratching neck",
           null
          ],
          [
           "Scratching neck",
           null
          ]
         ],
         "hovertemplate": "label=%{customdata[0]}<br>umap1=%{x}<br>umap2=%{y}<br>file_paths=%{customdata[1]}<extra></extra>",
         "legendgroup": "Scratching neck",
         "marker": {
          "color": "#EF553B",
          "symbol": "circle"
         },
         "mode": "markers",
         "name": "Scratching neck",
         "orientation": "v",
         "showlegend": true,
         "x": [
          6.238499164581299,
          6.195752143859863,
          -2.594970226287842,
          -0.7630408406257629,
          -2.1464061737060547,
          7.504382610321045,
          6.202690124511719,
          -2.135141611099243,
          -2.11814284324646,
          -2.1426637172698975,
          -0.9636240601539612,
          -2.0502519607543945,
          -0.974644660949707,
          -0.9842495322227478,
          -0.9292470216751099,
          -2.13806414604187,
          -2.0563158988952637,
          -2.1032192707061768,
          -2.1140646934509277,
          -2.1322269439697266,
          -1.0253467559814453,
          -2.1456074714660645,
          -2.1334173679351807,
          -2.6114792823791504,
          -2.1964809894561768,
          1.3151757717132568
         ],
         "xaxis": "x",
         "y": [
          8.058652877807617,
          7.173779010772705,
          9.499678611755371,
          9.739258766174316,
          9.988218307495117,
          8.07480525970459,
          7.037084579467773,
          9.94691276550293,
          9.995638847351074,
          9.903847694396973,
          9.442179679870605,
          10.106976509094238,
          9.4972562789917,
          9.48765754699707,
          9.670313835144043,
          9.814335823059082,
          9.856338500976562,
          10.185728073120117,
          9.906378746032715,
          10.02714729309082,
          9.381000518798828,
          10.234583854675293,
          10.220165252685547,
          9.488874435424805,
          9.798165321350098,
          10.497489929199219
         ],
         "yaxis": "y",
         "type": "scatter"
        },
        {
         "customdata": [
          [
           "Crossing legs",
           "D:\\Project-mpg microgesture\\smg\\split_files_64\\0013_198_21274-21338_7.mp4"
          ],
          [
           "Crossing legs",
           "D:\\Project-mpg microgesture\\smg\\split_files_64\\0022_121_22626-22690_4.mp4"
          ],
          [
           "Crossing legs",
           "D:\\Project-mpg microgesture\\smg\\split_files_64\\0023_003_06502-06566_6.mp4"
          ],
          [
           "Crossing legs",
           "D:\\Project-mpg microgesture\\smg\\split_files_64\\0023_007_07297-07361_11.mp4"
          ],
          [
           "Crossing legs",
           "D:\\Project-mpg microgesture\\smg\\split_files_64\\0023_022_21300-21364_6.mp4"
          ],
          [
           "Crossing legs",
           "D:\\Project-mpg microgesture\\smg\\split_files_64\\0024_000_01477-01541_4.mp4"
          ],
          [
           "Crossing legs",
           "D:\\Project-mpg microgesture\\smg\\split_files_64\\0024_004_02346-02410_4.mp4"
          ],
          [
           "Crossing legs",
           "D:\\Project-mpg microgesture\\smg\\split_files_64\\0026_127_22942-23006_4.mp4"
          ],
          [
           "Crossing legs",
           "D:\\Project-mpg microgesture\\smg\\split_files_64\\0026_128_23085-23149_4.mp4"
          ],
          [
           "Crossing legs",
           "D:\\Project-mpg microgesture\\smg\\split_files_64\\0026_129_23529-23593_4.mp4"
          ],
          [
           "Crossing legs",
           "D:\\Project-mpg microgesture\\smg\\split_files_64\\0026_163_28280-28344_8.mp4"
          ],
          [
           "Crossing legs",
           "D:\\Project-mpg microgesture\\smg\\split_files_64\\0027_005_01613-01677_7.mp4"
          ],
          [
           "Crossing legs",
           null
          ],
          [
           "Crossing legs",
           null
          ]
         ],
         "hovertemplate": "label=%{customdata[0]}<br>umap1=%{x}<br>umap2=%{y}<br>file_paths=%{customdata[1]}<extra></extra>",
         "legendgroup": "Crossing legs",
         "marker": {
          "color": "#00cc96",
          "symbol": "circle"
         },
         "mode": "markers",
         "name": "Crossing legs",
         "orientation": "v",
         "showlegend": true,
         "x": [
          -8.046004295349121,
          -7.896750450134277,
          -7.801416397094727,
          -7.955136775970459,
          -7.732367515563965,
          -7.884450912475586,
          -7.926639556884766,
          -8.067493438720703,
          -7.959212303161621,
          -8.013792991638184,
          -7.411467552185059,
          -7.938130855560303,
          -7.958172798156738,
          -8.002323150634766
         ],
         "xaxis": "x",
         "y": [
          2.008729934692383,
          2.109801769256592,
          2.1418418884277344,
          2.0448005199432373,
          2.2526912689208984,
          2.126707077026367,
          2.0559241771698,
          2.10737681388855,
          2.2406606674194336,
          2.135260820388794,
          2.3972089290618896,
          2.216428518295288,
          2.2383289337158203,
          2.196265697479248
         ],
         "yaxis": "y",
         "type": "scatter"
        },
        {
         "customdata": [
          [
           "Scratching body",
           "D:\\Project-mpg microgesture\\smg\\split_files_64\\0015_043_05401-05465_4.mp4"
          ],
          [
           "Scratching body",
           "D:\\Project-mpg microgesture\\smg\\split_files_64\\0017_025_05332-05396_2.mp4"
          ],
          [
           "Scratching body",
           "D:\\Project-mpg microgesture\\smg\\split_files_64\\0021_057_17862-17926_4.mp4"
          ],
          [
           "Scratching body",
           "D:\\Project-mpg microgesture\\smg\\split_files_64\\0021_058_18980-19044_4.mp4"
          ]
         ],
         "hovertemplate": "label=%{customdata[0]}<br>umap1=%{x}<br>umap2=%{y}<br>file_paths=%{customdata[1]}<extra></extra>",
         "legendgroup": "Scratching body",
         "marker": {
          "color": "#ab63fa",
          "symbol": "circle"
         },
         "mode": "markers",
         "name": "Scratching body",
         "orientation": "v",
         "showlegend": true,
         "x": [
          13.868721008300781,
          13.379255294799805,
          11.716127395629883,
          11.70159912109375
         ],
         "xaxis": "x",
         "y": [
          2.813711643218994,
          2.787858486175537,
          5.098529815673828,
          5.088177680969238
         ],
         "yaxis": "y",
         "type": "scatter"
        },
        {
         "customdata": [
          [
           "Touching chest",
           "D:\\Project-mpg microgesture\\smg\\split_files_64\\0017_013_03609-03673_8.mp4"
          ],
          [
           "Touching chest",
           "D:\\Project-mpg microgesture\\smg\\split_files_64\\0017_042_06379-06443_7.mp4"
          ],
          [
           "Touching chest",
           "D:\\Project-mpg microgesture\\smg\\split_files_64\\0017_113_20306-20370_4.mp4"
          ],
          [
           "Touching chest",
           "D:\\Project-mpg microgesture\\smg\\split_files_64\\0018_069_14937-15001_7.mp4"
          ],
          [
           "Touching chest",
           "D:\\Project-mpg microgesture\\smg\\split_files_64\\0018_071_15337-15401_7.mp4"
          ],
          [
           "Touching chest",
           "D:\\Project-mpg microgesture\\smg\\split_files_64\\0018_091_20618-20682_9.mp4"
          ]
         ],
         "hovertemplate": "label=%{customdata[0]}<br>umap1=%{x}<br>umap2=%{y}<br>file_paths=%{customdata[1]}<extra></extra>",
         "legendgroup": "Touching chest",
         "marker": {
          "color": "#FFA15A",
          "symbol": "circle"
         },
         "mode": "markers",
         "name": "Touching chest",
         "orientation": "v",
         "showlegend": true,
         "x": [
          12.952153205871582,
          12.943197250366211,
          12.955824851989746,
          12.922998428344727,
          12.934718132019043,
          12.940176010131836
         ],
         "xaxis": "x",
         "y": [
          2.3018882274627686,
          2.2931926250457764,
          2.306530714035034,
          2.271294355392456,
          2.2829699516296387,
          2.2892541885375977
         ],
         "yaxis": "y",
         "type": "scatter"
        }
       ],
       "layout": {
        "template": {
         "data": {
          "histogram2dcontour": [
           {
            "type": "histogram2dcontour",
            "colorbar": {
             "outlinewidth": 0,
             "ticks": ""
            },
            "colorscale": [
             [
              0.0,
              "#0d0887"
             ],
             [
              0.1111111111111111,
              "#46039f"
             ],
             [
              0.2222222222222222,
              "#7201a8"
             ],
             [
              0.3333333333333333,
              "#9c179e"
             ],
             [
              0.4444444444444444,
              "#bd3786"
             ],
             [
              0.5555555555555556,
              "#d8576b"
             ],
             [
              0.6666666666666666,
              "#ed7953"
             ],
             [
              0.7777777777777778,
              "#fb9f3a"
             ],
             [
              0.8888888888888888,
              "#fdca26"
             ],
             [
              1.0,
              "#f0f921"
             ]
            ]
           }
          ],
          "choropleth": [
           {
            "type": "choropleth",
            "colorbar": {
             "outlinewidth": 0,
             "ticks": ""
            }
           }
          ],
          "histogram2d": [
           {
            "type": "histogram2d",
            "colorbar": {
             "outlinewidth": 0,
             "ticks": ""
            },
            "colorscale": [
             [
              0.0,
              "#0d0887"
             ],
             [
              0.1111111111111111,
              "#46039f"
             ],
             [
              0.2222222222222222,
              "#7201a8"
             ],
             [
              0.3333333333333333,
              "#9c179e"
             ],
             [
              0.4444444444444444,
              "#bd3786"
             ],
             [
              0.5555555555555556,
              "#d8576b"
             ],
             [
              0.6666666666666666,
              "#ed7953"
             ],
             [
              0.7777777777777778,
              "#fb9f3a"
             ],
             [
              0.8888888888888888,
              "#fdca26"
             ],
             [
              1.0,
              "#f0f921"
             ]
            ]
           }
          ],
          "heatmap": [
           {
            "type": "heatmap",
            "colorbar": {
             "outlinewidth": 0,
             "ticks": ""
            },
            "colorscale": [
             [
              0.0,
              "#0d0887"
             ],
             [
              0.1111111111111111,
              "#46039f"
             ],
             [
              0.2222222222222222,
              "#7201a8"
             ],
             [
              0.3333333333333333,
              "#9c179e"
             ],
             [
              0.4444444444444444,
              "#bd3786"
             ],
             [
              0.5555555555555556,
              "#d8576b"
             ],
             [
              0.6666666666666666,
              "#ed7953"
             ],
             [
              0.7777777777777778,
              "#fb9f3a"
             ],
             [
              0.8888888888888888,
              "#fdca26"
             ],
             [
              1.0,
              "#f0f921"
             ]
            ]
           }
          ],
          "heatmapgl": [
           {
            "type": "heatmapgl",
            "colorbar": {
             "outlinewidth": 0,
             "ticks": ""
            },
            "colorscale": [
             [
              0.0,
              "#0d0887"
             ],
             [
              0.1111111111111111,
              "#46039f"
             ],
             [
              0.2222222222222222,
              "#7201a8"
             ],
             [
              0.3333333333333333,
              "#9c179e"
             ],
             [
              0.4444444444444444,
              "#bd3786"
             ],
             [
              0.5555555555555556,
              "#d8576b"
             ],
             [
              0.6666666666666666,
              "#ed7953"
             ],
             [
              0.7777777777777778,
              "#fb9f3a"
             ],
             [
              0.8888888888888888,
              "#fdca26"
             ],
             [
              1.0,
              "#f0f921"
             ]
            ]
           }
          ],
          "contourcarpet": [
           {
            "type": "contourcarpet",
            "colorbar": {
             "outlinewidth": 0,
             "ticks": ""
            }
           }
          ],
          "contour": [
           {
            "type": "contour",
            "colorbar": {
             "outlinewidth": 0,
             "ticks": ""
            },
            "colorscale": [
             [
              0.0,
              "#0d0887"
             ],
             [
              0.1111111111111111,
              "#46039f"
             ],
             [
              0.2222222222222222,
              "#7201a8"
             ],
             [
              0.3333333333333333,
              "#9c179e"
             ],
             [
              0.4444444444444444,
              "#bd3786"
             ],
             [
              0.5555555555555556,
              "#d8576b"
             ],
             [
              0.6666666666666666,
              "#ed7953"
             ],
             [
              0.7777777777777778,
              "#fb9f3a"
             ],
             [
              0.8888888888888888,
              "#fdca26"
             ],
             [
              1.0,
              "#f0f921"
             ]
            ]
           }
          ],
          "surface": [
           {
            "type": "surface",
            "colorbar": {
             "outlinewidth": 0,
             "ticks": ""
            },
            "colorscale": [
             [
              0.0,
              "#0d0887"
             ],
             [
              0.1111111111111111,
              "#46039f"
             ],
             [
              0.2222222222222222,
              "#7201a8"
             ],
             [
              0.3333333333333333,
              "#9c179e"
             ],
             [
              0.4444444444444444,
              "#bd3786"
             ],
             [
              0.5555555555555556,
              "#d8576b"
             ],
             [
              0.6666666666666666,
              "#ed7953"
             ],
             [
              0.7777777777777778,
              "#fb9f3a"
             ],
             [
              0.8888888888888888,
              "#fdca26"
             ],
             [
              1.0,
              "#f0f921"
             ]
            ]
           }
          ],
          "mesh3d": [
           {
            "type": "mesh3d",
            "colorbar": {
             "outlinewidth": 0,
             "ticks": ""
            }
           }
          ],
          "scatter": [
           {
            "fillpattern": {
             "fillmode": "overlay",
             "size": 10,
             "solidity": 0.2
            },
            "type": "scatter"
           }
          ],
          "parcoords": [
           {
            "type": "parcoords",
            "line": {
             "colorbar": {
              "outlinewidth": 0,
              "ticks": ""
             }
            }
           }
          ],
          "scatterpolargl": [
           {
            "type": "scatterpolargl",
            "marker": {
             "colorbar": {
              "outlinewidth": 0,
              "ticks": ""
             }
            }
           }
          ],
          "bar": [
           {
            "error_x": {
             "color": "#2a3f5f"
            },
            "error_y": {
             "color": "#2a3f5f"
            },
            "marker": {
             "line": {
              "color": "#E5ECF6",
              "width": 0.5
             },
             "pattern": {
              "fillmode": "overlay",
              "size": 10,
              "solidity": 0.2
             }
            },
            "type": "bar"
           }
          ],
          "scattergeo": [
           {
            "type": "scattergeo",
            "marker": {
             "colorbar": {
              "outlinewidth": 0,
              "ticks": ""
             }
            }
           }
          ],
          "scatterpolar": [
           {
            "type": "scatterpolar",
            "marker": {
             "colorbar": {
              "outlinewidth": 0,
              "ticks": ""
             }
            }
           }
          ],
          "histogram": [
           {
            "marker": {
             "pattern": {
              "fillmode": "overlay",
              "size": 10,
              "solidity": 0.2
             }
            },
            "type": "histogram"
           }
          ],
          "scattergl": [
           {
            "type": "scattergl",
            "marker": {
             "colorbar": {
              "outlinewidth": 0,
              "ticks": ""
             }
            }
           }
          ],
          "scatter3d": [
           {
            "type": "scatter3d",
            "line": {
             "colorbar": {
              "outlinewidth": 0,
              "ticks": ""
             }
            },
            "marker": {
             "colorbar": {
              "outlinewidth": 0,
              "ticks": ""
             }
            }
           }
          ],
          "scattermapbox": [
           {
            "type": "scattermapbox",
            "marker": {
             "colorbar": {
              "outlinewidth": 0,
              "ticks": ""
             }
            }
           }
          ],
          "scatterternary": [
           {
            "type": "scatterternary",
            "marker": {
             "colorbar": {
              "outlinewidth": 0,
              "ticks": ""
             }
            }
           }
          ],
          "scattercarpet": [
           {
            "type": "scattercarpet",
            "marker": {
             "colorbar": {
              "outlinewidth": 0,
              "ticks": ""
             }
            }
           }
          ],
          "carpet": [
           {
            "aaxis": {
             "endlinecolor": "#2a3f5f",
             "gridcolor": "white",
             "linecolor": "white",
             "minorgridcolor": "white",
             "startlinecolor": "#2a3f5f"
            },
            "baxis": {
             "endlinecolor": "#2a3f5f",
             "gridcolor": "white",
             "linecolor": "white",
             "minorgridcolor": "white",
             "startlinecolor": "#2a3f5f"
            },
            "type": "carpet"
           }
          ],
          "table": [
           {
            "cells": {
             "fill": {
              "color": "#EBF0F8"
             },
             "line": {
              "color": "white"
             }
            },
            "header": {
             "fill": {
              "color": "#C8D4E3"
             },
             "line": {
              "color": "white"
             }
            },
            "type": "table"
           }
          ],
          "barpolar": [
           {
            "marker": {
             "line": {
              "color": "#E5ECF6",
              "width": 0.5
             },
             "pattern": {
              "fillmode": "overlay",
              "size": 10,
              "solidity": 0.2
             }
            },
            "type": "barpolar"
           }
          ],
          "pie": [
           {
            "automargin": true,
            "type": "pie"
           }
          ]
         },
         "layout": {
          "autotypenumbers": "strict",
          "colorway": [
           "#636efa",
           "#EF553B",
           "#00cc96",
           "#ab63fa",
           "#FFA15A",
           "#19d3f3",
           "#FF6692",
           "#B6E880",
           "#FF97FF",
           "#FECB52"
          ],
          "font": {
           "color": "#2a3f5f"
          },
          "hovermode": "closest",
          "hoverlabel": {
           "align": "left"
          },
          "paper_bgcolor": "white",
          "plot_bgcolor": "#E5ECF6",
          "polar": {
           "bgcolor": "#E5ECF6",
           "angularaxis": {
            "gridcolor": "white",
            "linecolor": "white",
            "ticks": ""
           },
           "radialaxis": {
            "gridcolor": "white",
            "linecolor": "white",
            "ticks": ""
           }
          },
          "ternary": {
           "bgcolor": "#E5ECF6",
           "aaxis": {
            "gridcolor": "white",
            "linecolor": "white",
            "ticks": ""
           },
           "baxis": {
            "gridcolor": "white",
            "linecolor": "white",
            "ticks": ""
           },
           "caxis": {
            "gridcolor": "white",
            "linecolor": "white",
            "ticks": ""
           }
          },
          "coloraxis": {
           "colorbar": {
            "outlinewidth": 0,
            "ticks": ""
           }
          },
          "colorscale": {
           "sequential": [
            [
             0.0,
             "#0d0887"
            ],
            [
             0.1111111111111111,
             "#46039f"
            ],
            [
             0.2222222222222222,
             "#7201a8"
            ],
            [
             0.3333333333333333,
             "#9c179e"
            ],
            [
             0.4444444444444444,
             "#bd3786"
            ],
            [
             0.5555555555555556,
             "#d8576b"
            ],
            [
             0.6666666666666666,
             "#ed7953"
            ],
            [
             0.7777777777777778,
             "#fb9f3a"
            ],
            [
             0.8888888888888888,
             "#fdca26"
            ],
            [
             1.0,
             "#f0f921"
            ]
           ],
           "sequentialminus": [
            [
             0.0,
             "#0d0887"
            ],
            [
             0.1111111111111111,
             "#46039f"
            ],
            [
             0.2222222222222222,
             "#7201a8"
            ],
            [
             0.3333333333333333,
             "#9c179e"
            ],
            [
             0.4444444444444444,
             "#bd3786"
            ],
            [
             0.5555555555555556,
             "#d8576b"
            ],
            [
             0.6666666666666666,
             "#ed7953"
            ],
            [
             0.7777777777777778,
             "#fb9f3a"
            ],
            [
             0.8888888888888888,
             "#fdca26"
            ],
            [
             1.0,
             "#f0f921"
            ]
           ],
           "diverging": [
            [
             0,
             "#8e0152"
            ],
            [
             0.1,
             "#c51b7d"
            ],
            [
             0.2,
             "#de77ae"
            ],
            [
             0.3,
             "#f1b6da"
            ],
            [
             0.4,
             "#fde0ef"
            ],
            [
             0.5,
             "#f7f7f7"
            ],
            [
             0.6,
             "#e6f5d0"
            ],
            [
             0.7,
             "#b8e186"
            ],
            [
             0.8,
             "#7fbc41"
            ],
            [
             0.9,
             "#4d9221"
            ],
            [
             1,
             "#276419"
            ]
           ]
          },
          "xaxis": {
           "gridcolor": "white",
           "linecolor": "white",
           "ticks": "",
           "title": {
            "standoff": 15
           },
           "zerolinecolor": "white",
           "automargin": true,
           "zerolinewidth": 2
          },
          "yaxis": {
           "gridcolor": "white",
           "linecolor": "white",
           "ticks": "",
           "title": {
            "standoff": 15
           },
           "zerolinecolor": "white",
           "automargin": true,
           "zerolinewidth": 2
          },
          "scene": {
           "xaxis": {
            "backgroundcolor": "#E5ECF6",
            "gridcolor": "white",
            "linecolor": "white",
            "showbackground": true,
            "ticks": "",
            "zerolinecolor": "white",
            "gridwidth": 2
           },
           "yaxis": {
            "backgroundcolor": "#E5ECF6",
            "gridcolor": "white",
            "linecolor": "white",
            "showbackground": true,
            "ticks": "",
            "zerolinecolor": "white",
            "gridwidth": 2
           },
           "zaxis": {
            "backgroundcolor": "#E5ECF6",
            "gridcolor": "white",
            "linecolor": "white",
            "showbackground": true,
            "ticks": "",
            "zerolinecolor": "white",
            "gridwidth": 2
           }
          },
          "shapedefaults": {
           "line": {
            "color": "#2a3f5f"
           }
          },
          "annotationdefaults": {
           "arrowcolor": "#2a3f5f",
           "arrowhead": 0,
           "arrowwidth": 1
          },
          "geo": {
           "bgcolor": "white",
           "landcolor": "#E5ECF6",
           "subunitcolor": "white",
           "showland": true,
           "showlakes": true,
           "lakecolor": "white"
          },
          "title": {
           "x": 0.05
          },
          "mapbox": {
           "style": "light"
          }
         }
        },
        "xaxis": {
         "anchor": "y",
         "domain": [
          0.0,
          1.0
         ],
         "title": {
          "text": "emb1"
         }
        },
        "yaxis": {
         "anchor": "x",
         "domain": [
          0.0,
          1.0
         ],
         "title": {
          "text": "emb2"
         }
        },
        "legend": {
         "title": {
          "text": "label"
         },
         "tracegroupgap": 0
        },
        "margin": {
         "t": 60
        },
        "title": {
         "text": "Interactive Scatter Plot"
        }
       },
       "config": {
        "plotlyServerURL": "https://plot.ly"
       }
      },
      "text/html": "<div>                            <div id=\"4c079d3b-4743-4bdb-962d-1dd5937fac5e\" class=\"plotly-graph-div\" style=\"height:525px; width:100%;\"></div>            <script type=\"text/javascript\">                require([\"plotly\"], function(Plotly) {                    window.PLOTLYENV=window.PLOTLYENV || {};                                    if (document.getElementById(\"4c079d3b-4743-4bdb-962d-1dd5937fac5e\")) {                    Plotly.newPlot(                        \"4c079d3b-4743-4bdb-962d-1dd5937fac5e\",                        [{\"customdata\":[[\"Pulling collar\",\"D:\\\\Project-mpg microgesture\\\\smg\\\\split_files_64\\\\0001_001_00831-00895_14.mp4\"],[\"Pulling collar\",\"D:\\\\Project-mpg microgesture\\\\smg\\\\split_files_64\\\\0020_012_03296-03360_8.mp4\"],[\"Pulling collar\",\"D:\\\\Project-mpg microgesture\\\\smg\\\\split_files_64\\\\0020_013_03364-03428_8.mp4\"],[\"Pulling collar\",\"D:\\\\Project-mpg microgesture\\\\smg\\\\split_files_64\\\\0024_009_04907-04971_4.mp4\"],[\"Pulling collar\",\"D:\\\\Project-mpg microgesture\\\\smg\\\\split_files_64\\\\0026_009_03142-03206_4.mp4\"],[\"Pulling collar\",\"D:\\\\Project-mpg microgesture\\\\smg\\\\split_files_64\\\\0026_050_11680-11744_15.mp4\"],[\"Pulling collar\",\"D:\\\\Project-mpg microgesture\\\\smg\\\\split_files_64\\\\0026_087_16914-16978_4.mp4\"],[\"Pulling collar\",\"D:\\\\Project-mpg microgesture\\\\smg\\\\split_files_64\\\\0027_171_13488-13552_4.mp4\"]],\"hovertemplate\":\"label=%{customdata[0]}<br>umap1=%{x}<br>umap2=%{y}<br>file_paths=%{customdata[1]}<extra></extra>\",\"legendgroup\":\"Pulling collar\",\"marker\":{\"color\":\"#636efa\",\"symbol\":\"circle\"},\"mode\":\"markers\",\"name\":\"Pulling collar\",\"orientation\":\"v\",\"showlegend\":true,\"x\":[4.677993297576904,6.341312885284424,6.329753398895264,4.60088586807251,5.08473014831543,-2.2981185913085938,5.086575984954834,4.605713844299316],\"xaxis\":\"x\",\"y\":[7.8008503913879395,7.2828545570373535,7.319238662719727,7.732151508331299,8.20439338684082,9.67420482635498,8.21415901184082,7.743277072906494],\"yaxis\":\"y\",\"type\":\"scatter\"},{\"customdata\":[[\"Touching face\",\"D:\\\\Project-mpg microgesture\\\\smg\\\\split_files_64\\\\0001_002_01697-01761_11.mp4\"],[\"Touching face\",\"D:\\\\Project-mpg microgesture\\\\smg\\\\split_files_64\\\\0001_031_14618-14682_11.mp4\"],[\"Touching face\",\"D:\\\\Project-mpg microgesture\\\\smg\\\\split_files_64\\\\0003_030_21315-21379_13.mp4\"],[\"Touching face\",\"D:\\\\Project-mpg microgesture\\\\smg\\\\split_files_64\\\\0004_062_12993-13057_11.mp4\"],[\"Touching face\",\"D:\\\\Project-mpg microgesture\\\\smg\\\\split_files_64\\\\0004_078_18929-18993_13.mp4\"],[\"Touching face\",\"D:\\\\Project-mpg microgesture\\\\smg\\\\split_files_64\\\\0004_082_19230-19294_8.mp4\"],[\"Touching face\",\"D:\\\\Project-mpg microgesture\\\\smg\\\\split_files_64\\\\0004_088_19796-19860_1.mp4\"],[\"Touching face\",\"D:\\\\Project-mpg microgesture\\\\smg\\\\split_files_64\\\\0004_090_19890-19954_11.mp4\"],[\"Touching face\",\"D:\\\\Project-mpg microgesture\\\\smg\\\\split_files_64\\\\0004_092_20027-20091_11.mp4\"],[\"Touching face\",\"D:\\\\Project-mpg microgesture\\\\smg\\\\split_files_64\\\\0004_093_20091-20155_1.mp4\"],[\"Touching face\",\"D:\\\\Project-mpg microgesture\\\\smg\\\\split_files_64\\\\0004_115_22223-22287_15.mp4\"],[\"Touching face\",\"D:\\\\Project-mpg microgesture\\\\smg\\\\split_files_64\\\\0004_120_22609-22673_8.mp4\"],[\"Touching face\",\"D:\\\\Project-mpg microgesture\\\\smg\\\\split_files_64\\\\0004_142_24321-24385_8.mp4\"],[\"Touching face\",\"D:\\\\Project-mpg microgesture\\\\smg\\\\split_files_64\\\\0005_006_02427-02491_16.mp4\"],[\"Touching face\",\"D:\\\\Project-mpg microgesture\\\\smg\\\\split_files_64\\\\0005_027_05693-05757_8.mp4\"],[\"Touching face\",\"D:\\\\Project-mpg microgesture\\\\smg\\\\split_files_64\\\\0005_032_07418-07482_4.mp4\"],[\"Touching face\",\"D:\\\\Project-mpg microgesture\\\\smg\\\\split_files_64\\\\0005_041_10493-10557_8.mp4\"],[\"Touching face\",\"D:\\\\Project-mpg microgesture\\\\smg\\\\split_files_64\\\\0005_043_10529-10593_8.mp4\"],[\"Touching face\",\"D:\\\\Project-mpg microgesture\\\\smg\\\\split_files_64\\\\0005_045_10915-10979_8.mp4\"],[\"Touching face\",\"D:\\\\Project-mpg microgesture\\\\smg\\\\split_files_64\\\\0005_117_21333-21397_11.mp4\"],[\"Touching face\",\"D:\\\\Project-mpg microgesture\\\\smg\\\\split_files_64\\\\0005_118_21397-21461_8.mp4\"],[\"Touching face\",\"D:\\\\Project-mpg microgesture\\\\smg\\\\split_files_64\\\\0005_120_21497-21561_16.mp4\"],[\"Touching face\",\"D:\\\\Project-mpg microgesture\\\\smg\\\\split_files_64\\\\0006_051_13334-13398_7.mp4\"],[\"Touching face\",\"D:\\\\Project-mpg microgesture\\\\smg\\\\split_files_64\\\\0006_055_14525-14589_12.mp4\"],[\"Touching face\",\"D:\\\\Project-mpg microgesture\\\\smg\\\\split_files_64\\\\0006_072_18225-18289_15.mp4\"],[\"Touching face\",\"D:\\\\Project-mpg microgesture\\\\smg\\\\split_files_64\\\\0006_073_18289-18353_15.mp4\"],[\"Touching face\",\"D:\\\\Project-mpg microgesture\\\\smg\\\\split_files_64\\\\0006_083_20858-20922_4.mp4\"],[\"Touching face\",\"D:\\\\Project-mpg microgesture\\\\smg\\\\split_files_64\\\\0007_007_18251-18315_4.mp4\"],[\"Touching face\",\"D:\\\\Project-mpg microgesture\\\\smg\\\\split_files_64\\\\0008_040_06804-06868_8.mp4\"],[\"Touching face\",\"D:\\\\Project-mpg microgesture\\\\smg\\\\split_files_64\\\\0008_054_09012-09076_8.mp4\"],[\"Touching face\",\"D:\\\\Project-mpg microgesture\\\\smg\\\\split_files_64\\\\0008_061_11781-11845_8.mp4\"],[\"Touching face\",\"D:\\\\Project-mpg microgesture\\\\smg\\\\split_files_64\\\\0008_085_13488-13552_8.mp4\"],[\"Touching face\",\"D:\\\\Project-mpg microgesture\\\\smg\\\\split_files_64\\\\0008_086_13552-13616_8.mp4\"],[\"Touching face\",\"D:\\\\Project-mpg microgesture\\\\smg\\\\split_files_64\\\\0009_062_18594-18658_7.mp4\"],[\"Touching face\",\"D:\\\\Project-mpg microgesture\\\\smg\\\\split_files_64\\\\0009_063_18753-18817_7.mp4\"],[\"Touching face\",\"D:\\\\Project-mpg microgesture\\\\smg\\\\split_files_64\\\\0009_069_23106-23170_7.mp4\"],[\"Touching face\",\"D:\\\\Project-mpg microgesture\\\\smg\\\\split_files_64\\\\0010_000_00369-00433_8.mp4\"],[\"Touching face\",\"D:\\\\Project-mpg microgesture\\\\smg\\\\split_files_64\\\\0010_127_18187-18251_2.mp4\"],[\"Touching face\",\"D:\\\\Project-mpg microgesture\\\\smg\\\\split_files_64\\\\0010_184_25366-25430_11.mp4\"],[\"Touching face\",\"D:\\\\Project-mpg microgesture\\\\smg\\\\split_files_64\\\\0010_186_25567-25631_7.mp4\"],[\"Touching face\",\"D:\\\\Project-mpg microgesture\\\\smg\\\\split_files_64\\\\0010_187_25769-25833_0.mp4\"],[\"Touching face\",\"D:\\\\Project-mpg microgesture\\\\smg\\\\split_files_64\\\\0011_008_06588-06652_2.mp4\"],[\"Touching face\",\"D:\\\\Project-mpg microgesture\\\\smg\\\\split_files_64\\\\0013_003_02180-02244_13.mp4\"],[\"Touching face\",\"D:\\\\Project-mpg microgesture\\\\smg\\\\split_files_64\\\\0013_019_04038-04102_7.mp4\"],[\"Touching face\",\"D:\\\\Project-mpg microgesture\\\\smg\\\\split_files_64\\\\0013_057_08850-08914_8.mp4\"],[\"Touching face\",\"D:\\\\Project-mpg microgesture\\\\smg\\\\split_files_64\\\\0013_065_09533-09597_12.mp4\"],[\"Touching face\",\"D:\\\\Project-mpg microgesture\\\\smg\\\\split_files_64\\\\0013_113_14283-14347_8.mp4\"],[\"Touching face\",\"D:\\\\Project-mpg microgesture\\\\smg\\\\split_files_64\\\\0013_120_14734-14798_8.mp4\"],[\"Touching face\",\"D:\\\\Project-mpg microgesture\\\\smg\\\\split_files_64\\\\0013_172_19505-19569_0.mp4\"],[\"Touching face\",\"D:\\\\Project-mpg microgesture\\\\smg\\\\split_files_64\\\\0015_037_04730-04794_4.mp4\"],[\"Touching face\",\"D:\\\\Project-mpg microgesture\\\\smg\\\\split_files_64\\\\0015_104_11566-11630_4.mp4\"],[\"Touching face\",\"D:\\\\Project-mpg microgesture\\\\smg\\\\split_files_64\\\\0016_002_00814-00878_2.mp4\"],[\"Touching face\",\"D:\\\\Project-mpg microgesture\\\\smg\\\\split_files_64\\\\0016_003_00878-00942_11.mp4\"],[\"Touching face\",\"D:\\\\Project-mpg microgesture\\\\smg\\\\split_files_64\\\\0016_007_01821-01885_4.mp4\"],[\"Touching face\",\"D:\\\\Project-mpg microgesture\\\\smg\\\\split_files_64\\\\0016_008_01885-01949_4.mp4\"],[\"Touching face\",\"D:\\\\Project-mpg microgesture\\\\smg\\\\split_files_64\\\\0016_009_01949-02013_4.mp4\"],[\"Touching face\",\"D:\\\\Project-mpg microgesture\\\\smg\\\\split_files_64\\\\0016_010_02156-02220_4.mp4\"],[\"Touching face\",\"D:\\\\Project-mpg microgesture\\\\smg\\\\split_files_64\\\\0019_021_05871-05935_4.mp4\"],[\"Touching face\",\"D:\\\\Project-mpg microgesture\\\\smg\\\\split_files_64\\\\0019_022_07082-07146_4.mp4\"],[\"Touching face\",\"D:\\\\Project-mpg microgesture\\\\smg\\\\split_files_64\\\\0019_024_07208-07272_4.mp4\"],[\"Touching face\",\"D:\\\\Project-mpg microgesture\\\\smg\\\\split_files_64\\\\0019_049_16705-16769_2.mp4\"],[\"Touching face\",\"D:\\\\Project-mpg microgesture\\\\smg\\\\split_files_64\\\\0019_052_16974-17038_8.mp4\"],[\"Touching face\",\"D:\\\\Project-mpg microgesture\\\\smg\\\\split_files_64\\\\0019_053_17078-17142_2.mp4\"],[\"Touching face\",\"D:\\\\Project-mpg microgesture\\\\smg\\\\split_files_64\\\\0019_067_21100-21164_4.mp4\"],[\"Touching face\",\"D:\\\\Project-mpg microgesture\\\\smg\\\\split_files_64\\\\0019_077_22562-22626_8.mp4\"],[\"Touching face\",\"D:\\\\Project-mpg microgesture\\\\smg\\\\split_files_64\\\\0019_078_22737-22801_2.mp4\"],[\"Touching face\",\"D:\\\\Project-mpg microgesture\\\\smg\\\\split_files_64\\\\0020_028_06135-06199_8.mp4\"],[\"Touching face\",\"D:\\\\Project-mpg microgesture\\\\smg\\\\split_files_64\\\\0020_029_06472-06536_8.mp4\"],[\"Touching face\",\"D:\\\\Project-mpg microgesture\\\\smg\\\\split_files_64\\\\0020_061_14305-14369_4.mp4\"],[\"Touching face\",\"D:\\\\Project-mpg microgesture\\\\smg\\\\split_files_64\\\\0020_077_15721-15785_4.mp4\"],[\"Touching face\",\"D:\\\\Project-mpg microgesture\\\\smg\\\\split_files_64\\\\0022_037_06404-06468_4.mp4\"],[\"Touching face\",\"D:\\\\Project-mpg microgesture\\\\smg\\\\split_files_64\\\\0022_099_20152-20216_13.mp4\"],[\"Touching face\",\"D:\\\\Project-mpg microgesture\\\\smg\\\\split_files_64\\\\0022_123_22725-22789_7.mp4\"],[\"Touching face\",\"D:\\\\Project-mpg microgesture\\\\smg\\\\split_files_64\\\\0024_044_15442-15506_4.mp4\"],[\"Touching face\",\"D:\\\\Project-mpg microgesture\\\\smg\\\\split_files_64\\\\0024_045_15485-15549_4.mp4\"],[\"Touching face\",\"D:\\\\Project-mpg microgesture\\\\smg\\\\split_files_64\\\\0025_024_15165-15229_4.mp4\"],[\"Touching face\",\"D:\\\\Project-mpg microgesture\\\\smg\\\\split_files_64\\\\0026_008_03037-03101_4.mp4\"],[\"Touching face\",\"D:\\\\Project-mpg microgesture\\\\smg\\\\split_files_64\\\\0026_091_17306-17370_6.mp4\"],[\"Touching face\",\"D:\\\\Project-mpg microgesture\\\\smg\\\\split_files_64\\\\0026_093_17563-17627_6.mp4\"],[\"Touching face\",\"D:\\\\Project-mpg microgesture\\\\smg\\\\split_files_64\\\\0027_027_03618-03682_4.mp4\"],[\"Touching face\",\"D:\\\\Project-mpg microgesture\\\\smg\\\\split_files_64\\\\0027_034_03925-03989_4.mp4\"],[\"Touching face\",\"D:\\\\Project-mpg microgesture\\\\smg\\\\split_files_64\\\\0027_035_03966-04030_4.mp4\"],[\"Touching face\",\"D:\\\\Project-mpg microgesture\\\\smg\\\\split_files_64\\\\0027_068_06158-06222_4.mp4\"],[\"Touching face\",\"D:\\\\Project-mpg microgesture\\\\smg\\\\split_files_64\\\\0027_074_06503-06567_12.mp4\"],[\"Touching face\",\"D:\\\\Project-mpg microgesture\\\\smg\\\\split_files_64\\\\0027_075_06567-06631_12.mp4\"],[\"Touching face\",\"D:\\\\Project-mpg microgesture\\\\smg\\\\split_files_64\\\\0027_118_09559-09623_4.mp4\"],[\"Touching face\",\"D:\\\\Project-mpg microgesture\\\\smg\\\\split_files_64\\\\0027_166_13235-13299_2.mp4\"],[\"Touching face\",\"D:\\\\Project-mpg microgesture\\\\smg\\\\split_files_64\\\\0027_167_13291-13355_4.mp4\"],[\"Touching face\",\"D:\\\\Project-mpg microgesture\\\\smg\\\\split_files_64\\\\0027_168_13347-13411_4.mp4\"],[\"Touching face\",\"D:\\\\Project-mpg microgesture\\\\smg\\\\split_files_64\\\\0027_198_15240-15304_8.mp4\"],[\"Touching face\",\"D:\\\\Project-mpg microgesture\\\\smg\\\\split_files_64\\\\0027_204_16227-16291_4.mp4\"],[\"Touching face\",\"D:\\\\Project-mpg microgesture\\\\smg\\\\split_files_64\\\\0027_260_22620-22684_7.mp4\"],[\"Touching face\",\"D:\\\\Project-mpg microgesture\\\\smg\\\\split_files_64\\\\0027_262_22797-22861_11.mp4\"],[\"Touching face\",\"D:\\\\Project-mpg microgesture\\\\smg\\\\split_files_64\\\\0027_263_22871-22935_11.mp4\"],[\"Touching face\",\"D:\\\\Project-mpg microgesture\\\\smg\\\\split_files_64\\\\0029_014_05104-05168_8.mp4\"],[\"Touching face\",\"D:\\\\Project-mpg microgesture\\\\smg\\\\split_files_64\\\\0029_046_16733-16797_8.mp4\"],[\"Touching face\",\"D:\\\\Project-mpg microgesture\\\\smg\\\\split_files_64\\\\0029_052_17664-17728_11.mp4\"],[\"Touching face\",\"D:\\\\Project-mpg microgesture\\\\smg\\\\split_files_64\\\\0029_053_17684-17748_11.mp4\"],[\"Touching face\",\"D:\\\\Project-mpg microgesture\\\\smg\\\\split_files_64\\\\0029_054_17748-17812_11.mp4\"],[\"Touching face\",\"D:\\\\Project-mpg microgesture\\\\smg\\\\split_files_64\\\\0029_056_17834-17898_8.mp4\"],[\"Touching face\",\"D:\\\\Project-mpg microgesture\\\\smg\\\\split_files_64\\\\0030_029_07636-07700_8.mp4\"],[\"Touching face\",\"D:\\\\Project-mpg microgesture\\\\smg\\\\split_files_64\\\\0030_030_07700-07764_8.mp4\"],[\"Touching face\",\"D:\\\\Project-mpg microgesture\\\\smg\\\\split_files_64\\\\0030_033_08373-08437_8.mp4\"],[\"Touching face\",\"D:\\\\Project-mpg microgesture\\\\smg\\\\split_files_64\\\\0030_062_12183-12247_11.mp4\"],[\"Touching face\",\"D:\\\\Project-mpg microgesture\\\\smg\\\\split_files_64\\\\0030_063_12247-12311_8.mp4\"],[\"Touching face\",\"D:\\\\Project-mpg microgesture\\\\smg\\\\split_files_64\\\\0030_065_12451-12515_8.mp4\"],[\"Touching face\",\"D:\\\\Project-mpg microgesture\\\\smg\\\\split_files_64\\\\0030_066_18067-18131_8.mp4\"],[\"Touching face\",\"D:\\\\Project-mpg microgesture\\\\smg\\\\split_files_64\\\\0030_067_18571-18635_4.mp4\"],[\"Touching face\",\"D:\\\\Project-mpg microgesture\\\\smg\\\\split_files_64\\\\0030_068_18635-18699_4.mp4\"],[\"Touching face\",\"D:\\\\Project-mpg microgesture\\\\smg\\\\split_files_64\\\\0031_106_16760-16824_4.mp4\"],[\"Touching face\",\"D:\\\\Project-mpg microgesture\\\\smg\\\\split_files_64\\\\0031_107_16807-16871_4.mp4\"],[\"Touching face\",null],[\"Touching face\",null],[\"Touching face\",null],[\"Touching face\",null],[\"Touching face\",null],[\"Touching face\",null],[\"Touching face\",null],[\"Touching face\",null],[\"Touching face\",null],[\"Touching face\",null],[\"Touching face\",null],[\"Touching face\",null],[\"Touching face\",null],[\"Touching face\",null],[\"Touching face\",null],[\"Touching face\",null],[\"Touching face\",null],[\"Touching face\",null],[\"Touching face\",null],[\"Touching face\",null],[\"Touching face\",null],[\"Touching face\",null],[\"Touching face\",null],[\"Touching face\",null],[\"Touching face\",null],[\"Touching face\",null],[\"Touching face\",null],[\"Touching face\",null],[\"Touching face\",null],[\"Touching face\",null],[\"Touching face\",null],[\"Touching face\",null],[\"Touching face\",null],[\"Touching face\",null],[\"Touching face\",null],[\"Touching face\",null],[\"Touching face\",null],[\"Touching face\",null],[\"Touching face\",null]],\"hovertemplate\":\"label=%{customdata[0]}<br>umap1=%{x}<br>umap2=%{y}<br>file_paths=%{customdata[1]}<extra></extra>\",\"legendgroup\":\"Touching face\",\"marker\":{\"color\":\"#EF553B\",\"symbol\":\"circle\"},\"mode\":\"markers\",\"name\":\"Touching face\",\"orientation\":\"v\",\"showlegend\":true,\"x\":[2.7558839321136475,13.52974796295166,2.7496135234832764,1.421270489692688,1.8323490619659424,1.7853872776031494,1.4916661977767944,1.4909510612487793,1.491041898727417,2.886335849761963,1.4111113548278809,1.4872299432754517,1.8264254331588745,1.5867395401000977,1.810028076171875,2.1903483867645264,1.3084322214126587,1.802207112312317,1.8109216690063477,3.63189697265625,3.6777138710021973,3.6116228103637695,3.3824622631073,3.42757511138916,3.678448438644409,3.659564971923828,3.528557300567627,2.0016329288482666,3.7951653003692627,1.4932605028152466,3.2656567096710205,3.0655415058135986,9.328536033630371,3.0694286823272705,1.2657921314239502,13.517167091369629,1.2772231101989746,13.523655891418457,1.481451153755188,3.364100933074951,3.3876664638519287,3.7316107749938965,3.0888359546661377,3.696422576904297,3.2841124534606934,3.1347265243530273,3.4588406085968018,1.2694331407546997,3.827732563018799,3.0671427249908447,2.9618523120880127,1.2886852025985718,1.208817481994629,3.311143159866333,1.993876338005066,3.1436548233032227,2.837592363357544,2.190950870513916,1.3856918811798096,3.734797477722168,-4.703991889953613,1.9574716091156006,-5.579202175140381,2.199045419692993,1.799523949623108,1.154443621635437,3.5231664180755615,1.5329402685165405,2.266404867172241,3.112011671066284,3.8437366485595703,3.7902796268463135,3.7881314754486084,3.854287624359131,0.736569344997406,1.4089537858963013,13.529995918273926,1.356385350227356,11.157890319824219,3.332883834838867,1.924565315246582,1.9267661571502686,3.373178243637085,3.452373743057251,1.9792906045913696,14.330626487731934,3.7697231769561768,0.7082223296165466,0.6920865178108215,0.9917876720428467,-2.2414236068725586,-2.2150864601135254,0.916476845741272,1.019607424736023,1.2250187397003174,2.374805450439453,2.3723063468933105,2.3836090564727783,1.029697060585022,1.217573642730713,2.366873264312744,1.0288783311843872,1.902511477470398,2.381324529647827,2.382056474685669,2.028259754180908,14.463556289672852,1.292628526687622,1.2457472085952759,2.005779266357422,1.9832545518875122,3.330993413925171,2.8953278064727783,2.8272294998168945,2.7915055751800537,-5.849201202392578,2.838681936264038,3.4553873538970947,15.454035758972168,3.710367441177368,2.8491761684417725,3.573099374771118,2.3444039821624756,2.8104660511016846,1.798973798751831,3.817986011505127,1.8169955015182495,2.6538896560668945,3.671616554260254,2.873959541320801,2.802358627319336,2.9212446212768555,3.4124560356140137,3.345369338989258,1.771441102027893,1.6012306213378906,3.785581588745117,2.0711145401000977,2.4697418212890625,3.0148913860321045,2.0242111682891846,2.2727210521698,2.6256213188171387,2.7589023113250732,2.7690017223358154,2.8636584281921387,1.6142833232879639,1.6099743843078613,3.255582571029663,3.648139476776123],\"xaxis\":\"x\",\"y\":[9.923699378967285,-2.2526164054870605,9.877928733825684,5.876915454864502,5.220395565032959,5.266063213348389,5.508552074432373,5.52794885635376,5.5279998779296875,10.851075172424316,5.773266792297363,5.561901092529297,5.234182357788086,5.521821022033691,6.651261806488037,7.531069755554199,7.152306079864502,5.260848045349121,5.245228290557861,11.311450004577637,11.384692192077637,11.29797077178955,10.917195320129395,11.033079147338867,11.383028984069824,11.393182754516602,11.154648780822754,9.999760627746582,9.366434097290039,7.3705973625183105,9.285331726074219,9.296952247619629,12.341676712036133,9.34061336517334,6.96789026260376,-2.157165050506592,7.074502944946289,-2.1663386821746826,7.326474189758301,9.318410873413086,9.253421783447266,9.9213228225708,9.480573654174805,9.895912170410156,9.629602432250977,9.597868919372559,9.818109512329102,7.0825324058532715,9.982317924499512,10.805252075195312,10.868624687194824,10.71238899230957,10.710484504699707,10.638368606567383,10.079046249389648,10.548430442810059,10.840507507324219,11.335770606994629,10.627874374389648,9.946844100952148,6.80588436126709,10.618163108825684,5.67780876159668,10.522223472595215,10.670801162719727,10.573301315307617,10.43088150024414,10.627090454101562,10.415482521057129,10.522384643554688,10.009440422058105,10.333283424377441,10.314884185791016,9.986418724060059,10.420378684997559,10.26758861541748,-2.233645439147949,10.356237411499023,15.14364242553711,10.48301887512207,10.370001792907715,10.034156799316406,10.507204055786133,10.460822105407715,10.033169746398926,-2.0534377098083496,10.000062942504883,10.429600715637207,10.429105758666992,10.512709617614746,9.949548721313477,9.929411888122559,10.485507011413574,10.43304443359375,10.700592994689941,11.656645774841309,11.613241195678711,11.683594703674316,10.388535499572754,10.537810325622559,11.654659271240234,10.455597877502441,10.448627471923828,11.426900863647461,11.674543380737305,10.01279067993164,-2.1918203830718994,10.393553733825684,10.339919090270996,9.985158920288086,10.463260650634766,10.390742301940918,9.514034271240234,9.650750160217285,9.622857093811035,1.5280051231384277,10.030587196350098,10.013452529907227,-5.27037239074707,9.985673904418945,9.946867942810059,10.402040481567383,10.423148155212402,9.922916412353516,10.488649368286133,9.969097137451172,10.232226371765137,10.11508846282959,10.440240859985352,9.702539443969727,9.969592094421387,10.19888973236084,10.308648109436035,10.477520942687988,10.555487632751465,10.551612854003906,10.062956809997559,10.05825424194336,10.01753044128418,10.015410423278809,10.175945281982422,10.030060768127441,10.04848861694336,9.887052536010742,10.128334045410156,9.53447151184082,10.545890808105469,10.37672233581543,10.483295440673828,10.432412147521973],\"yaxis\":\"y\",\"type\":\"scatter\"},{\"customdata\":[[\"Rubbing hands\",\"D:\\\\Project-mpg microgesture\\\\smg\\\\split_files_64\\\\0001_004_06317-06381_7.mp4\"],[\"Rubbing hands\",\"D:\\\\Project-mpg microgesture\\\\smg\\\\split_files_64\\\\0001_041_15519-15583_7.mp4\"],[\"Rubbing hands\",\"D:\\\\Project-mpg microgesture\\\\smg\\\\split_files_64\\\\0001_046_16154-16218_7.mp4\"],[\"Rubbing hands\",\"D:\\\\Project-mpg microgesture\\\\smg\\\\split_files_64\\\\0001_048_18654-18718_7.mp4\"],[\"Rubbing hands\",\"D:\\\\Project-mpg microgesture\\\\smg\\\\split_files_64\\\\0002_012_01402-01466_7.mp4\"],[\"Rubbing hands\",\"D:\\\\Project-mpg microgesture\\\\smg\\\\split_files_64\\\\0002_017_02545-02609_0.mp4\"],[\"Rubbing hands\",\"D:\\\\Project-mpg microgesture\\\\smg\\\\split_files_64\\\\0002_021_05810-05874_0.mp4\"],[\"Rubbing hands\",\"D:\\\\Project-mpg microgesture\\\\smg\\\\split_files_64\\\\0002_022_05874-05938_2.mp4\"],[\"Rubbing hands\",\"D:\\\\Project-mpg microgesture\\\\smg\\\\split_files_64\\\\0002_034_21527-21591_0.mp4\"],[\"Rubbing hands\",\"D:\\\\Project-mpg microgesture\\\\smg\\\\split_files_64\\\\0003_012_08891-08955_8.mp4\"],[\"Rubbing hands\",\"D:\\\\Project-mpg microgesture\\\\smg\\\\split_files_64\\\\0003_015_09097-09161_11.mp4\"],[\"Rubbing hands\",\"D:\\\\Project-mpg microgesture\\\\smg\\\\split_files_64\\\\0003_016_18239-18303_6.mp4\"],[\"Rubbing hands\",\"D:\\\\Project-mpg microgesture\\\\smg\\\\split_files_64\\\\0004_014_07024-07088_8.mp4\"],[\"Rubbing hands\",\"D:\\\\Project-mpg microgesture\\\\smg\\\\split_files_64\\\\0005_023_05510-05574_8.mp4\"],[\"Rubbing hands\",\"D:\\\\Project-mpg microgesture\\\\smg\\\\split_files_64\\\\0008_043_07009-07073_8.mp4\"],[\"Rubbing hands\",\"D:\\\\Project-mpg microgesture\\\\smg\\\\split_files_64\\\\0008_045_07560-07624_7.mp4\"],[\"Rubbing hands\",\"D:\\\\Project-mpg microgesture\\\\smg\\\\split_files_64\\\\0008_046_07624-07688_8.mp4\"],[\"Rubbing hands\",\"D:\\\\Project-mpg microgesture\\\\smg\\\\split_files_64\\\\0008_053_08948-09012_8.mp4\"],[\"Rubbing hands\",\"D:\\\\Project-mpg microgesture\\\\smg\\\\split_files_64\\\\0008_059_11720-11784_8.mp4\"],[\"Rubbing hands\",\"D:\\\\Project-mpg microgesture\\\\smg\\\\split_files_64\\\\0008_065_12032-12096_8.mp4\"],[\"Rubbing hands\",\"D:\\\\Project-mpg microgesture\\\\smg\\\\split_files_64\\\\0008_075_12815-12879_8.mp4\"],[\"Rubbing hands\",\"D:\\\\Project-mpg microgesture\\\\smg\\\\split_files_64\\\\0008_080_13131-13195_8.mp4\"],[\"Rubbing hands\",\"D:\\\\Project-mpg microgesture\\\\smg\\\\split_files_64\\\\0008_092_13857-13921_8.mp4\"],[\"Rubbing hands\",\"D:\\\\Project-mpg microgesture\\\\smg\\\\split_files_64\\\\0008_095_14049-14113_8.mp4\"],[\"Rubbing hands\",\"D:\\\\Project-mpg microgesture\\\\smg\\\\split_files_64\\\\0008_104_14748-14812_8.mp4\"],[\"Rubbing hands\",\"D:\\\\Project-mpg microgesture\\\\smg\\\\split_files_64\\\\0008_118_20527-20591_8.mp4\"],[\"Rubbing hands\",\"D:\\\\Project-mpg microgesture\\\\smg\\\\split_files_64\\\\0008_120_20714-20778_8.mp4\"],[\"Rubbing hands\",\"D:\\\\Project-mpg microgesture\\\\smg\\\\split_files_64\\\\0008_126_21315-21379_8.mp4\"],[\"Rubbing hands\",\"D:\\\\Project-mpg microgesture\\\\smg\\\\split_files_64\\\\0008_131_21916-21980_8.mp4\"],[\"Rubbing hands\",\"D:\\\\Project-mpg microgesture\\\\smg\\\\split_files_64\\\\0008_146_23119-23183_7.mp4\"],[\"Rubbing hands\",\"D:\\\\Project-mpg microgesture\\\\smg\\\\split_files_64\\\\0008_149_23311-23375_7.mp4\"],[\"Rubbing hands\",\"D:\\\\Project-mpg microgesture\\\\smg\\\\split_files_64\\\\0008_150_23375-23439_7.mp4\"],[\"Rubbing hands\",\"D:\\\\Project-mpg microgesture\\\\smg\\\\split_files_64\\\\0008_157_25424-25488_1.mp4\"],[\"Rubbing hands\",\"D:\\\\Project-mpg microgesture\\\\smg\\\\split_files_64\\\\0009_076_23925-23989_7.mp4\"],[\"Rubbing hands\",\"D:\\\\Project-mpg microgesture\\\\smg\\\\split_files_64\\\\0009_079_24305-24369_7.mp4\"],[\"Rubbing hands\",\"D:\\\\Project-mpg microgesture\\\\smg\\\\split_files_64\\\\0009_080_24699-24763_7.mp4\"],[\"Rubbing hands\",\"D:\\\\Project-mpg microgesture\\\\smg\\\\split_files_64\\\\0009_081_24763-24827_4.mp4\"],[\"Rubbing hands\",\"D:\\\\Project-mpg microgesture\\\\smg\\\\split_files_64\\\\0010_002_00857-00921_11.mp4\"],[\"Rubbing hands\",\"D:\\\\Project-mpg microgesture\\\\smg\\\\split_files_64\\\\0010_006_02138-02202_8.mp4\"],[\"Rubbing hands\",\"D:\\\\Project-mpg microgesture\\\\smg\\\\split_files_64\\\\0010_043_09211-09275_8.mp4\"],[\"Rubbing hands\",\"D:\\\\Project-mpg microgesture\\\\smg\\\\split_files_64\\\\0010_044_09294-09358_8.mp4\"],[\"Rubbing hands\",\"D:\\\\Project-mpg microgesture\\\\smg\\\\split_files_64\\\\0010_045_09328-09392_8.mp4\"],[\"Rubbing hands\",\"D:\\\\Project-mpg microgesture\\\\smg\\\\split_files_64\\\\0010_046_09402-09466_8.mp4\"],[\"Rubbing hands\",\"D:\\\\Project-mpg microgesture\\\\smg\\\\split_files_64\\\\0010_050_09756-09820_8.mp4\"],[\"Rubbing hands\",\"D:\\\\Project-mpg microgesture\\\\smg\\\\split_files_64\\\\0010_051_09820-09884_8.mp4\"],[\"Rubbing hands\",\"D:\\\\Project-mpg microgesture\\\\smg\\\\split_files_64\\\\0010_052_09859-09923_8.mp4\"],[\"Rubbing hands\",\"D:\\\\Project-mpg microgesture\\\\smg\\\\split_files_64\\\\0010_056_10095-10159_8.mp4\"],[\"Rubbing hands\",\"D:\\\\Project-mpg microgesture\\\\smg\\\\split_files_64\\\\0010_057_10115-10179_8.mp4\"],[\"Rubbing hands\",\"D:\\\\Project-mpg microgesture\\\\smg\\\\split_files_64\\\\0010_058_10179-10243_8.mp4\"],[\"Rubbing hands\",\"D:\\\\Project-mpg microgesture\\\\smg\\\\split_files_64\\\\0010_059_10243-10307_8.mp4\"],[\"Rubbing hands\",\"D:\\\\Project-mpg microgesture\\\\smg\\\\split_files_64\\\\0010_060_10307-10371_8.mp4\"],[\"Rubbing hands\",\"D:\\\\Project-mpg microgesture\\\\smg\\\\split_files_64\\\\0010_061_10371-10435_8.mp4\"],[\"Rubbing hands\",\"D:\\\\Project-mpg microgesture\\\\smg\\\\split_files_64\\\\0010_062_10417-10481_8.mp4\"],[\"Rubbing hands\",\"D:\\\\Project-mpg microgesture\\\\smg\\\\split_files_64\\\\0010_095_12880-12944_6.mp4\"],[\"Rubbing hands\",\"D:\\\\Project-mpg microgesture\\\\smg\\\\split_files_64\\\\0010_104_16346-16410_6.mp4\"],[\"Rubbing hands\",\"D:\\\\Project-mpg microgesture\\\\smg\\\\split_files_64\\\\0010_147_20367-20431_6.mp4\"],[\"Rubbing hands\",\"D:\\\\Project-mpg microgesture\\\\smg\\\\split_files_64\\\\0010_152_20551-20615_8.mp4\"],[\"Rubbing hands\",\"D:\\\\Project-mpg microgesture\\\\smg\\\\split_files_64\\\\0010_155_20820-20884_8.mp4\"],[\"Rubbing hands\",\"D:\\\\Project-mpg microgesture\\\\smg\\\\split_files_64\\\\0010_156_20876-20940_8.mp4\"],[\"Rubbing hands\",\"D:\\\\Project-mpg microgesture\\\\smg\\\\split_files_64\\\\0010_159_21105-21169_8.mp4\"],[\"Rubbing hands\",\"D:\\\\Project-mpg microgesture\\\\smg\\\\split_files_64\\\\0010_160_21147-21211_8.mp4\"],[\"Rubbing hands\",\"D:\\\\Project-mpg microgesture\\\\smg\\\\split_files_64\\\\0010_162_21429-21493_6.mp4\"],[\"Rubbing hands\",\"D:\\\\Project-mpg microgesture\\\\smg\\\\split_files_64\\\\0010_165_21764-21828_6.mp4\"],[\"Rubbing hands\",\"D:\\\\Project-mpg microgesture\\\\smg\\\\split_files_64\\\\0010_166_21828-21892_8.mp4\"],[\"Rubbing hands\",\"D:\\\\Project-mpg microgesture\\\\smg\\\\split_files_64\\\\0010_172_23022-23086_6.mp4\"],[\"Rubbing hands\",\"D:\\\\Project-mpg microgesture\\\\smg\\\\split_files_64\\\\0010_173_23932-23996_2.mp4\"],[\"Rubbing hands\",\"D:\\\\Project-mpg microgesture\\\\smg\\\\split_files_64\\\\0010_180_24250-24314_6.mp4\"],[\"Rubbing hands\",\"D:\\\\Project-mpg microgesture\\\\smg\\\\split_files_64\\\\0010_189_26057-26121_2.mp4\"],[\"Rubbing hands\",\"D:\\\\Project-mpg microgesture\\\\smg\\\\split_files_64\\\\0010_190_26121-26185_11.mp4\"],[\"Rubbing hands\",\"D:\\\\Project-mpg microgesture\\\\smg\\\\split_files_64\\\\0010_193_26487-26532_2.mp4\"],[\"Rubbing hands\",\"D:\\\\Project-mpg microgesture\\\\smg\\\\split_files_64\\\\0011_003_04061-04125_2.mp4\"],[\"Rubbing hands\",\"D:\\\\Project-mpg microgesture\\\\smg\\\\split_files_64\\\\0011_022_13104-13168_2.mp4\"],[\"Rubbing hands\",\"D:\\\\Project-mpg microgesture\\\\smg\\\\split_files_64\\\\0011_031_18620-18684_2.mp4\"],[\"Rubbing hands\",\"D:\\\\Project-mpg microgesture\\\\smg\\\\split_files_64\\\\0011_038_21911-21975_2.mp4\"],[\"Rubbing hands\",\"D:\\\\Project-mpg microgesture\\\\smg\\\\split_files_64\\\\0012_002_05671-05735_2.mp4\"],[\"Rubbing hands\",\"D:\\\\Project-mpg microgesture\\\\smg\\\\split_files_64\\\\0012_008_09531-09595_4.mp4\"],[\"Rubbing hands\",\"D:\\\\Project-mpg microgesture\\\\smg\\\\split_files_64\\\\0012_009_09595-09659_2.mp4\"],[\"Rubbing hands\",\"D:\\\\Project-mpg microgesture\\\\smg\\\\split_files_64\\\\0013_048_06336-06400_8.mp4\"],[\"Rubbing hands\",\"D:\\\\Project-mpg microgesture\\\\smg\\\\split_files_64\\\\0013_098_13129-13193_13.mp4\"],[\"Rubbing hands\",\"D:\\\\Project-mpg microgesture\\\\smg\\\\split_files_64\\\\0013_116_14555-14619_8.mp4\"],[\"Rubbing hands\",\"D:\\\\Project-mpg microgesture\\\\smg\\\\split_files_64\\\\0013_176_19722-19786_8.mp4\"],[\"Rubbing hands\",\"D:\\\\Project-mpg microgesture\\\\smg\\\\split_files_64\\\\0013_186_20662-20726_8.mp4\"],[\"Rubbing hands\",\"D:\\\\Project-mpg microgesture\\\\smg\\\\split_files_64\\\\0013_188_20744-20808_8.mp4\"],[\"Rubbing hands\",\"D:\\\\Project-mpg microgesture\\\\smg\\\\split_files_64\\\\0013_192_20905-20969_7.mp4\"],[\"Rubbing hands\",\"D:\\\\Project-mpg microgesture\\\\smg\\\\split_files_64\\\\0014_006_03568-03632_8.mp4\"],[\"Rubbing hands\",\"D:\\\\Project-mpg microgesture\\\\smg\\\\split_files_64\\\\0014_018_15253-15317_8.mp4\"],[\"Rubbing hands\",\"D:\\\\Project-mpg microgesture\\\\smg\\\\split_files_64\\\\0014_020_15662-15726_8.mp4\"],[\"Rubbing hands\",\"D:\\\\Project-mpg microgesture\\\\smg\\\\split_files_64\\\\0014_029_22203-22267_8.mp4\"],[\"Rubbing hands\",\"D:\\\\Project-mpg microgesture\\\\smg\\\\split_files_64\\\\0014_031_22267-22331_8.mp4\"],[\"Rubbing hands\",\"D:\\\\Project-mpg microgesture\\\\smg\\\\split_files_64\\\\0014_037_22555-22619_8.mp4\"],[\"Rubbing hands\",\"D:\\\\Project-mpg microgesture\\\\smg\\\\split_files_64\\\\0014_039_22629-22693_8.mp4\"],[\"Rubbing hands\",\"D:\\\\Project-mpg microgesture\\\\smg\\\\split_files_64\\\\0014_042_22802-22866_8.mp4\"],[\"Rubbing hands\",\"D:\\\\Project-mpg microgesture\\\\smg\\\\split_files_64\\\\0014_046_23455-23519_7.mp4\"],[\"Rubbing hands\",\"D:\\\\Project-mpg microgesture\\\\smg\\\\split_files_64\\\\0014_049_25437-25501_7.mp4\"],[\"Rubbing hands\",\"D:\\\\Project-mpg microgesture\\\\smg\\\\split_files_64\\\\0015_033_04441-04505_4.mp4\"],[\"Rubbing hands\",\"D:\\\\Project-mpg microgesture\\\\smg\\\\split_files_64\\\\0015_035_04559-04623_4.mp4\"],[\"Rubbing hands\",\"D:\\\\Project-mpg microgesture\\\\smg\\\\split_files_64\\\\0015_086_08892-08956_8.mp4\"],[\"Rubbing hands\",\"D:\\\\Project-mpg microgesture\\\\smg\\\\split_files_64\\\\0015_088_09011-09075_8.mp4\"],[\"Rubbing hands\",\"D:\\\\Project-mpg microgesture\\\\smg\\\\split_files_64\\\\0015_089_09051-09115_8.mp4\"],[\"Rubbing hands\",\"D:\\\\Project-mpg microgesture\\\\smg\\\\split_files_64\\\\0015_090_09508-09572_8.mp4\"],[\"Rubbing hands\",\"D:\\\\Project-mpg microgesture\\\\smg\\\\split_files_64\\\\0015_134_14436-14500_4.mp4\"],[\"Rubbing hands\",\"D:\\\\Project-mpg microgesture\\\\smg\\\\split_files_64\\\\0015_138_14888-14952_6.mp4\"],[\"Rubbing hands\",\"D:\\\\Project-mpg microgesture\\\\smg\\\\split_files_64\\\\0015_182_18976-19040_8.mp4\"],[\"Rubbing hands\",\"D:\\\\Project-mpg microgesture\\\\smg\\\\split_files_64\\\\0015_205_20022-20086_8.mp4\"],[\"Rubbing hands\",\"D:\\\\Project-mpg microgesture\\\\smg\\\\split_files_64\\\\0015_206_20086-20150_4.mp4\"],[\"Rubbing hands\",\"D:\\\\Project-mpg microgesture\\\\smg\\\\split_files_64\\\\0015_246_24309-24373_4.mp4\"],[\"Rubbing hands\",\"D:\\\\Project-mpg microgesture\\\\smg\\\\split_files_64\\\\0015_247_24461-24525_4.mp4\"],[\"Rubbing hands\",\"D:\\\\Project-mpg microgesture\\\\smg\\\\split_files_64\\\\0015_262_25843-25907_4.mp4\"],[\"Rubbing hands\",\"D:\\\\Project-mpg microgesture\\\\smg\\\\split_files_64\\\\0015_269_26508-26572_4.mp4\"],[\"Rubbing hands\",\"D:\\\\Project-mpg microgesture\\\\smg\\\\split_files_64\\\\0015_270_26594-26658_4.mp4\"],[\"Rubbing hands\",\"D:\\\\Project-mpg microgesture\\\\smg\\\\split_files_64\\\\0015_275_27177-27241_4.mp4\"],[\"Rubbing hands\",\"D:\\\\Project-mpg microgesture\\\\smg\\\\split_files_64\\\\0016_000_00340-00404_7.mp4\"],[\"Rubbing hands\",\"D:\\\\Project-mpg microgesture\\\\smg\\\\split_files_64\\\\0016_001_00734-00798_7.mp4\"],[\"Rubbing hands\",\"D:\\\\Project-mpg microgesture\\\\smg\\\\split_files_64\\\\0016_013_02603-02667_4.mp4\"],[\"Rubbing hands\",\"D:\\\\Project-mpg microgesture\\\\smg\\\\split_files_64\\\\0016_014_02758-02822_4.mp4\"],[\"Rubbing hands\",\"D:\\\\Project-mpg microgesture\\\\smg\\\\split_files_64\\\\0016_016_02961-03025_2.mp4\"],[\"Rubbing hands\",\"D:\\\\Project-mpg microgesture\\\\smg\\\\split_files_64\\\\0016_023_03858-03922_1.mp4\"],[\"Rubbing hands\",\"D:\\\\Project-mpg microgesture\\\\smg\\\\split_files_64\\\\0016_026_04028-04092_11.mp4\"],[\"Rubbing hands\",\"D:\\\\Project-mpg microgesture\\\\smg\\\\split_files_64\\\\0016_030_05524-05588_11.mp4\"],[\"Rubbing hands\",\"D:\\\\Project-mpg microgesture\\\\smg\\\\split_files_64\\\\0016_031_06153-06217_4.mp4\"],[\"Rubbing hands\",\"D:\\\\Project-mpg microgesture\\\\smg\\\\split_files_64\\\\0016_032_07234-07298_4.mp4\"],[\"Rubbing hands\",\"D:\\\\Project-mpg microgesture\\\\smg\\\\split_files_64\\\\0016_036_08090-08154_4.mp4\"],[\"Rubbing hands\",\"D:\\\\Project-mpg microgesture\\\\smg\\\\split_files_64\\\\0016_037_09079-09143_4.mp4\"],[\"Rubbing hands\",\"D:\\\\Project-mpg microgesture\\\\smg\\\\split_files_64\\\\0016_066_13676-13740_7.mp4\"],[\"Rubbing hands\",\"D:\\\\Project-mpg microgesture\\\\smg\\\\split_files_64\\\\0016_067_13992-14056_4.mp4\"],[\"Rubbing hands\",\"D:\\\\Project-mpg microgesture\\\\smg\\\\split_files_64\\\\0016_068_14056-14120_7.mp4\"],[\"Rubbing hands\",\"D:\\\\Project-mpg microgesture\\\\smg\\\\split_files_64\\\\0016_069_14131-14195_7.mp4\"],[\"Rubbing hands\",\"D:\\\\Project-mpg microgesture\\\\smg\\\\split_files_64\\\\0016_070_14195-14259_14.mp4\"],[\"Rubbing hands\",\"D:\\\\Project-mpg microgesture\\\\smg\\\\split_files_64\\\\0016_073_14734-14798_7.mp4\"],[\"Rubbing hands\",\"D:\\\\Project-mpg microgesture\\\\smg\\\\split_files_64\\\\0016_088_18096-18160_2.mp4\"],[\"Rubbing hands\",\"D:\\\\Project-mpg microgesture\\\\smg\\\\split_files_64\\\\0016_090_18540-18604_4.mp4\"],[\"Rubbing hands\",\"D:\\\\Project-mpg microgesture\\\\smg\\\\split_files_64\\\\0017_021_04194-04258_15.mp4\"],[\"Rubbing hands\",\"D:\\\\Project-mpg microgesture\\\\smg\\\\split_files_64\\\\0017_022_04735-04799_15.mp4\"],[\"Rubbing hands\",\"D:\\\\Project-mpg microgesture\\\\smg\\\\split_files_64\\\\0017_077_09320-09384_8.mp4\"],[\"Rubbing hands\",\"D:\\\\Project-mpg microgesture\\\\smg\\\\split_files_64\\\\0019_018_05309-05373_13.mp4\"],[\"Rubbing hands\",\"D:\\\\Project-mpg microgesture\\\\smg\\\\split_files_64\\\\0019_019_05541-05605_8.mp4\"],[\"Rubbing hands\",\"D:\\\\Project-mpg microgesture\\\\smg\\\\split_files_64\\\\0019_042_15485-15549_2.mp4\"],[\"Rubbing hands\",\"D:\\\\Project-mpg microgesture\\\\smg\\\\split_files_64\\\\0019_047_16500-16564_2.mp4\"],[\"Rubbing hands\",\"D:\\\\Project-mpg microgesture\\\\smg\\\\split_files_64\\\\0020_008_03069-03133_8.mp4\"],[\"Rubbing hands\",\"D:\\\\Project-mpg microgesture\\\\smg\\\\split_files_64\\\\0020_010_03141-03205_8.mp4\"],[\"Rubbing hands\",\"D:\\\\Project-mpg microgesture\\\\smg\\\\split_files_64\\\\0020_011_03198-03262_8.mp4\"],[\"Rubbing hands\",\"D:\\\\Project-mpg microgesture\\\\smg\\\\split_files_64\\\\0020_015_03696-03760_7.mp4\"],[\"Rubbing hands\",\"D:\\\\Project-mpg microgesture\\\\smg\\\\split_files_64\\\\0020_021_04622-04686_4.mp4\"],[\"Rubbing hands\",\"D:\\\\Project-mpg microgesture\\\\smg\\\\split_files_64\\\\0020_026_05992-06056_8.mp4\"],[\"Rubbing hands\",\"D:\\\\Project-mpg microgesture\\\\smg\\\\split_files_64\\\\0020_046_11131-11195_4.mp4\"],[\"Rubbing hands\",\"D:\\\\Project-mpg microgesture\\\\smg\\\\split_files_64\\\\0020_051_11761-11825_4.mp4\"],[\"Rubbing hands\",\"D:\\\\Project-mpg microgesture\\\\smg\\\\split_files_64\\\\0020_054_13528-13592_4.mp4\"],[\"Rubbing hands\",\"D:\\\\Project-mpg microgesture\\\\smg\\\\split_files_64\\\\0020_060_14241-14305_4.mp4\"],[\"Rubbing hands\",\"D:\\\\Project-mpg microgesture\\\\smg\\\\split_files_64\\\\0020_095_18212-18276_6.mp4\"],[\"Rubbing hands\",\"D:\\\\Project-mpg microgesture\\\\smg\\\\split_files_64\\\\0021_020_03675-03739_4.mp4\"],[\"Rubbing hands\",\"D:\\\\Project-mpg microgesture\\\\smg\\\\split_files_64\\\\0021_021_05912-05976_8.mp4\"],[\"Rubbing hands\",\"D:\\\\Project-mpg microgesture\\\\smg\\\\split_files_64\\\\0021_035_10735-10799_4.mp4\"],[\"Rubbing hands\",\"D:\\\\Project-mpg microgesture\\\\smg\\\\split_files_64\\\\0021_036_10842-10906_4.mp4\"],[\"Rubbing hands\",\"D:\\\\Project-mpg microgesture\\\\smg\\\\split_files_64\\\\0021_037_11859-11923_2.mp4\"],[\"Rubbing hands\",\"D:\\\\Project-mpg microgesture\\\\smg\\\\split_files_64\\\\0022_047_07890-07954_8.mp4\"],[\"Rubbing hands\",\"D:\\\\Project-mpg microgesture\\\\smg\\\\split_files_64\\\\0022_050_08378-08442_8.mp4\"],[\"Rubbing hands\",\"D:\\\\Project-mpg microgesture\\\\smg\\\\split_files_64\\\\0022_053_08556-08620_4.mp4\"],[\"Rubbing hands\",\"D:\\\\Project-mpg microgesture\\\\smg\\\\split_files_64\\\\0022_059_09252-09316_11.mp4\"],[\"Rubbing hands\",\"D:\\\\Project-mpg microgesture\\\\smg\\\\split_files_64\\\\0022_061_09387-09451_4.mp4\"],[\"Rubbing hands\",\"D:\\\\Project-mpg microgesture\\\\smg\\\\split_files_64\\\\0022_067_11832-11896_4.mp4\"],[\"Rubbing hands\",\"D:\\\\Project-mpg microgesture\\\\smg\\\\split_files_64\\\\0022_070_13043-13107_4.mp4\"],[\"Rubbing hands\",\"D:\\\\Project-mpg microgesture\\\\smg\\\\split_files_64\\\\0022_079_17405-17469_4.mp4\"],[\"Rubbing hands\",\"D:\\\\Project-mpg microgesture\\\\smg\\\\split_files_64\\\\0022_114_21929-21993_8.mp4\"],[\"Rubbing hands\",\"D:\\\\Project-mpg microgesture\\\\smg\\\\split_files_64\\\\0022_115_22028-22092_8.mp4\"],[\"Rubbing hands\",\"D:\\\\Project-mpg microgesture\\\\smg\\\\split_files_64\\\\0022_135_24895-24959_4.mp4\"],[\"Rubbing hands\",\"D:\\\\Project-mpg microgesture\\\\smg\\\\split_files_64\\\\0022_137_25605-25669_4.mp4\"],[\"Rubbing hands\",\"D:\\\\Project-mpg microgesture\\\\smg\\\\split_files_64\\\\0024_031_10982-11046_4.mp4\"],[\"Rubbing hands\",\"D:\\\\Project-mpg microgesture\\\\smg\\\\split_files_64\\\\0025_028_21051-21115_4.mp4\"],[\"Rubbing hands\",\"D:\\\\Project-mpg microgesture\\\\smg\\\\split_files_64\\\\0025_038_26259-26323_4.mp4\"],[\"Rubbing hands\",\"D:\\\\Project-mpg microgesture\\\\smg\\\\split_files_64\\\\0026_003_02178-02242_12.mp4\"],[\"Rubbing hands\",\"D:\\\\Project-mpg microgesture\\\\smg\\\\split_files_64\\\\0026_109_20313-20377_6.mp4\"],[\"Rubbing hands\",\"D:\\\\Project-mpg microgesture\\\\smg\\\\split_files_64\\\\0027_022_03374-03438_4.mp4\"],[\"Rubbing hands\",\"D:\\\\Project-mpg microgesture\\\\smg\\\\split_files_64\\\\0027_026_03571-03635_4.mp4\"],[\"Rubbing hands\",\"D:\\\\Project-mpg microgesture\\\\smg\\\\split_files_64\\\\0027_054_05040-05104_4.mp4\"],[\"Rubbing hands\",\"D:\\\\Project-mpg microgesture\\\\smg\\\\split_files_64\\\\0027_081_07759-07823_4.mp4\"],[\"Rubbing hands\",\"D:\\\\Project-mpg microgesture\\\\smg\\\\split_files_64\\\\0027_120_09659-09723_4.mp4\"],[\"Rubbing hands\",\"D:\\\\Project-mpg microgesture\\\\smg\\\\split_files_64\\\\0027_129_10769-10833_4.mp4\"],[\"Rubbing hands\",\"D:\\\\Project-mpg microgesture\\\\smg\\\\split_files_64\\\\0027_141_11599-11663_4.mp4\"],[\"Rubbing hands\",\"D:\\\\Project-mpg microgesture\\\\smg\\\\split_files_64\\\\0027_156_12675-12739_4.mp4\"],[\"Rubbing hands\",\"D:\\\\Project-mpg microgesture\\\\smg\\\\split_files_64\\\\0027_292_25130-25194_7.mp4\"],[\"Rubbing hands\",\"D:\\\\Project-mpg microgesture\\\\smg\\\\split_files_64\\\\0027_312_26713-26777_4.mp4\"],[\"Rubbing hands\",\"D:\\\\Project-mpg microgesture\\\\smg\\\\split_files_64\\\\0027_320_27676-27740_4.mp4\"],[\"Rubbing hands\",\"D:\\\\Project-mpg microgesture\\\\smg\\\\split_files_64\\\\0028_000_00532-00596_7.mp4\"],[\"Rubbing hands\",\"D:\\\\Project-mpg microgesture\\\\smg\\\\split_files_64\\\\0028_021_06278-06342_12.mp4\"],[\"Rubbing hands\",\"D:\\\\Project-mpg microgesture\\\\smg\\\\split_files_64\\\\0028_022_06342-06406_12.mp4\"],[\"Rubbing hands\",\"D:\\\\Project-mpg microgesture\\\\smg\\\\split_files_64\\\\0028_023_06406-06470_12.mp4\"],[\"Rubbing hands\",\"D:\\\\Project-mpg microgesture\\\\smg\\\\split_files_64\\\\0028_046_16397-16461_2.mp4\"],[\"Rubbing hands\",\"D:\\\\Project-mpg microgesture\\\\smg\\\\split_files_64\\\\0028_051_18850-18914_2.mp4\"],[\"Rubbing hands\",\"D:\\\\Project-mpg microgesture\\\\smg\\\\split_files_64\\\\0028_058_19373-19437_11.mp4\"],[\"Rubbing hands\",\"D:\\\\Project-mpg microgesture\\\\smg\\\\split_files_64\\\\0029_026_13458-13522_8.mp4\"],[\"Rubbing hands\",\"D:\\\\Project-mpg microgesture\\\\smg\\\\split_files_64\\\\0029_027_14035-14099_8.mp4\"],[\"Rubbing hands\",\"D:\\\\Project-mpg microgesture\\\\smg\\\\split_files_64\\\\0031_013_02801-02865_4.mp4\"],[\"Rubbing hands\",\"D:\\\\Project-mpg microgesture\\\\smg\\\\split_files_64\\\\0031_014_02891-02955_4.mp4\"],[\"Rubbing hands\",\"D:\\\\Project-mpg microgesture\\\\smg\\\\split_files_64\\\\0031_017_04177-04241_4.mp4\"],[\"Rubbing hands\",\"D:\\\\Project-mpg microgesture\\\\smg\\\\split_files_64\\\\0031_018_04241-04305_4.mp4\"],[\"Rubbing hands\",\"D:\\\\Project-mpg microgesture\\\\smg\\\\split_files_64\\\\0031_019_04826-04890_4.mp4\"],[\"Rubbing hands\",null],[\"Rubbing hands\",null],[\"Rubbing hands\",null],[\"Rubbing hands\",null],[\"Rubbing hands\",null],[\"Rubbing hands\",null],[\"Rubbing hands\",null],[\"Rubbing hands\",null],[\"Rubbing hands\",null],[\"Rubbing hands\",null],[\"Rubbing hands\",null],[\"Rubbing hands\",null],[\"Rubbing hands\",null],[\"Rubbing hands\",null],[\"Rubbing hands\",null],[\"Rubbing hands\",null],[\"Rubbing hands\",null],[\"Rubbing hands\",null],[\"Rubbing hands\",null],[\"Rubbing hands\",null],[\"Rubbing hands\",null],[\"Rubbing hands\",null],[\"Rubbing hands\",null],[\"Rubbing hands\",null],[\"Rubbing hands\",null],[\"Rubbing hands\",null],[\"Rubbing hands\",null],[\"Rubbing hands\",null],[\"Rubbing hands\",null],[\"Rubbing hands\",null],[\"Rubbing hands\",null],[\"Rubbing hands\",null],[\"Rubbing hands\",null],[\"Rubbing hands\",null]],\"hovertemplate\":\"label=%{customdata[0]}<br>umap1=%{x}<br>umap2=%{y}<br>file_paths=%{customdata[1]}<extra></extra>\",\"legendgroup\":\"Rubbing hands\",\"marker\":{\"color\":\"#00cc96\",\"symbol\":\"circle\"},\"mode\":\"markers\",\"name\":\"Rubbing hands\",\"orientation\":\"v\",\"showlegend\":true,\"x\":[16.91151237487793,16.1075439453125,15.918619155883789,15.691747665405273,14.496452331542969,16.241010665893555,16.949670791625977,17.14995002746582,17.079788208007812,15.67208480834961,15.936208724975586,15.924141883850098,15.769796371459961,17.663476943969727,15.92708683013916,15.776592254638672,15.781801223754883,15.152831077575684,14.591070175170898,16.01470184326172,15.7380952835083,15.889176368713379,14.91773796081543,14.620393753051758,14.540390014648438,14.359415054321289,14.310929298400879,15.95510196685791,17.2799129486084,16.882129669189453,15.916360855102539,17.150529861450195,17.3833065032959,17.20513343811035,15.529953956604004,15.70930004119873,15.571161270141602,14.507049560546875,15.78054428100586,16.091922760009766,16.937772750854492,17.280378341674805,16.934274673461914,16.872421264648438,16.74596405029297,16.09001350402832,16.896711349487305,17.379215240478516,17.15487289428711,17.361801147460938,17.24967384338379,16.055322647094727,17.201536178588867,15.17880916595459,15.522711753845215,15.298532485961914,15.739179611206055,15.574252128601074,15.129386901855469,16.591018676757812,16.079017639160156,15.831352233886719,15.509720802307129,15.189003944396973,16.9411563873291,15.58346939086914,13.896275520324707,14.521537780761719,15.27785587310791,15.162610054016113,15.157567024230957,16.800037384033203,16.564592361450195,16.209739685058594,16.371166229248047,16.900983810424805,16.958282470703125,15.523100852966309,15.560578346252441,15.551060676574707,16.303586959838867,17.948469161987305,17.342784881591797,17.360538482666016,17.988840103149414,-6.291917324066162,17.40801239013672,17.93012237548828,17.313819885253906,17.929521560668945,17.12274169921875,18.007293701171875,17.407230377197266,18.054224014282227,17.050460815429688,16.902143478393555,17.00133514404297,16.898910522460938,16.85845375061035,17.019699096679688,16.90060806274414,17.076705932617188,17.019794464111328,16.296297073364258,16.239974975585938,14.680193901062012,16.016944885253906,17.298330307006836,17.126001358032227,17.186365127563477,16.005229949951172,15.035175323486328,16.938365936279297,15.744584083557129,-5.83411979675293,14.475275993347168,15.6524076461792,14.706145286560059,15.67465591430664,14.321834564208984,16.00189971923828,15.975152015686035,16.35807228088379,16.71487808227539,17.01491355895996,18.27511978149414,14.860450744628906,16.849769592285156,16.78213119506836,17.323528289794922,14.61546802520752,17.338085174560547,14.639833450317383,17.3293399810791,16.70346450805664,18.054851531982422,17.062088012695312,17.397804260253906,17.1319522857666,17.115541458129883,18.17160415649414,14.439440727233887,18.07149887084961,14.974105834960938,16.358705520629883,-5.768353462219238,14.569685935974121,2.008800745010376,16.325145721435547,14.561767578125,14.574727058410645,17.921566009521484,17.505903244018555,14.565972328186035,15.79167366027832,16.432592391967773,14.687871932983398,16.305362701416016,16.40412139892578,17.788068771362305,16.048938751220703,17.08623504638672,14.60009765625,18.167314529418945,15.857810974121094,16.47559928894043,16.011837005615234,11.229790687561035,14.34557056427002,15.647871971130371,17.12042999267578,16.31955909729004,16.01688003540039,15.347834587097168,15.95008659362793,15.393064498901367,15.457579612731934,15.877933502197266,16.298309326171875,14.791216850280762,16.675458908081055,16.76068115234375,14.587657928466797,16.47547721862793,16.210586547851562,16.148067474365234,16.10106658935547,16.15627098083496,15.650924682617188,14.397627830505371,15.995697021484375,17.072193145751953,17.773548126220703,16.2708797454834,16.41123390197754,16.810401916503906,17.02739715576172,17.033037185668945,17.545747756958008,17.39516830444336,15.941922187805176,17.404094696044922,16.661415100097656,15.363323211669922,17.0368709564209,17.253721237182617,17.50177574157715,17.2515811920166,17.637664794921875,18.085906982421875,14.827919006347656,17.37476348876953,14.943443298339844,17.68525505065918,17.780921936035156,16.26557731628418,15.900652885437012,16.98438835144043,15.536397933959961,14.781123161315918,15.823455810546875,16.154373168945312,16.425344467163086,14.734663963317871,14.743125915527344,17.28569221496582,14.763038635253906,15.486529350280762,16.176677703857422,15.366570472717285],\"xaxis\":\"x\",\"y\":[-2.9526422023773193,-2.310325860977173,-1.347676396369934,-3.4935100078582764,-5.048759460449219,-2.289909601211548,-2.519308090209961,-2.359612464904785,-2.3615224361419678,-4.569509983062744,-1.4758830070495605,-1.4770326614379883,-4.611420631408691,-4.308055400848389,-3.843621015548706,-4.02825403213501,-3.9495983123779297,-4.11992073059082,-5.005636215209961,-4.1613874435424805,-4.600229740142822,-3.8922152519226074,-4.28444766998291,-4.438795566558838,-4.942525386810303,-5.102659225463867,-5.1203765869140625,-2.3613603115081787,-2.6750125885009766,-2.502908229827881,-1.3046327829360962,-2.419545888900757,-2.783048629760742,-2.389044761657715,-2.851705312728882,-4.153472423553467,-2.664968490600586,-4.785068988800049,-2.562190055847168,-2.3250224590301514,-2.548182249069214,-2.7369630336761475,-2.4958295822143555,-2.570180654525757,-2.5251803398132324,-2.2619259357452393,-2.4800868034362793,-2.7892727851867676,-2.4163317680358887,-2.7495920658111572,-2.6775314807891846,-2.3871870040893555,-2.5953457355499268,-4.27287483215332,-3.7241485118865967,-4.211977005004883,-3.819701671600342,-3.8130276203155518,-4.248258113861084,-3.9961659908294678,-4.0038371086120605,-4.3096466064453125,-2.8158843517303467,-4.234543323516846,-2.9302072525024414,-4.091749668121338,-1.8987088203430176,-4.984140396118164,-4.202172756195068,5.786473274230957,-4.2742533683776855,-2.5013587474823,-2.3912453651428223,-2.339303493499756,-2.3576250076293945,-2.63321590423584,-2.569732189178467,-4.201972007751465,-4.174407958984375,-3.1489429473876953,-4.064285755157471,-4.607656002044678,-4.780823707580566,-4.506700038909912,-4.6755051612854,2.4483370780944824,-4.631211280822754,-4.722345352172852,-5.16119909286499,-4.720644950866699,-4.2637457847595215,-4.710851192474365,-4.917186737060547,-4.652913570404053,-4.489934921264648,-4.532321453094482,-4.140185356140137,-4.384574890136719,-4.1664533615112305,-4.20659065246582,-4.209700584411621,-4.2000651359558105,-4.232784271240234,-4.561445236206055,-4.295176982879639,-3.8623862266540527,-3.947420120239258,-4.816546440124512,-4.234699726104736,-4.502142429351807,-4.15751838684082,-2.6072592735290527,-4.164308071136475,-3.3478517532348633,1.5028334856033325,-2.1520421504974365,-4.792600631713867,-2.287653684616089,-5.453848838806152,-2.0393526554107666,-3.6995737552642822,-4.488222599029541,-4.5304436683654785,-4.0648064613342285,-4.461662292480469,-4.518920421600342,-2.5196616649627686,-4.845942497253418,-5.173981666564941,-4.952348709106445,-2.3028764724731445,-4.974621772766113,-2.3317337036132812,-4.624817848205566,-4.347949981689453,-4.551948547363281,-4.913164138793945,-5.123344421386719,-5.0530242919921875,-4.179270267486572,-4.621064186096191,-2.664562702178955,-4.69387149810791,-2.3539953231811523,-4.54507303237915,1.4198001623153687,-5.0056304931640625,10.330550193786621,-5.084483623504639,-2.362945318222046,-2.441007137298584,-4.432222843170166,-4.433979034423828,-3.846724271774292,-4.430476665496826,-5.145686626434326,-2.304264545440674,-4.941851615905762,-4.99406623840332,-4.39954948425293,-4.887540817260742,-4.59224796295166,-3.866899251937866,-4.648130893707275,-4.410792350769043,-5.291438579559326,-5.538334846496582,15.28672981262207,-2.072244644165039,-5.459687232971191,-4.7523369789123535,-4.598342418670654,-4.28237247467041,-5.302903175354004,-4.541032791137695,-5.432559013366699,-5.317389488220215,-4.472878456115723,-4.585314750671387,-2.2643089294433594,-4.371983051300049,-4.2556352615356445,-2.2663276195526123,-4.477911949157715,-4.410154819488525,-4.028688430786133,-3.993243455886841,-3.956730842590332,-4.765453815460205,-2.0773839950561523,-3.8922717571258545,-4.818725109100342,-4.89477014541626,-4.630950927734375,-5.279042720794678,-2.471184730529785,-4.637196063995361,-3.0452721118927,-5.035667419433594,-5.029944896697998,-5.411612510681152,-5.177971363067627,-4.623797416687012,-5.367527961730957,-4.889873027801514,-5.208890438079834,-5.122287273406982,-4.8476433753967285,-4.962190628051758,-4.808687686920166,-2.5142340660095215,-5.008848190307617,-2.5944957733154297,-4.969078540802002,-4.8549323081970215,-5.423344612121582,-4.4611711502075195,-4.1875481605529785,-5.190084457397461,-2.401569128036499,-5.3546061515808105,-5.0669331550598145,-4.522181987762451,-2.3366525173187256,-2.3416872024536133,-5.083248615264893,-2.3588788509368896,-5.205148696899414,-4.763669013977051,-5.432490825653076],\"yaxis\":\"y\",\"type\":\"scatter\"},{\"customdata\":[[\"Rubbing face\",\"D:\\\\Project-mpg microgesture\\\\smg\\\\split_files_64\\\\0001_021_08424-08488_1.mp4\"],[\"Rubbing face\",\"D:\\\\Project-mpg microgesture\\\\smg\\\\split_files_64\\\\0004_070_14383-14447_8.mp4\"],[\"Rubbing face\",\"D:\\\\Project-mpg microgesture\\\\smg\\\\split_files_64\\\\0004_072_15764-15828_8.mp4\"],[\"Rubbing face\",\"D:\\\\Project-mpg microgesture\\\\smg\\\\split_files_64\\\\0004_074_17134-17198_8.mp4\"],[\"Rubbing face\",\"D:\\\\Project-mpg microgesture\\\\smg\\\\split_files_64\\\\0004_080_19102-19166_13.mp4\"],[\"Rubbing face\",\"D:\\\\Project-mpg microgesture\\\\smg\\\\split_files_64\\\\0004_110_21799-21863_8.mp4\"],[\"Rubbing face\",\"D:\\\\Project-mpg microgesture\\\\smg\\\\split_files_64\\\\0004_122_22700-22764_11.mp4\"],[\"Rubbing face\",\"D:\\\\Project-mpg microgesture\\\\smg\\\\split_files_64\\\\0004_124_22828-22892_8.mp4\"],[\"Rubbing face\",\"D:\\\\Project-mpg microgesture\\\\smg\\\\split_files_64\\\\0004_130_23167-23231_4.mp4\"],[\"Rubbing face\",\"D:\\\\Project-mpg microgesture\\\\smg\\\\split_files_64\\\\0004_133_23499-23563_13.mp4\"],[\"Rubbing face\",\"D:\\\\Project-mpg microgesture\\\\smg\\\\split_files_64\\\\0004_134_23662-23726_2.mp4\"],[\"Rubbing face\",\"D:\\\\Project-mpg microgesture\\\\smg\\\\split_files_64\\\\0004_135_23704-23768_1.mp4\"],[\"Rubbing face\",\"D:\\\\Project-mpg microgesture\\\\smg\\\\split_files_64\\\\0004_137_23839-23903_7.mp4\"],[\"Rubbing face\",\"D:\\\\Project-mpg microgesture\\\\smg\\\\split_files_64\\\\0004_140_24012-24076_11.mp4\"],[\"Rubbing face\",\"D:\\\\Project-mpg microgesture\\\\smg\\\\split_files_64\\\\0005_018_05239-05303_4.mp4\"],[\"Rubbing face\",\"D:\\\\Project-mpg microgesture\\\\smg\\\\split_files_64\\\\0008_055_09115-09179_8.mp4\"],[\"Rubbing face\",\"D:\\\\Project-mpg microgesture\\\\smg\\\\split_files_64\\\\0010_065_10589-10653_8.mp4\"],[\"Rubbing face\",\"D:\\\\Project-mpg microgesture\\\\smg\\\\split_files_64\\\\0010_068_10731-10795_8.mp4\"],[\"Rubbing face\",\"D:\\\\Project-mpg microgesture\\\\smg\\\\split_files_64\\\\0010_069_10739-10803_8.mp4\"],[\"Rubbing face\",\"D:\\\\Project-mpg microgesture\\\\smg\\\\split_files_64\\\\0010_122_17240-17304_6.mp4\"],[\"Rubbing face\",\"D:\\\\Project-mpg microgesture\\\\smg\\\\split_files_64\\\\0010_181_24641-24705_6.mp4\"],[\"Rubbing face\",\"D:\\\\Project-mpg microgesture\\\\smg\\\\split_files_64\\\\0013_131_15505-15569_2.mp4\"],[\"Rubbing face\",\"D:\\\\Project-mpg microgesture\\\\smg\\\\split_files_64\\\\0013_141_16906-16970_8.mp4\"],[\"Rubbing face\",\"D:\\\\Project-mpg microgesture\\\\smg\\\\split_files_64\\\\0013_144_17248-17312_8.mp4\"],[\"Rubbing face\",\"D:\\\\Project-mpg microgesture\\\\smg\\\\split_files_64\\\\0013_160_18016-18080_13.mp4\"],[\"Rubbing face\",\"D:\\\\Project-mpg microgesture\\\\smg\\\\split_files_64\\\\0019_044_15673-15737_8.mp4\"],[\"Rubbing face\",\"D:\\\\Project-mpg microgesture\\\\smg\\\\split_files_64\\\\0020_019_04401-04465_6.mp4\"],[\"Rubbing face\",\"D:\\\\Project-mpg microgesture\\\\smg\\\\split_files_64\\\\0020_022_04963-05027_4.mp4\"],[\"Rubbing face\",\"D:\\\\Project-mpg microgesture\\\\smg\\\\split_files_64\\\\0021_062_19767-19831_4.mp4\"],[\"Rubbing face\",\"D:\\\\Project-mpg microgesture\\\\smg\\\\split_files_64\\\\0022_000_00761-00825_8.mp4\"],[\"Rubbing face\",\"D:\\\\Project-mpg microgesture\\\\smg\\\\split_files_64\\\\0022_001_00805-00869_12.mp4\"],[\"Rubbing face\",\"D:\\\\Project-mpg microgesture\\\\smg\\\\split_files_64\\\\0026_051_11744-11808_15.mp4\"],[\"Rubbing face\",\"D:\\\\Project-mpg microgesture\\\\smg\\\\split_files_64\\\\0027_247_21323-21387_11.mp4\"],[\"Rubbing face\",\"D:\\\\Project-mpg microgesture\\\\smg\\\\split_files_64\\\\0031_086_14457-14521_4.mp4\"],[\"Rubbing face\",null],[\"Rubbing face\",null]],\"hovertemplate\":\"label=%{customdata[0]}<br>umap1=%{x}<br>umap2=%{y}<br>file_paths=%{customdata[1]}<extra></extra>\",\"legendgroup\":\"Rubbing face\",\"marker\":{\"color\":\"#ab63fa\",\"symbol\":\"circle\"},\"mode\":\"markers\",\"name\":\"Rubbing face\",\"orientation\":\"v\",\"showlegend\":true,\"x\":[13.48653793334961,1.8179399967193604,15.972960472106934,15.961729049682617,1.7089385986328125,1.4254906177520752,2.957400321960449,1.41656494140625,1.4855976104736328,1.8287878036499023,1.4742392301559448,1.4382387399673462,1.5189441442489624,1.529052495956421,1.858070731163025,2.6469593048095703,2.4036052227020264,2.9579052925109863,17.31260871887207,2.7406396865844727,2.7747583389282227,2.1674301624298096,2.193556547164917,2.0269672870635986,2.175443649291992,2.2492425441741943,2.7064008712768555,2.537832021713257,5.212595462799072,3.6841745376586914,7.539878845214844,5.353873252868652,3.8768107891082764,2.2645263671875,2.4976022243499756,-5.523679256439209],\"xaxis\":\"x\",\"y\":[-2.2938003540039062,7.384671211242676,-1.0423213243484497,-1.0561684370040894,6.5059123039245605,6.037338733673096,6.092557430267334,6.042557716369629,6.124312400817871,6.716187000274658,6.132323741912842,6.01950740814209,6.18773889541626,6.182973861694336,6.7825236320495605,8.296707153320312,7.89014196395874,6.092608451843262,-2.7037055492401123,8.48638916015625,8.73186206817627,7.564820766448975,7.585053443908691,7.470570087432861,7.553216934204102,9.072386741638184,8.791664123535156,8.877734184265137,8.261858940124512,8.872954368591309,8.084983825683594,8.203043937683105,10.099019050598145,9.068391799926758,8.902506828308105,3.3874871730804443],\"yaxis\":\"y\",\"type\":\"scatter\"},{\"customdata\":[[\"Holding arms\",\"D:\\\\Project-mpg microgesture\\\\smg\\\\split_files_64\\\\0002_024_09691-09755_7.mp4\"],[\"Holding arms\",\"D:\\\\Project-mpg microgesture\\\\smg\\\\split_files_64\\\\0003_010_08788-08852_8.mp4\"],[\"Holding arms\",\"D:\\\\Project-mpg microgesture\\\\smg\\\\split_files_64\\\\0003_034_26184-26248_13.mp4\"],[\"Holding arms\",\"D:\\\\Project-mpg microgesture\\\\smg\\\\split_files_64\\\\0003_035_26567-26631_13.mp4\"],[\"Holding arms\",\"D:\\\\Project-mpg microgesture\\\\smg\\\\split_files_64\\\\0004_000_01948-02012_7.mp4\"],[\"Holding arms\",\"D:\\\\Project-mpg microgesture\\\\smg\\\\split_files_64\\\\0004_002_02716-02780_8.mp4\"],[\"Holding arms\",\"D:\\\\Project-mpg microgesture\\\\smg\\\\split_files_64\\\\0004_004_04225-04289_8.mp4\"],[\"Holding arms\",\"D:\\\\Project-mpg microgesture\\\\smg\\\\split_files_64\\\\0004_006_04372-04436_8.mp4\"],[\"Holding arms\",\"D:\\\\Project-mpg microgesture\\\\smg\\\\split_files_64\\\\0004_008_04953-05017_4.mp4\"],[\"Holding arms\",\"D:\\\\Project-mpg microgesture\\\\smg\\\\split_files_64\\\\0004_009_05601-05665_13.mp4\"],[\"Holding arms\",\"D:\\\\Project-mpg microgesture\\\\smg\\\\split_files_64\\\\0004_010_05674-05738_8.mp4\"],[\"Holding arms\",\"D:\\\\Project-mpg microgesture\\\\smg\\\\split_files_64\\\\0004_012_05784-05848_8.mp4\"],[\"Holding arms\",\"D:\\\\Project-mpg microgesture\\\\smg\\\\split_files_64\\\\0004_023_08446-08510_8.mp4\"],[\"Holding arms\",\"D:\\\\Project-mpg microgesture\\\\smg\\\\split_files_64\\\\0004_033_09054-09118_8.mp4\"],[\"Holding arms\",\"D:\\\\Project-mpg microgesture\\\\smg\\\\split_files_64\\\\0004_099_20870-20934_1.mp4\"],[\"Holding arms\",\"D:\\\\Project-mpg microgesture\\\\smg\\\\split_files_64\\\\0004_102_21250-21314_11.mp4\"],[\"Holding arms\",\"D:\\\\Project-mpg microgesture\\\\smg\\\\split_files_64\\\\0004_108_21686-21750_8.mp4\"],[\"Holding arms\",\"D:\\\\Project-mpg microgesture\\\\smg\\\\split_files_64\\\\0005_012_04827-04891_13.mp4\"],[\"Holding arms\",\"D:\\\\Project-mpg microgesture\\\\smg\\\\split_files_64\\\\0005_057_13500-13564_4.mp4\"],[\"Holding arms\",\"D:\\\\Project-mpg microgesture\\\\smg\\\\split_files_64\\\\0005_058_13564-13628_8.mp4\"],[\"Holding arms\",\"D:\\\\Project-mpg microgesture\\\\smg\\\\split_files_64\\\\0005_061_13717-13781_16.mp4\"],[\"Holding arms\",\"D:\\\\Project-mpg microgesture\\\\smg\\\\split_files_64\\\\0008_070_12306-12370_8.mp4\"],[\"Holding arms\",\"D:\\\\Project-mpg microgesture\\\\smg\\\\split_files_64\\\\0008_071_12572-12636_0.mp4\"],[\"Holding arms\",\"D:\\\\Project-mpg microgesture\\\\smg\\\\split_files_64\\\\0008_072_12641-12705_8.mp4\"],[\"Holding arms\",\"D:\\\\Project-mpg microgesture\\\\smg\\\\split_files_64\\\\0008_087_13622-13686_8.mp4\"],[\"Holding arms\",\"D:\\\\Project-mpg microgesture\\\\smg\\\\split_files_64\\\\0008_108_17836-17900_7.mp4\"],[\"Holding arms\",\"D:\\\\Project-mpg microgesture\\\\smg\\\\split_files_64\\\\0010_136_18866-18930_11.mp4\"],[\"Holding arms\",\"D:\\\\Project-mpg microgesture\\\\smg\\\\split_files_64\\\\0010_145_20177-20241_6.mp4\"],[\"Holding arms\",\"D:\\\\Project-mpg microgesture\\\\smg\\\\split_files_64\\\\0015_009_01633-01697_4.mp4\"],[\"Holding arms\",\"D:\\\\Project-mpg microgesture\\\\smg\\\\split_files_64\\\\0015_011_01844-01908_8.mp4\"],[\"Holding arms\",\"D:\\\\Project-mpg microgesture\\\\smg\\\\split_files_64\\\\0015_098_10581-10645_4.mp4\"],[\"Holding arms\",\"D:\\\\Project-mpg microgesture\\\\smg\\\\split_files_64\\\\0015_158_16442-16506_7.mp4\"],[\"Holding arms\",\"D:\\\\Project-mpg microgesture\\\\smg\\\\split_files_64\\\\0015_159_16592-16656_8.mp4\"],[\"Holding arms\",\"D:\\\\Project-mpg microgesture\\\\smg\\\\split_files_64\\\\0015_235_23132-23196_4.mp4\"],[\"Holding arms\",\"D:\\\\Project-mpg microgesture\\\\smg\\\\split_files_64\\\\0015_236_23475-23539_4.mp4\"],[\"Holding arms\",\"D:\\\\Project-mpg microgesture\\\\smg\\\\split_files_64\\\\0015_267_26223-26287_4.mp4\"],[\"Holding arms\",\"D:\\\\Project-mpg microgesture\\\\smg\\\\split_files_64\\\\0016_022_03794-03858_16.mp4\"],[\"Holding arms\",\"D:\\\\Project-mpg microgesture\\\\smg\\\\split_files_64\\\\0020_005_02971-03035_7.mp4\"],[\"Holding arms\",\"D:\\\\Project-mpg microgesture\\\\smg\\\\split_files_64\\\\0022_046_07826-07890_4.mp4\"],[\"Holding arms\",\"D:\\\\Project-mpg microgesture\\\\smg\\\\split_files_64\\\\0022_075_16231-16295_4.mp4\"],[\"Holding arms\",\"D:\\\\Project-mpg microgesture\\\\smg\\\\split_files_64\\\\0024_033_11057-11121_4.mp4\"],[\"Holding arms\",\"D:\\\\Project-mpg microgesture\\\\smg\\\\split_files_64\\\\0024_035_13149-13213_5.mp4\"],[\"Holding arms\",\"D:\\\\Project-mpg microgesture\\\\smg\\\\split_files_64\\\\0025_037_25872-25936_4.mp4\"],[\"Holding arms\",\"D:\\\\Project-mpg microgesture\\\\smg\\\\split_files_64\\\\0026_053_12191-12255_2.mp4\"],[\"Holding arms\",\"D:\\\\Project-mpg microgesture\\\\smg\\\\split_files_64\\\\0027_015_02793-02857_4.mp4\"],[\"Holding arms\",\"D:\\\\Project-mpg microgesture\\\\smg\\\\split_files_64\\\\0027_016_02833-02897_4.mp4\"],[\"Holding arms\",\"D:\\\\Project-mpg microgesture\\\\smg\\\\split_files_64\\\\0027_020_03285-03349_4.mp4\"],[\"Holding arms\",\"D:\\\\Project-mpg microgesture\\\\smg\\\\split_files_64\\\\0027_049_04827-04891_4.mp4\"],[\"Holding arms\",\"D:\\\\Project-mpg microgesture\\\\smg\\\\split_files_64\\\\0027_050_04869-04933_4.mp4\"],[\"Holding arms\",\"D:\\\\Project-mpg microgesture\\\\smg\\\\split_files_64\\\\0027_107_09015-09079_4.mp4\"],[\"Holding arms\",\"D:\\\\Project-mpg microgesture\\\\smg\\\\split_files_64\\\\0027_108_09052-09116_4.mp4\"],[\"Holding arms\",\"D:\\\\Project-mpg microgesture\\\\smg\\\\split_files_64\\\\0027_110_09132-09196_4.mp4\"],[\"Holding arms\",\"D:\\\\Project-mpg microgesture\\\\smg\\\\split_files_64\\\\0027_115_09429-09493_4.mp4\"],[\"Holding arms\",\"D:\\\\Project-mpg microgesture\\\\smg\\\\split_files_64\\\\0027_116_09466-09530_4.mp4\"],[\"Holding arms\",\"D:\\\\Project-mpg microgesture\\\\smg\\\\split_files_64\\\\0027_117_09509-09573_4.mp4\"],[\"Holding arms\",\"D:\\\\Project-mpg microgesture\\\\smg\\\\split_files_64\\\\0027_125_09905-09969_4.mp4\"],[\"Holding arms\",\"D:\\\\Project-mpg microgesture\\\\smg\\\\split_files_64\\\\0027_163_13068-13132_4.mp4\"],[\"Holding arms\",\"D:\\\\Project-mpg microgesture\\\\smg\\\\split_files_64\\\\0027_164_13112-13176_4.mp4\"],[\"Holding arms\",\"D:\\\\Project-mpg microgesture\\\\smg\\\\split_files_64\\\\0028_048_17468-17532_2.mp4\"],[\"Holding arms\",\"D:\\\\Project-mpg microgesture\\\\smg\\\\split_files_64\\\\0029_018_07816-07880_8.mp4\"],[\"Holding arms\",\"D:\\\\Project-mpg microgesture\\\\smg\\\\split_files_64\\\\0029_019_07880-07944_8.mp4\"],[\"Holding arms\",\"D:\\\\Project-mpg microgesture\\\\smg\\\\split_files_64\\\\0029_020_08195-08259_8.mp4\"],[\"Holding arms\",\"D:\\\\Project-mpg microgesture\\\\smg\\\\split_files_64\\\\0029_021_09127-09191_8.mp4\"],[\"Holding arms\",\"D:\\\\Project-mpg microgesture\\\\smg\\\\split_files_64\\\\0029_022_09540-09604_8.mp4\"],[\"Holding arms\",\"D:\\\\Project-mpg microgesture\\\\smg\\\\split_files_64\\\\0029_023_12799-12863_4.mp4\"],[\"Holding arms\",\"D:\\\\Project-mpg microgesture\\\\smg\\\\split_files_64\\\\0029_024_12863-12927_4.mp4\"],[\"Holding arms\",\"D:\\\\Project-mpg microgesture\\\\smg\\\\split_files_64\\\\0029_025_13394-13458_4.mp4\"]],\"hovertemplate\":\"label=%{customdata[0]}<br>umap1=%{x}<br>umap2=%{y}<br>file_paths=%{customdata[1]}<extra></extra>\",\"legendgroup\":\"Holding arms\",\"marker\":{\"color\":\"#FFA15A\",\"symbol\":\"circle\"},\"mode\":\"markers\",\"name\":\"Holding arms\",\"orientation\":\"v\",\"showlegend\":true,\"x\":[15.281172752380371,15.27599048614502,14.579916954040527,14.614265441894531,14.559247970581055,14.573071479797363,14.848672866821289,14.752650260925293,14.71218204498291,15.204741477966309,15.210162162780762,14.793010711669922,14.218920707702637,14.233285903930664,14.256814002990723,13.230691909790039,15.26738452911377,14.501936912536621,14.98775863647461,14.936195373535156,14.747448921203613,14.765349388122559,15.89240550994873,14.735566139221191,13.350362777709961,14.686257362365723,14.696040153503418,13.326788902282715,13.14614200592041,13.691926956176758,14.291356086730957,14.177254676818848,14.200291633605957,14.261974334716797,13.31086254119873,14.178516387939453,14.06827449798584,14.506165504455566,14.671952247619629,14.036238670349121,13.953266143798828,13.929101943969727,14.056282997131348,13.150278091430664,14.317742347717285,13.694169998168945,14.269571304321289,14.32453441619873,11.943713188171387,12.90077018737793,14.208536148071289,14.07898998260498,14.03489875793457,14.397151947021484,14.615242958068848,14.449262619018555,14.686562538146973,14.070984840393066,13.886393547058105,14.035776138305664,13.871451377868652,13.844696044921875,11.947603225708008,13.970074653625488,13.683378219604492,13.677594184875488,11.957412719726562],\"xaxis\":\"x\",\"y\":[5.681783676147461,5.684864521026611,6.055409908294678,6.259731769561768,6.082786560058594,6.075118541717529,6.179256916046143,6.187711238861084,6.3118109703063965,5.754849433898926,5.752674102783203,6.3556976318359375,5.982038974761963,5.973975658416748,6.018513202667236,-2.448345899581909,5.685991287231445,6.432851314544678,5.971418380737305,6.125312328338623,6.314084053039551,6.293615341186523,-1.2757073640823364,6.472960472106934,-1.5755391120910645,-4.383952617645264,6.429234027862549,-1.559251070022583,-2.5041489601135254,6.6711649894714355,6.838242530822754,6.837863445281982,6.939787864685059,6.829187870025635,-1.5273184776306152,6.912601947784424,2.7321488857269287,6.066788673400879,6.642164707183838,6.6630940437316895,-1.865561604499817,-1.8500864505767822,2.7375831604003906,-2.4927027225494385,6.745412349700928,6.680294513702393,6.943099021911621,6.810413360595703,-0.66732257604599,-1.286064624786377,6.975260257720947,7.002143383026123,2.7560079097747803,6.647475719451904,6.260405540466309,6.516748428344727,6.385622501373291,2.7210283279418945,6.6693620681762695,6.676789283752441,6.681626796722412,6.6403326988220215,-0.6435061693191528,6.613981246948242,6.667922019958496,6.666633129119873,-0.6725276112556458],\"yaxis\":\"y\",\"type\":\"scatter\"},{\"customdata\":[[\"Turtling neck\",\"D:\\\\Project-mpg microgesture\\\\smg\\\\split_files_64\\\\0002_029_13657-13721_0.mp4\"],[\"Turtling neck\",\"D:\\\\Project-mpg microgesture\\\\smg\\\\split_files_64\\\\0002_030_13721-13785_0.mp4\"],[\"Turtling neck\",\"D:\\\\Project-mpg microgesture\\\\smg\\\\split_files_64\\\\0002_031_14891-14955_0.mp4\"],[\"Turtling neck\",\"D:\\\\Project-mpg microgesture\\\\smg\\\\split_files_64\\\\0002_035_23740-23804_0.mp4\"],[\"Turtling neck\",\"D:\\\\Project-mpg microgesture\\\\smg\\\\split_files_64\\\\0002_036_24317-24381_13.mp4\"],[\"Turtling neck\",\"D:\\\\Project-mpg microgesture\\\\smg\\\\split_files_64\\\\0002_038_25765-25829_7.mp4\"],[\"Turtling neck\",\"D:\\\\Project-mpg microgesture\\\\smg\\\\split_files_64\\\\0003_003_01830-01894_7.mp4\"],[\"Turtling neck\",\"D:\\\\Project-mpg microgesture\\\\smg\\\\split_files_64\\\\0003_006_05287-05351_8.mp4\"],[\"Turtling neck\",\"D:\\\\Project-mpg microgesture\\\\smg\\\\split_files_64\\\\0003_008_05367-05431_8.mp4\"],[\"Turtling neck\",\"D:\\\\Project-mpg microgesture\\\\smg\\\\split_files_64\\\\0008_124_21215-21279_8.mp4\"],[\"Turtling neck\",\"D:\\\\Project-mpg microgesture\\\\smg\\\\split_files_64\\\\0008_132_22263-22327_8.mp4\"],[\"Turtling neck\",\"D:\\\\Project-mpg microgesture\\\\smg\\\\split_files_64\\\\0008_151_23439-23503_7.mp4\"],[\"Turtling neck\",\"D:\\\\Project-mpg microgesture\\\\smg\\\\split_files_64\\\\0008_152_23493-23557_7.mp4\"],[\"Turtling neck\",\"D:\\\\Project-mpg microgesture\\\\smg\\\\split_files_64\\\\0009_023_09494-09558_1.mp4\"],[\"Turtling neck\",\"D:\\\\Project-mpg microgesture\\\\smg\\\\split_files_64\\\\0010_012_02377-02441_8.mp4\"],[\"Turtling neck\",\"D:\\\\Project-mpg microgesture\\\\smg\\\\split_files_64\\\\0010_028_03438-03502_8.mp4\"],[\"Turtling neck\",\"D:\\\\Project-mpg microgesture\\\\smg\\\\split_files_64\\\\0011_024_14261-14325_2.mp4\"],[\"Turtling neck\",\"D:\\\\Project-mpg microgesture\\\\smg\\\\split_files_64\\\\0011_036_20254-20318_2.mp4\"],[\"Turtling neck\",\"D:\\\\Project-mpg microgesture\\\\smg\\\\split_files_64\\\\0012_017_11185-11249_7.mp4\"],[\"Turtling neck\",\"D:\\\\Project-mpg microgesture\\\\smg\\\\split_files_64\\\\0012_025_13367-13431_4.mp4\"],[\"Turtling neck\",\"D:\\\\Project-mpg microgesture\\\\smg\\\\split_files_64\\\\0012_027_15413-15477_9.mp4\"],[\"Turtling neck\",\"D:\\\\Project-mpg microgesture\\\\smg\\\\split_files_64\\\\0013_117_14619-14683_8.mp4\"],[\"Turtling neck\",\"D:\\\\Project-mpg microgesture\\\\smg\\\\split_files_64\\\\0014_011_09399-09463_7.mp4\"],[\"Turtling neck\",\"D:\\\\Project-mpg microgesture\\\\smg\\\\split_files_64\\\\0015_172_18094-18158_16.mp4\"],[\"Turtling neck\",\"D:\\\\Project-mpg microgesture\\\\smg\\\\split_files_64\\\\0015_248_24498-24562_8.mp4\"],[\"Turtling neck\",\"D:\\\\Project-mpg microgesture\\\\smg\\\\split_files_64\\\\0016_021_03729-03793_7.mp4\"],[\"Turtling neck\",\"D:\\\\Project-mpg microgesture\\\\smg\\\\split_files_64\\\\0019_088_24131-24195_2.mp4\"],[\"Turtling neck\",\"D:\\\\Project-mpg microgesture\\\\smg\\\\split_files_64\\\\0021_025_06494-06558_4.mp4\"],[\"Turtling neck\",\"D:\\\\Project-mpg microgesture\\\\smg\\\\split_files_64\\\\0021_044_13409-13473_4.mp4\"],[\"Turtling neck\",\"D:\\\\Project-mpg microgesture\\\\smg\\\\split_files_64\\\\0021_068_21264-21328_4.mp4\"],[\"Turtling neck\",\"D:\\\\Project-mpg microgesture\\\\smg\\\\split_files_64\\\\0026_132_23840-23904_8.mp4\"],[\"Turtling neck\",\"D:\\\\Project-mpg microgesture\\\\smg\\\\split_files_64\\\\0026_134_23956-24020_6.mp4\"],[\"Turtling neck\",\"D:\\\\Project-mpg microgesture\\\\smg\\\\split_files_64\\\\0026_148_26548-26612_11.mp4\"]],\"hovertemplate\":\"label=%{customdata[0]}<br>umap1=%{x}<br>umap2=%{y}<br>file_paths=%{customdata[1]}<extra></extra>\",\"legendgroup\":\"Turtling neck\",\"marker\":{\"color\":\"#19d3f3\",\"symbol\":\"circle\"},\"mode\":\"markers\",\"name\":\"Turtling neck\",\"orientation\":\"v\",\"showlegend\":true,\"x\":[2.067429304122925,2.024341583251953,2.026838779449463,2.052708148956299,2.0263466835021973,2.0421946048736572,15.627192497253418,2.0557782649993896,2.0474724769592285,15.698834419250488,1.96729576587677,1.8393189907073975,1.8844813108444214,1.967610478401184,-2.9284379482269287,16.08710479736328,15.677267074584961,15.71786880493164,1.9610402584075928,1.8228931427001953,1.8264241218566895,2.0200753211975098,-1.103165626525879,2.1397716999053955,2.1336658000946045,-5.929527759552002,1.814082384109497,1.8951798677444458,11.729379653930664,2.109557867050171,2.1212241649627686,-7.898120880126953,1.8579039573669434],\"xaxis\":\"x\",\"y\":[-6.002089023590088,-6.02352237701416,-5.960109233856201,-5.94003438949585,-6.060220241546631,-6.0352373123168945,5.356410026550293,-5.965084075927734,-5.969838619232178,5.299672603607178,-6.1434149742126465,-6.27995491027832,-6.224215507507324,-6.142663478851318,5.283504962921143,-2.2749316692352295,5.317818641662598,5.2798309326171875,-6.13007116317749,-6.300044059753418,-6.290857315063477,-6.05244255065918,9.246166229248047,-5.745900630950928,-5.767932415008545,1.6725832223892212,-6.235703945159912,-6.218404293060303,5.126086235046387,-5.830443859100342,-5.796715259552002,2.272899627685547,-6.211431980133057],\"yaxis\":\"y\",\"type\":\"scatter\"},{\"customdata\":[[\"Folding arms\",\"D:\\\\Project-mpg microgesture\\\\smg\\\\split_files_64\\\\0002_032_20126-20190_2.mp4\"],[\"Folding arms\",\"D:\\\\Project-mpg microgesture\\\\smg\\\\split_files_64\\\\0003_005_05223-05287_7.mp4\"],[\"Folding arms\",\"D:\\\\Project-mpg microgesture\\\\smg\\\\split_files_64\\\\0004_084_19358-19422_8.mp4\"],[\"Folding arms\",\"D:\\\\Project-mpg microgesture\\\\smg\\\\split_files_64\\\\0004_143_24385-24449_11.mp4\"],[\"Folding arms\",\"D:\\\\Project-mpg microgesture\\\\smg\\\\split_files_64\\\\0005_015_04941-05005_16.mp4\"],[\"Folding arms\",\"D:\\\\Project-mpg microgesture\\\\smg\\\\split_files_64\\\\0008_110_17947-18011_11.mp4\"],[\"Folding arms\",\"D:\\\\Project-mpg microgesture\\\\smg\\\\split_files_64\\\\0008_112_17977-18041_7.mp4\"],[\"Folding arms\",\"D:\\\\Project-mpg microgesture\\\\smg\\\\split_files_64\\\\0010_083_12072-12136_11.mp4\"],[\"Folding arms\",\"D:\\\\Project-mpg microgesture\\\\smg\\\\split_files_64\\\\0010_132_18663-18727_6.mp4\"],[\"Folding arms\",\"D:\\\\Project-mpg microgesture\\\\smg\\\\split_files_64\\\\0010_142_19842-19906_11.mp4\"],[\"Folding arms\",\"D:\\\\Project-mpg microgesture\\\\smg\\\\split_files_64\\\\0011_006_04727-04791_1.mp4\"],[\"Folding arms\",\"D:\\\\Project-mpg microgesture\\\\smg\\\\split_files_64\\\\0012_023_12292-12356_2.mp4\"],[\"Folding arms\",\"D:\\\\Project-mpg microgesture\\\\smg\\\\split_files_64\\\\0012_051_18870-18934_8.mp4\"],[\"Folding arms\",\"D:\\\\Project-mpg microgesture\\\\smg\\\\split_files_64\\\\0013_000_00514-00578_8.mp4\"],[\"Folding arms\",\"D:\\\\Project-mpg microgesture\\\\smg\\\\split_files_64\\\\0013_020_04101-04165_11.mp4\"],[\"Folding arms\",\"D:\\\\Project-mpg microgesture\\\\smg\\\\split_files_64\\\\0013_043_05965-06029_8.mp4\"],[\"Folding arms\",\"D:\\\\Project-mpg microgesture\\\\smg\\\\split_files_64\\\\0013_047_06242-06306_7.mp4\"],[\"Folding arms\",\"D:\\\\Project-mpg microgesture\\\\smg\\\\split_files_64\\\\0013_100_13396-13460_12.mp4\"],[\"Folding arms\",\"D:\\\\Project-mpg microgesture\\\\smg\\\\split_files_64\\\\0013_119_14670-14734_8.mp4\"],[\"Folding arms\",\"D:\\\\Project-mpg microgesture\\\\smg\\\\split_files_64\\\\0013_125_14928-14992_8.mp4\"],[\"Folding arms\",\"D:\\\\Project-mpg microgesture\\\\smg\\\\split_files_64\\\\0013_126_14987-15051_8.mp4\"],[\"Folding arms\",\"D:\\\\Project-mpg microgesture\\\\smg\\\\split_files_64\\\\0013_128_15243-15307_7.mp4\"],[\"Folding arms\",\"D:\\\\Project-mpg microgesture\\\\smg\\\\split_files_64\\\\0013_130_15441-15505_15.mp4\"],[\"Folding arms\",\"D:\\\\Project-mpg microgesture\\\\smg\\\\split_files_64\\\\0013_133_15962-16026_4.mp4\"],[\"Folding arms\",\"D:\\\\Project-mpg microgesture\\\\smg\\\\split_files_64\\\\0013_136_16420-16484_15.mp4\"],[\"Folding arms\",\"D:\\\\Project-mpg microgesture\\\\smg\\\\split_files_64\\\\0013_140_16743-16807_8.mp4\"],[\"Folding arms\",\"D:\\\\Project-mpg microgesture\\\\smg\\\\split_files_64\\\\0013_143_17184-17248_12.mp4\"],[\"Folding arms\",\"D:\\\\Project-mpg microgesture\\\\smg\\\\split_files_64\\\\0013_146_17369-17433_8.mp4\"],[\"Folding arms\",\"D:\\\\Project-mpg microgesture\\\\smg\\\\split_files_64\\\\0013_149_17549-17613_8.mp4\"],[\"Folding arms\",\"D:\\\\Project-mpg microgesture\\\\smg\\\\split_files_64\\\\0013_151_17606-17670_8.mp4\"],[\"Folding arms\",\"D:\\\\Project-mpg microgesture\\\\smg\\\\split_files_64\\\\0013_153_17687-17751_8.mp4\"],[\"Folding arms\",\"D:\\\\Project-mpg microgesture\\\\smg\\\\split_files_64\\\\0013_156_17801-17865_8.mp4\"],[\"Folding arms\",\"D:\\\\Project-mpg microgesture\\\\smg\\\\split_files_64\\\\0013_159_17941-18005_13.mp4\"],[\"Folding arms\",\"D:\\\\Project-mpg microgesture\\\\smg\\\\split_files_64\\\\0013_162_18257-18321_2.mp4\"],[\"Folding arms\",\"D:\\\\Project-mpg microgesture\\\\smg\\\\split_files_64\\\\0013_165_18830-18894_4.mp4\"],[\"Folding arms\",\"D:\\\\Project-mpg microgesture\\\\smg\\\\split_files_64\\\\0013_167_18893-18957_8.mp4\"],[\"Folding arms\",\"D:\\\\Project-mpg microgesture\\\\smg\\\\split_files_64\\\\0013_171_19200-19264_7.mp4\"],[\"Folding arms\",\"D:\\\\Project-mpg microgesture\\\\smg\\\\split_files_64\\\\0013_174_19602-19666_8.mp4\"],[\"Folding arms\",\"D:\\\\Project-mpg microgesture\\\\smg\\\\split_files_64\\\\0013_178_19943-20007_8.mp4\"],[\"Folding arms\",\"D:\\\\Project-mpg microgesture\\\\smg\\\\split_files_64\\\\0013_193_21023-21087_7.mp4\"],[\"Folding arms\",\"D:\\\\Project-mpg microgesture\\\\smg\\\\split_files_64\\\\0013_194_21087-21151_8.mp4\"],[\"Folding arms\",\"D:\\\\Project-mpg microgesture\\\\smg\\\\split_files_64\\\\0013_203_22078-22142_12.mp4\"],[\"Folding arms\",\"D:\\\\Project-mpg microgesture\\\\smg\\\\split_files_64\\\\0014_009_06789-06853_7.mp4\"],[\"Folding arms\",\"D:\\\\Project-mpg microgesture\\\\smg\\\\split_files_64\\\\0014_022_21040-21104_7.mp4\"],[\"Folding arms\",\"D:\\\\Project-mpg microgesture\\\\smg\\\\split_files_64\\\\0014_025_21995-22059_8.mp4\"],[\"Folding arms\",\"D:\\\\Project-mpg microgesture\\\\smg\\\\split_files_64\\\\0015_091_09692-09756_8.mp4\"],[\"Folding arms\",\"D:\\\\Project-mpg microgesture\\\\smg\\\\split_files_64\\\\0015_092_09756-09820_7.mp4\"],[\"Folding arms\",\"D:\\\\Project-mpg microgesture\\\\smg\\\\split_files_64\\\\0015_114_13193-13257_8.mp4\"],[\"Folding arms\",\"D:\\\\Project-mpg microgesture\\\\smg\\\\split_files_64\\\\0015_115_13257-13321_4.mp4\"],[\"Folding arms\",\"D:\\\\Project-mpg microgesture\\\\smg\\\\split_files_64\\\\0015_208_20215-20279_4.mp4\"],[\"Folding arms\",\"D:\\\\Project-mpg microgesture\\\\smg\\\\split_files_64\\\\0015_209_20437-20501_4.mp4\"],[\"Folding arms\",\"D:\\\\Project-mpg microgesture\\\\smg\\\\split_files_64\\\\0015_237_23574-23638_8.mp4\"],[\"Folding arms\",\"D:\\\\Project-mpg microgesture\\\\smg\\\\split_files_64\\\\0015_238_23638-23702_4.mp4\"],[\"Folding arms\",\"D:\\\\Project-mpg microgesture\\\\smg\\\\split_files_64\\\\0019_020_05695-05759_13.mp4\"],[\"Folding arms\",\"D:\\\\Project-mpg microgesture\\\\smg\\\\split_files_64\\\\0019_025_09300-09364_4.mp4\"],[\"Folding arms\",\"D:\\\\Project-mpg microgesture\\\\smg\\\\split_files_64\\\\0019_037_12685-12749_2.mp4\"],[\"Folding arms\",\"D:\\\\Project-mpg microgesture\\\\smg\\\\split_files_64\\\\0019_051_16928-16992_2.mp4\"],[\"Folding arms\",\"D:\\\\Project-mpg microgesture\\\\smg\\\\split_files_64\\\\0019_068_21156-21220_4.mp4\"],[\"Folding arms\",\"D:\\\\Project-mpg microgesture\\\\smg\\\\split_files_64\\\\0020_027_06056-06120_8.mp4\"],[\"Folding arms\",\"D:\\\\Project-mpg microgesture\\\\smg\\\\split_files_64\\\\0020_030_06542-06606_11.mp4\"],[\"Folding arms\",\"D:\\\\Project-mpg microgesture\\\\smg\\\\split_files_64\\\\0020_033_07035-07099_6.mp4\"],[\"Folding arms\",\"D:\\\\Project-mpg microgesture\\\\smg\\\\split_files_64\\\\0020_037_10232-10296_4.mp4\"],[\"Folding arms\",\"D:\\\\Project-mpg microgesture\\\\smg\\\\split_files_64\\\\0020_067_14904-14968_4.mp4\"],[\"Folding arms\",\"D:\\\\Project-mpg microgesture\\\\smg\\\\split_files_64\\\\0020_079_15813-15877_4.mp4\"],[\"Folding arms\",\"D:\\\\Project-mpg microgesture\\\\smg\\\\split_files_64\\\\0020_101_19544-19608_12.mp4\"],[\"Folding arms\",\"D:\\\\Project-mpg microgesture\\\\smg\\\\split_files_64\\\\0022_002_01048-01112_4.mp4\"],[\"Folding arms\",\"D:\\\\Project-mpg microgesture\\\\smg\\\\split_files_64\\\\0022_024_04158-04222_4.mp4\"],[\"Folding arms\",\"D:\\\\Project-mpg microgesture\\\\smg\\\\split_files_64\\\\0022_027_04677-04741_4.mp4\"],[\"Folding arms\",\"D:\\\\Project-mpg microgesture\\\\smg\\\\split_files_64\\\\0022_028_04916-04980_4.mp4\"],[\"Folding arms\",\"D:\\\\Project-mpg microgesture\\\\smg\\\\split_files_64\\\\0022_044_07047-07111_4.mp4\"],[\"Folding arms\",\"D:\\\\Project-mpg microgesture\\\\smg\\\\split_files_64\\\\0022_107_21378-21442_13.mp4\"],[\"Folding arms\",\"D:\\\\Project-mpg microgesture\\\\smg\\\\split_files_64\\\\0022_133_24235-24299_12.mp4\"],[\"Folding arms\",\"D:\\\\Project-mpg microgesture\\\\smg\\\\split_files_64\\\\0023_005_06628-06692_13.mp4\"],[\"Folding arms\",\"D:\\\\Project-mpg microgesture\\\\smg\\\\split_files_64\\\\0024_001_01541-01605_4.mp4\"],[\"Folding arms\",\"D:\\\\Project-mpg microgesture\\\\smg\\\\split_files_64\\\\0024_008_04476-04540_4.mp4\"],[\"Folding arms\",\"D:\\\\Project-mpg microgesture\\\\smg\\\\split_files_64\\\\0024_011_05594-05658_4.mp4\"],[\"Folding arms\",\"D:\\\\Project-mpg microgesture\\\\smg\\\\split_files_64\\\\0024_014_07142-07206_2.mp4\"],[\"Folding arms\",\"D:\\\\Project-mpg microgesture\\\\smg\\\\split_files_64\\\\0024_017_07307-07371_8.mp4\"],[\"Folding arms\",\"D:\\\\Project-mpg microgesture\\\\smg\\\\split_files_64\\\\0024_026_09600-09664_4.mp4\"],[\"Folding arms\",\"D:\\\\Project-mpg microgesture\\\\smg\\\\split_files_64\\\\0024_042_15048-15112_4.mp4\"],[\"Folding arms\",\"D:\\\\Project-mpg microgesture\\\\smg\\\\split_files_64\\\\0024_043_15058-15122_4.mp4\"],[\"Folding arms\",\"D:\\\\Project-mpg microgesture\\\\smg\\\\split_files_64\\\\0024_046_15585-15649_4.mp4\"],[\"Folding arms\",\"D:\\\\Project-mpg microgesture\\\\smg\\\\split_files_64\\\\0024_048_15724-15788_4.mp4\"],[\"Folding arms\",\"D:\\\\Project-mpg microgesture\\\\smg\\\\split_files_64\\\\0024_052_16108-16172_4.mp4\"],[\"Folding arms\",\"D:\\\\Project-mpg microgesture\\\\smg\\\\split_files_64\\\\0024_055_17334-17398_4.mp4\"],[\"Folding arms\",\"D:\\\\Project-mpg microgesture\\\\smg\\\\split_files_64\\\\0024_057_17462-17526_5.mp4\"],[\"Folding arms\",\"D:\\\\Project-mpg microgesture\\\\smg\\\\split_files_64\\\\0024_062_19022-19086_2.mp4\"],[\"Folding arms\",\"D:\\\\Project-mpg microgesture\\\\smg\\\\split_files_64\\\\0024_065_19264-19328_5.mp4\"],[\"Folding arms\",\"D:\\\\Project-mpg microgesture\\\\smg\\\\split_files_64\\\\0024_067_19450-19514_5.mp4\"],[\"Folding arms\",\"D:\\\\Project-mpg microgesture\\\\smg\\\\split_files_64\\\\0024_069_19642-19706_5.mp4\"],[\"Folding arms\",\"D:\\\\Project-mpg microgesture\\\\smg\\\\split_files_64\\\\0024_071_19770-19834_5.mp4\"],[\"Folding arms\",\"D:\\\\Project-mpg microgesture\\\\smg\\\\split_files_64\\\\0024_076_20199-20263_5.mp4\"],[\"Folding arms\",\"D:\\\\Project-mpg microgesture\\\\smg\\\\split_files_64\\\\0024_078_20710-20774_11.mp4\"],[\"Folding arms\",\"D:\\\\Project-mpg microgesture\\\\smg\\\\split_files_64\\\\0025_007_07535-07599_4.mp4\"],[\"Folding arms\",\"D:\\\\Project-mpg microgesture\\\\smg\\\\split_files_64\\\\0025_009_08354-08418_4.mp4\"],[\"Folding arms\",\"D:\\\\Project-mpg microgesture\\\\smg\\\\split_files_64\\\\0025_011_10311-10375_4.mp4\"],[\"Folding arms\",\"D:\\\\Project-mpg microgesture\\\\smg\\\\split_files_64\\\\0025_013_11627-11691_4.mp4\"],[\"Folding arms\",\"D:\\\\Project-mpg microgesture\\\\smg\\\\split_files_64\\\\0025_019_13764-13828_4.mp4\"],[\"Folding arms\",\"D:\\\\Project-mpg microgesture\\\\smg\\\\split_files_64\\\\0025_022_14520-14584_4.mp4\"],[\"Folding arms\",\"D:\\\\Project-mpg microgesture\\\\smg\\\\split_files_64\\\\0026_138_25370-25434_4.mp4\"],[\"Folding arms\",\"D:\\\\Project-mpg microgesture\\\\smg\\\\split_files_64\\\\0026_141_25933-25997_2.mp4\"],[\"Folding arms\",\"D:\\\\Project-mpg microgesture\\\\smg\\\\split_files_64\\\\0026_155_27048-27112_5.mp4\"],[\"Folding arms\",\"D:\\\\Project-mpg microgesture\\\\smg\\\\split_files_64\\\\0027_170_13441-13505_4.mp4\"],[\"Folding arms\",\"D:\\\\Project-mpg microgesture\\\\smg\\\\split_files_64\\\\0027_197_15216-15280_8.mp4\"],[\"Folding arms\",\"D:\\\\Project-mpg microgesture\\\\smg\\\\split_files_64\\\\0027_203_16170-16234_4.mp4\"],[\"Folding arms\",\"D:\\\\Project-mpg microgesture\\\\smg\\\\split_files_64\\\\0027_208_16368-16432_4.mp4\"],[\"Folding arms\",\"D:\\\\Project-mpg microgesture\\\\smg\\\\split_files_64\\\\0027_224_19663-19727_8.mp4\"],[\"Folding arms\",\"D:\\\\Project-mpg microgesture\\\\smg\\\\split_files_64\\\\0027_225_19732-19796_8.mp4\"],[\"Folding arms\",\"D:\\\\Project-mpg microgesture\\\\smg\\\\split_files_64\\\\0027_246_21259-21323_11.mp4\"],[\"Folding arms\",\"D:\\\\Project-mpg microgesture\\\\smg\\\\split_files_64\\\\0027_277_23897-23961_1.mp4\"],[\"Folding arms\",\"D:\\\\Project-mpg microgesture\\\\smg\\\\split_files_64\\\\0029_031_14495-14559_8.mp4\"],[\"Folding arms\",\"D:\\\\Project-mpg microgesture\\\\smg\\\\split_files_64\\\\0029_033_14692-14756_8.mp4\"],[\"Folding arms\",\"D:\\\\Project-mpg microgesture\\\\smg\\\\split_files_64\\\\0029_037_15066-15130_8.mp4\"],[\"Folding arms\",\"D:\\\\Project-mpg microgesture\\\\smg\\\\split_files_64\\\\0029_048_16861-16925_8.mp4\"],[\"Folding arms\",\"D:\\\\Project-mpg microgesture\\\\smg\\\\split_files_64\\\\0029_058_18849-18913_8.mp4\"],[\"Folding arms\",\"D:\\\\Project-mpg microgesture\\\\smg\\\\split_files_64\\\\0030_021_05603-05667_11.mp4\"],[\"Folding arms\",\"D:\\\\Project-mpg microgesture\\\\smg\\\\split_files_64\\\\0030_056_11577-11641_4.mp4\"],[\"Folding arms\",\"D:\\\\Project-mpg microgesture\\\\smg\\\\split_files_64\\\\0030_075_19619-19683_8.mp4\"],[\"Folding arms\",\"D:\\\\Project-mpg microgesture\\\\smg\\\\split_files_64\\\\0031_020_04890-04954_4.mp4\"],[\"Folding arms\",\"D:\\\\Project-mpg microgesture\\\\smg\\\\split_files_64\\\\0031_057_11224-11288_4.mp4\"],[\"Folding arms\",\"D:\\\\Project-mpg microgesture\\\\smg\\\\split_files_64\\\\0031_114_17330-17394_4.mp4\"],[\"Folding arms\",null],[\"Folding arms\",null],[\"Folding arms\",null],[\"Folding arms\",null],[\"Folding arms\",null],[\"Folding arms\",null],[\"Folding arms\",null],[\"Folding arms\",null],[\"Folding arms\",null],[\"Folding arms\",null],[\"Folding arms\",null],[\"Folding arms\",null],[\"Folding arms\",null],[\"Folding arms\",null],[\"Folding arms\",null],[\"Folding arms\",null],[\"Folding arms\",null]],\"hovertemplate\":\"label=%{customdata[0]}<br>umap1=%{x}<br>umap2=%{y}<br>file_paths=%{customdata[1]}<extra></extra>\",\"legendgroup\":\"Folding arms\",\"marker\":{\"color\":\"#FF6692\",\"symbol\":\"circle\"},\"mode\":\"markers\",\"name\":\"Folding arms\",\"orientation\":\"v\",\"showlegend\":true,\"x\":[-3.795693874359131,-3.078814744949341,-4.326303005218506,-4.394166946411133,-4.3437886238098145,-5.028337478637695,-3.9649274349212646,1.4297899007797241,-3.953450918197632,-2.9996278285980225,-4.112332820892334,-4.262847423553467,-2.9537391662597656,-4.108333587646484,-3.8712306022644043,-4.29203462600708,-4.017427444458008,-4.162524223327637,-4.526214122772217,-5.55372428894043,-6.139281749725342,-6.156857490539551,-6.16286039352417,-3.027191400527954,-6.1255106925964355,-4.114442825317383,-3.00919246673584,-6.176699638366699,-2.97800612449646,-5.872804164886475,-6.125634670257568,-4.123537063598633,-6.169731140136719,-6.02309513092041,-6.088807106018066,-4.086904048919678,-4.59733247756958,-5.684962749481201,-6.344207286834717,-6.527373790740967,-1.1846330165863037,-5.762275695800781,-5.157046318054199,-5.253785133361816,-5.596297264099121,-4.592446327209473,-1.2169426679611206,-4.652169704437256,-4.9858622550964355,-6.466441631317139,-1.2143185138702393,-6.471564292907715,-4.663720607757568,-5.385319232940674,-5.608802795410156,-5.673795223236084,-5.621744155883789,-6.554781436920166,-6.554832458496094,-6.518885135650635,-5.610907554626465,-5.661270618438721,-5.245723724365234,-6.438930034637451,-6.422360897064209,-6.171179294586182,-5.339858055114746,-6.1275529861450195,-1.2155344486236572,-5.5680460929870605,-6.469503879547119,-4.891895294189453,-5.188666820526123,-5.601613521575928,-5.148096561431885,-5.640157699584961,-5.903076648712158,-6.2408952713012695,-6.20005989074707,-6.306955814361572,-5.3789567947387695,-6.360775470733643,-6.387263774871826,-5.8589091300964355,-6.235620021820068,-6.4526286125183105,-6.286072254180908,-6.323517799377441,-6.3511481285095215,-6.209549903869629,-6.192894458770752,-6.2852678298950195,-6.112801551818848,-6.267675399780273,-6.423828125,-6.373953819274902,-5.857669353485107,-6.3590006828308105,-6.32171630859375,-6.531654357910156,-5.569421291351318,-5.143651008605957,-5.396013259887695,-5.527782917022705,-5.899853229522705,-5.417879581451416,-4.939157962799072,-5.539272785186768,-5.455134391784668,-5.611240863800049,-5.939534664154053,-5.939600944519043,-6.163040637969971,-5.865155220031738,-5.852056503295898,-5.291325092315674,-4.528832912445068,-6.032342433929443,-5.466313362121582,-5.272643089294434,-5.239558696746826,-5.436518669128418,-5.806234359741211,-6.369651794433594,-5.985186576843262,-5.116962432861328,-4.6702799797058105,-5.283801555633545,-5.054778575897217,-5.825146675109863,-4.935501575469971,-5.832472801208496,-6.118278503417969,-5.062882423400879,-4.963900566101074,-5.113520622253418,-6.341659069061279,-4.895832061767578],\"xaxis\":\"x\",\"y\":[4.411928653717041,5.053777694702148,4.769528865814209,4.884606838226318,4.613301753997803,3.7584004402160645,4.255881309509277,5.931431293487549,4.2669148445129395,5.183104038238525,4.20057487487793,4.137511730194092,4.968817710876465,4.226468563079834,4.338315963745117,4.196421146392822,4.241537094116211,4.190893173217773,4.151814937591553,4.866021156311035,5.972489833831787,5.981781482696533,6.00244665145874,5.1295671463012695,5.958897590637207,4.177433490753174,5.147951602935791,5.892287731170654,4.9846510887146,5.560108661651611,5.99044132232666,4.192652225494385,5.9814605712890625,5.924461841583252,5.916958808898926,4.2040324211120605,4.16090202331543,4.578789710998535,2.6369259357452393,2.7776501178741455,9.116207122802734,4.643935680389404,4.380472183227539,3.9736762046813965,4.482851982116699,4.24141788482666,9.048803329467773,4.239381790161133,4.291467189788818,2.769859552383423,9.055387496948242,2.80629563331604,4.2896270751953125,3.8233907222747803,5.665613651275635,5.577962398529053,5.62774658203125,2.8086440563201904,2.764498233795166,2.8273181915283203,5.653849124908447,5.693747043609619,3.917501926422119,3.792201042175293,2.7875587940216064,2.95727801322937,4.53887939453125,2.930795431137085,9.047836303710938,3.944425344467163,2.813861608505249,3.859647274017334,3.7659122943878174,3.5094285011291504,3.768153667449951,5.6224517822265625,4.4451398849487305,4.207396984100342,4.088467597961426,3.242157220840454,4.25120735168457,3.9677271842956543,2.888557195663452,4.448986053466797,4.202764987945557,2.7953035831451416,4.156289100646973,4.124307155609131,4.07700777053833,4.182610034942627,4.174670219421387,4.185682773590088,4.2410149574279785,4.080783843994141,2.708336353302002,2.999850273132324,4.49617338180542,2.662189245223999,3.9455995559692383,2.795536756515503,4.3144001960754395,4.28655481338501,4.659860610961914,4.7023539543151855,3.626746654510498,4.51482629776001,4.320611000061035,4.129634857177734,4.648651123046875,4.529947757720947,4.945613861083984,4.828852653503418,4.606804847717285,5.113323211669922,5.207111835479736,3.448394775390625,4.319516658782959,4.840265274047852,3.9063708782196045,3.8391664028167725,3.5835323333740234,3.900449275970459,3.999673366546631,4.005326271057129,4.028276443481445,4.134586811065674,4.206425189971924,4.346933841705322,4.153576850891113,3.1377599239349365,3.920403003692627,4.050467014312744,2.955085515975952,3.696627140045166,3.9122679233551025,4.149476051330566,4.008917808532715,3.9357221126556396],\"yaxis\":\"y\",\"type\":\"scatter\"},{\"customdata\":[[\"Arms behind\",\"D:\\\\Project-mpg microgesture\\\\smg\\\\split_files_64\\\\0003_032_24017-24081_13.mp4\"],[\"Arms behind\",\"D:\\\\Project-mpg microgesture\\\\smg\\\\split_files_64\\\\0008_034_06500-06564_8.mp4\"],[\"Arms behind\",\"D:\\\\Project-mpg microgesture\\\\smg\\\\split_files_64\\\\0008_042_06932-06996_8.mp4\"],[\"Arms behind\",\"D:\\\\Project-mpg microgesture\\\\smg\\\\split_files_64\\\\0008_051_08177-08241_0.mp4\"],[\"Arms behind\",\"D:\\\\Project-mpg microgesture\\\\smg\\\\split_files_64\\\\0008_064_11997-12061_8.mp4\"],[\"Arms behind\",\"D:\\\\Project-mpg microgesture\\\\smg\\\\split_files_64\\\\0008_093_13921-13985_8.mp4\"],[\"Arms behind\",\"D:\\\\Project-mpg microgesture\\\\smg\\\\split_files_64\\\\0010_070_10833-10897_8.mp4\"],[\"Arms behind\",\"D:\\\\Project-mpg microgesture\\\\smg\\\\split_files_64\\\\0010_088_12385-12449_8.mp4\"],[\"Arms behind\",\"D:\\\\Project-mpg microgesture\\\\smg\\\\split_files_64\\\\0010_138_19190-19254_6.mp4\"],[\"Arms behind\",\"D:\\\\Project-mpg microgesture\\\\smg\\\\split_files_64\\\\0012_021_11541-11605_7.mp4\"],[\"Arms behind\",\"D:\\\\Project-mpg microgesture\\\\smg\\\\split_files_64\\\\0012_022_11605-11669_2.mp4\"],[\"Arms behind\",\"D:\\\\Project-mpg microgesture\\\\smg\\\\split_files_64\\\\0013_001_01821-01885_8.mp4\"],[\"Arms behind\",\"D:\\\\Project-mpg microgesture\\\\smg\\\\split_files_64\\\\0013_005_02614-02678_8.mp4\"],[\"Arms behind\",\"D:\\\\Project-mpg microgesture\\\\smg\\\\split_files_64\\\\0013_007_02721-02785_8.mp4\"],[\"Arms behind\",\"D:\\\\Project-mpg microgesture\\\\smg\\\\split_files_64\\\\0013_011_03199-03263_8.mp4\"],[\"Arms behind\",\"D:\\\\Project-mpg microgesture\\\\smg\\\\split_files_64\\\\0013_013_03350-03414_8.mp4\"],[\"Arms behind\",\"D:\\\\Project-mpg microgesture\\\\smg\\\\split_files_64\\\\0013_014_03414-03478_8.mp4\"],[\"Arms behind\",\"D:\\\\Project-mpg microgesture\\\\smg\\\\split_files_64\\\\0013_016_03508-03572_8.mp4\"],[\"Arms behind\",\"D:\\\\Project-mpg microgesture\\\\smg\\\\split_files_64\\\\0013_025_04650-04714_10.mp4\"],[\"Arms behind\",\"D:\\\\Project-mpg microgesture\\\\smg\\\\split_files_64\\\\0013_027_04778-04842_8.mp4\"],[\"Arms behind\",\"D:\\\\Project-mpg microgesture\\\\smg\\\\split_files_64\\\\0013_042_05917-05981_8.mp4\"],[\"Arms behind\",\"D:\\\\Project-mpg microgesture\\\\smg\\\\split_files_64\\\\0013_052_07051-07115_2.mp4\"],[\"Arms behind\",\"D:\\\\Project-mpg microgesture\\\\smg\\\\split_files_64\\\\0013_061_09065-09129_11.mp4\"],[\"Arms behind\",\"D:\\\\Project-mpg microgesture\\\\smg\\\\split_files_64\\\\0013_064_09311-09375_12.mp4\"],[\"Arms behind\",\"D:\\\\Project-mpg microgesture\\\\smg\\\\split_files_64\\\\0013_067_10046-10110_2.mp4\"],[\"Arms behind\",\"D:\\\\Project-mpg microgesture\\\\smg\\\\split_files_64\\\\0013_068_10110-10174_4.mp4\"],[\"Arms behind\",\"D:\\\\Project-mpg microgesture\\\\smg\\\\split_files_64\\\\0013_073_11184-11248_8.mp4\"],[\"Arms behind\",\"D:\\\\Project-mpg microgesture\\\\smg\\\\split_files_64\\\\0013_079_11570-11634_8.mp4\"],[\"Arms behind\",\"D:\\\\Project-mpg microgesture\\\\smg\\\\split_files_64\\\\0013_089_12274-12338_8.mp4\"],[\"Arms behind\",\"D:\\\\Project-mpg microgesture\\\\smg\\\\split_files_64\\\\0013_092_12418-12482_8.mp4\"],[\"Arms behind\",\"D:\\\\Project-mpg microgesture\\\\smg\\\\split_files_64\\\\0013_099_13241-13305_8.mp4\"],[\"Arms behind\",\"D:\\\\Project-mpg microgesture\\\\smg\\\\split_files_64\\\\0013_109_14055-14119_8.mp4\"],[\"Arms behind\",\"D:\\\\Project-mpg microgesture\\\\smg\\\\split_files_64\\\\0013_110_14119-14183_8.mp4\"],[\"Arms behind\",\"D:\\\\Project-mpg microgesture\\\\smg\\\\split_files_64\\\\0013_112_14219-14283_8.mp4\"],[\"Arms behind\",\"D:\\\\Project-mpg microgesture\\\\smg\\\\split_files_64\\\\0013_118_14613-14677_8.mp4\"],[\"Arms behind\",\"D:\\\\Project-mpg microgesture\\\\smg\\\\split_files_64\\\\0016_028_04549-04613_2.mp4\"],[\"Arms behind\",\"D:\\\\Project-mpg microgesture\\\\smg\\\\split_files_64\\\\0017_008_03314-03378_15.mp4\"],[\"Arms behind\",\"D:\\\\Project-mpg microgesture\\\\smg\\\\split_files_64\\\\0017_060_07434-07498_4.mp4\"],[\"Arms behind\",\"D:\\\\Project-mpg microgesture\\\\smg\\\\split_files_64\\\\0022_071_13898-13962_4.mp4\"],[\"Arms behind\",\"D:\\\\Project-mpg microgesture\\\\smg\\\\split_files_64\\\\0022_073_14926-14990_4.mp4\"],[\"Arms behind\",\"D:\\\\Project-mpg microgesture\\\\smg\\\\split_files_64\\\\0022_083_18321-18385_4.mp4\"],[\"Arms behind\",\"D:\\\\Project-mpg microgesture\\\\smg\\\\split_files_64\\\\0022_087_18934-18998_6.mp4\"],[\"Arms behind\",\"D:\\\\Project-mpg microgesture\\\\smg\\\\split_files_64\\\\0022_091_19375-19439_12.mp4\"],[\"Arms behind\",\"D:\\\\Project-mpg microgesture\\\\smg\\\\split_files_64\\\\0022_098_20060-20124_13.mp4\"],[\"Arms behind\",\"D:\\\\Project-mpg microgesture\\\\smg\\\\split_files_64\\\\0022_102_20590-20654_7.mp4\"],[\"Arms behind\",\"D:\\\\Project-mpg microgesture\\\\smg\\\\split_files_64\\\\0022_113_21865-21929_8.mp4\"],[\"Arms behind\",\"D:\\\\Project-mpg microgesture\\\\smg\\\\split_files_64\\\\0022_125_23132-23196_4.mp4\"],[\"Arms behind\",\"D:\\\\Project-mpg microgesture\\\\smg\\\\split_files_64\\\\0022_127_23511-23575_4.mp4\"],[\"Arms behind\",\"D:\\\\Project-mpg microgesture\\\\smg\\\\split_files_64\\\\0022_134_24573-24637_4.mp4\"],[\"Arms behind\",\"D:\\\\Project-mpg microgesture\\\\smg\\\\split_files_64\\\\0023_009_07425-07489_11.mp4\"],[\"Arms behind\",\"D:\\\\Project-mpg microgesture\\\\smg\\\\split_files_64\\\\0023_015_10828-10892_4.mp4\"],[\"Arms behind\",\"D:\\\\Project-mpg microgesture\\\\smg\\\\split_files_64\\\\0023_020_16762-16826_6.mp4\"],[\"Arms behind\",\"D:\\\\Project-mpg microgesture\\\\smg\\\\split_files_64\\\\0024_003_01647-01711_4.mp4\"],[\"Arms behind\",\"D:\\\\Project-mpg microgesture\\\\smg\\\\split_files_64\\\\0024_007_04412-04476_4.mp4\"],[\"Arms behind\",\"D:\\\\Project-mpg microgesture\\\\smg\\\\split_files_64\\\\0025_042_28292-28356_4.mp4\"],[\"Arms behind\",\"D:\\\\Project-mpg microgesture\\\\smg\\\\split_files_64\\\\0026_010_03227-03291_4.mp4\"],[\"Arms behind\",\"D:\\\\Project-mpg microgesture\\\\smg\\\\split_files_64\\\\0026_029_09488-09552_4.mp4\"],[\"Arms behind\",\"D:\\\\Project-mpg microgesture\\\\smg\\\\split_files_64\\\\0026_078_15415-15479_6.mp4\"],[\"Arms behind\",\"D:\\\\Project-mpg microgesture\\\\smg\\\\split_files_64\\\\0027_088_08035-08099_11.mp4\"],[\"Arms behind\",\"D:\\\\Project-mpg microgesture\\\\smg\\\\split_files_64\\\\0027_105_08935-08999_4.mp4\"],[\"Arms behind\",\"D:\\\\Project-mpg microgesture\\\\smg\\\\split_files_64\\\\0027_159_12866-12930_4.mp4\"],[\"Arms behind\",\"D:\\\\Project-mpg microgesture\\\\smg\\\\split_files_64\\\\0027_161_12967-13031_4.mp4\"],[\"Arms behind\",\"D:\\\\Project-mpg microgesture\\\\smg\\\\split_files_64\\\\0027_172_13535-13599_4.mp4\"],[\"Arms behind\",\"D:\\\\Project-mpg microgesture\\\\smg\\\\split_files_64\\\\0027_179_13847-13911_4.mp4\"],[\"Arms behind\",\"D:\\\\Project-mpg microgesture\\\\smg\\\\split_files_64\\\\0027_181_13969-14033_8.mp4\"],[\"Arms behind\",\"D:\\\\Project-mpg microgesture\\\\smg\\\\split_files_64\\\\0027_221_19248-19312_8.mp4\"],[\"Arms behind\",\"D:\\\\Project-mpg microgesture\\\\smg\\\\split_files_64\\\\0027_222_19481-19545_8.mp4\"],[\"Arms behind\",\"D:\\\\Project-mpg microgesture\\\\smg\\\\split_files_64\\\\0027_223_19545-19609_8.mp4\"],[\"Arms behind\",\"D:\\\\Project-mpg microgesture\\\\smg\\\\split_files_64\\\\0028_024_06470-06534_12.mp4\"],[\"Arms behind\",\"D:\\\\Project-mpg microgesture\\\\smg\\\\split_files_64\\\\0029_000_00990-01054_8.mp4\"],[\"Arms behind\",\"D:\\\\Project-mpg microgesture\\\\smg\\\\split_files_64\\\\0029_016_07112-07176_8.mp4\"],[\"Arms behind\",\"D:\\\\Project-mpg microgesture\\\\smg\\\\split_files_64\\\\0029_059_18992-19056_8.mp4\"],[\"Arms behind\",\"D:\\\\Project-mpg microgesture\\\\smg\\\\split_files_64\\\\0029_072_21970-22034_8.mp4\"],[\"Arms behind\",\"D:\\\\Project-mpg microgesture\\\\smg\\\\split_files_64\\\\0029_075_22108-22172_11.mp4\"],[\"Arms behind\",\"D:\\\\Project-mpg microgesture\\\\smg\\\\split_files_64\\\\0029_078_22928-22992_11.mp4\"],[\"Arms behind\",\"D:\\\\Project-mpg microgesture\\\\smg\\\\split_files_64\\\\0030_001_02110-02174_4.mp4\"],[\"Arms behind\",\"D:\\\\Project-mpg microgesture\\\\smg\\\\split_files_64\\\\0030_019_05538-05602_8.mp4\"],[\"Arms behind\",\"D:\\\\Project-mpg microgesture\\\\smg\\\\split_files_64\\\\0030_034_08437-08501_8.mp4\"],[\"Arms behind\",\"D:\\\\Project-mpg microgesture\\\\smg\\\\split_files_64\\\\0030_037_08994-09058_8.mp4\"],[\"Arms behind\",\"D:\\\\Project-mpg microgesture\\\\smg\\\\split_files_64\\\\0030_048_09523-09587_8.mp4\"],[\"Arms behind\",\"D:\\\\Project-mpg microgesture\\\\smg\\\\split_files_64\\\\0030_076_19686-19750_8.mp4\"],[\"Arms behind\",\"D:\\\\Project-mpg microgesture\\\\smg\\\\split_files_64\\\\0031_001_01245-01309_4.mp4\"]],\"hovertemplate\":\"label=%{customdata[0]}<br>umap1=%{x}<br>umap2=%{y}<br>file_paths=%{customdata[1]}<extra></extra>\",\"legendgroup\":\"Arms behind\",\"marker\":{\"color\":\"#B6E880\",\"symbol\":\"circle\"},\"mode\":\"markers\",\"name\":\"Arms behind\",\"orientation\":\"v\",\"showlegend\":true,\"x\":[9.325285911560059,15.882367134094238,10.377361297607422,15.545989036560059,10.358084678649902,10.725883483886719,10.58375072479248,11.128418922424316,11.264992713928223,10.392333030700684,10.158726692199707,10.524694442749023,10.29741382598877,10.281688690185547,10.262391090393066,10.222886085510254,10.217613220214844,10.450655937194824,10.18786334991455,10.409493446350098,10.786197662353516,10.454208374023438,10.726693153381348,10.299445152282715,10.277859687805176,10.351204872131348,10.211130142211914,10.394639015197754,10.353400230407715,10.27433967590332,10.314728736877441,10.339040756225586,10.370591163635254,10.476398468017578,10.302716255187988,11.351140022277832,11.213969230651855,10.848694801330566,11.047933578491211,11.138306617736816,11.102316856384277,10.942924499511719,11.022941589355469,11.239749908447266,10.732243537902832,10.718897819519043,10.50223159790039,11.140405654907227,11.157882690429688,11.045645713806152,11.196735382080078,11.103789329528809,11.024669647216797,11.183459281921387,11.281499862670898,10.817696571350098,10.27314567565918,11.168416023254395,11.126740455627441,10.367284774780273,10.38142204284668,11.196395874023438,10.745630264282227,10.62431812286377,10.48230266571045,11.008594512939453,10.90749740600586,10.809845924377441,11.413143157958984,11.545748710632324,13.609994888305664,11.429047584533691,11.545245170593262,11.558433532714844,11.521979331970215,11.499320983886719,11.470178604125977,11.23086929321289,11.306352615356445,10.817994117736816,11.226292610168457,10.965605735778809],\"xaxis\":\"x\",\"y\":[12.35744857788086,-1.2952038049697876,14.51348876953125,-2.761021137237549,13.946881294250488,14.796045303344727,14.433820724487305,14.465900421142578,14.577910423278809,15.080556869506836,14.815629959106445,14.672463417053223,14.21579360961914,15.282085418701172,15.026111602783203,14.93529987335205,14.943180084228516,15.093377113342285,14.987553596496582,15.058273315429688,14.436924934387207,14.782615661621094,15.135948181152344,13.963637351989746,14.570459365844727,15.36301040649414,15.047240257263184,15.04401969909668,15.190223693847656,14.57241153717041,15.137662887573242,14.760489463806152,15.129463195800781,15.118412971496582,15.274754524230957,15.037154197692871,15.085381507873535,15.273252487182617,14.546244621276855,14.423505783081055,14.524981498718262,15.039778709411621,14.505779266357422,14.57176399230957,14.089229583740234,14.15239143371582,14.120952606201172,14.419412612915039,14.254873275756836,14.727778434753418,14.41368293762207,14.373464584350586,14.390429496765137,14.403079986572266,14.399331092834473,14.232837677001953,13.881857872009277,14.260018348693848,14.615577697753906,13.959661483764648,14.26822566986084,14.268633842468262,14.13917064666748,14.102997779846191,14.18794059753418,15.197331428527832,15.294355392456055,14.982796669006348,14.603487968444824,14.732633590698242,6.534336090087891,14.565515518188477,14.702046394348145,14.70567512512207,14.6526517868042,14.70118522644043,14.661998748779297,14.438436508178711,14.445117950439453,15.249398231506348,14.377912521362305,14.200366020202637],\"yaxis\":\"y\",\"type\":\"scatter\"},{\"customdata\":[[\"Playing wobjects\",\"D:\\\\Project-mpg microgesture\\\\smg\\\\split_files_64\\\\0004_066_13618-13682_11.mp4\"],[\"Playing wobjects\",\"D:\\\\Project-mpg microgesture\\\\smg\\\\split_files_64\\\\0004_153_25114-25178_11.mp4\"],[\"Playing wobjects\",\"D:\\\\Project-mpg microgesture\\\\smg\\\\split_files_64\\\\0008_089_13665-13729_8.mp4\"],[\"Playing wobjects\",\"D:\\\\Project-mpg microgesture\\\\smg\\\\split_files_64\\\\0008_090_13729-13793_8.mp4\"],[\"Playing wobjects\",\"D:\\\\Project-mpg microgesture\\\\smg\\\\split_files_64\\\\0015_207_20151-20215_4.mp4\"],[\"Playing wobjects\",\"D:\\\\Project-mpg microgesture\\\\smg\\\\split_files_64\\\\0015_211_20564-20628_4.mp4\"],[\"Playing wobjects\",\"D:\\\\Project-mpg microgesture\\\\smg\\\\split_files_64\\\\0015_212_20600-20664_4.mp4\"],[\"Playing wobjects\",\"D:\\\\Project-mpg microgesture\\\\smg\\\\split_files_64\\\\0020_083_15984-16048_4.mp4\"],[\"Playing wobjects\",\"D:\\\\Project-mpg microgesture\\\\smg\\\\split_files_64\\\\0020_084_16034-16098_4.mp4\"],[\"Playing wobjects\",\"D:\\\\Project-mpg microgesture\\\\smg\\\\split_files_64\\\\0020_085_16071-16135_4.mp4\"],[\"Playing wobjects\",\"D:\\\\Project-mpg microgesture\\\\smg\\\\split_files_64\\\\0020_086_16103-16167_4.mp4\"],[\"Playing wobjects\",\"D:\\\\Project-mpg microgesture\\\\smg\\\\split_files_64\\\\0020_087_16132-16196_4.mp4\"],[\"Playing wobjects\",\"D:\\\\Project-mpg microgesture\\\\smg\\\\split_files_64\\\\0020_096_18264-18328_4.mp4\"],[\"Playing wobjects\",\"D:\\\\Project-mpg microgesture\\\\smg\\\\split_files_64\\\\0020_097_18300-18364_4.mp4\"],[\"Playing wobjects\",\"D:\\\\Project-mpg microgesture\\\\smg\\\\split_files_64\\\\0020_098_18341-18405_4.mp4\"],[\"Playing wobjects\",\"D:\\\\Project-mpg microgesture\\\\smg\\\\split_files_64\\\\0021_063_19806-19870_4.mp4\"],[\"Playing wobjects\",\"D:\\\\Project-mpg microgesture\\\\smg\\\\split_files_64\\\\0021_072_23683-23747_9.mp4\"],[\"Playing wobjects\",\"D:\\\\Project-mpg microgesture\\\\smg\\\\split_files_64\\\\0021_073_23747-23811_4.mp4\"],[\"Playing wobjects\",\"D:\\\\Project-mpg microgesture\\\\smg\\\\split_files_64\\\\0029_011_04155-04219_8.mp4\"],[\"Playing wobjects\",\"D:\\\\Project-mpg microgesture\\\\smg\\\\split_files_64\\\\0029_012_04976-05040_8.mp4\"],[\"Playing wobjects\",\"D:\\\\Project-mpg microgesture\\\\smg\\\\split_files_64\\\\0029_028_14274-14338_8.mp4\"],[\"Playing wobjects\",\"D:\\\\Project-mpg microgesture\\\\smg\\\\split_files_64\\\\0029_029_14338-14402_11.mp4\"],[\"Playing wobjects\",\"D:\\\\Project-mpg microgesture\\\\smg\\\\split_files_64\\\\0029_030_14391-14455_11.mp4\"],[\"Playing wobjects\",null]],\"hovertemplate\":\"label=%{customdata[0]}<br>umap1=%{x}<br>umap2=%{y}<br>file_paths=%{customdata[1]}<extra></extra>\",\"legendgroup\":\"Playing wobjects\",\"marker\":{\"color\":\"#FF97FF\",\"symbol\":\"circle\"},\"mode\":\"markers\",\"name\":\"Playing wobjects\",\"orientation\":\"v\",\"showlegend\":true,\"x\":[14.194534301757812,1.2844696044921875,12.075873374938965,12.04137897491455,13.337369918823242,-4.711202621459961,-5.055858135223389,11.903138160705566,11.995339393615723,12.064974784851074,11.955766677856445,11.798282623291016,12.147046089172363,11.897695541381836,11.855291366577148,12.087538719177246,12.099785804748535,12.058062553405762,11.856755256652832,12.201327323913574,-5.759093761444092,11.870586395263672,12.125964164733887,12.130367279052734],\"xaxis\":\"x\",\"y\":[5.940454959869385,7.116443634033203,5.636350631713867,5.642486095428467,6.009490013122559,4.247615814208984,4.2009735107421875,5.428955078125,5.587825775146484,5.622439861297607,5.570775508880615,5.332173824310303,5.64175271987915,5.495744228363037,5.433794021606445,5.6287126541137695,5.739524841308594,5.643279075622559,5.451580047607422,5.752400875091553,1.4043141603469849,5.469854831695557,5.674957275390625,5.780763149261475],\"yaxis\":\"y\",\"type\":\"scatter\"},{\"customdata\":[[\"Hand gestures\",\"D:\\\\Project-mpg microgesture\\\\smg\\\\split_files_64\\\\0005_050_11021-11085_16.mp4\"],[\"Hand gestures\",\"D:\\\\Project-mpg microgesture\\\\smg\\\\split_files_64\\\\0005_054_11691-11755_11.mp4\"],[\"Hand gestures\",\"D:\\\\Project-mpg microgesture\\\\smg\\\\split_files_64\\\\0005_068_14225-14289_16.mp4\"],[\"Hand gestures\",\"D:\\\\Project-mpg microgesture\\\\smg\\\\split_files_64\\\\0005_092_18476-18540_4.mp4\"],[\"Hand gestures\",\"D:\\\\Project-mpg microgesture\\\\smg\\\\split_files_64\\\\0005_114_21218-21282_16.mp4\"],[\"Hand gestures\",\"D:\\\\Project-mpg microgesture\\\\smg\\\\split_files_64\\\\0005_129_23431-23495_16.mp4\"],[\"Hand gestures\",\"D:\\\\Project-mpg microgesture\\\\smg\\\\split_files_64\\\\0005_138_24670-24734_16.mp4\"],[\"Hand gestures\",\"D:\\\\Project-mpg microgesture\\\\smg\\\\split_files_64\\\\0006_006_01056-01120_11.mp4\"],[\"Hand gestures\",\"D:\\\\Project-mpg microgesture\\\\smg\\\\split_files_64\\\\0006_021_08649-08713_7.mp4\"],[\"Hand gestures\",\"D:\\\\Project-mpg microgesture\\\\smg\\\\split_files_64\\\\0006_025_08859-08923_1.mp4\"],[\"Hand gestures\",\"D:\\\\Project-mpg microgesture\\\\smg\\\\split_files_64\\\\0006_042_12150-12214_4.mp4\"],[\"Hand gestures\",\"D:\\\\Project-mpg microgesture\\\\smg\\\\split_files_64\\\\0006_053_14179-14243_16.mp4\"],[\"Hand gestures\",\"D:\\\\Project-mpg microgesture\\\\smg\\\\split_files_64\\\\0006_058_16705-16769_7.mp4\"],[\"Hand gestures\",\"D:\\\\Project-mpg microgesture\\\\smg\\\\split_files_64\\\\0006_064_17464-17528_8.mp4\"],[\"Hand gestures\",\"D:\\\\Project-mpg microgesture\\\\smg\\\\split_files_64\\\\0006_070_18037-18101_13.mp4\"],[\"Hand gestures\",\"D:\\\\Project-mpg microgesture\\\\smg\\\\split_files_64\\\\0006_082_20330-20394_7.mp4\"],[\"Hand gestures\",\"D:\\\\Project-mpg microgesture\\\\smg\\\\split_files_64\\\\0006_086_21049-21113_8.mp4\"],[\"Hand gestures\",\"D:\\\\Project-mpg microgesture\\\\smg\\\\split_files_64\\\\0007_003_15233-15297_2.mp4\"],[\"Hand gestures\",\"D:\\\\Project-mpg microgesture\\\\smg\\\\split_files_64\\\\0008_002_01007-01071_7.mp4\"],[\"Hand gestures\",\"D:\\\\Project-mpg microgesture\\\\smg\\\\split_files_64\\\\0008_013_04554-04618_0.mp4\"],[\"Hand gestures\",\"D:\\\\Project-mpg microgesture\\\\smg\\\\split_files_64\\\\0008_028_06144-06208_8.mp4\"],[\"Hand gestures\",\"D:\\\\Project-mpg microgesture\\\\smg\\\\split_files_64\\\\0008_076_12879-12943_8.mp4\"],[\"Hand gestures\",\"D:\\\\Project-mpg microgesture\\\\smg\\\\split_files_64\\\\0008_077_12947-13011_8.mp4\"],[\"Hand gestures\",\"D:\\\\Project-mpg microgesture\\\\smg\\\\split_files_64\\\\0017_089_11876-11940_15.mp4\"],[\"Hand gestures\",\"D:\\\\Project-mpg microgesture\\\\smg\\\\split_files_64\\\\0019_043_15549-15613_8.mp4\"]],\"hovertemplate\":\"label=%{customdata[0]}<br>umap1=%{x}<br>umap2=%{y}<br>file_paths=%{customdata[1]}<extra></extra>\",\"legendgroup\":\"Hand gestures\",\"marker\":{\"color\":\"#FECB52\",\"symbol\":\"circle\"},\"mode\":\"markers\",\"name\":\"Hand gestures\",\"orientation\":\"v\",\"showlegend\":true,\"x\":[7.486783504486084,7.430944442749023,7.673274517059326,7.510802268981934,7.680898189544678,7.494064807891846,7.479823112487793,7.505478858947754,7.999853610992432,7.459339141845703,7.8517165184021,8.013298034667969,7.9759345054626465,7.503899574279785,7.661615371704102,7.621824741363525,7.7257280349731445,7.537722587585449,8.01756477355957,7.481662750244141,7.545085906982422,7.469296455383301,7.479454517364502,7.50749397277832,7.457711696624756],\"xaxis\":\"x\",\"y\":[4.095859050750732,4.2714457511901855,3.8556599617004395,4.384659290313721,3.8645529747009277,4.202957630157471,4.1784234046936035,4.305606842041016,4.1687445640563965,4.208779335021973,4.044407844543457,4.1826934814453125,4.119855880737305,4.141005992889404,3.8944458961486816,3.797377347946167,3.9009761810302734,4.1400017738342285,4.177658557891846,4.134603500366211,4.186070442199707,4.275796890258789,4.207603454589844,8.0152587890625,4.762603759765625],\"yaxis\":\"y\",\"type\":\"scatter\"},{\"customdata\":[[\"Adjusting hair\",\"D:\\\\Project-mpg microgesture\\\\smg\\\\split_files_64\\\\0008_038_06754-06818_8.mp4\"],[\"Adjusting hair\",\"D:\\\\Project-mpg microgesture\\\\smg\\\\split_files_64\\\\0008_078_13007-13071_8.mp4\"],[\"Adjusting hair\",\"D:\\\\Project-mpg microgesture\\\\smg\\\\split_files_64\\\\0008_079_13071-13135_8.mp4\"],[\"Adjusting hair\",\"D:\\\\Project-mpg microgesture\\\\smg\\\\split_files_64\\\\0008_102_14603-14667_8.mp4\"],[\"Adjusting hair\",\"D:\\\\Project-mpg microgesture\\\\smg\\\\split_files_64\\\\0008_116_20399-20463_8.mp4\"],[\"Adjusting hair\",\"D:\\\\Project-mpg microgesture\\\\smg\\\\split_files_64\\\\0010_097_13670-13734_6.mp4\"],[\"Adjusting hair\",\"D:\\\\Project-mpg microgesture\\\\smg\\\\split_files_64\\\\0015_110_12634-12698_4.mp4\"],[\"Adjusting hair\",\"D:\\\\Project-mpg microgesture\\\\smg\\\\split_files_64\\\\0015_112_12910-12974_4.mp4\"],[\"Adjusting hair\",\"D:\\\\Project-mpg microgesture\\\\smg\\\\split_files_64\\\\0015_162_17196-17260_4.mp4\"],[\"Adjusting hair\",\"D:\\\\Project-mpg microgesture\\\\smg\\\\split_files_64\\\\0015_217_20862-20926_4.mp4\"],[\"Adjusting hair\",\"D:\\\\Project-mpg microgesture\\\\smg\\\\split_files_64\\\\0015_218_20926-20990_4.mp4\"],[\"Adjusting hair\",\"D:\\\\Project-mpg microgesture\\\\smg\\\\split_files_64\\\\0016_004_00942-01006_11.mp4\"],[\"Adjusting hair\",\"D:\\\\Project-mpg microgesture\\\\smg\\\\split_files_64\\\\0016_005_01312-01376_11.mp4\"],[\"Adjusting hair\",\"D:\\\\Project-mpg microgesture\\\\smg\\\\split_files_64\\\\0016_093_18693-18757_4.mp4\"],[\"Adjusting hair\",\"D:\\\\Project-mpg microgesture\\\\smg\\\\split_files_64\\\\0018_036_08620-08684_6.mp4\"],[\"Adjusting hair\",\"D:\\\\Project-mpg microgesture\\\\smg\\\\split_files_64\\\\0022_108_21589-21653_4.mp4\"],[\"Adjusting hair\",\"D:\\\\Project-mpg microgesture\\\\smg\\\\split_files_64\\\\0022_111_21766-21830_7.mp4\"],[\"Adjusting hair\",\"D:\\\\Project-mpg microgesture\\\\smg\\\\split_files_64\\\\0022_112_21830-21894_8.mp4\"],[\"Adjusting hair\",\"D:\\\\Project-mpg microgesture\\\\smg\\\\split_files_64\\\\0024_027_09852-09916_4.mp4\"],[\"Adjusting hair\",\"D:\\\\Project-mpg microgesture\\\\smg\\\\split_files_64\\\\0026_084_16428-16492_4.mp4\"],[\"Adjusting hair\",\"D:\\\\Project-mpg microgesture\\\\smg\\\\split_files_64\\\\0026_139_25528-25592_4.mp4\"],[\"Adjusting hair\",\"D:\\\\Project-mpg microgesture\\\\smg\\\\split_files_64\\\\0027_010_02474-02538_7.mp4\"],[\"Adjusting hair\",\"D:\\\\Project-mpg microgesture\\\\smg\\\\split_files_64\\\\0027_019_03241-03305_4.mp4\"],[\"Adjusting hair\",\"D:\\\\Project-mpg microgesture\\\\smg\\\\split_files_64\\\\0027_103_08854-08918_4.mp4\"],[\"Adjusting hair\",\"D:\\\\Project-mpg microgesture\\\\smg\\\\split_files_64\\\\0027_109_09095-09159_4.mp4\"],[\"Adjusting hair\",\"D:\\\\Project-mpg microgesture\\\\smg\\\\split_files_64\\\\0027_151_12299-12363_4.mp4\"],[\"Adjusting hair\",\"D:\\\\Project-mpg microgesture\\\\smg\\\\split_files_64\\\\0028_025_06534-06598_12.mp4\"],[\"Adjusting hair\",\"D:\\\\Project-mpg microgesture\\\\smg\\\\split_files_64\\\\0028_026_06596-06660_12.mp4\"],[\"Adjusting hair\",\"D:\\\\Project-mpg microgesture\\\\smg\\\\split_files_64\\\\0031_090_14654-14718_4.mp4\"],[\"Adjusting hair\",\"D:\\\\Project-mpg microgesture\\\\smg\\\\split_files_64\\\\0031_091_14744-14808_4.mp4\"],[\"Adjusting hair\",\"D:\\\\Project-mpg microgesture\\\\smg\\\\split_files_64\\\\0031_092_14808-14872_8.mp4\"],[\"Adjusting hair\",\"D:\\\\Project-mpg microgesture\\\\smg\\\\split_files_64\\\\0031_093_14856-14920_8.mp4\"],[\"Adjusting hair\",null],[\"Adjusting hair\",null],[\"Adjusting hair\",null],[\"Adjusting hair\",null],[\"Adjusting hair\",null],[\"Adjusting hair\",null],[\"Adjusting hair\",null],[\"Adjusting hair\",null],[\"Adjusting hair\",null],[\"Adjusting hair\",null]],\"hovertemplate\":\"label=%{customdata[0]}<br>umap1=%{x}<br>umap2=%{y}<br>file_paths=%{customdata[1]}<extra></extra>\",\"legendgroup\":\"Adjusting hair\",\"marker\":{\"color\":\"#636efa\",\"symbol\":\"circle\"},\"mode\":\"markers\",\"name\":\"Adjusting hair\",\"orientation\":\"v\",\"showlegend\":true,\"x\":[6.2831292152404785,6.443652629852295,7.263416767120361,6.5178751945495605,6.354279518127441,6.224385738372803,7.53095817565918,6.154688835144043,6.373161315917969,6.158580303192139,6.166905403137207,6.371200084686279,6.0714616775512695,5.841186046600342,5.455984592437744,-4.396887302398682,2.9077510833740234,14.403285026550293,-5.767525672912598,5.707103252410889,5.599804401397705,11.721940040588379,6.496307373046875,6.324813365936279,6.4076032638549805,10.875726699829102,6.286824703216553,10.226751327514648,6.181182384490967,7.431093692779541,6.3247833251953125,6.34261417388916,6.064037322998047,7.51900577545166,7.437554359436035,7.4934186935424805,7.311523914337158,6.33726692199707,7.439541816711426,6.025729656219482,6.378933429718018,6.096920013427734],\"xaxis\":\"x\",\"y\":[7.790095806121826,7.698035717010498,5.689086437225342,7.491278171539307,7.763516426086426,8.207348823547363,8.052762031555176,8.155479431152344,7.616713523864746,7.953098297119141,8.081206321716309,7.690916061401367,7.965407848358154,7.866989612579346,8.158337593078613,6.396546363830566,9.242165565490723,-3.4825642108917236,1.4200718402862549,8.038881301879883,8.084691047668457,-0.4984040856361389,7.482063293457031,7.736083030700684,7.521660804748535,0.15436333417892456,7.7523393630981445,13.856528282165527,7.868322372436523,7.961481094360352,7.687313556671143,7.620133876800537,7.9759087562561035,8.04301929473877,7.969241142272949,8.012160301208496,7.8970513343811035,7.6550140380859375,7.969326019287109,7.9714531898498535,7.618946552276611,7.93493127822876],\"yaxis\":\"y\",\"type\":\"scatter\"},{\"customdata\":[[\"Scratching neck\",\"D:\\\\Project-mpg microgesture\\\\smg\\\\split_files_64\\\\0013_062_09123-09187_8.mp4\"],[\"Scratching neck\",\"D:\\\\Project-mpg microgesture\\\\smg\\\\split_files_64\\\\0025_026_17709-17773_7.mp4\"],[\"Scratching neck\",\"D:\\\\Project-mpg microgesture\\\\smg\\\\split_files_64\\\\0026_026_08343-08407_4.mp4\"],[\"Scratching neck\",\"D:\\\\Project-mpg microgesture\\\\smg\\\\split_files_64\\\\0027_206_16321-16385_4.mp4\"],[\"Scratching neck\",\"D:\\\\Project-mpg microgesture\\\\smg\\\\split_files_64\\\\0027_207_16385-16449_4.mp4\"],[\"Scratching neck\",\"D:\\\\Project-mpg microgesture\\\\smg\\\\split_files_64\\\\0027_219_19120-19184_9.mp4\"],[\"Scratching neck\",\"D:\\\\Project-mpg microgesture\\\\smg\\\\split_files_64\\\\0027_220_19184-19248_8.mp4\"],[\"Scratching neck\",\"D:\\\\Project-mpg microgesture\\\\smg\\\\split_files_64\\\\0027_240_20731-20795_4.mp4\"],[\"Scratching neck\",\"D:\\\\Project-mpg microgesture\\\\smg\\\\split_files_64\\\\0027_241_20794-20858_4.mp4\"],[\"Scratching neck\",\"D:\\\\Project-mpg microgesture\\\\smg\\\\split_files_64\\\\0027_249_21451-21515_11.mp4\"],[\"Scratching neck\",\"D:\\\\Project-mpg microgesture\\\\smg\\\\split_files_64\\\\0027_250_21601-21665_11.mp4\"],[\"Scratching neck\",\"D:\\\\Project-mpg microgesture\\\\smg\\\\split_files_64\\\\0027_251_21665-21729_4.mp4\"],[\"Scratching neck\",\"D:\\\\Project-mpg microgesture\\\\smg\\\\split_files_64\\\\0027_252_21686-21750_4.mp4\"],[\"Scratching neck\",\"D:\\\\Project-mpg microgesture\\\\smg\\\\split_files_64\\\\0027_253_21750-21814_4.mp4\"],[\"Scratching neck\",\"D:\\\\Project-mpg microgesture\\\\smg\\\\split_files_64\\\\0027_254_21872-21936_4.mp4\"],[\"Scratching neck\",\"D:\\\\Project-mpg microgesture\\\\smg\\\\split_files_64\\\\0027_255_22312-22376_4.mp4\"],[\"Scratching neck\",\"D:\\\\Project-mpg microgesture\\\\smg\\\\split_files_64\\\\0027_256_22376-22440_4.mp4\"],[\"Scratching neck\",\"D:\\\\Project-mpg microgesture\\\\smg\\\\split_files_64\\\\0027_258_22492-22556_7.mp4\"],[\"Scratching neck\",\"D:\\\\Project-mpg microgesture\\\\smg\\\\split_files_64\\\\0027_259_22556-22620_7.mp4\"],[\"Scratching neck\",\"D:\\\\Project-mpg microgesture\\\\smg\\\\split_files_64\\\\0027_261_22733-22797_7.mp4\"],[\"Scratching neck\",\"D:\\\\Project-mpg microgesture\\\\smg\\\\split_files_64\\\\0030_026_05937-06001_11.mp4\"],[\"Scratching neck\",\"D:\\\\Project-mpg microgesture\\\\smg\\\\split_files_64\\\\0030_070_19190-19254_8.mp4\"],[\"Scratching neck\",\"D:\\\\Project-mpg microgesture\\\\smg\\\\split_files_64\\\\0030_071_19254-19318_8.mp4\"],[\"Scratching neck\",null],[\"Scratching neck\",null],[\"Scratching neck\",null]],\"hovertemplate\":\"label=%{customdata[0]}<br>umap1=%{x}<br>umap2=%{y}<br>file_paths=%{customdata[1]}<extra></extra>\",\"legendgroup\":\"Scratching neck\",\"marker\":{\"color\":\"#EF553B\",\"symbol\":\"circle\"},\"mode\":\"markers\",\"name\":\"Scratching neck\",\"orientation\":\"v\",\"showlegend\":true,\"x\":[6.238499164581299,6.195752143859863,-2.594970226287842,-0.7630408406257629,-2.1464061737060547,7.504382610321045,6.202690124511719,-2.135141611099243,-2.11814284324646,-2.1426637172698975,-0.9636240601539612,-2.0502519607543945,-0.974644660949707,-0.9842495322227478,-0.9292470216751099,-2.13806414604187,-2.0563158988952637,-2.1032192707061768,-2.1140646934509277,-2.1322269439697266,-1.0253467559814453,-2.1456074714660645,-2.1334173679351807,-2.6114792823791504,-2.1964809894561768,1.3151757717132568],\"xaxis\":\"x\",\"y\":[8.058652877807617,7.173779010772705,9.499678611755371,9.739258766174316,9.988218307495117,8.07480525970459,7.037084579467773,9.94691276550293,9.995638847351074,9.903847694396973,9.442179679870605,10.106976509094238,9.4972562789917,9.48765754699707,9.670313835144043,9.814335823059082,9.856338500976562,10.185728073120117,9.906378746032715,10.02714729309082,9.381000518798828,10.234583854675293,10.220165252685547,9.488874435424805,9.798165321350098,10.497489929199219],\"yaxis\":\"y\",\"type\":\"scatter\"},{\"customdata\":[[\"Crossing legs\",\"D:\\\\Project-mpg microgesture\\\\smg\\\\split_files_64\\\\0013_198_21274-21338_7.mp4\"],[\"Crossing legs\",\"D:\\\\Project-mpg microgesture\\\\smg\\\\split_files_64\\\\0022_121_22626-22690_4.mp4\"],[\"Crossing legs\",\"D:\\\\Project-mpg microgesture\\\\smg\\\\split_files_64\\\\0023_003_06502-06566_6.mp4\"],[\"Crossing legs\",\"D:\\\\Project-mpg microgesture\\\\smg\\\\split_files_64\\\\0023_007_07297-07361_11.mp4\"],[\"Crossing legs\",\"D:\\\\Project-mpg microgesture\\\\smg\\\\split_files_64\\\\0023_022_21300-21364_6.mp4\"],[\"Crossing legs\",\"D:\\\\Project-mpg microgesture\\\\smg\\\\split_files_64\\\\0024_000_01477-01541_4.mp4\"],[\"Crossing legs\",\"D:\\\\Project-mpg microgesture\\\\smg\\\\split_files_64\\\\0024_004_02346-02410_4.mp4\"],[\"Crossing legs\",\"D:\\\\Project-mpg microgesture\\\\smg\\\\split_files_64\\\\0026_127_22942-23006_4.mp4\"],[\"Crossing legs\",\"D:\\\\Project-mpg microgesture\\\\smg\\\\split_files_64\\\\0026_128_23085-23149_4.mp4\"],[\"Crossing legs\",\"D:\\\\Project-mpg microgesture\\\\smg\\\\split_files_64\\\\0026_129_23529-23593_4.mp4\"],[\"Crossing legs\",\"D:\\\\Project-mpg microgesture\\\\smg\\\\split_files_64\\\\0026_163_28280-28344_8.mp4\"],[\"Crossing legs\",\"D:\\\\Project-mpg microgesture\\\\smg\\\\split_files_64\\\\0027_005_01613-01677_7.mp4\"],[\"Crossing legs\",null],[\"Crossing legs\",null]],\"hovertemplate\":\"label=%{customdata[0]}<br>umap1=%{x}<br>umap2=%{y}<br>file_paths=%{customdata[1]}<extra></extra>\",\"legendgroup\":\"Crossing legs\",\"marker\":{\"color\":\"#00cc96\",\"symbol\":\"circle\"},\"mode\":\"markers\",\"name\":\"Crossing legs\",\"orientation\":\"v\",\"showlegend\":true,\"x\":[-8.046004295349121,-7.896750450134277,-7.801416397094727,-7.955136775970459,-7.732367515563965,-7.884450912475586,-7.926639556884766,-8.067493438720703,-7.959212303161621,-8.013792991638184,-7.411467552185059,-7.938130855560303,-7.958172798156738,-8.002323150634766],\"xaxis\":\"x\",\"y\":[2.008729934692383,2.109801769256592,2.1418418884277344,2.0448005199432373,2.2526912689208984,2.126707077026367,2.0559241771698,2.10737681388855,2.2406606674194336,2.135260820388794,2.3972089290618896,2.216428518295288,2.2383289337158203,2.196265697479248],\"yaxis\":\"y\",\"type\":\"scatter\"},{\"customdata\":[[\"Scratching body\",\"D:\\\\Project-mpg microgesture\\\\smg\\\\split_files_64\\\\0015_043_05401-05465_4.mp4\"],[\"Scratching body\",\"D:\\\\Project-mpg microgesture\\\\smg\\\\split_files_64\\\\0017_025_05332-05396_2.mp4\"],[\"Scratching body\",\"D:\\\\Project-mpg microgesture\\\\smg\\\\split_files_64\\\\0021_057_17862-17926_4.mp4\"],[\"Scratching body\",\"D:\\\\Project-mpg microgesture\\\\smg\\\\split_files_64\\\\0021_058_18980-19044_4.mp4\"]],\"hovertemplate\":\"label=%{customdata[0]}<br>umap1=%{x}<br>umap2=%{y}<br>file_paths=%{customdata[1]}<extra></extra>\",\"legendgroup\":\"Scratching body\",\"marker\":{\"color\":\"#ab63fa\",\"symbol\":\"circle\"},\"mode\":\"markers\",\"name\":\"Scratching body\",\"orientation\":\"v\",\"showlegend\":true,\"x\":[13.868721008300781,13.379255294799805,11.716127395629883,11.70159912109375],\"xaxis\":\"x\",\"y\":[2.813711643218994,2.787858486175537,5.098529815673828,5.088177680969238],\"yaxis\":\"y\",\"type\":\"scatter\"},{\"customdata\":[[\"Touching chest\",\"D:\\\\Project-mpg microgesture\\\\smg\\\\split_files_64\\\\0017_013_03609-03673_8.mp4\"],[\"Touching chest\",\"D:\\\\Project-mpg microgesture\\\\smg\\\\split_files_64\\\\0017_042_06379-06443_7.mp4\"],[\"Touching chest\",\"D:\\\\Project-mpg microgesture\\\\smg\\\\split_files_64\\\\0017_113_20306-20370_4.mp4\"],[\"Touching chest\",\"D:\\\\Project-mpg microgesture\\\\smg\\\\split_files_64\\\\0018_069_14937-15001_7.mp4\"],[\"Touching chest\",\"D:\\\\Project-mpg microgesture\\\\smg\\\\split_files_64\\\\0018_071_15337-15401_7.mp4\"],[\"Touching chest\",\"D:\\\\Project-mpg microgesture\\\\smg\\\\split_files_64\\\\0018_091_20618-20682_9.mp4\"]],\"hovertemplate\":\"label=%{customdata[0]}<br>umap1=%{x}<br>umap2=%{y}<br>file_paths=%{customdata[1]}<extra></extra>\",\"legendgroup\":\"Touching chest\",\"marker\":{\"color\":\"#FFA15A\",\"symbol\":\"circle\"},\"mode\":\"markers\",\"name\":\"Touching chest\",\"orientation\":\"v\",\"showlegend\":true,\"x\":[12.952153205871582,12.943197250366211,12.955824851989746,12.922998428344727,12.934718132019043,12.940176010131836],\"xaxis\":\"x\",\"y\":[2.3018882274627686,2.2931926250457764,2.306530714035034,2.271294355392456,2.2829699516296387,2.2892541885375977],\"yaxis\":\"y\",\"type\":\"scatter\"}],                        {\"template\":{\"data\":{\"histogram2dcontour\":[{\"type\":\"histogram2dcontour\",\"colorbar\":{\"outlinewidth\":0,\"ticks\":\"\"},\"colorscale\":[[0.0,\"#0d0887\"],[0.1111111111111111,\"#46039f\"],[0.2222222222222222,\"#7201a8\"],[0.3333333333333333,\"#9c179e\"],[0.4444444444444444,\"#bd3786\"],[0.5555555555555556,\"#d8576b\"],[0.6666666666666666,\"#ed7953\"],[0.7777777777777778,\"#fb9f3a\"],[0.8888888888888888,\"#fdca26\"],[1.0,\"#f0f921\"]]}],\"choropleth\":[{\"type\":\"choropleth\",\"colorbar\":{\"outlinewidth\":0,\"ticks\":\"\"}}],\"histogram2d\":[{\"type\":\"histogram2d\",\"colorbar\":{\"outlinewidth\":0,\"ticks\":\"\"},\"colorscale\":[[0.0,\"#0d0887\"],[0.1111111111111111,\"#46039f\"],[0.2222222222222222,\"#7201a8\"],[0.3333333333333333,\"#9c179e\"],[0.4444444444444444,\"#bd3786\"],[0.5555555555555556,\"#d8576b\"],[0.6666666666666666,\"#ed7953\"],[0.7777777777777778,\"#fb9f3a\"],[0.8888888888888888,\"#fdca26\"],[1.0,\"#f0f921\"]]}],\"heatmap\":[{\"type\":\"heatmap\",\"colorbar\":{\"outlinewidth\":0,\"ticks\":\"\"},\"colorscale\":[[0.0,\"#0d0887\"],[0.1111111111111111,\"#46039f\"],[0.2222222222222222,\"#7201a8\"],[0.3333333333333333,\"#9c179e\"],[0.4444444444444444,\"#bd3786\"],[0.5555555555555556,\"#d8576b\"],[0.6666666666666666,\"#ed7953\"],[0.7777777777777778,\"#fb9f3a\"],[0.8888888888888888,\"#fdca26\"],[1.0,\"#f0f921\"]]}],\"heatmapgl\":[{\"type\":\"heatmapgl\",\"colorbar\":{\"outlinewidth\":0,\"ticks\":\"\"},\"colorscale\":[[0.0,\"#0d0887\"],[0.1111111111111111,\"#46039f\"],[0.2222222222222222,\"#7201a8\"],[0.3333333333333333,\"#9c179e\"],[0.4444444444444444,\"#bd3786\"],[0.5555555555555556,\"#d8576b\"],[0.6666666666666666,\"#ed7953\"],[0.7777777777777778,\"#fb9f3a\"],[0.8888888888888888,\"#fdca26\"],[1.0,\"#f0f921\"]]}],\"contourcarpet\":[{\"type\":\"contourcarpet\",\"colorbar\":{\"outlinewidth\":0,\"ticks\":\"\"}}],\"contour\":[{\"type\":\"contour\",\"colorbar\":{\"outlinewidth\":0,\"ticks\":\"\"},\"colorscale\":[[0.0,\"#0d0887\"],[0.1111111111111111,\"#46039f\"],[0.2222222222222222,\"#7201a8\"],[0.3333333333333333,\"#9c179e\"],[0.4444444444444444,\"#bd3786\"],[0.5555555555555556,\"#d8576b\"],[0.6666666666666666,\"#ed7953\"],[0.7777777777777778,\"#fb9f3a\"],[0.8888888888888888,\"#fdca26\"],[1.0,\"#f0f921\"]]}],\"surface\":[{\"type\":\"surface\",\"colorbar\":{\"outlinewidth\":0,\"ticks\":\"\"},\"colorscale\":[[0.0,\"#0d0887\"],[0.1111111111111111,\"#46039f\"],[0.2222222222222222,\"#7201a8\"],[0.3333333333333333,\"#9c179e\"],[0.4444444444444444,\"#bd3786\"],[0.5555555555555556,\"#d8576b\"],[0.6666666666666666,\"#ed7953\"],[0.7777777777777778,\"#fb9f3a\"],[0.8888888888888888,\"#fdca26\"],[1.0,\"#f0f921\"]]}],\"mesh3d\":[{\"type\":\"mesh3d\",\"colorbar\":{\"outlinewidth\":0,\"ticks\":\"\"}}],\"scatter\":[{\"fillpattern\":{\"fillmode\":\"overlay\",\"size\":10,\"solidity\":0.2},\"type\":\"scatter\"}],\"parcoords\":[{\"type\":\"parcoords\",\"line\":{\"colorbar\":{\"outlinewidth\":0,\"ticks\":\"\"}}}],\"scatterpolargl\":[{\"type\":\"scatterpolargl\",\"marker\":{\"colorbar\":{\"outlinewidth\":0,\"ticks\":\"\"}}}],\"bar\":[{\"error_x\":{\"color\":\"#2a3f5f\"},\"error_y\":{\"color\":\"#2a3f5f\"},\"marker\":{\"line\":{\"color\":\"#E5ECF6\",\"width\":0.5},\"pattern\":{\"fillmode\":\"overlay\",\"size\":10,\"solidity\":0.2}},\"type\":\"bar\"}],\"scattergeo\":[{\"type\":\"scattergeo\",\"marker\":{\"colorbar\":{\"outlinewidth\":0,\"ticks\":\"\"}}}],\"scatterpolar\":[{\"type\":\"scatterpolar\",\"marker\":{\"colorbar\":{\"outlinewidth\":0,\"ticks\":\"\"}}}],\"histogram\":[{\"marker\":{\"pattern\":{\"fillmode\":\"overlay\",\"size\":10,\"solidity\":0.2}},\"type\":\"histogram\"}],\"scattergl\":[{\"type\":\"scattergl\",\"marker\":{\"colorbar\":{\"outlinewidth\":0,\"ticks\":\"\"}}}],\"scatter3d\":[{\"type\":\"scatter3d\",\"line\":{\"colorbar\":{\"outlinewidth\":0,\"ticks\":\"\"}},\"marker\":{\"colorbar\":{\"outlinewidth\":0,\"ticks\":\"\"}}}],\"scattermapbox\":[{\"type\":\"scattermapbox\",\"marker\":{\"colorbar\":{\"outlinewidth\":0,\"ticks\":\"\"}}}],\"scatterternary\":[{\"type\":\"scatterternary\",\"marker\":{\"colorbar\":{\"outlinewidth\":0,\"ticks\":\"\"}}}],\"scattercarpet\":[{\"type\":\"scattercarpet\",\"marker\":{\"colorbar\":{\"outlinewidth\":0,\"ticks\":\"\"}}}],\"carpet\":[{\"aaxis\":{\"endlinecolor\":\"#2a3f5f\",\"gridcolor\":\"white\",\"linecolor\":\"white\",\"minorgridcolor\":\"white\",\"startlinecolor\":\"#2a3f5f\"},\"baxis\":{\"endlinecolor\":\"#2a3f5f\",\"gridcolor\":\"white\",\"linecolor\":\"white\",\"minorgridcolor\":\"white\",\"startlinecolor\":\"#2a3f5f\"},\"type\":\"carpet\"}],\"table\":[{\"cells\":{\"fill\":{\"color\":\"#EBF0F8\"},\"line\":{\"color\":\"white\"}},\"header\":{\"fill\":{\"color\":\"#C8D4E3\"},\"line\":{\"color\":\"white\"}},\"type\":\"table\"}],\"barpolar\":[{\"marker\":{\"line\":{\"color\":\"#E5ECF6\",\"width\":0.5},\"pattern\":{\"fillmode\":\"overlay\",\"size\":10,\"solidity\":0.2}},\"type\":\"barpolar\"}],\"pie\":[{\"automargin\":true,\"type\":\"pie\"}]},\"layout\":{\"autotypenumbers\":\"strict\",\"colorway\":[\"#636efa\",\"#EF553B\",\"#00cc96\",\"#ab63fa\",\"#FFA15A\",\"#19d3f3\",\"#FF6692\",\"#B6E880\",\"#FF97FF\",\"#FECB52\"],\"font\":{\"color\":\"#2a3f5f\"},\"hovermode\":\"closest\",\"hoverlabel\":{\"align\":\"left\"},\"paper_bgcolor\":\"white\",\"plot_bgcolor\":\"#E5ECF6\",\"polar\":{\"bgcolor\":\"#E5ECF6\",\"angularaxis\":{\"gridcolor\":\"white\",\"linecolor\":\"white\",\"ticks\":\"\"},\"radialaxis\":{\"gridcolor\":\"white\",\"linecolor\":\"white\",\"ticks\":\"\"}},\"ternary\":{\"bgcolor\":\"#E5ECF6\",\"aaxis\":{\"gridcolor\":\"white\",\"linecolor\":\"white\",\"ticks\":\"\"},\"baxis\":{\"gridcolor\":\"white\",\"linecolor\":\"white\",\"ticks\":\"\"},\"caxis\":{\"gridcolor\":\"white\",\"linecolor\":\"white\",\"ticks\":\"\"}},\"coloraxis\":{\"colorbar\":{\"outlinewidth\":0,\"ticks\":\"\"}},\"colorscale\":{\"sequential\":[[0.0,\"#0d0887\"],[0.1111111111111111,\"#46039f\"],[0.2222222222222222,\"#7201a8\"],[0.3333333333333333,\"#9c179e\"],[0.4444444444444444,\"#bd3786\"],[0.5555555555555556,\"#d8576b\"],[0.6666666666666666,\"#ed7953\"],[0.7777777777777778,\"#fb9f3a\"],[0.8888888888888888,\"#fdca26\"],[1.0,\"#f0f921\"]],\"sequentialminus\":[[0.0,\"#0d0887\"],[0.1111111111111111,\"#46039f\"],[0.2222222222222222,\"#7201a8\"],[0.3333333333333333,\"#9c179e\"],[0.4444444444444444,\"#bd3786\"],[0.5555555555555556,\"#d8576b\"],[0.6666666666666666,\"#ed7953\"],[0.7777777777777778,\"#fb9f3a\"],[0.8888888888888888,\"#fdca26\"],[1.0,\"#f0f921\"]],\"diverging\":[[0,\"#8e0152\"],[0.1,\"#c51b7d\"],[0.2,\"#de77ae\"],[0.3,\"#f1b6da\"],[0.4,\"#fde0ef\"],[0.5,\"#f7f7f7\"],[0.6,\"#e6f5d0\"],[0.7,\"#b8e186\"],[0.8,\"#7fbc41\"],[0.9,\"#4d9221\"],[1,\"#276419\"]]},\"xaxis\":{\"gridcolor\":\"white\",\"linecolor\":\"white\",\"ticks\":\"\",\"title\":{\"standoff\":15},\"zerolinecolor\":\"white\",\"automargin\":true,\"zerolinewidth\":2},\"yaxis\":{\"gridcolor\":\"white\",\"linecolor\":\"white\",\"ticks\":\"\",\"title\":{\"standoff\":15},\"zerolinecolor\":\"white\",\"automargin\":true,\"zerolinewidth\":2},\"scene\":{\"xaxis\":{\"backgroundcolor\":\"#E5ECF6\",\"gridcolor\":\"white\",\"linecolor\":\"white\",\"showbackground\":true,\"ticks\":\"\",\"zerolinecolor\":\"white\",\"gridwidth\":2},\"yaxis\":{\"backgroundcolor\":\"#E5ECF6\",\"gridcolor\":\"white\",\"linecolor\":\"white\",\"showbackground\":true,\"ticks\":\"\",\"zerolinecolor\":\"white\",\"gridwidth\":2},\"zaxis\":{\"backgroundcolor\":\"#E5ECF6\",\"gridcolor\":\"white\",\"linecolor\":\"white\",\"showbackground\":true,\"ticks\":\"\",\"zerolinecolor\":\"white\",\"gridwidth\":2}},\"shapedefaults\":{\"line\":{\"color\":\"#2a3f5f\"}},\"annotationdefaults\":{\"arrowcolor\":\"#2a3f5f\",\"arrowhead\":0,\"arrowwidth\":1},\"geo\":{\"bgcolor\":\"white\",\"landcolor\":\"#E5ECF6\",\"subunitcolor\":\"white\",\"showland\":true,\"showlakes\":true,\"lakecolor\":\"white\"},\"title\":{\"x\":0.05},\"mapbox\":{\"style\":\"light\"}}},\"xaxis\":{\"anchor\":\"y\",\"domain\":[0.0,1.0],\"title\":{\"text\":\"emb1\"}},\"yaxis\":{\"anchor\":\"x\",\"domain\":[0.0,1.0],\"title\":{\"text\":\"emb2\"}},\"legend\":{\"title\":{\"text\":\"label\"},\"tracegroupgap\":0},\"margin\":{\"t\":60},\"title\":{\"text\":\"Interactive Scatter Plot\"}},                        {\"responsive\": true}                    ).then(function(){\n                            \nvar gd = document.getElementById('4c079d3b-4743-4bdb-962d-1dd5937fac5e');\nvar x = new MutationObserver(function (mutations, observer) {{\n        var display = window.getComputedStyle(gd).display;\n        if (!display || display === 'none') {{\n            console.log([gd, 'removed!']);\n            Plotly.purge(gd);\n            observer.disconnect();\n        }}\n}});\n\n// Listen for the removal of the full notebook cells\nvar notebookContainer = gd.closest('#notebook-container');\nif (notebookContainer) {{\n    x.observe(notebookContainer, {childList: true});\n}}\n\n// Listen for the clearing of the current output cell\nvar outputEl = gd.closest('.output');\nif (outputEl) {{\n    x.observe(outputEl, {childList: true});\n}}\n\n                        })                };                });            </script>        </div>"
     },
     "metadata": {},
     "output_type": "display_data"
    }
   ],
   "source": [
    "interactive_scatter_plot(df.loc[df['single_label'] == 1], var='umap')"
   ],
   "metadata": {
    "collapsed": false,
    "ExecuteTime": {
     "end_time": "2024-07-19T17:55:01.647684400Z",
     "start_time": "2024-07-19T17:55:01.557623Z"
    }
   },
   "id": "a54dec47767b5f2c"
  },
  {
   "cell_type": "code",
   "execution_count": 64,
   "outputs": [],
   "source": [],
   "metadata": {
    "collapsed": false,
    "ExecuteTime": {
     "end_time": "2024-07-19T17:44:26.014967600Z",
     "start_time": "2024-07-19T17:44:26.010959900Z"
    }
   },
   "id": "bcc68cfc9edaa413"
  },
  {
   "cell_type": "code",
   "execution_count": null,
   "outputs": [],
   "source": [],
   "metadata": {
    "collapsed": false
   },
   "id": "d764fc7a2c9e7a76"
  }
 ],
 "metadata": {
  "kernelspec": {
   "display_name": "Python 3",
   "language": "python",
   "name": "python3"
  },
  "language_info": {
   "codemirror_mode": {
    "name": "ipython",
    "version": 2
   },
   "file_extension": ".py",
   "mimetype": "text/x-python",
   "name": "python",
   "nbconvert_exporter": "python",
   "pygments_lexer": "ipython2",
   "version": "2.7.6"
  }
 },
 "nbformat": 4,
 "nbformat_minor": 5
}
