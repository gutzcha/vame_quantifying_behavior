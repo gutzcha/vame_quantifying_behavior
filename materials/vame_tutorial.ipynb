{
 "cells": [
  {
   "cell_type": "code",
   "execution_count": null,
   "outputs": [],
   "source": [
    "!pip install numpy\n",
    "!pip install torch\n"
   ],
   "metadata": {
    "collapsed": false
   },
   "id": "a5c32ff58c9c89db"
  },
  {
   "cell_type": "code",
   "execution_count": 1,
   "id": "initial_id",
   "metadata": {
    "collapsed": true,
    "ExecuteTime": {
     "end_time": "2024-09-12T17:15:44.903746900Z",
     "start_time": "2024-09-12T17:15:42.662952600Z"
    }
   },
   "outputs": [
    {
     "name": "stdout",
     "output_type": "stream",
     "text": [
      "Using CUDA\n",
      "GPU active: True\n",
      "GPU used: NVIDIA GeForce RTX 3060\n"
     ]
    }
   ],
   "source": [
    "import vame\n",
    "\n",
    "from glob import glob\n",
    "import os.path as osp"
   ]
  },
  {
   "cell_type": "code",
   "execution_count": 2,
   "outputs": [
    {
     "data": {
      "text/plain": "<module 'vame' from 'D:\\\\Project- Electro\\\\VAME\\\\vame\\\\__init__.py'>"
     },
     "execution_count": 2,
     "metadata": {},
     "output_type": "execute_result"
    }
   ],
   "source": [
    "from importlib import reload\n",
    "reload(vame)"
   ],
   "metadata": {
    "collapsed": false,
    "ExecuteTime": {
     "end_time": "2024-09-12T17:15:44.918745600Z",
     "start_time": "2024-09-12T17:15:44.905756600Z"
    }
   },
   "id": "ae8e73c03a37ee84"
  },
  {
   "cell_type": "code",
   "execution_count": 3,
   "outputs": [],
   "source": [
    "# These paths have to be set manually \n",
    "\n",
    "project='Unsupervised Learning Tutorial with VAME 2'\n",
    "# videos = glob(osp.join(r'D:\\Project- Electro\\VAME\\materials\\videos','*.avi'))\n",
    "videos = ''\n",
    "working_directory = r'D:\\Project- Electro\\VAME\\materials\\working_dir_5'\n",
    "    "
   ],
   "metadata": {
    "collapsed": false,
    "ExecuteTime": {
     "end_time": "2024-09-12T17:15:44.952759100Z",
     "start_time": "2024-09-12T17:15:44.920744800Z"
    }
   },
   "id": "37fab509ed67e091"
  },
  {
   "cell_type": "markdown",
   "source": [
    "## Step 1.1: Initiazile a VAME Project\n",
    "With the variables above, initialize a new project and save the path to the config.yaml file as config. This will create a new project folder with a predefined structure in your working_directory.\n",
    "\n",
    "This should create four folders inside your working_directory folder:\n",
    "- path\\to\\working\\dir\\videos:\n",
    "    - The video files will be copied to this folder, the videos are used for visualisation and debugging. \n",
    "    - it is not essential to have any video files, and in fact it slows down some of the processes, however, for your first usage, you should use video files to make sure that everything is in order. \n",
    "- path\\to\\working\\dir\\data\n",
    "    - The data folder stores generated data that will be created during pre-processing, when converting the data from csv files into numpy files \n",
    "- path\\to\\working\\dir\\results\n",
    "- path\\to\\working\\dir\\model\n",
    "    - The results folder stores everything related to the model, including:\n",
    "        - best_model : \n",
    "        - model_losses\n",
    "        - pretrained_model   \n"
   ],
   "metadata": {
    "collapsed": false
   },
   "id": "114360fba6507e1"
  },
  {
   "cell_type": "code",
   "execution_count": 4,
   "outputs": [],
   "source": [
    "# config = vame.init_new_project(project=project, videos=videos, working_directory=working_directory, videotype='.avi', num_features=13)"
   ],
   "metadata": {
    "collapsed": false,
    "ExecuteTime": {
     "end_time": "2024-09-12T17:15:46.569734500Z",
     "start_time": "2024-09-12T17:15:46.539669Z"
    }
   },
   "id": "2182191db76f36b2"
  },
  {
   "cell_type": "markdown",
   "source": [],
   "metadata": {
    "collapsed": false
   },
   "id": "222f6ae315307f88"
  },
  {
   "cell_type": "code",
   "execution_count": 5,
   "outputs": [],
   "source": [
    "# config = r\"D:\\Project- Electro\\VAME\\materials\\working_dir\\Unsupervised Learning Tutorial with VAME-May28-2024\\config.yaml\"\n",
    "# config = r\"D:\\Project- Electro\\VAME\\materials\\working_dir_2\\Unsupervised Learning Tutorial with VAME-Jun30-2024\\config.yaml\"\n",
    "config = r\"D:\\Project- Electro\\VAME\\materials\\working_dir_5\\Unsupervised Learning Tutorial with VAME 2-Sep12-2024\\config.yaml\"\n"
   ],
   "metadata": {
    "collapsed": false,
    "ExecuteTime": {
     "end_time": "2024-09-12T17:15:48.107890700Z",
     "start_time": "2024-09-12T17:15:48.094122900Z"
    }
   },
   "id": "10a2ef40bc6711e0"
  },
  {
   "cell_type": "markdown",
   "source": [
    "## Step 1.2: Get your data ready\n",
    "\n",
    "First, move your DeepLabCut .csv data to the corresponding videos/pose_estimation/ directory.\n",
    "\n",
    "Then, use the function below to align your behavior videos egocentrically given pose_ref_index as a list of reference coordinate for alignment. In this case [0,5]. Example: 0: snout, 1: forehand_left, 2: forehand_right, 3: hindleft, 4: hindright, 5: tail\n",
    "\n",
    "You don't have to follow these specific feature names, the important thing is that all the columns in all your csv files contain the same features in the same order. After that, select two anchor point that can be used to align your data.\n",
    "How to choose the anchor point:\n",
    "- They have to be easily detected and not obscured by other body part\n",
    "- The distance between the two points should be constant, for example, you can choose the nose tip and the trunk because the distance may change when the animal shifts their head.\n",
    "- If you are going to use [0,5], make sure that you are accessing the correct features. "
   ],
   "metadata": {
    "collapsed": false
   },
   "id": "7d1960c3170c5e93"
  },
  {
   "cell_type": "code",
   "execution_count": 7,
   "outputs": [
    {
     "name": "stdout",
     "output_type": "stream",
     "text": [
      "I am here: align_egocentrical.py\n",
      "Here are the files: ['supervised_data_male']\n",
      "Aligning data supervised_data_male, Pose confidence value: 0.99\n",
      "I am here\n",
      "dataFile: \n",
      "['D:\\\\Project- Electro\\\\VAME\\\\materials\\\\working_dir_5\\\\Unsupervised Learning Tutorial with VAME 2-Sep12-2024\\\\videos\\\\pose_estimation\\\\supervised_data_male.csv']\n"
     ]
    },
    {
     "name": "stderr",
     "output_type": "stream",
     "text": [
      "Align frames: 100%|██████████| 240000/240000 [10:49<00:00, 369.36it/s]\n"
     ]
    },
    {
     "ename": "FileNotFoundError",
     "evalue": "[Errno 2] No such file or directory: 'D:\\\\Project- Electro\\\\VAME\\\\materials\\\\working_dir_5\\\\Unsupervised Learning Tutorial with VAME 2-Sep12-2024\\\\data\\\\supervised_data_male\\\\supervised_data_male-PE-seq.npy'",
     "output_type": "error",
     "traceback": [
      "\u001B[1;31m---------------------------------------------------------------------------\u001B[0m",
      "\u001B[1;31mFileNotFoundError\u001B[0m                         Traceback (most recent call last)",
      "\u001B[1;32m~\\AppData\\Local\\Temp\\ipykernel_11972\\2422134790.py\u001B[0m in \u001B[0;36m<module>\u001B[1;34m\u001B[0m\n\u001B[1;32m----> 1\u001B[1;33m \u001B[0mvame\u001B[0m\u001B[1;33m.\u001B[0m\u001B[0megocentric_alignment\u001B[0m\u001B[1;33m(\u001B[0m\u001B[0mconfig\u001B[0m\u001B[1;33m,\u001B[0m \u001B[0mpose_ref_index\u001B[0m\u001B[1;33m=\u001B[0m\u001B[1;33m[\u001B[0m\u001B[1;36m0\u001B[0m\u001B[1;33m,\u001B[0m\u001B[1;36m1\u001B[0m\u001B[1;33m]\u001B[0m\u001B[1;33m)\u001B[0m\u001B[1;33m\u001B[0m\u001B[1;33m\u001B[0m\u001B[0m\n\u001B[0m",
      "\u001B[1;32mD:\\Project- Electro\\VAME\\vame\\util\\align_egocentrical.py\u001B[0m in \u001B[0;36megocentric_alignment\u001B[1;34m(config, pose_ref_index, crop_size, use_video, video_format, check_video)\u001B[0m\n\u001B[0;32m    336\u001B[0m         egocentric_time_series, frames = alignment(path_to_file, file, pose_ref_index, video_format, crop_size, \n\u001B[0;32m    337\u001B[0m                                                    confidence, use_video=use_video, check_video=check_video)\n\u001B[1;32m--> 338\u001B[1;33m         \u001B[0mnp\u001B[0m\u001B[1;33m.\u001B[0m\u001B[0msave\u001B[0m\u001B[1;33m(\u001B[0m\u001B[0mos\u001B[0m\u001B[1;33m.\u001B[0m\u001B[0mpath\u001B[0m\u001B[1;33m.\u001B[0m\u001B[0mjoin\u001B[0m\u001B[1;33m(\u001B[0m\u001B[0mpath_to_file\u001B[0m\u001B[1;33m,\u001B[0m\u001B[1;34m'data'\u001B[0m\u001B[1;33m,\u001B[0m\u001B[0mfile\u001B[0m\u001B[1;33m,\u001B[0m\u001B[0mfile\u001B[0m\u001B[1;33m+\u001B[0m\u001B[1;34m'-PE-seq.npy'\u001B[0m\u001B[1;33m)\u001B[0m\u001B[1;33m,\u001B[0m \u001B[0megocentric_time_series\u001B[0m\u001B[1;33m)\u001B[0m\u001B[1;33m\u001B[0m\u001B[1;33m\u001B[0m\u001B[0m\n\u001B[0m\u001B[0;32m    339\u001B[0m \u001B[1;31m#        np.save(os.path.join(path_to_file,'data/',file,\"\",file+'-PE-seq.npy', egocentric_time_series))\u001B[0m\u001B[1;33m\u001B[0m\u001B[1;33m\u001B[0m\u001B[1;33m\u001B[0m\u001B[0m\n\u001B[0;32m    340\u001B[0m \u001B[1;33m\u001B[0m\u001B[0m\n",
      "\u001B[1;32m<__array_function__ internals>\u001B[0m in \u001B[0;36msave\u001B[1;34m(*args, **kwargs)\u001B[0m\n",
      "\u001B[1;32m~\\anaconda3\\envs\\VAME\\lib\\site-packages\\numpy\\lib\\npyio.py\u001B[0m in \u001B[0;36msave\u001B[1;34m(file, arr, allow_pickle, fix_imports)\u001B[0m\n\u001B[0;32m    523\u001B[0m         \u001B[1;32mif\u001B[0m \u001B[1;32mnot\u001B[0m \u001B[0mfile\u001B[0m\u001B[1;33m.\u001B[0m\u001B[0mendswith\u001B[0m\u001B[1;33m(\u001B[0m\u001B[1;34m'.npy'\u001B[0m\u001B[1;33m)\u001B[0m\u001B[1;33m:\u001B[0m\u001B[1;33m\u001B[0m\u001B[1;33m\u001B[0m\u001B[0m\n\u001B[0;32m    524\u001B[0m             \u001B[0mfile\u001B[0m \u001B[1;33m=\u001B[0m \u001B[0mfile\u001B[0m \u001B[1;33m+\u001B[0m \u001B[1;34m'.npy'\u001B[0m\u001B[1;33m\u001B[0m\u001B[1;33m\u001B[0m\u001B[0m\n\u001B[1;32m--> 525\u001B[1;33m         \u001B[0mfile_ctx\u001B[0m \u001B[1;33m=\u001B[0m \u001B[0mopen\u001B[0m\u001B[1;33m(\u001B[0m\u001B[0mfile\u001B[0m\u001B[1;33m,\u001B[0m \u001B[1;34m\"wb\"\u001B[0m\u001B[1;33m)\u001B[0m\u001B[1;33m\u001B[0m\u001B[1;33m\u001B[0m\u001B[0m\n\u001B[0m\u001B[0;32m    526\u001B[0m \u001B[1;33m\u001B[0m\u001B[0m\n\u001B[0;32m    527\u001B[0m     \u001B[1;32mwith\u001B[0m \u001B[0mfile_ctx\u001B[0m \u001B[1;32mas\u001B[0m \u001B[0mfid\u001B[0m\u001B[1;33m:\u001B[0m\u001B[1;33m\u001B[0m\u001B[1;33m\u001B[0m\u001B[0m\n",
      "\u001B[1;31mFileNotFoundError\u001B[0m: [Errno 2] No such file or directory: 'D:\\\\Project- Electro\\\\VAME\\\\materials\\\\working_dir_5\\\\Unsupervised Learning Tutorial with VAME 2-Sep12-2024\\\\data\\\\supervised_data_male\\\\supervised_data_male-PE-seq.npy'"
     ]
    }
   ],
   "source": [
    "vame.egocentric_alignment(config, pose_ref_index=[0,1])"
   ],
   "metadata": {
    "collapsed": false,
    "ExecuteTime": {
     "end_time": "2024-09-12T17:27:59.291468600Z",
     "start_time": "2024-09-12T17:17:03.525038200Z"
    }
   },
   "id": "84715d9b77a37ebe"
  },
  {
   "cell_type": "markdown",
   "source": [
    "# Step 1.3: Create the Training Set"
   ],
   "metadata": {
    "collapsed": false
   },
   "id": "47a653aba367517e"
  },
  {
   "cell_type": "code",
   "execution_count": 20,
   "outputs": [
    {
     "name": "stdout",
     "output_type": "stream",
     "text": [
      "Creating training dataset...\n",
      "Using robust setting to eliminate outliers! IQR factor: 4\n",
      "Creating trainset from the vame.csv_to_numpy() output \n"
     ]
    },
    {
     "ename": "ValueError",
     "evalue": "need at least one array to concatenate",
     "output_type": "error",
     "traceback": [
      "\u001B[1;31m---------------------------------------------------------------------------\u001B[0m",
      "\u001B[1;31mValueError\u001B[0m                                Traceback (most recent call last)",
      "\u001B[1;32m~\\AppData\\Local\\Temp\\ipykernel_18484\\2484469743.py\u001B[0m in \u001B[0;36m<module>\u001B[1;34m\u001B[0m\n\u001B[1;32m----> 1\u001B[1;33m \u001B[0mvame\u001B[0m\u001B[1;33m.\u001B[0m\u001B[0mcreate_trainset\u001B[0m\u001B[1;33m(\u001B[0m\u001B[0mconfig\u001B[0m\u001B[1;33m)\u001B[0m\u001B[1;33m\u001B[0m\u001B[1;33m\u001B[0m\u001B[0m\n\u001B[0m",
      "\u001B[1;32mD:\\Project- Electro\\VAME\\vame\\model\\create_training.py\u001B[0m in \u001B[0;36mcreate_trainset\u001B[1;34m(config, check_parameter)\u001B[0m\n\u001B[0;32m    295\u001B[0m     \u001B[1;32melse\u001B[0m\u001B[1;33m:\u001B[0m\u001B[1;33m\u001B[0m\u001B[1;33m\u001B[0m\u001B[0m\n\u001B[0;32m    296\u001B[0m         \u001B[0mprint\u001B[0m\u001B[1;33m(\u001B[0m\u001B[1;34m\"Creating trainset from the vame.csv_to_numpy() output \"\u001B[0m\u001B[1;33m)\u001B[0m\u001B[1;33m\u001B[0m\u001B[1;33m\u001B[0m\u001B[0m\n\u001B[1;32m--> 297\u001B[1;33m         \u001B[0mtraindata_fixed\u001B[0m\u001B[1;33m(\u001B[0m\u001B[0mcfg\u001B[0m\u001B[1;33m,\u001B[0m \u001B[0mfiles\u001B[0m\u001B[1;33m,\u001B[0m \u001B[0mcfg\u001B[0m\u001B[1;33m[\u001B[0m\u001B[1;34m'test_fraction'\u001B[0m\u001B[1;33m]\u001B[0m\u001B[1;33m,\u001B[0m \u001B[0mcfg\u001B[0m\u001B[1;33m[\u001B[0m\u001B[1;34m'num_features'\u001B[0m\u001B[1;33m]\u001B[0m\u001B[1;33m,\u001B[0m \u001B[0mcfg\u001B[0m\u001B[1;33m[\u001B[0m\u001B[1;34m'savgol_filter'\u001B[0m\u001B[1;33m]\u001B[0m\u001B[1;33m,\u001B[0m \u001B[0mcheck_parameter\u001B[0m\u001B[1;33m)\u001B[0m\u001B[1;33m\u001B[0m\u001B[1;33m\u001B[0m\u001B[0m\n\u001B[0m\u001B[0;32m    298\u001B[0m \u001B[1;33m\u001B[0m\u001B[0m\n\u001B[0;32m    299\u001B[0m     \u001B[1;32mif\u001B[0m \u001B[0mcheck_parameter\u001B[0m \u001B[1;33m==\u001B[0m \u001B[1;32mFalse\u001B[0m\u001B[1;33m:\u001B[0m\u001B[1;33m\u001B[0m\u001B[1;33m\u001B[0m\u001B[0m\n",
      "\u001B[1;32mD:\\Project- Electro\\VAME\\vame\\model\\create_training.py\u001B[0m in \u001B[0;36mtraindata_fixed\u001B[1;34m(cfg, files, testfraction, num_features, savgol_filter, check_parameter)\u001B[0m\n\u001B[0;32m    237\u001B[0m         \u001B[0mX_train\u001B[0m\u001B[1;33m.\u001B[0m\u001B[0mappend\u001B[0m\u001B[1;33m(\u001B[0m\u001B[0mX_z\u001B[0m\u001B[1;33m)\u001B[0m\u001B[1;33m\u001B[0m\u001B[1;33m\u001B[0m\u001B[0m\n\u001B[0;32m    238\u001B[0m \u001B[1;33m\u001B[0m\u001B[0m\n\u001B[1;32m--> 239\u001B[1;33m     \u001B[0mX\u001B[0m \u001B[1;33m=\u001B[0m \u001B[0mnp\u001B[0m\u001B[1;33m.\u001B[0m\u001B[0mconcatenate\u001B[0m\u001B[1;33m(\u001B[0m\u001B[0mX_train\u001B[0m\u001B[1;33m,\u001B[0m \u001B[0maxis\u001B[0m\u001B[1;33m=\u001B[0m\u001B[1;36m0\u001B[0m\u001B[1;33m)\u001B[0m\u001B[1;33m.\u001B[0m\u001B[0mT\u001B[0m\u001B[1;33m\u001B[0m\u001B[1;33m\u001B[0m\u001B[0m\n\u001B[0m\u001B[0;32m    240\u001B[0m \u001B[1;33m\u001B[0m\u001B[0m\n\u001B[0;32m    241\u001B[0m     \u001B[1;32mif\u001B[0m \u001B[0msavgol_filter\u001B[0m\u001B[1;33m:\u001B[0m\u001B[1;33m\u001B[0m\u001B[1;33m\u001B[0m\u001B[0m\n",
      "\u001B[1;32m<__array_function__ internals>\u001B[0m in \u001B[0;36mconcatenate\u001B[1;34m(*args, **kwargs)\u001B[0m\n",
      "\u001B[1;31mValueError\u001B[0m: need at least one array to concatenate"
     ]
    }
   ],
   "source": [
    "vame.create_trainset(config)"
   ],
   "metadata": {
    "collapsed": false,
    "ExecuteTime": {
     "end_time": "2024-09-12T17:06:56.078932100Z",
     "start_time": "2024-09-12T17:06:56.035353600Z"
    }
   },
   "id": "fa014ad4e2190c46"
  },
  {
   "cell_type": "markdown",
   "source": [
    "# Step 2: Train your VAME Model\n",
    " \n",
    "- If you encounter an error stating that the number of features is different than the expected number, \n",
    "    - Check the config.yaml file\n",
    "    - Under \"# RNN model general hyperparameter:\" -> num_features: 16 \n",
    "    - Make sure that this number matches what you have in the pose files\n",
    " "
   ],
   "metadata": {
    "collapsed": false
   },
   "id": "b87755903f4b2c2f"
  },
  {
   "cell_type": "code",
   "execution_count": 21,
   "outputs": [
    {
     "name": "stdout",
     "output_type": "stream",
     "text": [
      "Train Variational Autoencoder - model name: VAME \n",
      "\n",
      "Using CUDA\n",
      "GPU active: True\n",
      "GPU used:  NVIDIA GeForce RTX 3060\n",
      "Latent Dimensions: 30, Time window: 30, Batch Size: 256, Beta: 1, lr: 0.0005\n",
      "\n",
      "Initialize train data. Datapoints 26429\n",
      "Initialize test data. Datapoints 2936\n",
      "Scheduler step size: 100, Scheduler gamma: 0.20\n",
      "\n",
      "Start training... \n",
      "Epoch: 1\n",
      "Train loss: 50729.484, MSE-Loss: 31178.844, MSE-Future-Loss 19550.640, KL-Loss: 0.000, Kmeans-Loss: 0.000, weight: 0.00\n",
      "Test loss: 6864.085, MSE-Loss: 6864.085, KL-Loss: 0.000, Kmeans-Loss: 0.000\n",
      "\n",
      "\n",
      "Epoch: 2\n",
      "Train loss: 21576.556, MSE-Loss: 12320.990, MSE-Future-Loss 9255.566, KL-Loss: 0.000, Kmeans-Loss: 0.000, weight: 0.00\n",
      "Test loss: 3763.600, MSE-Loss: 3763.600, KL-Loss: 0.000, Kmeans-Loss: 0.000\n",
      "\n",
      "\n",
      "Epoch: 3\n",
      "Train loss: 14591.747, MSE-Loss: 7222.750, MSE-Future-Loss 7367.271, KL-Loss: 1.174, Kmeans-Loss: 0.551, weight: 0.25\n",
      "Test loss: 3149.380, MSE-Loss: 3147.465, KL-Loss: 1.347, Kmeans-Loss: 0.569\n",
      "\n",
      "\n",
      "Epoch: 4\n",
      "Train loss: 12728.432, MSE-Loss: 5940.366, MSE-Future-Loss 6784.370, KL-Loss: 2.538, Kmeans-Loss: 1.157, weight: 0.50\n",
      "Test loss: 2896.712, MSE-Loss: 2892.703, KL-Loss: 2.812, Kmeans-Loss: 1.198\n",
      "\n",
      "\n",
      "Epoch: 5\n",
      "Train loss: 10876.979, MSE-Loss: 4828.979, MSE-Future-Loss 6042.313, KL-Loss: 3.883, Kmeans-Loss: 1.804, weight: 0.75\n",
      "Test loss: 2174.880, MSE-Loss: 2168.802, KL-Loss: 4.229, Kmeans-Loss: 1.849\n",
      "\n",
      "\n",
      "Epoch: 6\n",
      "Train loss: 9903.189, MSE-Loss: 4168.060, MSE-Future-Loss 5727.125, KL-Loss: 5.486, Kmeans-Loss: 2.517, weight: 1.00\n",
      "Test loss: 2049.654, MSE-Loss: 2041.382, KL-Loss: 5.731, Kmeans-Loss: 2.541\n",
      "Saving model!\n",
      "\n",
      "\n",
      "Epoch: 7\n",
      "Train loss: 8937.763, MSE-Loss: 3525.677, MSE-Future-Loss 5403.955, KL-Loss: 5.544, Kmeans-Loss: 2.587, weight: 1.00\n",
      "Test loss: 1814.324, MSE-Loss: 1805.765, KL-Loss: 5.948, Kmeans-Loss: 2.610\n",
      "Saving model!\n",
      "\n",
      "\n",
      "Epoch: 8\n",
      "Train loss: 8354.934, MSE-Loss: 3160.664, MSE-Future-Loss 5185.948, KL-Loss: 5.671, Kmeans-Loss: 2.652, weight: 1.00\n",
      "Test loss: 1742.227, MSE-Loss: 1733.647, KL-Loss: 5.877, Kmeans-Loss: 2.703\n",
      "Saving model!\n",
      "\n",
      "\n",
      "Epoch: 9\n",
      "Train loss: 7578.207, MSE-Loss: 2822.958, MSE-Future-Loss 4746.753, KL-Loss: 5.783, Kmeans-Loss: 2.713, weight: 1.00\n",
      "Test loss: 1632.548, MSE-Loss: 1623.749, KL-Loss: 6.080, Kmeans-Loss: 2.720\n",
      "Saving model!\n",
      "\n",
      "\n",
      "Epoch: 10\n",
      "Train loss: 7238.513, MSE-Loss: 2628.420, MSE-Future-Loss 4601.542, KL-Loss: 5.783, Kmeans-Loss: 2.768, weight: 1.00\n",
      "Test loss: 1502.797, MSE-Loss: 1494.011, KL-Loss: 6.006, Kmeans-Loss: 2.779\n",
      "Saving model!\n",
      "\n",
      "\n",
      "Epoch: 11\n",
      "Train loss: 6686.535, MSE-Loss: 2350.298, MSE-Future-Loss 4327.547, KL-Loss: 5.869, Kmeans-Loss: 2.821, weight: 1.00\n",
      "Test loss: 1520.538, MSE-Loss: 1511.602, KL-Loss: 6.106, Kmeans-Loss: 2.831\n",
      "\n",
      "\n",
      "Epoch: 12\n",
      "Train loss: 6329.692, MSE-Loss: 2196.742, MSE-Future-Loss 4124.128, KL-Loss: 5.939, Kmeans-Loss: 2.884, weight: 1.00\n",
      "Test loss: 1372.463, MSE-Loss: 1363.474, KL-Loss: 6.118, Kmeans-Loss: 2.872\n",
      "Saving model!\n",
      "\n",
      "\n",
      "Epoch: 13\n",
      "Train loss: 6037.520, MSE-Loss: 2094.214, MSE-Future-Loss 3934.345, KL-Loss: 6.017, Kmeans-Loss: 2.944, weight: 1.00\n",
      "Test loss: 1237.112, MSE-Loss: 1228.051, KL-Loss: 6.172, Kmeans-Loss: 2.888\n",
      "Saving model!\n",
      "\n",
      "\n",
      "Epoch: 14\n",
      "Train loss: 5629.512, MSE-Loss: 1967.751, MSE-Future-Loss 3652.730, KL-Loss: 6.031, Kmeans-Loss: 3.000, weight: 1.00\n",
      "Test loss: 1367.705, MSE-Loss: 1358.475, KL-Loss: 6.295, Kmeans-Loss: 2.935\n",
      "\n",
      "\n",
      "Epoch: 15\n",
      "Train loss: 5326.881, MSE-Loss: 1859.003, MSE-Future-Loss 3458.784, KL-Loss: 6.043, Kmeans-Loss: 3.051, weight: 1.00\n",
      "Test loss: 1376.743, MSE-Loss: 1367.599, KL-Loss: 6.158, Kmeans-Loss: 2.985\n",
      "\n",
      "\n",
      "Epoch: 16\n",
      "Train loss: 5067.885, MSE-Loss: 1795.480, MSE-Future-Loss 3263.272, KL-Loss: 6.045, Kmeans-Loss: 3.088, weight: 1.00\n",
      "Test loss: 1190.463, MSE-Loss: 1181.302, KL-Loss: 6.116, Kmeans-Loss: 3.045\n",
      "Saving model!\n",
      "\n",
      "\n",
      "Epoch: 17\n",
      "Train loss: 4762.338, MSE-Loss: 1691.635, MSE-Future-Loss 3061.518, KL-Loss: 6.047, Kmeans-Loss: 3.139, weight: 1.00\n",
      "Test loss: 1310.106, MSE-Loss: 1300.961, KL-Loss: 6.053, Kmeans-Loss: 3.092\n",
      "\n",
      "\n",
      "Epoch: 18\n",
      "Train loss: 4579.150, MSE-Loss: 1644.751, MSE-Future-Loss 2925.101, KL-Loss: 6.102, Kmeans-Loss: 3.197, weight: 1.00\n",
      "Test loss: 1235.464, MSE-Loss: 1226.259, KL-Loss: 6.098, Kmeans-Loss: 3.107\n",
      "\n",
      "\n",
      "Epoch: 19\n",
      "Train loss: 4329.022, MSE-Loss: 1560.586, MSE-Future-Loss 2759.125, KL-Loss: 6.092, Kmeans-Loss: 3.219, weight: 1.00\n",
      "Test loss: 1346.590, MSE-Loss: 1337.346, KL-Loss: 6.102, Kmeans-Loss: 3.142\n",
      "\n",
      "\n",
      "Epoch: 20\n",
      "Train loss: 4133.253, MSE-Loss: 1530.410, MSE-Future-Loss 2593.418, KL-Loss: 6.157, Kmeans-Loss: 3.269, weight: 1.00\n",
      "Test loss: 1178.457, MSE-Loss: 1169.022, KL-Loss: 6.243, Kmeans-Loss: 3.191\n",
      "Saving model!\n",
      "\n",
      "\n",
      "Epoch: 21\n",
      "Train loss: 4000.790, MSE-Loss: 1458.041, MSE-Future-Loss 2533.298, KL-Loss: 6.157, Kmeans-Loss: 3.295, weight: 1.00\n",
      "Test loss: 1315.449, MSE-Loss: 1306.147, KL-Loss: 6.113, Kmeans-Loss: 3.189\n",
      "\n",
      "\n",
      "Epoch: 22\n",
      "Train loss: 3740.633, MSE-Loss: 1399.251, MSE-Future-Loss 2331.865, KL-Loss: 6.174, Kmeans-Loss: 3.343, weight: 1.00\n",
      "Test loss: 1141.611, MSE-Loss: 1132.066, KL-Loss: 6.316, Kmeans-Loss: 3.229\n",
      "Saving model!\n",
      "\n",
      "\n",
      "Epoch: 23\n",
      "Train loss: 3595.298, MSE-Loss: 1371.530, MSE-Future-Loss 2214.142, KL-Loss: 6.261, Kmeans-Loss: 3.365, weight: 1.00\n",
      "Test loss: 1404.719, MSE-Loss: 1395.222, KL-Loss: 6.228, Kmeans-Loss: 3.269\n",
      "\n",
      "\n",
      "Epoch: 24\n",
      "Train loss: 3476.697, MSE-Loss: 1328.410, MSE-Future-Loss 2138.599, KL-Loss: 6.285, Kmeans-Loss: 3.403, weight: 1.00\n",
      "Test loss: 1233.027, MSE-Loss: 1223.532, KL-Loss: 6.203, Kmeans-Loss: 3.292\n",
      "\n",
      "\n",
      "Epoch: 25\n",
      "Train loss: 3408.290, MSE-Loss: 1344.549, MSE-Future-Loss 2054.054, KL-Loss: 6.263, Kmeans-Loss: 3.424, weight: 1.00\n",
      "Test loss: 1218.224, MSE-Loss: 1208.555, KL-Loss: 6.374, Kmeans-Loss: 3.295\n",
      "\n",
      "\n",
      "Epoch: 26\n",
      "Train loss: 3108.525, MSE-Loss: 1234.642, MSE-Future-Loss 1864.111, KL-Loss: 6.323, Kmeans-Loss: 3.449, weight: 1.00\n",
      "Test loss: 1218.874, MSE-Loss: 1209.168, KL-Loss: 6.372, Kmeans-Loss: 3.335\n",
      "\n",
      "\n",
      "Epoch: 27\n",
      "Train loss: 3085.756, MSE-Loss: 1239.054, MSE-Future-Loss 1836.863, KL-Loss: 6.362, Kmeans-Loss: 3.477, weight: 1.00\n",
      "Test loss: 1256.295, MSE-Loss: 1246.516, KL-Loss: 6.408, Kmeans-Loss: 3.371\n",
      "\n",
      "\n",
      "Epoch: 28\n",
      "Train loss: 2913.534, MSE-Loss: 1192.100, MSE-Future-Loss 1711.515, KL-Loss: 6.411, Kmeans-Loss: 3.508, weight: 1.00\n",
      "Test loss: 1234.024, MSE-Loss: 1224.223, KL-Loss: 6.405, Kmeans-Loss: 3.396\n",
      "\n",
      "\n",
      "Epoch: 29\n",
      "Train loss: 2860.082, MSE-Loss: 1179.455, MSE-Future-Loss 1670.655, KL-Loss: 6.437, Kmeans-Loss: 3.535, weight: 1.00\n",
      "Test loss: 1126.353, MSE-Loss: 1116.550, KL-Loss: 6.415, Kmeans-Loss: 3.388\n",
      "Saving model!\n",
      "\n",
      "\n",
      "Epoch: 30\n",
      "Train loss: 2771.534, MSE-Loss: 1146.910, MSE-Future-Loss 1614.592, KL-Loss: 6.482, Kmeans-Loss: 3.549, weight: 1.00\n",
      "Test loss: 1218.645, MSE-Loss: 1208.676, KL-Loss: 6.529, Kmeans-Loss: 3.440\n",
      "\n",
      "\n",
      "Epoch: 31\n",
      "Train loss: 2626.596, MSE-Loss: 1099.735, MSE-Future-Loss 1516.802, KL-Loss: 6.497, Kmeans-Loss: 3.561, weight: 1.00\n",
      "Test loss: 1168.264, MSE-Loss: 1158.280, KL-Loss: 6.560, Kmeans-Loss: 3.423\n",
      "\n",
      "\n",
      "Epoch: 32\n",
      "Train loss: 2653.192, MSE-Loss: 1117.361, MSE-Future-Loss 1525.684, KL-Loss: 6.550, Kmeans-Loss: 3.597, weight: 1.00\n",
      "Test loss: 1127.834, MSE-Loss: 1117.834, KL-Loss: 6.542, Kmeans-Loss: 3.459\n",
      "\n",
      "\n",
      "Epoch: 33\n",
      "Train loss: 2534.169, MSE-Loss: 1075.310, MSE-Future-Loss 1448.705, KL-Loss: 6.553, Kmeans-Loss: 3.602, weight: 1.00\n",
      "Test loss: 1183.584, MSE-Loss: 1173.592, KL-Loss: 6.531, Kmeans-Loss: 3.461\n",
      "\n",
      "\n",
      "Epoch: 34\n",
      "Train loss: 2488.667, MSE-Loss: 1054.216, MSE-Future-Loss 1424.256, KL-Loss: 6.573, Kmeans-Loss: 3.622, weight: 1.00\n",
      "Test loss: 1104.039, MSE-Loss: 1093.965, KL-Loss: 6.571, Kmeans-Loss: 3.502\n",
      "Saving model!\n",
      "\n",
      "\n",
      "Epoch: 35\n",
      "Train loss: 2467.012, MSE-Loss: 1054.869, MSE-Future-Loss 1401.944, KL-Loss: 6.549, Kmeans-Loss: 3.651, weight: 1.00\n",
      "Test loss: 1133.993, MSE-Loss: 1123.992, KL-Loss: 6.535, Kmeans-Loss: 3.466\n",
      "\n",
      "\n",
      "Epoch: 36\n",
      "Train loss: 2324.424, MSE-Loss: 1011.751, MSE-Future-Loss 1302.440, KL-Loss: 6.571, Kmeans-Loss: 3.662, weight: 1.00\n",
      "Test loss: 1243.746, MSE-Loss: 1233.629, KL-Loss: 6.601, Kmeans-Loss: 3.515\n",
      "\n",
      "\n",
      "Epoch: 37\n",
      "Train loss: 2316.376, MSE-Loss: 1021.509, MSE-Future-Loss 1284.571, KL-Loss: 6.616, Kmeans-Loss: 3.681, weight: 1.00\n",
      "Test loss: 1238.590, MSE-Loss: 1228.427, KL-Loss: 6.612, Kmeans-Loss: 3.551\n",
      "\n",
      "\n",
      "Epoch: 38\n",
      "Train loss: 2213.931, MSE-Loss: 976.158, MSE-Future-Loss 1227.445, KL-Loss: 6.640, Kmeans-Loss: 3.689, weight: 1.00\n",
      "Test loss: 1189.131, MSE-Loss: 1178.942, KL-Loss: 6.663, Kmeans-Loss: 3.526\n",
      "\n",
      "\n",
      "Epoch: 39\n",
      "Train loss: 2149.409, MSE-Loss: 954.829, MSE-Future-Loss 1184.210, KL-Loss: 6.664, Kmeans-Loss: 3.705, weight: 1.00\n",
      "Test loss: 1145.778, MSE-Loss: 1135.543, KL-Loss: 6.671, Kmeans-Loss: 3.565\n",
      "\n",
      "\n",
      "Epoch: 40\n",
      "Train loss: 2094.554, MSE-Loss: 942.946, MSE-Future-Loss 1141.201, KL-Loss: 6.687, Kmeans-Loss: 3.719, weight: 1.00\n",
      "Test loss: 1070.388, MSE-Loss: 1060.160, KL-Loss: 6.701, Kmeans-Loss: 3.528\n",
      "Saving model!\n",
      "\n",
      "\n",
      "Epoch: 41\n",
      "Train loss: 2061.558, MSE-Loss: 919.659, MSE-Future-Loss 1131.449, KL-Loss: 6.721, Kmeans-Loss: 3.729, weight: 1.00\n",
      "Test loss: 1100.491, MSE-Loss: 1090.259, KL-Loss: 6.684, Kmeans-Loss: 3.548\n",
      "\n",
      "\n",
      "Epoch: 42\n",
      "Train loss: 2246.819, MSE-Loss: 985.098, MSE-Future-Loss 1251.283, KL-Loss: 6.701, Kmeans-Loss: 3.737, weight: 1.00\n",
      "Test loss: 1138.887, MSE-Loss: 1128.719, KL-Loss: 6.627, Kmeans-Loss: 3.542\n",
      "\n",
      "\n",
      "Epoch: 43\n",
      "Train loss: 1991.653, MSE-Loss: 901.629, MSE-Future-Loss 1079.574, KL-Loss: 6.702, Kmeans-Loss: 3.748, weight: 1.00\n",
      "Test loss: 1177.328, MSE-Loss: 1167.009, KL-Loss: 6.708, Kmeans-Loss: 3.611\n",
      "\n",
      "\n",
      "Epoch: 44\n",
      "Train loss: 1963.612, MSE-Loss: 883.412, MSE-Future-Loss 1069.710, KL-Loss: 6.734, Kmeans-Loss: 3.756, weight: 1.00\n",
      "Test loss: 1175.112, MSE-Loss: 1164.716, KL-Loss: 6.774, Kmeans-Loss: 3.622\n",
      "\n",
      "\n",
      "Epoch: 45\n",
      "Train loss: 1902.637, MSE-Loss: 869.228, MSE-Future-Loss 1022.888, KL-Loss: 6.750, Kmeans-Loss: 3.771, weight: 1.00\n",
      "Test loss: 1094.216, MSE-Loss: 1083.875, KL-Loss: 6.739, Kmeans-Loss: 3.602\n",
      "\n",
      "\n",
      "Epoch: 46\n",
      "Train loss: 1879.315, MSE-Loss: 860.392, MSE-Future-Loss 1008.366, KL-Loss: 6.762, Kmeans-Loss: 3.794, weight: 1.00\n",
      "Test loss: 1198.409, MSE-Loss: 1188.045, KL-Loss: 6.705, Kmeans-Loss: 3.660\n",
      "\n",
      "\n",
      "Epoch: 47\n",
      "Train loss: 1845.418, MSE-Loss: 849.027, MSE-Future-Loss 985.816, KL-Loss: 6.768, Kmeans-Loss: 3.808, weight: 1.00\n",
      "Test loss: 1177.016, MSE-Loss: 1166.638, KL-Loss: 6.734, Kmeans-Loss: 3.643\n",
      "\n",
      "\n",
      "Epoch: 48\n",
      "Train loss: 1798.161, MSE-Loss: 837.974, MSE-Future-Loss 949.588, KL-Loss: 6.785, Kmeans-Loss: 3.814, weight: 1.00\n",
      "Test loss: 1108.007, MSE-Loss: 1097.576, KL-Loss: 6.780, Kmeans-Loss: 3.651\n",
      "\n",
      "\n",
      "Epoch: 49\n",
      "Train loss: 1795.908, MSE-Loss: 832.700, MSE-Future-Loss 952.579, KL-Loss: 6.808, Kmeans-Loss: 3.822, weight: 1.00\n",
      "Test loss: 1284.254, MSE-Loss: 1273.773, KL-Loss: 6.817, Kmeans-Loss: 3.663\n",
      "\n",
      "\n",
      "Epoch: 50\n",
      "Train loss: 1729.763, MSE-Loss: 816.029, MSE-Future-Loss 903.075, KL-Loss: 6.823, Kmeans-Loss: 3.837, weight: 1.00\n",
      "Test loss: 1084.978, MSE-Loss: 1074.539, KL-Loss: 6.798, Kmeans-Loss: 3.641\n",
      "Saving model snapshot!\n",
      "\n",
      "\n",
      "\n",
      "Epoch: 51\n",
      "Train loss: 1697.016, MSE-Loss: 792.475, MSE-Future-Loss 893.851, KL-Loss: 6.844, Kmeans-Loss: 3.845, weight: 1.00\n",
      "Test loss: 1065.830, MSE-Loss: 1055.343, KL-Loss: 6.847, Kmeans-Loss: 3.640\n",
      "Saving model!\n",
      "\n",
      "\n",
      "Epoch: 52\n",
      "Train loss: 1674.019, MSE-Loss: 791.537, MSE-Future-Loss 871.773, KL-Loss: 6.851, Kmeans-Loss: 3.859, weight: 1.00\n",
      "Test loss: 1082.595, MSE-Loss: 1072.083, KL-Loss: 6.872, Kmeans-Loss: 3.640\n",
      "\n",
      "\n",
      "Epoch: 53\n",
      "Train loss: 1692.690, MSE-Loss: 788.753, MSE-Future-Loss 893.231, KL-Loss: 6.839, Kmeans-Loss: 3.867, weight: 1.00\n",
      "Test loss: 1216.267, MSE-Loss: 1205.729, KL-Loss: 6.833, Kmeans-Loss: 3.705\n",
      "\n",
      "\n",
      "Epoch: 54\n",
      "Train loss: 1652.422, MSE-Loss: 783.467, MSE-Future-Loss 858.230, KL-Loss: 6.847, Kmeans-Loss: 3.878, weight: 1.00\n",
      "Test loss: 1028.124, MSE-Loss: 1017.630, KL-Loss: 6.817, Kmeans-Loss: 3.677\n",
      "Saving model!\n",
      "\n",
      "\n",
      "Epoch: 55\n",
      "Train loss: 1617.045, MSE-Loss: 766.394, MSE-Future-Loss 839.909, KL-Loss: 6.858, Kmeans-Loss: 3.884, weight: 1.00\n",
      "Test loss: 1018.504, MSE-Loss: 1007.903, KL-Loss: 6.893, Kmeans-Loss: 3.707\n",
      "Saving model!\n",
      "\n",
      "\n",
      "Epoch: 56\n",
      "Train loss: 1595.161, MSE-Loss: 747.324, MSE-Future-Loss 837.094, KL-Loss: 6.855, Kmeans-Loss: 3.888, weight: 1.00\n",
      "Test loss: 1125.523, MSE-Loss: 1115.014, KL-Loss: 6.802, Kmeans-Loss: 3.707\n",
      "\n",
      "\n",
      "Epoch: 57\n",
      "Train loss: 1601.539, MSE-Loss: 763.141, MSE-Future-Loss 827.640, KL-Loss: 6.856, Kmeans-Loss: 3.902, weight: 1.00\n",
      "Test loss: 1220.533, MSE-Loss: 1209.963, KL-Loss: 6.833, Kmeans-Loss: 3.738\n",
      "\n",
      "\n",
      "Epoch: 58\n",
      "Train loss: 1556.880, MSE-Loss: 736.492, MSE-Future-Loss 809.605, KL-Loss: 6.865, Kmeans-Loss: 3.917, weight: 1.00\n",
      "Test loss: 1136.331, MSE-Loss: 1125.761, KL-Loss: 6.868, Kmeans-Loss: 3.702\n",
      "\n",
      "\n",
      "Epoch: 59\n",
      "Train loss: 1517.219, MSE-Loss: 720.587, MSE-Future-Loss 785.846, KL-Loss: 6.870, Kmeans-Loss: 3.915, weight: 1.00\n",
      "Test loss: 1045.642, MSE-Loss: 1034.981, KL-Loss: 6.934, Kmeans-Loss: 3.726\n",
      "\n",
      "\n",
      "Epoch: 60\n",
      "Train loss: 1510.519, MSE-Loss: 728.248, MSE-Future-Loss 771.430, KL-Loss: 6.899, Kmeans-Loss: 3.942, weight: 1.00\n",
      "Test loss: 1191.672, MSE-Loss: 1180.976, KL-Loss: 6.930, Kmeans-Loss: 3.767\n",
      "\n",
      "\n",
      "Epoch: 61\n",
      "Train loss: 1490.266, MSE-Loss: 720.042, MSE-Future-Loss 759.382, KL-Loss: 6.902, Kmeans-Loss: 3.940, weight: 1.00\n",
      "Test loss: 1096.094, MSE-Loss: 1085.500, KL-Loss: 6.847, Kmeans-Loss: 3.747\n",
      "\n",
      "\n",
      "Epoch: 62\n",
      "Train loss: 1467.685, MSE-Loss: 710.877, MSE-Future-Loss 745.972, KL-Loss: 6.898, Kmeans-Loss: 3.937, weight: 1.00\n",
      "Test loss: 1108.224, MSE-Loss: 1097.524, KL-Loss: 6.950, Kmeans-Loss: 3.750\n",
      "\n",
      "\n",
      "Epoch: 63\n",
      "Train loss: 1421.125, MSE-Loss: 688.074, MSE-Future-Loss 722.214, KL-Loss: 6.899, Kmeans-Loss: 3.938, weight: 1.00\n",
      "Test loss: 1173.375, MSE-Loss: 1162.682, KL-Loss: 6.920, Kmeans-Loss: 3.773\n",
      "\n",
      "\n",
      "Epoch: 64\n",
      "Train loss: 1381.194, MSE-Loss: 677.092, MSE-Future-Loss 693.232, KL-Loss: 6.920, Kmeans-Loss: 3.950, weight: 1.00\n",
      "Test loss: 1210.930, MSE-Loss: 1200.233, KL-Loss: 6.919, Kmeans-Loss: 3.778\n",
      "\n",
      "\n",
      "Epoch: 65\n",
      "Train loss: 1396.656, MSE-Loss: 678.631, MSE-Future-Loss 707.134, KL-Loss: 6.931, Kmeans-Loss: 3.961, weight: 1.00\n",
      "Test loss: 1069.292, MSE-Loss: 1058.631, KL-Loss: 6.883, Kmeans-Loss: 3.778\n",
      "\n",
      "\n",
      "Epoch: 66\n",
      "Train loss: 1348.931, MSE-Loss: 659.848, MSE-Future-Loss 678.205, KL-Loss: 6.924, Kmeans-Loss: 3.954, weight: 1.00\n",
      "Test loss: 1144.940, MSE-Loss: 1134.207, KL-Loss: 6.960, Kmeans-Loss: 3.773\n",
      "\n",
      "\n",
      "Epoch: 67\n",
      "Train loss: 1348.601, MSE-Loss: 657.905, MSE-Future-Loss 679.784, KL-Loss: 6.936, Kmeans-Loss: 3.975, weight: 1.00\n",
      "Test loss: 1061.877, MSE-Loss: 1051.140, KL-Loss: 6.954, Kmeans-Loss: 3.783\n",
      "\n",
      "\n",
      "Epoch: 68\n",
      "Train loss: 1321.216, MSE-Loss: 650.990, MSE-Future-Loss 659.294, KL-Loss: 6.951, Kmeans-Loss: 3.981, weight: 1.00\n",
      "Test loss: 1181.054, MSE-Loss: 1170.292, KL-Loss: 6.956, Kmeans-Loss: 3.806\n",
      "\n",
      "\n",
      "Epoch: 69\n",
      "Train loss: 1310.794, MSE-Loss: 648.230, MSE-Future-Loss 651.611, KL-Loss: 6.962, Kmeans-Loss: 3.991, weight: 1.00\n",
      "Test loss: 1149.313, MSE-Loss: 1138.540, KL-Loss: 6.962, Kmeans-Loss: 3.811\n",
      "\n",
      "\n",
      "Epoch: 70\n",
      "Train loss: 1307.402, MSE-Loss: 651.568, MSE-Future-Loss 644.885, KL-Loss: 6.956, Kmeans-Loss: 3.992, weight: 1.00\n",
      "Test loss: 1004.812, MSE-Loss: 994.070, KL-Loss: 6.947, Kmeans-Loss: 3.794\n",
      "Saving model!\n",
      "\n",
      "\n",
      "Epoch: 71\n",
      "Train loss: 1304.100, MSE-Loss: 648.881, MSE-Future-Loss 644.252, KL-Loss: 6.962, Kmeans-Loss: 4.005, weight: 1.00\n",
      "Test loss: 1077.730, MSE-Loss: 1066.928, KL-Loss: 6.981, Kmeans-Loss: 3.821\n",
      "\n",
      "\n",
      "Epoch: 72\n",
      "Train loss: 1277.944, MSE-Loss: 630.462, MSE-Future-Loss 636.507, KL-Loss: 6.971, Kmeans-Loss: 4.004, weight: 1.00\n",
      "Test loss: 1124.016, MSE-Loss: 1113.199, KL-Loss: 7.001, Kmeans-Loss: 3.816\n",
      "\n",
      "\n",
      "Epoch: 73\n",
      "Train loss: 1250.342, MSE-Loss: 620.758, MSE-Future-Loss 618.596, KL-Loss: 6.970, Kmeans-Loss: 4.017, weight: 1.00\n",
      "Test loss: 1045.955, MSE-Loss: 1035.199, KL-Loss: 6.938, Kmeans-Loss: 3.818\n",
      "\n",
      "\n",
      "Epoch: 74\n",
      "Train loss: 1247.767, MSE-Loss: 626.975, MSE-Future-Loss 609.807, KL-Loss: 6.972, Kmeans-Loss: 4.014, weight: 1.00\n",
      "Test loss: 1095.764, MSE-Loss: 1084.978, KL-Loss: 6.955, Kmeans-Loss: 3.830\n",
      "\n",
      "\n",
      "Epoch: 75\n",
      "Train loss: 1238.858, MSE-Loss: 610.919, MSE-Future-Loss 616.963, KL-Loss: 6.966, Kmeans-Loss: 4.010, weight: 1.00\n",
      "Test loss: 1124.243, MSE-Loss: 1113.443, KL-Loss: 6.970, Kmeans-Loss: 3.831\n",
      "\n",
      "\n",
      "Epoch: 76\n",
      "Train loss: 1228.716, MSE-Loss: 607.648, MSE-Future-Loss 610.075, KL-Loss: 6.969, Kmeans-Loss: 4.024, weight: 1.00\n",
      "Test loss: 1139.374, MSE-Loss: 1128.548, KL-Loss: 6.992, Kmeans-Loss: 3.833\n",
      "\n",
      "\n",
      "Epoch: 77\n",
      "Train loss: 1179.396, MSE-Loss: 590.094, MSE-Future-Loss 578.311, KL-Loss: 6.978, Kmeans-Loss: 4.013, weight: 1.00\n",
      "Test loss: 1094.915, MSE-Loss: 1084.081, KL-Loss: 6.991, Kmeans-Loss: 3.844\n",
      "\n",
      "\n",
      "Epoch: 78\n",
      "Train loss: 1175.737, MSE-Loss: 591.949, MSE-Future-Loss 572.799, KL-Loss: 6.974, Kmeans-Loss: 4.016, weight: 1.00\n",
      "Test loss: 1078.586, MSE-Loss: 1067.777, KL-Loss: 6.986, Kmeans-Loss: 3.823\n",
      "\n",
      "\n",
      "Epoch: 79\n",
      "Train loss: 1156.821, MSE-Loss: 585.481, MSE-Future-Loss 560.339, KL-Loss: 6.985, Kmeans-Loss: 4.015, weight: 1.00\n",
      "Test loss: 1111.852, MSE-Loss: 1101.024, KL-Loss: 6.975, Kmeans-Loss: 3.852\n",
      "\n",
      "\n",
      "Epoch: 80\n",
      "Train loss: 1153.963, MSE-Loss: 579.936, MSE-Future-Loss 562.993, KL-Loss: 6.989, Kmeans-Loss: 4.045, weight: 1.00\n",
      "Test loss: 1091.397, MSE-Loss: 1080.460, KL-Loss: 7.044, Kmeans-Loss: 3.893\n",
      "\n",
      "\n",
      "Epoch: 81\n",
      "Train loss: 1149.999, MSE-Loss: 577.626, MSE-Future-Loss 561.302, KL-Loss: 7.007, Kmeans-Loss: 4.065, weight: 1.00\n",
      "Test loss: 1084.190, MSE-Loss: 1073.344, KL-Loss: 7.006, Kmeans-Loss: 3.841\n",
      "\n",
      "\n",
      "Epoch: 82\n",
      "Train loss: 1168.100, MSE-Loss: 585.023, MSE-Future-Loss 572.053, KL-Loss: 6.986, Kmeans-Loss: 4.038, weight: 1.00\n",
      "Test loss: 973.234, MSE-Loss: 962.416, KL-Loss: 6.986, Kmeans-Loss: 3.832\n",
      "Saving model!\n",
      "\n",
      "\n",
      "Epoch: 83\n",
      "Train loss: 1141.753, MSE-Loss: 576.523, MSE-Future-Loss 554.208, KL-Loss: 6.983, Kmeans-Loss: 4.039, weight: 1.00\n",
      "Test loss: 1170.467, MSE-Loss: 1159.610, KL-Loss: 7.007, Kmeans-Loss: 3.849\n",
      "\n",
      "\n",
      "Epoch: 84\n",
      "Train loss: 1115.360, MSE-Loss: 569.637, MSE-Future-Loss 534.676, KL-Loss: 6.994, Kmeans-Loss: 4.053, weight: 1.00\n",
      "Test loss: 1004.624, MSE-Loss: 993.763, KL-Loss: 7.001, Kmeans-Loss: 3.860\n",
      "\n",
      "\n",
      "Epoch: 85\n",
      "Train loss: 1104.670, MSE-Loss: 558.649, MSE-Future-Loss 534.971, KL-Loss: 7.000, Kmeans-Loss: 4.051, weight: 1.00\n",
      "Test loss: 1152.335, MSE-Loss: 1141.446, KL-Loss: 7.028, Kmeans-Loss: 3.860\n",
      "\n",
      "\n",
      "Epoch: 86\n",
      "Train loss: 1097.389, MSE-Loss: 573.785, MSE-Future-Loss 512.549, KL-Loss: 7.005, Kmeans-Loss: 4.050, weight: 1.00\n",
      "Test loss: 1071.478, MSE-Loss: 1060.600, KL-Loss: 7.000, Kmeans-Loss: 3.878\n",
      "\n",
      "\n",
      "Epoch: 87\n",
      "Train loss: 1099.968, MSE-Loss: 567.520, MSE-Future-Loss 521.354, KL-Loss: 7.012, Kmeans-Loss: 4.081, weight: 1.00\n",
      "Test loss: 995.792, MSE-Loss: 984.876, KL-Loss: 7.030, Kmeans-Loss: 3.886\n",
      "\n",
      "\n",
      "Epoch: 88\n",
      "Train loss: 1080.733, MSE-Loss: 549.151, MSE-Future-Loss 520.519, KL-Loss: 7.003, Kmeans-Loss: 4.059, weight: 1.00\n",
      "Test loss: 1130.923, MSE-Loss: 1120.025, KL-Loss: 7.018, Kmeans-Loss: 3.881\n",
      "\n",
      "\n",
      "Epoch: 89\n",
      "Train loss: 1071.760, MSE-Loss: 546.136, MSE-Future-Loss 514.550, KL-Loss: 7.005, Kmeans-Loss: 4.068, weight: 1.00\n",
      "Test loss: 1117.989, MSE-Loss: 1107.069, KL-Loss: 7.031, Kmeans-Loss: 3.888\n",
      "\n",
      "\n",
      "Epoch: 90\n",
      "Train loss: 1052.069, MSE-Loss: 539.084, MSE-Future-Loss 501.918, KL-Loss: 7.003, Kmeans-Loss: 4.064, weight: 1.00\n",
      "Test loss: 1243.070, MSE-Loss: 1232.141, KL-Loss: 7.013, Kmeans-Loss: 3.916\n",
      "\n",
      "\n",
      "Epoch: 91\n",
      "Train loss: 1087.995, MSE-Loss: 553.847, MSE-Future-Loss 523.080, KL-Loss: 6.998, Kmeans-Loss: 4.071, weight: 1.00\n",
      "Test loss: 1080.376, MSE-Loss: 1069.483, KL-Loss: 7.005, Kmeans-Loss: 3.888\n",
      "\n",
      "\n",
      "Epoch: 92\n",
      "Train loss: 1057.050, MSE-Loss: 536.290, MSE-Future-Loss 509.689, KL-Loss: 6.996, Kmeans-Loss: 4.074, weight: 1.00\n",
      "Test loss: 1020.765, MSE-Loss: 1009.880, KL-Loss: 7.022, Kmeans-Loss: 3.863\n",
      "\n",
      "\n",
      "Epoch: 93\n",
      "Train loss: 1022.976, MSE-Loss: 531.973, MSE-Future-Loss 479.932, KL-Loss: 6.999, Kmeans-Loss: 4.072, weight: 1.00\n",
      "Test loss: 1078.707, MSE-Loss: 1067.805, KL-Loss: 7.013, Kmeans-Loss: 3.889\n",
      "\n",
      "\n",
      "Epoch: 94\n",
      "Train loss: 1038.568, MSE-Loss: 534.531, MSE-Future-Loss 492.967, KL-Loss: 6.994, Kmeans-Loss: 4.076, weight: 1.00\n",
      "Test loss: 1107.486, MSE-Loss: 1096.666, KL-Loss: 6.954, Kmeans-Loss: 3.866\n",
      "\n",
      "\n",
      "Epoch: 95\n",
      "Train loss: 1014.166, MSE-Loss: 531.405, MSE-Future-Loss 471.664, KL-Loss: 7.006, Kmeans-Loss: 4.091, weight: 1.00\n",
      "Test loss: 1057.679, MSE-Loss: 1046.780, KL-Loss: 7.012, Kmeans-Loss: 3.886\n",
      "\n",
      "\n",
      "Epoch: 96\n",
      "Train loss: 1015.493, MSE-Loss: 525.395, MSE-Future-Loss 479.001, KL-Loss: 7.003, Kmeans-Loss: 4.095, weight: 1.00\n",
      "Test loss: 1084.749, MSE-Loss: 1073.870, KL-Loss: 6.991, Kmeans-Loss: 3.887\n",
      "\n",
      "\n",
      "Epoch: 97\n",
      "Train loss: 991.730, MSE-Loss: 509.748, MSE-Future-Loss 470.878, KL-Loss: 7.009, Kmeans-Loss: 4.095, weight: 1.00\n",
      "Test loss: 976.808, MSE-Loss: 965.880, KL-Loss: 7.018, Kmeans-Loss: 3.911\n",
      "\n",
      "\n",
      "Epoch: 98\n",
      "Train loss: 1032.853, MSE-Loss: 530.137, MSE-Future-Loss 491.603, KL-Loss: 7.005, Kmeans-Loss: 4.109, weight: 1.00\n",
      "Test loss: 1119.156, MSE-Loss: 1108.199, KL-Loss: 7.030, Kmeans-Loss: 3.927\n",
      "\n",
      "\n",
      "Epoch: 99\n",
      "Train loss: 987.924, MSE-Loss: 510.042, MSE-Future-Loss 466.798, KL-Loss: 6.996, Kmeans-Loss: 4.088, weight: 1.00\n",
      "Test loss: 1088.231, MSE-Loss: 1077.244, KL-Loss: 7.039, Kmeans-Loss: 3.948\n",
      "\n",
      "\n",
      "Epoch: 100\n",
      "Train loss: 1002.656, MSE-Loss: 517.619, MSE-Future-Loss 473.955, KL-Loss: 6.995, Kmeans-Loss: 4.086, weight: 1.00\n",
      "Test loss: 1148.544, MSE-Loss: 1137.577, KL-Loss: 7.042, Kmeans-Loss: 3.925\n",
      "Saving model snapshot!\n",
      "\n",
      "\n",
      "\n",
      "Epoch: 101\n",
      "Train loss: 979.178, MSE-Loss: 515.275, MSE-Future-Loss 452.814, KL-Loss: 6.993, Kmeans-Loss: 4.096, weight: 1.00\n",
      "Test loss: 1114.121, MSE-Loss: 1103.200, KL-Loss: 6.997, Kmeans-Loss: 3.924\n",
      "\n",
      "\n",
      "Epoch: 102\n",
      "Train loss: 954.436, MSE-Loss: 504.029, MSE-Future-Loss 439.295, KL-Loss: 7.002, Kmeans-Loss: 4.109, weight: 1.00\n",
      "Test loss: 1094.841, MSE-Loss: 1083.859, KL-Loss: 7.044, Kmeans-Loss: 3.938\n",
      "\n",
      "\n",
      "Epoch: 103\n",
      "Train loss: 969.122, MSE-Loss: 510.948, MSE-Future-Loss 447.063, KL-Loss: 7.004, Kmeans-Loss: 4.107, weight: 1.00\n",
      "Test loss: 1119.169, MSE-Loss: 1108.285, KL-Loss: 6.976, Kmeans-Loss: 3.907\n",
      "\n",
      "\n",
      "Epoch: 104\n",
      "Train loss: 956.663, MSE-Loss: 499.228, MSE-Future-Loss 446.328, KL-Loss: 7.005, Kmeans-Loss: 4.102, weight: 1.00\n",
      "Test loss: 1126.267, MSE-Loss: 1115.376, KL-Loss: 6.976, Kmeans-Loss: 3.915\n",
      "\n",
      "\n",
      "Epoch: 105\n",
      "Train loss: 945.911, MSE-Loss: 497.923, MSE-Future-Loss 436.851, KL-Loss: 7.016, Kmeans-Loss: 4.121, weight: 1.00\n",
      "Test loss: 1089.298, MSE-Loss: 1078.297, KL-Loss: 7.054, Kmeans-Loss: 3.947\n",
      "\n",
      "\n",
      "Epoch: 106\n",
      "Train loss: 960.455, MSE-Loss: 499.251, MSE-Future-Loss 450.056, KL-Loss: 7.011, Kmeans-Loss: 4.136, weight: 1.00\n",
      "Test loss: 1057.185, MSE-Loss: 1046.255, KL-Loss: 6.986, Kmeans-Loss: 3.943\n",
      "\n",
      "\n",
      "Epoch: 107\n",
      "Train loss: 931.284, MSE-Loss: 489.034, MSE-Future-Loss 431.120, KL-Loss: 7.010, Kmeans-Loss: 4.119, weight: 1.00\n",
      "Test loss: 1099.259, MSE-Loss: 1088.343, KL-Loss: 6.995, Kmeans-Loss: 3.921\n",
      "\n",
      "\n",
      "Epoch: 108\n",
      "Train loss: 907.595, MSE-Loss: 486.200, MSE-Future-Loss 410.238, KL-Loss: 7.026, Kmeans-Loss: 4.131, weight: 1.00\n",
      "Test loss: 1099.502, MSE-Loss: 1088.551, KL-Loss: 7.029, Kmeans-Loss: 3.922\n",
      "\n",
      "\n",
      "Epoch: 109\n",
      "Train loss: 921.932, MSE-Loss: 488.402, MSE-Future-Loss 422.385, KL-Loss: 7.019, Kmeans-Loss: 4.126, weight: 1.00\n",
      "Test loss: 1248.201, MSE-Loss: 1237.217, KL-Loss: 7.028, Kmeans-Loss: 3.955\n",
      "\n",
      "\n",
      "Epoch: 110\n",
      "Train loss: 892.198, MSE-Loss: 473.193, MSE-Future-Loss 407.861, KL-Loss: 7.020, Kmeans-Loss: 4.124, weight: 1.00\n",
      "Test loss: 1156.343, MSE-Loss: 1145.370, KL-Loss: 7.043, Kmeans-Loss: 3.930\n",
      "\n",
      "\n",
      "Epoch: 111\n",
      "Train loss: 907.886, MSE-Loss: 478.519, MSE-Future-Loss 418.197, KL-Loss: 7.029, Kmeans-Loss: 4.141, weight: 1.00\n",
      "Test loss: 1072.970, MSE-Loss: 1061.999, KL-Loss: 7.023, Kmeans-Loss: 3.948\n",
      "\n",
      "\n",
      "Epoch: 112\n",
      "Train loss: 890.978, MSE-Loss: 470.953, MSE-Future-Loss 408.855, KL-Loss: 7.026, Kmeans-Loss: 4.145, weight: 1.00\n",
      "Test loss: 1110.681, MSE-Loss: 1099.728, KL-Loss: 7.001, Kmeans-Loss: 3.951\n",
      "\n",
      "\n",
      "Epoch: 113\n",
      "Train loss: 891.416, MSE-Loss: 471.303, MSE-Future-Loss 408.972, KL-Loss: 7.016, Kmeans-Loss: 4.124, weight: 1.00\n",
      "Test loss: 1052.988, MSE-Loss: 1041.976, KL-Loss: 7.067, Kmeans-Loss: 3.946\n",
      "\n",
      "\n",
      "Epoch: 114\n",
      "Train loss: 905.100, MSE-Loss: 481.162, MSE-Future-Loss 412.777, KL-Loss: 7.021, Kmeans-Loss: 4.141, weight: 1.00\n",
      "Test loss: 1035.488, MSE-Loss: 1024.493, KL-Loss: 7.053, Kmeans-Loss: 3.942\n",
      "\n",
      "\n",
      "Epoch: 115\n",
      "Train loss: 889.132, MSE-Loss: 478.370, MSE-Future-Loss 399.595, KL-Loss: 7.023, Kmeans-Loss: 4.144, weight: 1.00\n",
      "Test loss: 1151.093, MSE-Loss: 1140.138, KL-Loss: 7.024, Kmeans-Loss: 3.932\n",
      "\n",
      "\n",
      "Epoch: 116\n",
      "Train loss: 869.468, MSE-Loss: 462.894, MSE-Future-Loss 395.414, KL-Loss: 7.019, Kmeans-Loss: 4.141, weight: 1.00\n",
      "Test loss: 1088.092, MSE-Loss: 1077.081, KL-Loss: 7.039, Kmeans-Loss: 3.972\n",
      "\n",
      "\n",
      "Epoch: 117\n",
      "Train loss: 857.868, MSE-Loss: 460.630, MSE-Future-Loss 386.057, KL-Loss: 7.026, Kmeans-Loss: 4.154, weight: 1.00\n",
      "Test loss: 1173.074, MSE-Loss: 1162.109, KL-Loss: 7.016, Kmeans-Loss: 3.949\n",
      "\n",
      "\n",
      "Epoch: 118\n",
      "Train loss: 868.042, MSE-Loss: 460.090, MSE-Future-Loss 396.784, KL-Loss: 7.022, Kmeans-Loss: 4.145, weight: 1.00\n",
      "Test loss: 1103.987, MSE-Loss: 1092.976, KL-Loss: 7.052, Kmeans-Loss: 3.959\n",
      "\n",
      "\n",
      "Epoch: 119\n",
      "Train loss: 861.901, MSE-Loss: 463.191, MSE-Future-Loss 387.539, KL-Loss: 7.027, Kmeans-Loss: 4.144, weight: 1.00\n",
      "Test loss: 1109.585, MSE-Loss: 1098.590, KL-Loss: 7.033, Kmeans-Loss: 3.962\n",
      "\n",
      "\n",
      "Epoch: 120\n",
      "Train loss: 862.571, MSE-Loss: 463.184, MSE-Future-Loss 388.197, KL-Loss: 7.031, Kmeans-Loss: 4.158, weight: 1.00\n",
      "Test loss: 1158.854, MSE-Loss: 1147.818, KL-Loss: 7.060, Kmeans-Loss: 3.977\n",
      "\n",
      "\n",
      "Epoch: 121\n",
      "Train loss: 859.011, MSE-Loss: 465.241, MSE-Future-Loss 382.569, KL-Loss: 7.036, Kmeans-Loss: 4.165, weight: 1.00\n",
      "Test loss: 1189.208, MSE-Loss: 1178.178, KL-Loss: 7.063, Kmeans-Loss: 3.968\n",
      "\n",
      "\n",
      "Epoch: 122\n",
      "Train loss: 836.010, MSE-Loss: 452.213, MSE-Future-Loss 372.596, KL-Loss: 7.036, Kmeans-Loss: 4.166, weight: 1.00\n",
      "Test loss: 1216.962, MSE-Loss: 1205.916, KL-Loss: 7.048, Kmeans-Loss: 3.997\n",
      "\n",
      "\n",
      "Epoch: 123\n",
      "Train loss: 850.945, MSE-Loss: 454.418, MSE-Future-Loss 385.348, KL-Loss: 7.025, Kmeans-Loss: 4.155, weight: 1.00\n",
      "Test loss: 1113.579, MSE-Loss: 1102.605, KL-Loss: 7.014, Kmeans-Loss: 3.960\n",
      "\n",
      "\n",
      "Epoch: 124\n",
      "Train loss: 833.933, MSE-Loss: 450.254, MSE-Future-Loss 372.483, KL-Loss: 7.031, Kmeans-Loss: 4.166, weight: 1.00\n",
      "Test loss: 1136.164, MSE-Loss: 1125.169, KL-Loss: 7.022, Kmeans-Loss: 3.973\n",
      "\n",
      "\n",
      "Epoch: 125\n",
      "Train loss: 833.755, MSE-Loss: 450.469, MSE-Future-Loss 372.095, KL-Loss: 7.032, Kmeans-Loss: 4.159, weight: 1.00\n",
      "Test loss: 1020.447, MSE-Loss: 1009.473, KL-Loss: 7.020, Kmeans-Loss: 3.955\n",
      "\n",
      "\n",
      "Epoch: 126\n",
      "Train loss: 832.232, MSE-Loss: 445.136, MSE-Future-Loss 375.912, KL-Loss: 7.021, Kmeans-Loss: 4.163, weight: 1.00\n",
      "Test loss: 1137.292, MSE-Loss: 1126.313, KL-Loss: 7.011, Kmeans-Loss: 3.968\n",
      "\n",
      "\n",
      "Epoch: 127\n",
      "Train loss: 800.344, MSE-Loss: 433.645, MSE-Future-Loss 355.507, KL-Loss: 7.029, Kmeans-Loss: 4.163, weight: 1.00\n",
      "Test loss: 1050.426, MSE-Loss: 1039.385, KL-Loss: 7.075, Kmeans-Loss: 3.966\n",
      "\n",
      "\n",
      "Epoch: 128\n",
      "Train loss: 818.782, MSE-Loss: 438.946, MSE-Future-Loss 368.629, KL-Loss: 7.037, Kmeans-Loss: 4.170, weight: 1.00\n",
      "Test loss: 1145.611, MSE-Loss: 1134.547, KL-Loss: 7.060, Kmeans-Loss: 4.004\n",
      "\n",
      "\n",
      "Epoch: 129\n",
      "Train loss: 823.849, MSE-Loss: 443.600, MSE-Future-Loss 369.039, KL-Loss: 7.031, Kmeans-Loss: 4.178, weight: 1.00\n",
      "Test loss: 1227.228, MSE-Loss: 1216.172, KL-Loss: 7.041, Kmeans-Loss: 4.015\n",
      "\n",
      "\n",
      "Epoch: 130\n",
      "Train loss: 809.231, MSE-Loss: 438.964, MSE-Future-Loss 359.067, KL-Loss: 7.028, Kmeans-Loss: 4.172, weight: 1.00\n",
      "Test loss: 1174.002, MSE-Loss: 1162.980, KL-Loss: 7.038, Kmeans-Loss: 3.984\n",
      "\n",
      "\n",
      "Epoch: 131\n",
      "Train loss: 788.893, MSE-Loss: 432.943, MSE-Future-Loss 344.751, KL-Loss: 7.028, Kmeans-Loss: 4.171, weight: 1.00\n",
      "Test loss: 981.746, MSE-Loss: 970.744, KL-Loss: 7.062, Kmeans-Loss: 3.940\n",
      "\n",
      "\n",
      "Epoch: 132\n",
      "Train loss: 781.221, MSE-Loss: 427.773, MSE-Future-Loss 342.247, KL-Loss: 7.037, Kmeans-Loss: 4.165, weight: 1.00\n",
      "Test loss: 1046.831, MSE-Loss: 1035.847, KL-Loss: 7.037, Kmeans-Loss: 3.946\n",
      "\n",
      "\n",
      "Epoch: 133\n",
      "Train loss: 781.344, MSE-Loss: 424.994, MSE-Future-Loss 345.120, KL-Loss: 7.043, Kmeans-Loss: 4.186, weight: 1.00\n",
      "Test loss: 1050.641, MSE-Loss: 1039.612, KL-Loss: 7.063, Kmeans-Loss: 3.966\n",
      "Finished training...\n",
      "Model converged. Please check your model with vame.evaluate_model(). \n",
      "You can also re-run vame.trainmodel() to further improve your model. \n",
      "Make sure to set _pretrained_weights_ in your config.yaml to \"true\" \n",
      "and plug your current model name into _pretrained_model_. \n",
      "Hint: Set \"model_convergence\" in your config.yaml to a higher value. \n",
      "\n",
      "Next: \n",
      "Use vame.pose_segmentation() to identify behavioral motifs in your dataset!\n"
     ]
    }
   ],
   "source": [
    "vame.train_model(config)"
   ],
   "metadata": {
    "collapsed": false,
    "ExecuteTime": {
     "end_time": "2024-06-30T13:24:19.889235700Z",
     "start_time": "2024-06-30T13:11:02.334919400Z"
    }
   },
   "id": "dfdc48e40909f6bc"
  },
  {
   "cell_type": "markdown",
   "source": [
    "# Step 3: Evaluate the model"
   ],
   "metadata": {
    "collapsed": false
   },
   "id": "611fce6b02a9ec44"
  },
  {
   "cell_type": "code",
   "execution_count": 5,
   "outputs": [
    {
     "name": "stdout",
     "output_type": "stream",
     "text": [
      "Using CUDA\n",
      "GPU active: True\n",
      "GPU used: NVIDIA GeForce RTX 3060\n",
      "\n",
      "\n",
      "Evaluation of VAME model. \n",
      "Initialize test data. Datapoints 2936\n",
      "You can find the results of the evaluation in '/Your-VAME-Project-Apr30-2020/model/evaluate/' \n",
      "OPTIONS:\n",
      "- vame.pose_segmentation() to identify behavioral motifs.\n",
      "- re-run the model for further fine tuning. Check again with vame.evaluate_model()\n"
     ]
    }
   ],
   "source": [
    "vame.evaluate_model(config)"
   ],
   "metadata": {
    "collapsed": false,
    "ExecuteTime": {
     "end_time": "2024-08-26T14:39:18.544778400Z",
     "start_time": "2024-08-26T14:39:14.011653200Z"
    }
   },
   "id": "3eebda6a2f92447f"
  },
  {
   "cell_type": "markdown",
   "source": [
    "# Step 4: Motif segmentation"
   ],
   "metadata": {
    "collapsed": false
   },
   "id": "8ac66be4f6389ac0"
  },
  {
   "cell_type": "code",
   "execution_count": 23,
   "outputs": [
    {
     "name": "stdout",
     "output_type": "stream",
     "text": [
      "Pose segmentation for VAME model: VAME \n",
      "\n",
      "Using CUDA\n",
      "GPU active: True\n",
      "GPU used: NVIDIA GeForce RTX 3060\n",
      "Embedding of latent vector for file cropped_Rat1 probe 4-day2-free_2019-05-13-114301-0000\n"
     ]
    },
    {
     "name": "stderr",
     "output_type": "stream",
     "text": [
      "100%|██████████| 9856/9856 [00:13<00:00, 741.71it/s]\n"
     ]
    },
    {
     "name": "stdout",
     "output_type": "stream",
     "text": [
      "Embedding of latent vector for file cropped_Rat1 probe4-day1-free_2019-05-12-104236-0000\n"
     ]
    },
    {
     "name": "stderr",
     "output_type": "stream",
     "text": [
      "100%|██████████| 9936/9936 [00:13<00:00, 743.39it/s]\n"
     ]
    },
    {
     "name": "stdout",
     "output_type": "stream",
     "text": [
      "Embedding of latent vector for file cropped_Rat2-probe1-sniffing-day1-Free_2019-07-14-155327-0000\n"
     ]
    },
    {
     "name": "stderr",
     "output_type": "stream",
     "text": [
      "100%|██████████| 9483/9483 [00:12<00:00, 746.18it/s]\n"
     ]
    },
    {
     "name": "stdout",
     "output_type": "stream",
     "text": [
      "For all animals the same parameterization of latent vectors is applied for 15 cluster\n",
      "Using a HMM as parameterization!\n",
      "D:\\Project- Electro\\VAME\\materials\\working_dir_2\\Unsupervised Learning Tutorial with VAME-Jun30-2024\\results\\cropped_Rat1 probe 4-day2-free_2019-05-13-114301-0000\\VAME\\hmm-15\\\n",
      "D:\\Project- Electro\\VAME\\materials\\working_dir_2\\Unsupervised Learning Tutorial with VAME-Jun30-2024\\results\\cropped_Rat1 probe4-day1-free_2019-05-12-104236-0000\\VAME\\hmm-15\\\n",
      "D:\\Project- Electro\\VAME\\materials\\working_dir_2\\Unsupervised Learning Tutorial with VAME-Jun30-2024\\results\\cropped_Rat2-probe1-sniffing-day1-Free_2019-07-14-155327-0000\\VAME\\hmm-15\\\n",
      "You succesfully extracted motifs with VAME! From here, you can proceed running vame.motif_videos() \n"
     ]
    }
   ],
   "source": [
    "vame.pose_segmentation(config)"
   ],
   "metadata": {
    "collapsed": false,
    "ExecuteTime": {
     "end_time": "2024-06-30T13:28:41.356585200Z",
     "start_time": "2024-06-30T13:24:20.995353Z"
    }
   },
   "id": "4352843b8565fa76"
  },
  {
   "cell_type": "markdown",
   "source": [
    "# Step 5: Create Motif Videos"
   ],
   "metadata": {
    "collapsed": false
   },
   "id": "2165b88b5fee6b0a"
  },
  {
   "cell_type": "code",
   "execution_count": 24,
   "outputs": [
    {
     "name": "stdout",
     "output_type": "stream",
     "text": [
      "Cluster size is: 15 \n",
      "Motif videos getting created for cropped_Rat1 probe 4-day2-free_2019-05-13-114301-0000 ...\n",
      "fps: 30.0\n",
      "Cluster: 0\n"
     ]
    },
    {
     "name": "stderr",
     "output_type": "stream",
     "text": [
      "100%|██████████| 252/252 [00:11<00:00, 22.57it/s]\n"
     ]
    },
    {
     "name": "stdout",
     "output_type": "stream",
     "text": [
      "Cluster: 1\n"
     ]
    },
    {
     "name": "stderr",
     "output_type": "stream",
     "text": [
      "100%|██████████| 256/256 [00:11<00:00, 22.70it/s]\n"
     ]
    },
    {
     "name": "stdout",
     "output_type": "stream",
     "text": [
      "Cluster: 2\n"
     ]
    },
    {
     "name": "stderr",
     "output_type": "stream",
     "text": [
      "100%|██████████| 653/653 [00:28<00:00, 23.15it/s]\n"
     ]
    },
    {
     "name": "stdout",
     "output_type": "stream",
     "text": [
      "Cluster: 3\n"
     ]
    },
    {
     "name": "stderr",
     "output_type": "stream",
     "text": [
      "100%|██████████| 168/168 [00:07<00:00, 23.28it/s]\n"
     ]
    },
    {
     "name": "stdout",
     "output_type": "stream",
     "text": [
      "Cluster: 4\n"
     ]
    },
    {
     "name": "stderr",
     "output_type": "stream",
     "text": [
      "0it [00:00, ?it/s]\n"
     ]
    },
    {
     "name": "stdout",
     "output_type": "stream",
     "text": [
      "Cluster: 5\n"
     ]
    },
    {
     "name": "stderr",
     "output_type": "stream",
     "text": [
      "100%|██████████| 1000/1000 [00:42<00:00, 23.29it/s]\n"
     ]
    },
    {
     "name": "stdout",
     "output_type": "stream",
     "text": [
      "Cluster: 6\n"
     ]
    },
    {
     "name": "stderr",
     "output_type": "stream",
     "text": [
      "100%|██████████| 1000/1000 [00:42<00:00, 23.43it/s]\n"
     ]
    },
    {
     "name": "stdout",
     "output_type": "stream",
     "text": [
      "Cluster: 7\n"
     ]
    },
    {
     "name": "stderr",
     "output_type": "stream",
     "text": [
      "100%|██████████| 549/549 [00:23<00:00, 23.55it/s]\n"
     ]
    },
    {
     "name": "stdout",
     "output_type": "stream",
     "text": [
      "Cluster: 8\n"
     ]
    },
    {
     "name": "stderr",
     "output_type": "stream",
     "text": [
      "100%|██████████| 304/304 [00:12<00:00, 23.57it/s]\n"
     ]
    },
    {
     "name": "stdout",
     "output_type": "stream",
     "text": [
      "Cluster: 9\n"
     ]
    },
    {
     "name": "stderr",
     "output_type": "stream",
     "text": [
      "100%|██████████| 255/255 [00:10<00:00, 24.02it/s]\n"
     ]
    },
    {
     "name": "stdout",
     "output_type": "stream",
     "text": [
      "Cluster: 10\n"
     ]
    },
    {
     "name": "stderr",
     "output_type": "stream",
     "text": [
      "0it [00:00, ?it/s]\n"
     ]
    },
    {
     "name": "stdout",
     "output_type": "stream",
     "text": [
      "Cluster: 11\n"
     ]
    },
    {
     "name": "stderr",
     "output_type": "stream",
     "text": [
      "100%|██████████| 646/646 [00:26<00:00, 24.26it/s]\n"
     ]
    },
    {
     "name": "stdout",
     "output_type": "stream",
     "text": [
      "Cluster: 12\n"
     ]
    },
    {
     "name": "stderr",
     "output_type": "stream",
     "text": [
      "100%|██████████| 1000/1000 [00:41<00:00, 23.94it/s]\n"
     ]
    },
    {
     "name": "stdout",
     "output_type": "stream",
     "text": [
      "Cluster: 13\n"
     ]
    },
    {
     "name": "stderr",
     "output_type": "stream",
     "text": [
      "100%|██████████| 1000/1000 [00:41<00:00, 24.02it/s]\n"
     ]
    },
    {
     "name": "stdout",
     "output_type": "stream",
     "text": [
      "Cluster: 14\n"
     ]
    },
    {
     "name": "stderr",
     "output_type": "stream",
     "text": [
      "100%|██████████| 1000/1000 [00:41<00:00, 23.98it/s]\n"
     ]
    },
    {
     "name": "stdout",
     "output_type": "stream",
     "text": [
      "Motif videos getting created for cropped_Rat1 probe4-day1-free_2019-05-12-104236-0000 ...\n",
      "fps: 30.0\n",
      "Cluster: 0\n"
     ]
    },
    {
     "name": "stderr",
     "output_type": "stream",
     "text": [
      "100%|██████████| 1000/1000 [00:42<00:00, 23.66it/s]\n"
     ]
    },
    {
     "name": "stdout",
     "output_type": "stream",
     "text": [
      "Cluster: 1\n"
     ]
    },
    {
     "name": "stderr",
     "output_type": "stream",
     "text": [
      "100%|██████████| 1000/1000 [00:41<00:00, 23.90it/s]\n"
     ]
    },
    {
     "name": "stdout",
     "output_type": "stream",
     "text": [
      "Cluster: 2\n"
     ]
    },
    {
     "name": "stderr",
     "output_type": "stream",
     "text": [
      "100%|██████████| 285/285 [00:11<00:00, 23.98it/s]\n"
     ]
    },
    {
     "name": "stdout",
     "output_type": "stream",
     "text": [
      "Cluster: 3\n"
     ]
    },
    {
     "name": "stderr",
     "output_type": "stream",
     "text": [
      "100%|██████████| 1000/1000 [00:41<00:00, 23.81it/s]\n"
     ]
    },
    {
     "name": "stdout",
     "output_type": "stream",
     "text": [
      "Cluster: 4\n"
     ]
    },
    {
     "name": "stderr",
     "output_type": "stream",
     "text": [
      "0it [00:00, ?it/s]\n"
     ]
    },
    {
     "name": "stdout",
     "output_type": "stream",
     "text": [
      "Cluster: 5\n"
     ]
    },
    {
     "name": "stderr",
     "output_type": "stream",
     "text": [
      "100%|██████████| 1000/1000 [00:41<00:00, 24.25it/s]\n"
     ]
    },
    {
     "name": "stdout",
     "output_type": "stream",
     "text": [
      "Cluster: 6\n"
     ]
    },
    {
     "name": "stderr",
     "output_type": "stream",
     "text": [
      "100%|██████████| 686/686 [00:28<00:00, 24.01it/s]\n"
     ]
    },
    {
     "name": "stdout",
     "output_type": "stream",
     "text": [
      "Cluster: 7\n"
     ]
    },
    {
     "name": "stderr",
     "output_type": "stream",
     "text": [
      "100%|██████████| 290/290 [00:12<00:00, 24.05it/s]\n"
     ]
    },
    {
     "name": "stdout",
     "output_type": "stream",
     "text": [
      "Cluster: 8\n"
     ]
    },
    {
     "name": "stderr",
     "output_type": "stream",
     "text": [
      "100%|██████████| 393/393 [00:16<00:00, 23.66it/s]\n"
     ]
    },
    {
     "name": "stdout",
     "output_type": "stream",
     "text": [
      "Cluster: 9\n"
     ]
    },
    {
     "name": "stderr",
     "output_type": "stream",
     "text": [
      "0it [00:00, ?it/s]\n"
     ]
    },
    {
     "name": "stdout",
     "output_type": "stream",
     "text": [
      "Cluster: 10\n"
     ]
    },
    {
     "name": "stderr",
     "output_type": "stream",
     "text": [
      "100%|██████████| 571/571 [00:24<00:00, 23.33it/s]\n"
     ]
    },
    {
     "name": "stdout",
     "output_type": "stream",
     "text": [
      "Cluster: 11\n"
     ]
    },
    {
     "name": "stderr",
     "output_type": "stream",
     "text": [
      "100%|██████████| 141/141 [00:06<00:00, 23.44it/s]\n"
     ]
    },
    {
     "name": "stdout",
     "output_type": "stream",
     "text": [
      "Cluster: 12\n"
     ]
    },
    {
     "name": "stderr",
     "output_type": "stream",
     "text": [
      "100%|██████████| 443/443 [00:18<00:00, 23.43it/s]\n"
     ]
    },
    {
     "name": "stdout",
     "output_type": "stream",
     "text": [
      "Cluster: 13\n"
     ]
    },
    {
     "name": "stderr",
     "output_type": "stream",
     "text": [
      "100%|██████████| 793/793 [00:34<00:00, 23.05it/s]\n"
     ]
    },
    {
     "name": "stdout",
     "output_type": "stream",
     "text": [
      "Cluster: 14\n"
     ]
    },
    {
     "name": "stderr",
     "output_type": "stream",
     "text": [
      "100%|██████████| 1000/1000 [00:44<00:00, 22.41it/s]\n"
     ]
    },
    {
     "name": "stdout",
     "output_type": "stream",
     "text": [
      "Motif videos getting created for cropped_Rat2-probe1-sniffing-day1-Free_2019-07-14-155327-0000 ...\n",
      "fps: 30.0\n",
      "Cluster: 0\n"
     ]
    },
    {
     "name": "stderr",
     "output_type": "stream",
     "text": [
      "100%|██████████| 107/107 [00:04<00:00, 23.53it/s]\n"
     ]
    },
    {
     "name": "stdout",
     "output_type": "stream",
     "text": [
      "Cluster: 1\n"
     ]
    },
    {
     "name": "stderr",
     "output_type": "stream",
     "text": [
      "100%|██████████| 1000/1000 [00:45<00:00, 21.98it/s]\n"
     ]
    },
    {
     "name": "stdout",
     "output_type": "stream",
     "text": [
      "Cluster: 2\n"
     ]
    },
    {
     "name": "stderr",
     "output_type": "stream",
     "text": [
      "100%|██████████| 605/605 [00:26<00:00, 22.48it/s]\n"
     ]
    },
    {
     "name": "stdout",
     "output_type": "stream",
     "text": [
      "Cluster: 3\n"
     ]
    },
    {
     "name": "stderr",
     "output_type": "stream",
     "text": [
      "100%|██████████| 574/574 [00:25<00:00, 22.30it/s]\n"
     ]
    },
    {
     "name": "stdout",
     "output_type": "stream",
     "text": [
      "Cluster: 4\n"
     ]
    },
    {
     "name": "stderr",
     "output_type": "stream",
     "text": [
      "100%|██████████| 311/311 [00:13<00:00, 23.03it/s]\n"
     ]
    },
    {
     "name": "stdout",
     "output_type": "stream",
     "text": [
      "Cluster: 5\n"
     ]
    },
    {
     "name": "stderr",
     "output_type": "stream",
     "text": [
      "100%|██████████| 644/644 [00:27<00:00, 23.04it/s]\n"
     ]
    },
    {
     "name": "stdout",
     "output_type": "stream",
     "text": [
      "Cluster: 6\n"
     ]
    },
    {
     "name": "stderr",
     "output_type": "stream",
     "text": [
      "100%|██████████| 1000/1000 [00:43<00:00, 22.80it/s]\n"
     ]
    },
    {
     "name": "stdout",
     "output_type": "stream",
     "text": [
      "Cluster: 7\n"
     ]
    },
    {
     "name": "stderr",
     "output_type": "stream",
     "text": [
      "100%|██████████| 61/61 [00:02<00:00, 22.91it/s]\n"
     ]
    },
    {
     "name": "stdout",
     "output_type": "stream",
     "text": [
      "Cluster: 8\n"
     ]
    },
    {
     "name": "stderr",
     "output_type": "stream",
     "text": [
      "100%|██████████| 1000/1000 [00:45<00:00, 21.80it/s]\n"
     ]
    },
    {
     "name": "stdout",
     "output_type": "stream",
     "text": [
      "Cluster: 9\n"
     ]
    },
    {
     "name": "stderr",
     "output_type": "stream",
     "text": [
      "100%|██████████| 305/305 [00:14<00:00, 20.86it/s]\n"
     ]
    },
    {
     "name": "stdout",
     "output_type": "stream",
     "text": [
      "Cluster: 10\n"
     ]
    },
    {
     "name": "stderr",
     "output_type": "stream",
     "text": [
      "0it [00:00, ?it/s]\n"
     ]
    },
    {
     "name": "stdout",
     "output_type": "stream",
     "text": [
      "Cluster: 11\n"
     ]
    },
    {
     "name": "stderr",
     "output_type": "stream",
     "text": [
      "100%|██████████| 314/314 [00:14<00:00, 21.13it/s]\n"
     ]
    },
    {
     "name": "stdout",
     "output_type": "stream",
     "text": [
      "Cluster: 12\n"
     ]
    },
    {
     "name": "stderr",
     "output_type": "stream",
     "text": [
      "100%|██████████| 1000/1000 [00:47<00:00, 21.19it/s]\n"
     ]
    },
    {
     "name": "stdout",
     "output_type": "stream",
     "text": [
      "Cluster: 13\n"
     ]
    },
    {
     "name": "stderr",
     "output_type": "stream",
     "text": [
      "100%|██████████| 261/261 [00:13<00:00, 19.49it/s]\n"
     ]
    },
    {
     "name": "stdout",
     "output_type": "stream",
     "text": [
      "Cluster: 14\n"
     ]
    },
    {
     "name": "stderr",
     "output_type": "stream",
     "text": [
      "100%|██████████| 424/424 [00:21<00:00, 19.57it/s]"
     ]
    },
    {
     "name": "stdout",
     "output_type": "stream",
     "text": [
      "All videos have been created!\n"
     ]
    },
    {
     "name": "stderr",
     "output_type": "stream",
     "text": [
      "\n"
     ]
    }
   ],
   "source": [
    "vame.motif_videos(config, videoType='.avi')"
   ],
   "metadata": {
    "collapsed": false,
    "ExecuteTime": {
     "end_time": "2024-06-30T13:46:16.726146Z",
     "start_time": "2024-06-30T13:28:41.360584100Z"
    }
   },
   "id": "44b97bb92505c055"
  },
  {
   "cell_type": "markdown",
   "source": [
    "# Step 6: Create behavioral hierarchies"
   ],
   "metadata": {
    "collapsed": false
   },
   "id": "239c2946290f2f5e"
  },
  {
   "cell_type": "code",
   "execution_count": 6,
   "outputs": [
    {
     "name": "stderr",
     "output_type": "stream",
     "text": [
      "D:\\Project- Electro\\VAME\\vame\\analysis\\community_analysis.py:57: RuntimeWarning: invalid value encountered in true_divide\n",
      "  transition_matrix = adjacency_matrix/row_sum[:,np.newaxis]\n"
     ]
    },
    {
     "name": "stdout",
     "output_type": "stream",
     "text": [
      "UMAP calculation for file cropped_Rat1 probe 4-day2-free_2019-05-13-114301-0000\n",
      "Embedding 9856 data points..\n",
      "Embedding 9856 data points..\n",
      "UMAP calculation for file cropped_Rat1 probe4-day1-free_2019-05-12-104236-0000\n",
      "Embedding 9936 data points..\n",
      "Embedding 9936 data points..\n",
      "UMAP calculation for file cropped_Rat2-probe1-sniffing-day1-Free_2019-07-14-155327-0000\n",
      "Embedding 9483 data points..\n",
      "Embedding 9483 data points..\n"
     ]
    }
   ],
   "source": [
    "vame.community(config, show_umap=True, cut_tree=2)"
   ],
   "metadata": {
    "collapsed": false,
    "ExecuteTime": {
     "end_time": "2024-08-26T14:42:57.136865900Z",
     "start_time": "2024-08-26T14:41:12.600950100Z"
    }
   },
   "id": "5c22cc24e84096f7"
  },
  {
   "cell_type": "markdown",
   "source": [
    "# Step 7: Create community videos"
   ],
   "metadata": {
    "collapsed": false
   },
   "id": "d46099c52079a89"
  },
  {
   "cell_type": "code",
   "execution_count": 26,
   "outputs": [
    {
     "name": "stdout",
     "output_type": "stream",
     "text": [
      "Cluster size is: 15 \n",
      "Community videos getting created for cropped_Rat1 probe 4-day2-free_2019-05-13-114301-0000 ...\n",
      "fps: 30.0\n",
      "Cluster: 0\n"
     ]
    },
    {
     "name": "stderr",
     "output_type": "stream",
     "text": [
      "100%|██████████| 1000/1000 [00:45<00:00, 21.86it/s]\n"
     ]
    },
    {
     "name": "stdout",
     "output_type": "stream",
     "text": [
      "Cluster: 1\n"
     ]
    },
    {
     "name": "stderr",
     "output_type": "stream",
     "text": [
      "0it [00:00, ?it/s]\n"
     ]
    },
    {
     "name": "stdout",
     "output_type": "stream",
     "text": [
      "Cluster: 2\n"
     ]
    },
    {
     "name": "stderr",
     "output_type": "stream",
     "text": [
      "0it [00:00, ?it/s]\n"
     ]
    },
    {
     "name": "stdout",
     "output_type": "stream",
     "text": [
      "Cluster: 3\n"
     ]
    },
    {
     "name": "stderr",
     "output_type": "stream",
     "text": [
      "0it [00:00, ?it/s]\n"
     ]
    },
    {
     "name": "stdout",
     "output_type": "stream",
     "text": [
      "Cluster: 4\n"
     ]
    },
    {
     "name": "stderr",
     "output_type": "stream",
     "text": [
      "0it [00:00, ?it/s]\n"
     ]
    },
    {
     "name": "stdout",
     "output_type": "stream",
     "text": [
      "Cluster: 5\n"
     ]
    },
    {
     "name": "stderr",
     "output_type": "stream",
     "text": [
      "0it [00:00, ?it/s]\n"
     ]
    },
    {
     "name": "stdout",
     "output_type": "stream",
     "text": [
      "Cluster: 6\n"
     ]
    },
    {
     "name": "stderr",
     "output_type": "stream",
     "text": [
      "0it [00:00, ?it/s]\n"
     ]
    },
    {
     "name": "stdout",
     "output_type": "stream",
     "text": [
      "Cluster: 7\n"
     ]
    },
    {
     "name": "stderr",
     "output_type": "stream",
     "text": [
      "0it [00:00, ?it/s]\n"
     ]
    },
    {
     "name": "stdout",
     "output_type": "stream",
     "text": [
      "Cluster: 8\n"
     ]
    },
    {
     "name": "stderr",
     "output_type": "stream",
     "text": [
      "0it [00:00, ?it/s]\n"
     ]
    },
    {
     "name": "stdout",
     "output_type": "stream",
     "text": [
      "Cluster: 9\n"
     ]
    },
    {
     "name": "stderr",
     "output_type": "stream",
     "text": [
      "0it [00:00, ?it/s]\n"
     ]
    },
    {
     "name": "stdout",
     "output_type": "stream",
     "text": [
      "Cluster: 10\n"
     ]
    },
    {
     "name": "stderr",
     "output_type": "stream",
     "text": [
      "0it [00:00, ?it/s]\n"
     ]
    },
    {
     "name": "stdout",
     "output_type": "stream",
     "text": [
      "Cluster: 11\n"
     ]
    },
    {
     "name": "stderr",
     "output_type": "stream",
     "text": [
      "0it [00:00, ?it/s]\n"
     ]
    },
    {
     "name": "stdout",
     "output_type": "stream",
     "text": [
      "Cluster: 12\n"
     ]
    },
    {
     "name": "stderr",
     "output_type": "stream",
     "text": [
      "0it [00:00, ?it/s]\n"
     ]
    },
    {
     "name": "stdout",
     "output_type": "stream",
     "text": [
      "Cluster: 13\n"
     ]
    },
    {
     "name": "stderr",
     "output_type": "stream",
     "text": [
      "0it [00:00, ?it/s]\n"
     ]
    },
    {
     "name": "stdout",
     "output_type": "stream",
     "text": [
      "Cluster: 14\n"
     ]
    },
    {
     "name": "stderr",
     "output_type": "stream",
     "text": [
      "0it [00:00, ?it/s]\n"
     ]
    },
    {
     "name": "stdout",
     "output_type": "stream",
     "text": [
      "Community videos getting created for cropped_Rat1 probe4-day1-free_2019-05-12-104236-0000 ...\n",
      "fps: 30.0\n",
      "Cluster: 0\n"
     ]
    },
    {
     "name": "stderr",
     "output_type": "stream",
     "text": [
      "100%|██████████| 1000/1000 [00:44<00:00, 22.49it/s]\n"
     ]
    },
    {
     "name": "stdout",
     "output_type": "stream",
     "text": [
      "Cluster: 1\n"
     ]
    },
    {
     "name": "stderr",
     "output_type": "stream",
     "text": [
      "0it [00:00, ?it/s]\n"
     ]
    },
    {
     "name": "stdout",
     "output_type": "stream",
     "text": [
      "Cluster: 2\n"
     ]
    },
    {
     "name": "stderr",
     "output_type": "stream",
     "text": [
      "0it [00:00, ?it/s]\n"
     ]
    },
    {
     "name": "stdout",
     "output_type": "stream",
     "text": [
      "Cluster: 3\n"
     ]
    },
    {
     "name": "stderr",
     "output_type": "stream",
     "text": [
      "0it [00:00, ?it/s]\n"
     ]
    },
    {
     "name": "stdout",
     "output_type": "stream",
     "text": [
      "Cluster: 4\n"
     ]
    },
    {
     "name": "stderr",
     "output_type": "stream",
     "text": [
      "0it [00:00, ?it/s]\n"
     ]
    },
    {
     "name": "stdout",
     "output_type": "stream",
     "text": [
      "Cluster: 5\n"
     ]
    },
    {
     "name": "stderr",
     "output_type": "stream",
     "text": [
      "0it [00:00, ?it/s]\n"
     ]
    },
    {
     "name": "stdout",
     "output_type": "stream",
     "text": [
      "Cluster: 6\n"
     ]
    },
    {
     "name": "stderr",
     "output_type": "stream",
     "text": [
      "0it [00:00, ?it/s]\n"
     ]
    },
    {
     "name": "stdout",
     "output_type": "stream",
     "text": [
      "Cluster: 7\n"
     ]
    },
    {
     "name": "stderr",
     "output_type": "stream",
     "text": [
      "0it [00:00, ?it/s]\n"
     ]
    },
    {
     "name": "stdout",
     "output_type": "stream",
     "text": [
      "Cluster: 8\n"
     ]
    },
    {
     "name": "stderr",
     "output_type": "stream",
     "text": [
      "0it [00:00, ?it/s]\n"
     ]
    },
    {
     "name": "stdout",
     "output_type": "stream",
     "text": [
      "Cluster: 9\n"
     ]
    },
    {
     "name": "stderr",
     "output_type": "stream",
     "text": [
      "0it [00:00, ?it/s]\n"
     ]
    },
    {
     "name": "stdout",
     "output_type": "stream",
     "text": [
      "Cluster: 10\n"
     ]
    },
    {
     "name": "stderr",
     "output_type": "stream",
     "text": [
      "0it [00:00, ?it/s]\n"
     ]
    },
    {
     "name": "stdout",
     "output_type": "stream",
     "text": [
      "Cluster: 11\n"
     ]
    },
    {
     "name": "stderr",
     "output_type": "stream",
     "text": [
      "0it [00:00, ?it/s]\n"
     ]
    },
    {
     "name": "stdout",
     "output_type": "stream",
     "text": [
      "Cluster: 12\n"
     ]
    },
    {
     "name": "stderr",
     "output_type": "stream",
     "text": [
      "0it [00:00, ?it/s]\n"
     ]
    },
    {
     "name": "stdout",
     "output_type": "stream",
     "text": [
      "Cluster: 13\n"
     ]
    },
    {
     "name": "stderr",
     "output_type": "stream",
     "text": [
      "0it [00:00, ?it/s]\n"
     ]
    },
    {
     "name": "stdout",
     "output_type": "stream",
     "text": [
      "Cluster: 14\n"
     ]
    },
    {
     "name": "stderr",
     "output_type": "stream",
     "text": [
      "0it [00:00, ?it/s]\n"
     ]
    },
    {
     "name": "stdout",
     "output_type": "stream",
     "text": [
      "Community videos getting created for cropped_Rat2-probe1-sniffing-day1-Free_2019-07-14-155327-0000 ...\n",
      "fps: 30.0\n",
      "Cluster: 0\n"
     ]
    },
    {
     "name": "stderr",
     "output_type": "stream",
     "text": [
      "100%|██████████| 1000/1000 [00:46<00:00, 21.35it/s]\n"
     ]
    },
    {
     "name": "stdout",
     "output_type": "stream",
     "text": [
      "Cluster: 1\n"
     ]
    },
    {
     "name": "stderr",
     "output_type": "stream",
     "text": [
      "0it [00:00, ?it/s]\n"
     ]
    },
    {
     "name": "stdout",
     "output_type": "stream",
     "text": [
      "Cluster: 2\n"
     ]
    },
    {
     "name": "stderr",
     "output_type": "stream",
     "text": [
      "0it [00:00, ?it/s]\n"
     ]
    },
    {
     "name": "stdout",
     "output_type": "stream",
     "text": [
      "Cluster: 3\n"
     ]
    },
    {
     "name": "stderr",
     "output_type": "stream",
     "text": [
      "0it [00:00, ?it/s]\n"
     ]
    },
    {
     "name": "stdout",
     "output_type": "stream",
     "text": [
      "Cluster: 4\n"
     ]
    },
    {
     "name": "stderr",
     "output_type": "stream",
     "text": [
      "0it [00:00, ?it/s]\n"
     ]
    },
    {
     "name": "stdout",
     "output_type": "stream",
     "text": [
      "Cluster: 5\n"
     ]
    },
    {
     "name": "stderr",
     "output_type": "stream",
     "text": [
      "0it [00:00, ?it/s]\n"
     ]
    },
    {
     "name": "stdout",
     "output_type": "stream",
     "text": [
      "Cluster: 6\n"
     ]
    },
    {
     "name": "stderr",
     "output_type": "stream",
     "text": [
      "0it [00:00, ?it/s]\n"
     ]
    },
    {
     "name": "stdout",
     "output_type": "stream",
     "text": [
      "Cluster: 7\n"
     ]
    },
    {
     "name": "stderr",
     "output_type": "stream",
     "text": [
      "0it [00:00, ?it/s]\n"
     ]
    },
    {
     "name": "stdout",
     "output_type": "stream",
     "text": [
      "Cluster: 8\n"
     ]
    },
    {
     "name": "stderr",
     "output_type": "stream",
     "text": [
      "0it [00:00, ?it/s]\n"
     ]
    },
    {
     "name": "stdout",
     "output_type": "stream",
     "text": [
      "Cluster: 9\n"
     ]
    },
    {
     "name": "stderr",
     "output_type": "stream",
     "text": [
      "0it [00:00, ?it/s]\n"
     ]
    },
    {
     "name": "stdout",
     "output_type": "stream",
     "text": [
      "Cluster: 10\n"
     ]
    },
    {
     "name": "stderr",
     "output_type": "stream",
     "text": [
      "0it [00:00, ?it/s]\n"
     ]
    },
    {
     "name": "stdout",
     "output_type": "stream",
     "text": [
      "Cluster: 11\n"
     ]
    },
    {
     "name": "stderr",
     "output_type": "stream",
     "text": [
      "0it [00:00, ?it/s]\n"
     ]
    },
    {
     "name": "stdout",
     "output_type": "stream",
     "text": [
      "Cluster: 12\n"
     ]
    },
    {
     "name": "stderr",
     "output_type": "stream",
     "text": [
      "0it [00:00, ?it/s]\n"
     ]
    },
    {
     "name": "stdout",
     "output_type": "stream",
     "text": [
      "Cluster: 13\n"
     ]
    },
    {
     "name": "stderr",
     "output_type": "stream",
     "text": [
      "0it [00:00, ?it/s]\n"
     ]
    },
    {
     "name": "stdout",
     "output_type": "stream",
     "text": [
      "Cluster: 14\n"
     ]
    },
    {
     "name": "stderr",
     "output_type": "stream",
     "text": [
      "0it [00:00, ?it/s]"
     ]
    },
    {
     "name": "stdout",
     "output_type": "stream",
     "text": [
      "All videos have been created!\n"
     ]
    },
    {
     "name": "stderr",
     "output_type": "stream",
     "text": [
      "\n"
     ]
    }
   ],
   "source": [
    "vame.community_videos(config, videoType='.avi')"
   ],
   "metadata": {
    "collapsed": false,
    "ExecuteTime": {
     "end_time": "2024-06-30T13:48:34.200798100Z",
     "start_time": "2024-06-30T13:46:16.962100300Z"
    }
   },
   "id": "5cf037b4f9cf1e48"
  },
  {
   "cell_type": "markdown",
   "source": [
    "# Step 8: Create UMAP visualization"
   ],
   "metadata": {
    "collapsed": false
   },
   "id": "ffe1f7a17eab9f3"
  },
  {
   "cell_type": "code",
   "execution_count": 5,
   "outputs": [
    {
     "name": "stdout",
     "output_type": "stream",
     "text": [
      "Visualizing 9856 data points.. \n",
      "Visualizing 9936 data points.. \n",
      "Visualizing 9483 data points.. \n"
     ]
    }
   ],
   "source": [
    "vame.visualization(config, label=None) #options: label: None, \"motif\", \"community\""
   ],
   "metadata": {
    "collapsed": false,
    "ExecuteTime": {
     "end_time": "2024-06-30T15:00:15.150086300Z",
     "start_time": "2024-06-30T15:00:15.066042200Z"
    }
   },
   "id": "5b62963dfc7ccae6"
  },
  {
   "cell_type": "markdown",
   "source": [
    "# Step 9: Create GIF Animation"
   ],
   "metadata": {
    "collapsed": false
   },
   "id": "f3fa8c84dfabbc01"
  },
  {
   "cell_type": "code",
   "execution_count": 6,
   "outputs": [
    {
     "name": "stdout",
     "output_type": "stream",
     "text": [
      "Loading background image ...\n"
     ]
    },
    {
     "name": "stderr",
     "output_type": "stream",
     "text": [
      "Align frames: 100%|██████████| 500/500 [00:29<00:00, 17.08it/s]\n",
      "100%|██████████| 500/500 [14:34<00:00,  1.75s/it]\n"
     ]
    },
    {
     "name": "stdout",
     "output_type": "stream",
     "text": [
      "Loading background image ...\n"
     ]
    },
    {
     "name": "stderr",
     "output_type": "stream",
     "text": [
      "Align frames: 100%|██████████| 500/500 [00:29<00:00, 17.15it/s]\n",
      "100%|██████████| 500/500 [14:43<00:00,  1.77s/it]\n"
     ]
    },
    {
     "name": "stdout",
     "output_type": "stream",
     "text": [
      "Loading background image ...\n"
     ]
    },
    {
     "name": "stderr",
     "output_type": "stream",
     "text": [
      "Align frames: 100%|██████████| 500/500 [00:30<00:00, 16.62it/s]\n",
      "100%|██████████| 500/500 [14:48<00:00,  1.78s/it]\n"
     ]
    }
   ],
   "source": [
    "# Note: This function is currently very slow. Once the frames are saved you can create a video\n",
    "# or gif via e.g. ImageJ or other tools\n",
    "# vame.gif(config, pose_ref_index=[0,5], subtract_background=True, start=None, \n",
    "#          length=500, max_lag=30, label='community', file_format='.mp4', crop_size=(300,300))\n",
    "\n",
    "vame.gif(config, pose_ref_index=[4,5], subtract_background=True, start=None, \n",
    "         length=500, max_lag=30, label='community', file_format='.avi', crop_size=(300,300))"
   ],
   "metadata": {
    "collapsed": false,
    "ExecuteTime": {
     "end_time": "2024-06-30T15:45:56.244082Z",
     "start_time": "2024-06-30T15:00:20.629236500Z"
    }
   },
   "id": "9816cd71322580dc"
  },
  {
   "cell_type": "markdown",
   "source": [
    "# Step 10: Create a generative model"
   ],
   "metadata": {
    "collapsed": false
   },
   "id": "fae02c77bd8dc22"
  },
  {
   "cell_type": "code",
   "execution_count": 4,
   "outputs": [
    {
     "name": "stdout",
     "output_type": "stream",
     "text": [
      "Load model... \n"
     ]
    },
    {
     "ename": "FileNotFoundError",
     "evalue": "[Errno 2] No such file or directory: 'D:\\\\Project- Electro\\\\VAME\\\\materials\\\\working_dir_2\\\\Unsupervised Learning Tutorial with VAME-Jun30-2024\\\\results\\\\cropped_Rat1 probe 4-day2-free_2019-05-13-114301-0000\\\\VAME\\\\kmeans-15\\\\cluster_center_cropped_Rat1 probe 4-day2-free_2019-05-13-114301-0000.npy'",
     "output_type": "error",
     "traceback": [
      "\u001B[1;31m---------------------------------------------------------------------------\u001B[0m",
      "\u001B[1;31mFileNotFoundError\u001B[0m                         Traceback (most recent call last)",
      "\u001B[1;32m~\\AppData\\Local\\Temp\\ipykernel_11048\\1340401102.py\u001B[0m in \u001B[0;36m<module>\u001B[1;34m\u001B[0m\n\u001B[1;32m----> 1\u001B[1;33m \u001B[0mvame\u001B[0m\u001B[1;33m.\u001B[0m\u001B[0mgenerative_model\u001B[0m\u001B[1;33m(\u001B[0m\u001B[0mconfig\u001B[0m\u001B[1;33m,\u001B[0m \u001B[0mmode\u001B[0m\u001B[1;33m=\u001B[0m\u001B[1;34m\"centers\"\u001B[0m\u001B[1;33m)\u001B[0m \u001B[1;31m#options: mode: \"sampling\", \"reconstruction\", \"centers\", \"motifs\"\u001B[0m\u001B[1;33m\u001B[0m\u001B[1;33m\u001B[0m\u001B[0m\n\u001B[0m",
      "\u001B[1;32mD:\\Project- Electro\\VAME\\vame\\analysis\\generative_functions.py\u001B[0m in \u001B[0;36mgenerative_model\u001B[1;34m(config, mode)\u001B[0m\n\u001B[0;32m    186\u001B[0m \u001B[1;33m\u001B[0m\u001B[0m\n\u001B[0;32m    187\u001B[0m         \u001B[1;32mif\u001B[0m \u001B[0mmode\u001B[0m \u001B[1;33m==\u001B[0m \u001B[1;34m\"centers\"\u001B[0m\u001B[1;33m:\u001B[0m\u001B[1;33m\u001B[0m\u001B[1;33m\u001B[0m\u001B[0m\n\u001B[1;32m--> 188\u001B[1;33m             \u001B[0mcluster_center\u001B[0m \u001B[1;33m=\u001B[0m \u001B[0mnp\u001B[0m\u001B[1;33m.\u001B[0m\u001B[0mload\u001B[0m\u001B[1;33m(\u001B[0m\u001B[0mos\u001B[0m\u001B[1;33m.\u001B[0m\u001B[0mpath\u001B[0m\u001B[1;33m.\u001B[0m\u001B[0mjoin\u001B[0m\u001B[1;33m(\u001B[0m\u001B[0mpath_to_file\u001B[0m\u001B[1;33m,\u001B[0m\u001B[1;34m'cluster_center_'\u001B[0m\u001B[1;33m+\u001B[0m\u001B[0mfile\u001B[0m\u001B[1;33m+\u001B[0m\u001B[1;34m'.npy'\u001B[0m\u001B[1;33m)\u001B[0m\u001B[1;33m)\u001B[0m\u001B[1;33m\u001B[0m\u001B[1;33m\u001B[0m\u001B[0m\n\u001B[0m\u001B[0;32m    189\u001B[0m             \u001B[0mvisualize_cluster_center\u001B[0m\u001B[1;33m(\u001B[0m\u001B[0mcfg\u001B[0m\u001B[1;33m,\u001B[0m \u001B[0mmodel\u001B[0m\u001B[1;33m,\u001B[0m \u001B[0mcluster_center\u001B[0m\u001B[1;33m)\u001B[0m\u001B[1;33m\u001B[0m\u001B[1;33m\u001B[0m\u001B[0m\n\u001B[0;32m    190\u001B[0m \u001B[1;33m\u001B[0m\u001B[0m\n",
      "\u001B[1;32m~\\anaconda3\\envs\\VAME\\lib\\site-packages\\numpy\\lib\\npyio.py\u001B[0m in \u001B[0;36mload\u001B[1;34m(file, mmap_mode, allow_pickle, fix_imports, encoding)\u001B[0m\n\u001B[0;32m    415\u001B[0m             \u001B[0mown_fid\u001B[0m \u001B[1;33m=\u001B[0m \u001B[1;32mFalse\u001B[0m\u001B[1;33m\u001B[0m\u001B[1;33m\u001B[0m\u001B[0m\n\u001B[0;32m    416\u001B[0m         \u001B[1;32melse\u001B[0m\u001B[1;33m:\u001B[0m\u001B[1;33m\u001B[0m\u001B[1;33m\u001B[0m\u001B[0m\n\u001B[1;32m--> 417\u001B[1;33m             \u001B[0mfid\u001B[0m \u001B[1;33m=\u001B[0m \u001B[0mstack\u001B[0m\u001B[1;33m.\u001B[0m\u001B[0menter_context\u001B[0m\u001B[1;33m(\u001B[0m\u001B[0mopen\u001B[0m\u001B[1;33m(\u001B[0m\u001B[0mos_fspath\u001B[0m\u001B[1;33m(\u001B[0m\u001B[0mfile\u001B[0m\u001B[1;33m)\u001B[0m\u001B[1;33m,\u001B[0m \u001B[1;34m\"rb\"\u001B[0m\u001B[1;33m)\u001B[0m\u001B[1;33m)\u001B[0m\u001B[1;33m\u001B[0m\u001B[1;33m\u001B[0m\u001B[0m\n\u001B[0m\u001B[0;32m    418\u001B[0m             \u001B[0mown_fid\u001B[0m \u001B[1;33m=\u001B[0m \u001B[1;32mTrue\u001B[0m\u001B[1;33m\u001B[0m\u001B[1;33m\u001B[0m\u001B[0m\n\u001B[0;32m    419\u001B[0m \u001B[1;33m\u001B[0m\u001B[0m\n",
      "\u001B[1;31mFileNotFoundError\u001B[0m: [Errno 2] No such file or directory: 'D:\\\\Project- Electro\\\\VAME\\\\materials\\\\working_dir_2\\\\Unsupervised Learning Tutorial with VAME-Jun30-2024\\\\results\\\\cropped_Rat1 probe 4-day2-free_2019-05-13-114301-0000\\\\VAME\\\\kmeans-15\\\\cluster_center_cropped_Rat1 probe 4-day2-free_2019-05-13-114301-0000.npy'"
     ]
    }
   ],
   "source": [
    "vame.generative_model(config, mode=\"centers\") #options: mode: \"sampling\", \"reconstruction\", \"centers\", \"motifs\""
   ],
   "metadata": {
    "collapsed": false,
    "ExecuteTime": {
     "end_time": "2024-06-30T15:47:00.261175500Z",
     "start_time": "2024-06-30T15:46:58.892361100Z"
    }
   },
   "id": "28249d8f5ee3c09e"
  },
  {
   "cell_type": "markdown",
   "source": [],
   "metadata": {
    "collapsed": false
   },
   "id": "b216a5de35b60050"
  },
  {
   "cell_type": "code",
   "execution_count": null,
   "outputs": [],
   "source": [],
   "metadata": {
    "collapsed": false,
    "ExecuteTime": {
     "end_time": "2024-06-28T12:36:47.198394300Z",
     "start_time": "2024-06-28T12:36:47.198394300Z"
    }
   },
   "id": "1ce3f90a6ffa365"
  },
  {
   "cell_type": "markdown",
   "source": [],
   "metadata": {
    "collapsed": false
   },
   "id": "473c2caf0e2602f0"
  }
 ],
 "metadata": {
  "kernelspec": {
   "display_name": "Python 3",
   "language": "python",
   "name": "python3"
  },
  "language_info": {
   "codemirror_mode": {
    "name": "ipython",
    "version": 2
   },
   "file_extension": ".py",
   "mimetype": "text/x-python",
   "name": "python",
   "nbconvert_exporter": "python",
   "pygments_lexer": "ipython2",
   "version": "2.7.6"
  }
 },
 "nbformat": 4,
 "nbformat_minor": 5
}
